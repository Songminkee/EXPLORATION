{
 "cells": [
  {
   "cell_type": "markdown",
   "metadata": {},
   "source": [
    "## MNIST DATASET DOWNLOAD\n",
    "간단한 학습예제 전에 tensorflow가 제대로 설치되어 있는지, 버전이 몇인지 체크를 하기 위해 다음과 같이 작성한다"
   ]
  },
  {
   "cell_type": "code",
   "execution_count": 1,
   "metadata": {},
   "outputs": [
    {
     "name": "stdout",
     "output_type": "stream",
     "text": [
      "2.2.0\n"
     ]
    }
   ],
   "source": [
    "import tensorflow as tf\n",
    "from tensorflow import keras\n",
    "import numpy as np\n",
    "import matplotlib.pyplot as plt\n",
    "import random\n",
    "%matplotlib inline\n",
    "print(tf.__version__) # Tensorflow의 버전을 확인할 수 있다."
   ]
  },
  {
   "cell_type": "markdown",
   "metadata": {},
   "source": [
    "MNIST 데이터의 경우 keras의 dataset을 사용해 쉽게 다운로드 할 수 있다. 작성은 다음과 같다. 경로에 이미 설치된 동일 dataset이 있는 경우 다시 다운로드를 하진 않는다."
   ]
  },
  {
   "cell_type": "code",
   "execution_count": 2,
   "metadata": {},
   "outputs": [],
   "source": [
    "mnist = keras.datasets.mnist\n",
    "\n",
    "# MNIST 데이터 로드 or 다운로드\n",
    "(x_train, y_train),(x_test,y_test) = mnist.load_data()"
   ]
  },
  {
   "cell_type": "markdown",
   "metadata": {},
   "source": [
    "len함수를 사용하면 데이터의 길이를 확인 할 수 있다. 다음과 같이 작성하면 각각의 데이터의 길이를 볼 수 있다."
   ]
  },
  {
   "cell_type": "code",
   "execution_count": 3,
   "metadata": {},
   "outputs": [
    {
     "name": "stdout",
     "output_type": "stream",
     "text": [
      "60000\n",
      "10000\n"
     ]
    }
   ],
   "source": [
    "print(len(x_train))\n",
    "print(len(x_test))"
   ]
  },
  {
   "cell_type": "markdown",
   "metadata": {},
   "source": [
    "len함수의 경우 데이터의 첫 번째 차원에 대한 길이만 확인 할 수 있다.\n",
    "반면, 다음과 같이 작성하면 이미지의 전체 shape을 확인 할 수 있다.\n",
    "x_train과 x_test는 입력 이미지 데이터이다.\n",
    "shape을 보면 3가지를 확인 할 수 있는데 각각 (개수,높이,너비)를 나타내며 각각은 해당하는 픽셀의 값을 나타낸다.\n",
    "y_train과 y_test는 정답 label이고 숫자가 몇 인지 나타내기 때문에 하나의 값이다."
   ]
  },
  {
   "cell_type": "code",
   "execution_count": 4,
   "metadata": {},
   "outputs": [
    {
     "name": "stdout",
     "output_type": "stream",
     "text": [
      "(60000, 28, 28)\n",
      "(60000,)\n",
      "(10000, 28, 28)\n",
      "(10000,)\n"
     ]
    }
   ],
   "source": [
    "print(x_train.shape)\n",
    "print(y_train.shape)\n",
    "print(x_test.shape)\n",
    "print(y_test.shape)"
   ]
  },
  {
   "cell_type": "code",
   "execution_count": 5,
   "metadata": {},
   "outputs": [
    {
     "data": {
      "image/png": "[encoded data removed]",
      "text/plain": [
       "<Figure size 432x288 with 1 Axes>"
      ]
     },
     "metadata": {
      "needs_background": "light"
     },
     "output_type": "display_data"
    }
   ],
   "source": [
    "index = random.randint(0,len(x_train))\n",
    "plt.imshow(x_train[index],cmap='gray')\n",
    "plt.xlabel(\"Number of {} index is {}\".format(index,y_train[index]))\n",
    "plt.show()"
   ]
  },
  {
   "cell_type": "markdown",
   "metadata": {},
   "source": [
    "현재 다운로드 받은 이미지 데이터는 0\\~255값을 갖는데 딥러닝에서 layer를 거침에 따라 1이상의 값은 지수적으로 값이 증폭되기 때문에 0\\~1의 값을 사용하는게 보통이다.\n",
    "다음과 In[9]와 같이 작성하면 0\\~1 값으로 정규화 할 수 있다."
   ]
  },
  {
   "cell_type": "code",
   "execution_count": 6,
   "metadata": {},
   "outputs": [
    {
     "name": "stdout",
     "output_type": "stream",
     "text": [
      "최소값: 0  최대값: 255\n"
     ]
    }
   ],
   "source": [
    "print('최소값:',np.min(x_train), ' 최대값:',np.max(x_train))"
   ]
  },
  {
   "cell_type": "code",
   "execution_count": 7,
   "metadata": {},
   "outputs": [
    {
     "name": "stdout",
     "output_type": "stream",
     "text": [
      "최소값: 0.0  최대값: 1.0\n"
     ]
    }
   ],
   "source": [
    "x_train_norm, x_test_norm = x_train / 255.0, x_test / 255.0\n",
    "print('최소값:',np.min(x_train_norm), ' 최대값:',np.max(x_train_norm))"
   ]
  },
  {
   "cell_type": "markdown",
   "metadata": {},
   "source": [
    "## Sequenential Model\n",
    "텐서플로우 케라스에서는 Sequential API라는 high level 라이브러리를 지원해준다.\n",
    "다음의 예제는 keras의 Sequential API를 이용해 최초의 CNN이라고 불리는 LeNet을 설계한 예이다. 이처럼 high level의 API를 사용하면 짧은 길이로 빠르게 작성이 가능하다.\n",
    "\n",
    "- `Conv2D(2차원 convolutional layer)` : (output_ch(or num), (kernel_h,kernel_w), activation= 'activate function', input_shape = (image_h,image_w,image_c)) # image shape에 batch size 없는 것 주의\n",
    "\n",
    "- `Maxplling2D (2차원 Maxpooling)` : (kernel_h,kernel_w)\n",
    "\n",
    "- `Flattend` : (h,w,c)를 1차원 array 변경한다(h x w x c).\n",
    "\n",
    "- `Dense (fully connectec layer)` : (output_ch, activation='상동')\n",
    "\n",
    "마지막 layer의 output 개수는 데이터셋의 분류 index 크기에 따라 다르게 설정해야한다.\n"
   ]
  },
  {
   "cell_type": "code",
   "execution_count": 8,
   "metadata": {},
   "outputs": [
    {
     "name": "stdout",
     "output_type": "stream",
     "text": [
      "Model에 추가된 Layer 개수:  7\n"
     ]
    }
   ],
   "source": [
    "model=keras.models.Sequential()\n",
    "model.add(keras.layers.Conv2D(16, (3,3), activation='relu', input_shape=(28,28,1)))\n",
    "model.add(keras.layers.MaxPool2D(2,2))\n",
    "model.add(keras.layers.Conv2D(32, (3,3), activation='relu'))\n",
    "model.add(keras.layers.MaxPooling2D((2,2)))\n",
    "model.add(keras.layers.Flatten())\n",
    "model.add(keras.layers.Dense(32, activation='relu'))\n",
    "model.add(keras.layers.Dense(10, activation='softmax'))\n",
    "\n",
    "print('Model에 추가된 Layer 개수: ', len(model.layers))"
   ]
  },
  {
   "cell_type": "markdown",
   "metadata": {},
   "source": [
    "summary() 함수를 사용하면 설계한 모델에 대해 상세한 설명을 볼 수 있다."
   ]
  },
  {
   "cell_type": "code",
   "execution_count": 9,
   "metadata": {},
   "outputs": [
    {
     "name": "stdout",
     "output_type": "stream",
     "text": [
      "Model: \"sequential\"\n",
      "_________________________________________________________________\n",
      "Layer (type)                 Output Shape              Param #   \n",
      "=================================================================\n",
      "conv2d (Conv2D)              (None, 26, 26, 16)        160       \n",
      "_________________________________________________________________\n",
      "max_pooling2d (MaxPooling2D) (None, 13, 13, 16)        0         \n",
      "_________________________________________________________________\n",
      "conv2d_1 (Conv2D)            (None, 11, 11, 32)        4640      \n",
      "_________________________________________________________________\n",
      "max_pooling2d_1 (MaxPooling2 (None, 5, 5, 32)          0         \n",
      "_________________________________________________________________\n",
      "flatten (Flatten)            (None, 800)               0         \n",
      "_________________________________________________________________\n",
      "dense (Dense)                (None, 32)                25632     \n",
      "_________________________________________________________________\n",
      "dense_1 (Dense)              (None, 10)                330       \n",
      "=================================================================\n",
      "Total params: 30,762\n",
      "Trainable params: 30,762\n",
      "Non-trainable params: 0\n",
      "_________________________________________________________________\n"
     ]
    }
   ],
   "source": [
    "model.summary()"
   ]
  },
  {
   "cell_type": "markdown",
   "metadata": {},
   "source": [
    "데이터를 학습시키기전에 In [8]에서 MNIST dataset이 gray scale 이미지이기 때문에 \n",
    "input_shape=(28,28,1)으로 설정하였다.\n",
    "하지만 현재 우리가 가지고 있는 데이터는 (num,h,w)의 shape을 가지고 있기 때문에 1차원이 모자르다.\n",
    "아래와 같이 reshape 함수를 사용해 전체 shape에 변화를 주거나 np.expand_dims를 사용해 한 차원을 늘릴수 있다."
   ]
  },
  {
   "cell_type": "code",
   "execution_count": 10,
   "metadata": {},
   "outputs": [
    {
     "name": "stdout",
     "output_type": "stream",
     "text": [
      "Before Reshape - x_train_norm shape: (60000, 28, 28)\n",
      "Before Reshape - x_test_norm shape: (10000, 28, 28)\n",
      "After Reshape - x_train_reshaped shape: (60000, 28, 28, 1)\n",
      "After Reshape - x_test_reshaped shape: (10000, 28, 28, 1)\n",
      "After Expand Dimension - np_x_train shape: (60000, 28, 28, 1)\n",
      "After Expand Dimension - np_x_test shape: (10000, 28, 28, 1)\n"
     ]
    }
   ],
   "source": [
    "# Reshape\n",
    "print(\"Before Reshape - x_train_norm shape: {}\".format(x_train_norm.shape))\n",
    "print(\"Before Reshape - x_test_norm shape: {}\".format(x_test_norm.shape))\n",
    "\n",
    "x_train_reshaped=x_train_norm.reshape( -1, 28, 28, 1)  # 데이터갯수에 -1을 쓰면 reshape시 자동계산됩니다.\n",
    "x_test_reshaped=x_test_norm.reshape( -1, 28, 28, 1)\n",
    "\n",
    "print(\"After Reshape - x_train_reshaped shape: {}\".format(x_train_reshaped.shape))\n",
    "print(\"After Reshape - x_test_reshaped shape: {}\".format(x_test_reshaped.shape))\n",
    "\n",
    "# Expand_dims\n",
    "\n",
    "np_x_train = np.expand_dims(x_train,axis=-1) # -1을 하면 마지막 차원에 대해 수행한다.\n",
    "np_x_test = np.expand_dims(x_test,axis=-1)\n",
    "\n",
    "print(\"After Expand Dimension - np_x_train shape: {}\".format(np_x_train.shape))\n",
    "print(\"After Expand Dimension - np_x_test shape: {}\".format(np_x_test.shape))"
   ]
  },
  {
   "cell_type": "markdown",
   "metadata": {},
   "source": [
    "학습을 진행하기 위해서는 optimizer를 선언해야 한다.\n",
    "여기서는 adam optimizer를 사용한다.\n",
    "optimizer가 선언되었으면 fit를 사용해 훈련 이미지와 정답 label을 인자로 넘겨 학습을 진행한다."
   ]
  },
  {
   "cell_type": "code",
   "execution_count": 11,
   "metadata": {},
   "outputs": [
    {
     "name": "stdout",
     "output_type": "stream",
     "text": [
      "Epoch 1/10\n",
      "1875/1875 [==============================] - 2s 1ms/step - loss: 0.2132 - accuracy: 0.9363\n",
      "Epoch 2/10\n",
      "1875/1875 [==============================] - 2s 1ms/step - loss: 0.0673 - accuracy: 0.9797\n",
      "Epoch 3/10\n",
      "1875/1875 [==============================] - 3s 1ms/step - loss: 0.0495 - accuracy: 0.9846\n",
      "Epoch 4/10\n",
      "1875/1875 [==============================] - 2s 1ms/step - loss: 0.0389 - accuracy: 0.9875\n",
      "Epoch 5/10\n",
      "1875/1875 [==============================] - 2s 1ms/step - loss: 0.0333 - accuracy: 0.9894\n",
      "Epoch 6/10\n",
      "1875/1875 [==============================] - 2s 1ms/step - loss: 0.0279 - accuracy: 0.9910\n",
      "Epoch 7/10\n",
      "1875/1875 [==============================] - 2s 1ms/step - loss: 0.0237 - accuracy: 0.9923\n",
      "Epoch 8/10\n",
      "1875/1875 [==============================] - 2s 1ms/step - loss: 0.0211 - accuracy: 0.9932\n",
      "Epoch 9/10\n",
      "1875/1875 [==============================] - 2s 1ms/step - loss: 0.0165 - accuracy: 0.9947\n",
      "Epoch 10/10\n",
      "1875/1875 [==============================] - 2s 1ms/step - loss: 0.0146 - accuracy: 0.9951\n"
     ]
    },
    {
     "data": {
      "text/plain": [
       "<tensorflow.python.keras.callbacks.History at 0x7f87740ad110>"
      ]
     },
     "execution_count": 11,
     "metadata": {},
     "output_type": "execute_result"
    }
   ],
   "source": [
    "model.compile(optimizer='adam',\n",
    "             loss='sparse_categorical_crossentropy',\n",
    "             metrics=['accuracy'])\n",
    "\n",
    "model.fit(x_train_reshaped, y_train, epochs=10)"
   ]
  },
  {
   "cell_type": "markdown",
   "metadata": {},
   "source": [
    "학습 데이터에서 최종 accuracy를 보면 99.58%라는 높은 정확도를 기록했다.\n",
    "하지만 훈련 데이터에서 이루어진 학습은 연습문제를 잘 푸는 것과 동일하다.\n",
    "우리는 훈련한 모델을 실제 시험에 해당하는 x_test 데이터에서 높은 정확도를 기록해야 한다.\n",
    "test 데이터에서 모델의 정확도를 측정하는 방법은 다음과 같이 evaluate 함수를 사용하면 된다. evaluate에서는 2가지를 return 받을 수 있는데 첫 번째는 우리가 정의한 loss function의 값이고 accuracy 전체 데이터에 대해 맞춘 개수의 비율이다."
   ]
  },
  {
   "cell_type": "code",
   "execution_count": 12,
   "metadata": {},
   "outputs": [
    {
     "name": "stdout",
     "output_type": "stream",
     "text": [
      "313/313 - 2s - loss: 0.0364 - accuracy: 0.9893\n",
      "test_loss: 0.03640367090702057 \n",
      "test_accuracy: 0.989300012588501\n"
     ]
    }
   ],
   "source": [
    "test_loss, test_accuracy = model.evaluate(x_test_reshaped,y_test, verbose=2)\n",
    "print(\"test_loss: {} \".format(test_loss))\n",
    "print(\"test_accuracy: {}\".format(test_accuracy))"
   ]
  },
  {
   "cell_type": "markdown",
   "metadata": {},
   "source": [
    "## 어떤 데이터를 잘못 추론했을까? 눈으로 확인해 보자\n",
    "model.evaluate() 대신 model.predict()를 사용하면 model 이 입력값을 보고 실제로 추론한 확률분포에 대해 출력할 수 있다.\n",
    "결과를 print해 보면 다음과 같이 array가 나오는데 이는 각각 [0에 대한 확률,1에 대한 확률,..., 9에 대한 확률]을 뜻한다."
   ]
  },
  {
   "cell_type": "code",
   "execution_count": 13,
   "metadata": {},
   "outputs": [
    {
     "name": "stdout",
     "output_type": "stream",
     "text": [
      "model.predict() 결과 :  [4.9397451e-11 7.9532339e-11 9.7254474e-07 4.5244807e-08 1.7011318e-09\n",
      " 6.4175916e-13 6.6574391e-16 9.9999881e-01 1.1608353e-08 1.3424606e-07]\n",
      "model이 추론한 가장 가능성이 높은 결과 :  7\n",
      "실제 데이터의 라벨 :  7\n"
     ]
    }
   ],
   "source": [
    "predicted_result = model.predict(x_test_reshaped)  # model이 추론한 확률값. \n",
    "predicted_labels = np.argmax(predicted_result, axis=1)\n",
    "\n",
    "idx=0  #1번째 x_test를 살펴보자. \n",
    "print('model.predict() 결과 : ', predicted_result[idx])\n",
    "print('model이 추론한 가장 가능성이 높은 결과 : ', predicted_labels[idx])\n",
    "print('실제 데이터의 라벨 : ', y_test[idx])"
   ]
  },
  {
   "cell_type": "markdown",
   "metadata": {},
   "source": [
    "실제로 7인지에 대해 확인하기 위해서는 matplotlib을 사용하면된다."
   ]
  },
  {
   "cell_type": "code",
   "execution_count": 14,
   "metadata": {},
   "outputs": [
    {
     "data": {
      "image/png": "[encoded data removed]",
      "text/plain": [
       "<Figure size 432x288 with 1 Axes>"
      ]
     },
     "metadata": {
      "needs_background": "light"
     },
     "output_type": "display_data"
    }
   ],
   "source": [
    "plt.imshow(x_test[idx],cmap='gray')\n",
    "plt.show()"
   ]
  },
  {
   "cell_type": "markdown",
   "metadata": {},
   "source": [
    "정답과 예측된 값이 다른 경우 다음과 같이 작성하면 확인할 수 있다."
   ]
  },
  {
   "cell_type": "code",
   "execution_count": 15,
   "metadata": {},
   "outputs": [
    {
     "name": "stdout",
     "output_type": "stream",
     "text": [
      "예측확률분포: [4.1900101e-05 9.7405338e-01 2.2833545e-03 2.0673397e-08 4.9978034e-03\n",
      " 5.9448631e-08 1.8607635e-02 8.4691919e-06 7.3176575e-06 2.6883443e-08]\n",
      "라벨: 6, 예측결과: 1\n"
     ]
    },
    {
     "data": {
      "image/png": "[encoded data removed]",
      "text/plain": [
       "<Figure size 432x288 with 1 Axes>"
      ]
     },
     "metadata": {
      "needs_background": "light"
     },
     "output_type": "display_data"
    },
    {
     "name": "stdout",
     "output_type": "stream",
     "text": [
      "예측확률분포: [9.1967311e-12 5.8675232e-05 6.6684616e-01 3.1938665e-02 6.8746436e-07\n",
      " 7.6033548e-13 1.2075346e-15 2.9939356e-01 2.3857057e-05 1.7383896e-03]\n",
      "라벨: 7, 예측결과: 2\n"
     ]
    },
    {
     "data": {
      "image/png": "[encoded data removed]",
      "text/plain": [
       "<Figure size 432x288 with 1 Axes>"
      ]
     },
     "metadata": {
      "needs_background": "light"
     },
     "output_type": "display_data"
    },
    {
     "name": "stdout",
     "output_type": "stream",
     "text": [
      "예측확률분포: [2.7486814e-07 9.6847779e-01 8.7136775e-03 1.5045678e-04 9.8921556e-04\n",
      " 1.3519572e-07 2.8031352e-05 2.1619080e-02 1.6811973e-05 4.5770403e-06]\n",
      "라벨: 7, 예측결과: 1\n"
     ]
    },
    {
     "data": {
      "image/png": "[encoded data removed]",
      "text/plain": [
       "<Figure size 432x288 with 1 Axes>"
      ]
     },
     "metadata": {
      "needs_background": "light"
     },
     "output_type": "display_data"
    },
    {
     "name": "stdout",
     "output_type": "stream",
     "text": [
      "예측확률분포: [4.89199685e-08 9.65211630e-01 1.23075615e-05 1.07160713e-06\n",
      " 1.26358937e-04 8.19254442e-10 2.48715319e-11 3.42420526e-02\n",
      " 1.63730947e-04 2.42947979e-04]\n",
      "라벨: 7, 예측결과: 1\n"
     ]
    },
    {
     "data": {
      "image/png": "[encoded data removed]",
      "text/plain": [
       "<Figure size 432x288 with 1 Axes>"
      ]
     },
     "metadata": {
      "needs_background": "light"
     },
     "output_type": "display_data"
    },
    {
     "name": "stdout",
     "output_type": "stream",
     "text": [
      "예측확률분포: [5.8001245e-08 3.6234787e-01 2.6509467e-01 1.2264707e-01 1.7990474e-02\n",
      " 3.1744319e-04 9.2693690e-06 2.0293407e-01 7.2774194e-05 2.8586308e-02]\n",
      "라벨: 7, 예측결과: 1\n"
     ]
    },
    {
     "data": {
      "image/png": "[encoded data removed]",
      "text/plain": [
       "<Figure size 432x288 with 1 Axes>"
      ]
     },
     "metadata": {
      "needs_background": "light"
     },
     "output_type": "display_data"
    }
   ],
   "source": [
    "import random\n",
    "wrong_predict_list=[]\n",
    "for i, _ in enumerate(predicted_labels):\n",
    "    # i번째 test_labels과 y_test이 다른 경우만 모아 봅시다. \n",
    "    if predicted_labels[i] != y_test[i]:\n",
    "        wrong_predict_list.append(i)\n",
    "\n",
    "# wrong_predict_list 에서 랜덤하게 5개만 뽑아봅시다.\n",
    "samples = random.choices(population=wrong_predict_list, k=5)\n",
    "\n",
    "for n in samples:\n",
    "    print(\"예측확률분포: \" + str(predicted_result[n]))\n",
    "    print(\"라벨: \" + str(y_test[n]) + \", 예측결과: \" + str(predicted_labels[n]))\n",
    "    plt.imshow(x_test[n], cmap='gray')\n",
    "    plt.show()"
   ]
  },
  {
   "cell_type": "markdown",
   "metadata": {},
   "source": [
    "## 더 좋은 네트워크 만들어보기\n",
    "현재 설계된 모델에서 가능한 하이퍼 파라미터는 각 layer의 output 크기, epoch, kernel의 크기 등등이 있다. 이를 조절해서 더 높은 값을 만들어보자."
   ]
  },
  {
   "cell_type": "code",
   "execution_count": 16,
   "metadata": {},
   "outputs": [
    {
     "name": "stdout",
     "output_type": "stream",
     "text": [
      "Model: \"sequential_1\"\n",
      "_________________________________________________________________\n",
      "Layer (type)                 Output Shape              Param #   \n",
      "=================================================================\n",
      "conv2d_2 (Conv2D)            (None, 26, 26, 32)        320       \n",
      "_________________________________________________________________\n",
      "max_pooling2d_2 (MaxPooling2 (None, 13, 13, 32)        0         \n",
      "_________________________________________________________________\n",
      "conv2d_3 (Conv2D)            (None, 11, 11, 64)        18496     \n",
      "_________________________________________________________________\n",
      "max_pooling2d_3 (MaxPooling2 (None, 5, 5, 64)          0         \n",
      "_________________________________________________________________\n",
      "flatten_1 (Flatten)          (None, 1600)              0         \n",
      "_________________________________________________________________\n",
      "dense_2 (Dense)              (None, 64)                102464    \n",
      "_________________________________________________________________\n",
      "dense_3 (Dense)              (None, 10)                650       \n",
      "=================================================================\n",
      "Total params: 121,930\n",
      "Trainable params: 121,930\n",
      "Non-trainable params: 0\n",
      "_________________________________________________________________\n",
      "Epoch 1/10\n",
      "1875/1875 [==============================] - 2s 1ms/step - loss: 0.1428 - accuracy: 0.9564\n",
      "Epoch 2/10\n",
      "1875/1875 [==============================] - 2s 1ms/step - loss: 0.0458 - accuracy: 0.9857\n",
      "Epoch 3/10\n",
      "1875/1875 [==============================] - 2s 1ms/step - loss: 0.0317 - accuracy: 0.9899\n",
      "Epoch 4/10\n",
      "1875/1875 [==============================] - 2s 1ms/step - loss: 0.0244 - accuracy: 0.9922\n",
      "Epoch 5/10\n",
      "1875/1875 [==============================] - 2s 1ms/step - loss: 0.0190 - accuracy: 0.9939\n",
      "Epoch 6/10\n",
      "1875/1875 [==============================] - 2s 1ms/step - loss: 0.0140 - accuracy: 0.9955\n",
      "Epoch 7/10\n",
      "1875/1875 [==============================] - 2s 1ms/step - loss: 0.0129 - accuracy: 0.9957\n",
      "Epoch 8/10\n",
      "1875/1875 [==============================] - 2s 1ms/step - loss: 0.0098 - accuracy: 0.9967\n",
      "Epoch 9/10\n",
      "1875/1875 [==============================] - 2s 1ms/step - loss: 0.0088 - accuracy: 0.9971\n",
      "Epoch 10/10\n",
      "1875/1875 [==============================] - 2s 1ms/step - loss: 0.0077 - accuracy: 0.9973\n",
      "313/313 - 3s - loss: 0.0338 - accuracy: 0.9913\n",
      "test_loss: 0.033801209181547165 \n",
      "test_accuracy: 0.9912999868392944\n"
     ]
    }
   ],
   "source": [
    "#바꿔 볼 수 있는 하이퍼파라미터들\n",
    "n_channel_1=32\n",
    "n_channel_2=64\n",
    "n_dense=64\n",
    "n_train_epoch=10\n",
    "\n",
    "model=keras.models.Sequential()\n",
    "model.add(keras.layers.Conv2D(n_channel_1, (3,3), activation='relu', input_shape=(28,28,1)))\n",
    "model.add(keras.layers.MaxPool2D(2,2))\n",
    "model.add(keras.layers.Conv2D(n_channel_2, (3,3), activation='relu'))\n",
    "model.add(keras.layers.MaxPooling2D((2,2)))\n",
    "model.add(keras.layers.Flatten())\n",
    "model.add(keras.layers.Dense(n_dense, activation='relu'))\n",
    "model.add(keras.layers.Dense(10, activation='softmax'))\n",
    "\n",
    "model.summary()\n",
    "model.compile(optimizer='adam',\n",
    "             loss='sparse_categorical_crossentropy',\n",
    "             metrics=['accuracy'])\n",
    "\n",
    "# 모델 훈련\n",
    "model.fit(x_train_reshaped, y_train, epochs=n_train_epoch)\n",
    "\n",
    "# 모델 시험\n",
    "test_loss, test_accuracy = model.evaluate(x_test_reshaped, y_test, verbose=2)\n",
    "print(\"test_loss: {} \".format(test_loss))\n",
    "print(\"test_accuracy: {}\".format(test_accuracy))"
   ]
  },
  {
   "cell_type": "markdown",
   "metadata": {},
   "source": [
    "# 가위,바위,보 분류기 만들기\n",
    "\n",
    "## 데이터 준비\n",
    "\n",
    "구글의 teachable machine 사이트에서 쉽게 만들 수 있다.\n",
    "https://teachablemachine.withgoogle.com/\n",
    "webcam으로 찍어서 우측 상단의 ...을 누르면 샘플들을 다운 받을 수 있다.\n",
    "\n",
    "rock_scissor_paper 폴더를 만들고 각각의 class에 대해 경로를 지정해 주었다.\n",
    "```\n",
    "$ mkdir -p ~/aiffel/rock_scissor_paper/scissor\n",
    "$ mkdir -p ~/aiffel/rock_scissor_paper/rock\n",
    "$ mkdir -p ~/aiffel/rock_scissor_paper/paper\n",
    "```\n",
    "\n",
    "구글에서 다운로드 받은 데이터의 size는 224x224인데 현재 설계된 모델에 맞게 이미지를 resize해야한다."
   ]
  },
  {
   "cell_type": "code",
   "execution_count": 17,
   "metadata": {},
   "outputs": [
    {
     "name": "stdout",
     "output_type": "stream",
     "text": [
      "Requirement already satisfied: pillow in /home/aiffel0042/anaconda3/lib/python3.7/site-packages (7.2.0)\r\n"
     ]
    }
   ],
   "source": [
    "!pip install pillow   \n",
    "from PIL import Image\n",
    "import os, glob\n"
   ]
  },
  {
   "cell_type": "code",
   "execution_count": 18,
   "metadata": {},
   "outputs": [
    {
     "name": "stdout",
     "output_type": "stream",
     "text": [
      "['/home/aiffel0042/Downloads/train/paper', '/home/aiffel0042/Downloads/train/scissor', '/home/aiffel0042/Downloads/train/rock']\n"
     ]
    }
   ],
   "source": [
    "# image_dir_path = os.getenv(\"HOME\")+\"/Downloads/train/\"\n",
    "# image_dir_path=glob.glob(image_dir_path+'*')\n",
    "# print(image_dir_path)\n",
    "# images = [glob.glob(image_dir_path[i]+\"/*.jpg\") for i in range(len(image_dir_path))]\n",
    "\n",
    "# target_size=(28,28)\n",
    "\n",
    "# for i in range(len(image_dir_path)):\n",
    "#     for img in images[i]:\n",
    "#         old_img=Image.open(img)\n",
    "#         new_img=old_img.resize(target_size,Image.ANTIALIAS)\n",
    "#         new_img.save(img,\"JPEG\")"
   ]
  },
  {
   "cell_type": "code",
   "execution_count": 19,
   "metadata": {},
   "outputs": [],
   "source": [
    "# jisu_dir_path = os.getenv(\"HOME\")+\"/Downloads/rock_scissor_paper/\"\n",
    "# my_dir_path = os.getenv(\"HOME\")+\"/Downloads/train/\"\n",
    "# class_folder = [\"rock/\",\"scissor/\",\"paper/\"]\n",
    "\n",
    "# images = [glob.glob(jisu_dir_path + class_folder[i]+\"*.jpg\") for i in range(3)]\n",
    "# print(images)\n",
    "# offset = 100\n",
    "# target_size=(28,28)\n",
    "\n",
    "# for i in range(3):\n",
    "#     for image in images[i]:\n",
    "#         print(image)\n",
    "#         out_num = str(offset+int(image.split('/')[-1].split('.')[0]))\n",
    "#         if not os.path.exists(my_dir_path+class_folder[i]):\n",
    "#             os.makedirs(my_dir_path+class_folder[i])\n",
    "#         out_path = my_dir_path+class_folder[i]+out_num+'.jpg'\n",
    "#         old_img=Image.open(image)\n",
    "#         new_img=old_img.resize(target_size,Image.ANTIALIAS)\n",
    "#         new_img.save(out_path,\"JPEG\")"
   ]
  },
  {
   "cell_type": "markdown",
   "metadata": {},
   "source": [
    "아래의 input_data() 함수는 입력으로 이미지가 있는 폴더 위치를 받고 클래스 별로 label을 부여한다."
   ]
  },
  {
   "cell_type": "code",
   "execution_count": 20,
   "metadata": {},
   "outputs": [
    {
     "name": "stdout",
     "output_type": "stream",
     "text": [
      "학습데이터(x_train)의 이미지 개수는 1200 입니다.\n",
      "학습데이터(x_train)의 이미지 개수는 300 입니다.\n",
      "x_train shape: (1200, 28, 28, 3)\n",
      "y_train shape: (1200,)\n",
      "x_test shape: (300, 28, 28, 3)\n",
      "y_test shape: (300,)\n"
     ]
    }
   ],
   "source": [
    "import numpy as np\n",
    "np.random.seed(1337)\n",
    "from PIL import Image\n",
    "import os, glob\n",
    "import tensorflow as tf\n",
    "from tensorflow import keras\n",
    "\n",
    "\n",
    "def load_data(img_path,number_of_data):\n",
    "    # 가위 : 0, 바위 : 1, 보 : 2   # 가위바위보 이미지 개수 총합에 주의하세요.\n",
    "    img_size=28\n",
    "    color=3\n",
    "    #이미지 데이터와 라벨(가위 : 0, 바위 : 1, 보 : 2) 데이터를 담을 행렬(matrix) 영역을 생성합니다.\n",
    "    imgs=np.zeros(number_of_data*img_size*img_size*color,dtype=np.int32).reshape(number_of_data,img_size,img_size,color)\n",
    "    labels=np.zeros(number_of_data,dtype=np.int32)\n",
    "\n",
    "    idx=0\n",
    "    for file in glob.iglob(img_path+'/scissor/*.jpg'):\n",
    "        img = np.array(Image.open(file),dtype=np.int32)\n",
    "        imgs[idx,:,:,:]=img    # 데이터 영역에 이미지 행렬을 복사\n",
    "        labels[idx]=0   # 가위 : 0\n",
    "        idx=idx+1\n",
    "\n",
    "    for file in glob.iglob(img_path+'/rock/*.jpg'):\n",
    "        img = np.array(Image.open(file),dtype=np.int32)\n",
    "        imgs[idx,:,:,:]=img    # 데이터 영역에 이미지 행렬을 복사\n",
    "        labels[idx]=1   # 바위 : 1\n",
    "        idx=idx+1       \n",
    "    \n",
    "    for file in glob.iglob(img_path+'/paper/*.jpg'):\n",
    "        img = np.array(Image.open(file),dtype=np.int32)\n",
    "        imgs[idx,:,:,:]=img    # 데이터 영역에 이미지 행렬을 복사\n",
    "        labels[idx]=2   # 보 : 2\n",
    "        idx=idx+1\n",
    "        \n",
    "    print(\"학습데이터(x_train)의 이미지 개수는\",idx,\"입니다.\")\n",
    "    return imgs/255.0, labels\n",
    "\n",
    "train_dir_path = os.getenv(\"HOME\") + \"/Downloads/train\"\n",
    "(x_train, y_train)=load_data(train_dir_path,1200)\n",
    "test_dir_path = os.getenv(\"HOME\") + \"/Downloads/test\"\n",
    "(x_test, y_test)=load_data(test_dir_path,300)\n",
    "\n",
    "print(\"x_train shape: {}\".format(x_train.shape))\n",
    "print(\"y_train shape: {}\".format(y_train.shape))\n",
    "\n",
    "print(\"x_test shape: {}\".format(x_test.shape))\n",
    "print(\"y_test shape: {}\".format(y_test.shape))"
   ]
  },
  {
   "cell_type": "markdown",
   "metadata": {},
   "source": [
    "먼저 이전과 동일하게 모델을 설계하고 결과를 확인해본다.\n",
    "현재 데이터는 데이터당 3차원의 정보를 가지고 있으므로 reshape을 하지 않아도 된다."
   ]
  },
  {
   "cell_type": "code",
   "execution_count": 21,
   "metadata": {},
   "outputs": [
    {
     "name": "stdout",
     "output_type": "stream",
     "text": [
      "Model: \"sequential_2\"\n",
      "_________________________________________________________________\n",
      "Layer (type)                 Output Shape              Param #   \n",
      "=================================================================\n",
      "conv2d_4 (Conv2D)            (None, 26, 26, 16)        448       \n",
      "_________________________________________________________________\n",
      "max_pooling2d_4 (MaxPooling2 (None, 13, 13, 16)        0         \n",
      "_________________________________________________________________\n",
      "conv2d_5 (Conv2D)            (None, 11, 11, 32)        4640      \n",
      "_________________________________________________________________\n",
      "max_pooling2d_5 (MaxPooling2 (None, 5, 5, 32)          0         \n",
      "_________________________________________________________________\n",
      "flatten_2 (Flatten)          (None, 800)               0         \n",
      "_________________________________________________________________\n",
      "dense_4 (Dense)              (None, 32)                25632     \n",
      "_________________________________________________________________\n",
      "dense_5 (Dense)              (None, 3)                 99        \n",
      "=================================================================\n",
      "Total params: 30,819\n",
      "Trainable params: 30,819\n",
      "Non-trainable params: 0\n",
      "_________________________________________________________________\n"
     ]
    }
   ],
   "source": [
    "model=keras.models.Sequential()\n",
    "model.add(keras.layers.Conv2D(16, (3,3), activation='relu', input_shape=(28,28,3)))\n",
    "model.add(keras.layers.MaxPool2D(2,2))\n",
    "model.add(keras.layers.Conv2D(32, (3,3), activation='relu'))\n",
    "model.add(keras.layers.MaxPooling2D((2,2)))\n",
    "model.add(keras.layers.Flatten())\n",
    "model.add(keras.layers.Dense(32, activation='relu'))\n",
    "model.add(keras.layers.Dense(3, activation='softmax'))\n",
    "\n",
    "model.summary()\n",
    "model.compile(optimizer='adam',\n",
    "             loss='sparse_categorical_crossentropy',\n",
    "             metrics=['accuracy'])"
   ]
  },
  {
   "cell_type": "code",
   "execution_count": 22,
   "metadata": {},
   "outputs": [
    {
     "name": "stdout",
     "output_type": "stream",
     "text": [
      "Epoch 1/10\n",
      "38/38 [==============================] - 4s 96ms/step - loss: 1.0978 - accuracy: 0.3867\n",
      "Epoch 2/10\n",
      "38/38 [==============================] - 0s 1ms/step - loss: 1.0589 - accuracy: 0.5067\n",
      "Epoch 3/10\n",
      "38/38 [==============================] - 0s 1ms/step - loss: 0.9715 - accuracy: 0.5575\n",
      "Epoch 4/10\n",
      "38/38 [==============================] - 0s 1ms/step - loss: 0.9081 - accuracy: 0.5608\n",
      "Epoch 5/10\n",
      "38/38 [==============================] - 0s 1ms/step - loss: 0.8558 - accuracy: 0.5975\n",
      "Epoch 6/10\n",
      "38/38 [==============================] - 0s 1ms/step - loss: 0.7968 - accuracy: 0.6350\n",
      "Epoch 7/10\n",
      "38/38 [==============================] - 0s 1ms/step - loss: 0.7296 - accuracy: 0.6983\n",
      "Epoch 8/10\n",
      "38/38 [==============================] - 0s 1ms/step - loss: 0.6835 - accuracy: 0.7367\n",
      "Epoch 9/10\n",
      "38/38 [==============================] - 0s 2ms/step - loss: 0.6290 - accuracy: 0.7492\n",
      "Epoch 10/10\n",
      "38/38 [==============================] - 0s 2ms/step - loss: 0.5812 - accuracy: 0.7783\n"
     ]
    },
    {
     "data": {
      "text/plain": [
       "<tensorflow.python.keras.callbacks.History at 0x7f86fc0a6510>"
      ]
     },
     "execution_count": 22,
     "metadata": {},
     "output_type": "execute_result"
    }
   ],
   "source": [
    "model.fit(x_train, y_train, epochs=10)"
   ]
  },
  {
   "cell_type": "code",
   "execution_count": 23,
   "metadata": {},
   "outputs": [
    {
     "name": "stdout",
     "output_type": "stream",
     "text": [
      "10/10 - 2s - loss: 1.5498 - accuracy: 0.4067\n",
      "test_loss: 1.5498270988464355 \n",
      "test_accuracy: 0.40666666626930237\n"
     ]
    }
   ],
   "source": [
    "test_loss, test_accuracy = model.evaluate(x_test, y_test, verbose=2)\n",
    "print(\"test_loss: {} \".format(test_loss))\n",
    "print(\"test_accuracy: {}\".format(test_accuracy))"
   ]
  },
  {
   "cell_type": "markdown",
   "metadata": {},
   "source": [
    "약 40 정도의 정확도가 나오는데 데이터 augmentation과 model의 변경을 통해 정확도를 올릴 것이다.\n",
    "\n",
    "아래와 같이 keras의 DataGenerator를 사용하면 이미지를 augmentation할 수 있다.\n",
    "\n",
    "- `width_shift_range` : 좌우로 이동\n",
    "- `height_shift_range` : 상하로 이동\n",
    "- `zoom_range` : 줌 인/아웃\n",
    "- `ratation_range` : 회전\n",
    "- `horizontal_flip` : 좌우 반전"
   ]
  },
  {
   "cell_type": "code",
   "execution_count": 24,
   "metadata": {},
   "outputs": [],
   "source": [
    "import tensorflow as tf\n",
    "from tensorflow import keras\n",
    "import numpy as np\n",
    "\n",
    "from tensorflow.keras.preprocessing.image import ImageDataGenerator\n",
    "\n",
    "datagen = ImageDataGenerator(\n",
    "width_shift_range = 0.1,\n",
    "height_shift_range = 0.1,\n",
    "    zoom_range = [0.8, 1.2],\n",
    "    rotation_range = 10,\n",
    "horizontal_flip=True)\n"
   ]
  },
  {
   "cell_type": "markdown",
   "metadata": {},
   "source": [
    "augmentation을 했음에도 train data가 너무 작아 한 층 씩만 추가했다.\n",
    "n_channel의 경우에도 학습데이터 대비 파라미터의 양이 너무 많아져 overffiting이 발생한다."
   ]
  },
  {
   "cell_type": "code",
   "execution_count": 25,
   "metadata": {
    "scrolled": true
   },
   "outputs": [
    {
     "name": "stdout",
     "output_type": "stream",
     "text": [
      "Model: \"sequential_3\"\n",
      "_________________________________________________________________\n",
      "Layer (type)                 Output Shape              Param #   \n",
      "=================================================================\n",
      "conv2d_6 (Conv2D)            (None, 26, 26, 16)        448       \n",
      "_________________________________________________________________\n",
      "conv2d_7 (Conv2D)            (None, 26, 26, 16)        2320      \n",
      "_________________________________________________________________\n",
      "max_pooling2d_6 (MaxPooling2 (None, 13, 13, 16)        0         \n",
      "_________________________________________________________________\n",
      "conv2d_8 (Conv2D)            (None, 13, 13, 32)        4640      \n",
      "_________________________________________________________________\n",
      "conv2d_9 (Conv2D)            (None, 13, 13, 32)        9248      \n",
      "_________________________________________________________________\n",
      "max_pooling2d_7 (MaxPooling2 (None, 6, 6, 32)          0         \n",
      "_________________________________________________________________\n",
      "flatten_3 (Flatten)          (None, 1152)              0         \n",
      "_________________________________________________________________\n",
      "dense_6 (Dense)              (None, 32)                36896     \n",
      "_________________________________________________________________\n",
      "dense_7 (Dense)              (None, 3)                 99        \n",
      "=================================================================\n",
      "Total params: 53,651\n",
      "Trainable params: 53,651\n",
      "Non-trainable params: 0\n",
      "_________________________________________________________________\n"
     ]
    }
   ],
   "source": [
    "\n",
    "n_channel_1=16\n",
    "n_channel_2=32\n",
    "n_dense=32\n",
    "n_train_epoch=20\n",
    "n_model=keras.models.Sequential()\n",
    "n_model.add(keras.layers.Conv2D(n_channel_1, (3,3), activation='relu', input_shape=(28,28,3)))\n",
    "n_model.add(keras.layers.Conv2D(n_channel_1, (3,3), activation='relu', padding='same'))\n",
    "\n",
    "n_model.add(keras.layers.MaxPool2D(2,2))\n",
    "n_model.add(keras.layers.Conv2D(n_channel_2, (3,3), activation='relu',padding='same'))\n",
    "n_model.add(keras.layers.Conv2D(n_channel_2, (3,3), activation='relu', padding='same'))\n",
    "n_model.add(keras.layers.MaxPooling2D((2,2)))\n",
    "\n",
    "n_model.add(keras.layers.Flatten())\n",
    "n_model.add(keras.layers.Dense(n_dense, activation='relu'))\n",
    "n_model.add(keras.layers.Dense(3, activation='softmax'))\n",
    "\n",
    "n_model.summary()\n",
    "n_model.compile(optimizer='adam',\n",
    "             loss='sparse_categorical_crossentropy',\n",
    "             metrics=['accuracy'])\n",
    "\n"
   ]
  },
  {
   "cell_type": "markdown",
   "metadata": {},
   "source": [
    "data generator를 사용할때는 아래와 같이 fit이 아닌 fit_generator 함수를 사용한다."
   ]
  },
  {
   "cell_type": "code",
   "execution_count": 26,
   "metadata": {
    "scrolled": true
   },
   "outputs": [
    {
     "name": "stdout",
     "output_type": "stream",
     "text": [
      "WARNING:tensorflow:From <ipython-input-26-ff1126a36eb6>:2: Model.fit_generator (from tensorflow.python.keras.engine.training) is deprecated and will be removed in a future version.\n",
      "Instructions for updating:\n",
      "Please use Model.fit, which supports generators.\n",
      "Epoch 1/20\n",
      "12/12 [==============================] - 0s 22ms/step - loss: 1.1019 - accuracy: 0.3283\n",
      "Epoch 2/20\n",
      "12/12 [==============================] - 0s 24ms/step - loss: 1.0996 - accuracy: 0.3583\n",
      "Epoch 3/20\n",
      "12/12 [==============================] - 0s 24ms/step - loss: 1.0950 - accuracy: 0.3967\n",
      "Epoch 4/20\n",
      "12/12 [==============================] - 0s 26ms/step - loss: 1.0844 - accuracy: 0.4142\n",
      "Epoch 5/20\n",
      "12/12 [==============================] - 0s 25ms/step - loss: 1.0639 - accuracy: 0.4542\n",
      "Epoch 6/20\n",
      "12/12 [==============================] - 0s 24ms/step - loss: 1.0515 - accuracy: 0.4467\n",
      "Epoch 7/20\n",
      "12/12 [==============================] - 0s 25ms/step - loss: 1.0193 - accuracy: 0.4900\n",
      "Epoch 8/20\n",
      "12/12 [==============================] - 0s 27ms/step - loss: 0.9858 - accuracy: 0.5350\n",
      "Epoch 9/20\n",
      "12/12 [==============================] - 0s 25ms/step - loss: 0.9625 - accuracy: 0.5358\n",
      "Epoch 10/20\n",
      "12/12 [==============================] - 0s 24ms/step - loss: 0.9055 - accuracy: 0.5942\n",
      "Epoch 11/20\n",
      "12/12 [==============================] - 0s 25ms/step - loss: 0.8838 - accuracy: 0.5942\n",
      "Epoch 12/20\n",
      "12/12 [==============================] - 0s 26ms/step - loss: 0.8560 - accuracy: 0.6217\n",
      "Epoch 13/20\n",
      "12/12 [==============================] - 0s 26ms/step - loss: 0.8090 - accuracy: 0.6683\n",
      "Epoch 14/20\n",
      "12/12 [==============================] - 0s 25ms/step - loss: 0.7937 - accuracy: 0.6592\n",
      "Epoch 15/20\n",
      "12/12 [==============================] - 0s 25ms/step - loss: 0.7337 - accuracy: 0.7142\n",
      "Epoch 16/20\n",
      "12/12 [==============================] - 0s 26ms/step - loss: 0.7020 - accuracy: 0.7158\n",
      "Epoch 17/20\n",
      "12/12 [==============================] - 0s 25ms/step - loss: 0.6475 - accuracy: 0.7333\n",
      "Epoch 18/20\n",
      "12/12 [==============================] - 0s 25ms/step - loss: 0.6356 - accuracy: 0.7175\n",
      "Epoch 19/20\n",
      "12/12 [==============================] - 0s 26ms/step - loss: 0.6026 - accuracy: 0.7467\n",
      "Epoch 20/20\n",
      "12/12 [==============================] - 0s 25ms/step - loss: 0.5418 - accuracy: 0.7850\n"
     ]
    },
    {
     "data": {
      "text/plain": [
       "<tensorflow.python.keras.callbacks.History at 0x7f86fc799510>"
      ]
     },
     "execution_count": 26,
     "metadata": {},
     "output_type": "execute_result"
    }
   ],
   "source": [
    "# 모델 훈련\n",
    "n_model.fit_generator(datagen.flow(x_train, y_train,batch_size= 100),steps_per_epoch = x_train.shape[0]//100,epochs=n_train_epoch)"
   ]
  },
  {
   "cell_type": "markdown",
   "metadata": {},
   "source": [
    "결과는 아래와 같다."
   ]
  },
  {
   "cell_type": "code",
   "execution_count": 27,
   "metadata": {},
   "outputs": [
    {
     "name": "stdout",
     "output_type": "stream",
     "text": [
      "10/10 - 3s - loss: 0.8786 - accuracy: 0.6167\n",
      "test_loss: 0.878575325012207 \n",
      "test_accuracy: 0.6166666746139526\n"
     ]
    }
   ],
   "source": [
    "test_loss, test_accuracy = n_model.evaluate(x_test, y_test, verbose=2)\n",
    "print(\"test_loss: {} \".format(test_loss))\n",
    "print(\"test_accuracy: {}\".format(test_accuracy))"
   ]
  },
  {
   "cell_type": "markdown",
   "metadata": {},
   "source": [
    "### 개선사항\n",
    "- #### data augment \n",
    "- #### conv layer 2개 추가 (더 깊은 네트워크, augmentation을 해서 어느정도 추가 가능할것이라고 판단함)\n",
    "\n"
   ]
  },
  {
   "cell_type": "code",
   "execution_count": null,
   "metadata": {},
   "outputs": [],
   "source": []
  }
 ],
 "metadata": {
  "kernelspec": {
   "display_name": "aiffel",
   "language": "python",
   "name": "aiffel"
  },
  "language_info": {
   "codemirror_mode": {
    "name": "ipython",
    "version": 3
   },
   "file_extension": ".py",
   "mimetype": "text/x-python",
   "name": "python",
   "nbconvert_exporter": "python",
   "pygments_lexer": "ipython3",
   "version": "3.7.6"
  }
 },
 "nbformat": 4,
 "nbformat_minor": 4
}
