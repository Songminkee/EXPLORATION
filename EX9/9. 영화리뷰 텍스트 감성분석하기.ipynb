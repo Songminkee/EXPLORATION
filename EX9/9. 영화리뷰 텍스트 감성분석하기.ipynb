{
 "cells": [
  {
   "cell_type": "markdown",
   "metadata": {},
   "source": [
    "## Text를 데이터로"
   ]
  },
  {
   "cell_type": "code",
   "execution_count": 1,
   "metadata": {},
   "outputs": [
    {
     "name": "stdout",
     "output_type": "stream",
     "text": [
      "['i', 'feel', 'hungry']\n"
     ]
    }
   ],
   "source": [
    "# 처리해야 할 문장을 파이썬 리스트에 옮겨담았습니다.\n",
    "sentences=['i feel hungry', 'i eat lunch', 'now i feel happy']\n",
    "\n",
    "# 파이썬 split() 메소드를 이용해 단어 단위로 문장을 쪼개 봅니다.\n",
    "word_list = 'i feel hungry'.split()\n",
    "print(word_list)"
   ]
  },
  {
   "cell_type": "code",
   "execution_count": 2,
   "metadata": {},
   "outputs": [
    {
     "name": "stdout",
     "output_type": "stream",
     "text": [
      "{0: '<PAD>', 1: '<BOS>', 2: '<UNK>', 3: 'i', 4: 'feel', 5: 'hungry', 6: 'eat', 7: 'lunch', 8: 'now', 9: 'happy'}\n"
     ]
    }
   ],
   "source": [
    "index_to_word={}  # 빈 딕셔너리를 만들어서\n",
    "\n",
    "# 단어들을 하나씩 채워 봅니다. 채우는 순서는 일단 임의로 하였습니다. 그러나 사실 순서는 중요하지 않습니다. \n",
    "# <BOS>, <PAD>, <UNK>는 관례적으로 딕셔너리 맨 앞에 넣어줍니다. \n",
    "index_to_word[0]='<PAD>'  # 패딩용 단어\n",
    "index_to_word[1]='<BOS>'  # 문장의 시작지점\n",
    "index_to_word[2]='<UNK>'  # 사전에 없는(Unknown) 단어\n",
    "index_to_word[3]='i'\n",
    "index_to_word[4]='feel'\n",
    "index_to_word[5]='hungry'\n",
    "index_to_word[6]='eat'\n",
    "index_to_word[7]='lunch'\n",
    "index_to_word[8]='now'\n",
    "index_to_word[9]='happy'\n",
    "\n",
    "print(index_to_word)"
   ]
  },
  {
   "cell_type": "code",
   "execution_count": 3,
   "metadata": {},
   "outputs": [
    {
     "name": "stdout",
     "output_type": "stream",
     "text": [
      "{'<PAD>': 0, '<BOS>': 1, '<UNK>': 2, 'i': 3, 'feel': 4, 'hungry': 5, 'eat': 6, 'lunch': 7, 'now': 8, 'happy': 9}\n"
     ]
    }
   ],
   "source": [
    "word_to_index={word:index for index, word in index_to_word.items()}\n",
    "print(word_to_index)"
   ]
  },
  {
   "cell_type": "code",
   "execution_count": 4,
   "metadata": {},
   "outputs": [
    {
     "name": "stdout",
     "output_type": "stream",
     "text": [
      "4\n"
     ]
    }
   ],
   "source": [
    "print(word_to_index['feel'])  # 단어 'feel'은 숫자 인덱스 4로 바뀝니다."
   ]
  },
  {
   "cell_type": "code",
   "execution_count": 5,
   "metadata": {},
   "outputs": [
    {
     "name": "stdout",
     "output_type": "stream",
     "text": [
      "[1, 3, 6, 7]\n"
     ]
    }
   ],
   "source": [
    "# 문장 1개를 활용할 딕셔너리와 함께 주면, 단어 인덱스 리스트로 변환해 주는 함수를 만들어 봅시다.\n",
    "# 단, 모든 문장은 <BOS>로 시작하는 것으로 합니다. \n",
    "def get_encoded_sentence(sentence, word_to_index):\n",
    "    return [word_to_index['<BOS>']]+[word_to_index[word] if word in word_to_index else word_to_index['<UNK>'] for word in sentence.split()]\n",
    "\n",
    "print(get_encoded_sentence('i eat lunch', word_to_index))"
   ]
  },
  {
   "cell_type": "code",
   "execution_count": 6,
   "metadata": {},
   "outputs": [
    {
     "name": "stdout",
     "output_type": "stream",
     "text": [
      "[[1, 3, 4, 5], [1, 3, 6, 7], [1, 8, 3, 4, 9]]\n"
     ]
    }
   ],
   "source": [
    "# 여러 개의 문장 리스트를 한꺼번에 숫자 텐서로 encode해 주는 함수입니다. \n",
    "def get_encoded_sentences(sentences, word_to_index):\n",
    "    return [get_encoded_sentence(sentence, word_to_index) for sentence in sentences]\n",
    "\n",
    "# sentences=['i feel hungry', 'i eat lunch', 'now i feel happy'] 가 아래와 같이 변환됩니다. \n",
    "encoded_sentences = get_encoded_sentences(sentences, word_to_index)\n",
    "print(encoded_sentences)"
   ]
  },
  {
   "cell_type": "code",
   "execution_count": 7,
   "metadata": {},
   "outputs": [
    {
     "name": "stdout",
     "output_type": "stream",
     "text": [
      "i feel hungry\n"
     ]
    }
   ],
   "source": [
    "# 숫자 벡터로 encode된 문장을 원래대로 decode하는 함수입니다. \n",
    "def get_decoded_sentence(encoded_sentence, index_to_word):\n",
    "    return ' '.join(index_to_word[index] if index in index_to_word else '<UNK>' for index in encoded_sentence[1:])  #[1:]를 통해 <BOS>를 제외\n",
    "\n",
    "print(get_decoded_sentence([1, 3, 4, 5], index_to_word))"
   ]
  },
  {
   "cell_type": "code",
   "execution_count": 8,
   "metadata": {},
   "outputs": [
    {
     "name": "stdout",
     "output_type": "stream",
     "text": [
      "['i feel hungry', 'i eat lunch', 'now i feel happy']\n"
     ]
    }
   ],
   "source": [
    "# 여러개의 숫자 벡터로 encode된 문장을 한꺼번에 원래대로 decode하는 함수입니다. \n",
    "def get_decoded_sentences(encoded_sentences, index_to_word):\n",
    "    return [get_decoded_sentence(encoded_sentence, index_to_word) for encoded_sentence in encoded_sentences]\n",
    "\n",
    "# encoded_sentences=[[1, 3, 4, 5], [1, 3, 6, 7], [1, 8, 3, 4, 9]] 가 아래와 같이 변환됩니다.\n",
    "print(get_decoded_sentences(encoded_sentences, index_to_word))"
   ]
  },
  {
   "cell_type": "markdown",
   "metadata": {},
   "source": [
    "## 임베딩 레이어"
   ]
  },
  {
   "cell_type": "code",
   "execution_count": 9,
   "metadata": {},
   "outputs": [
    {
     "name": "stdout",
     "output_type": "stream",
     "text": [
      "[[1 3 4 5 0]\n",
      " [1 3 6 7 0]\n",
      " [1 8 3 4 9]]\n"
     ]
    }
   ],
   "source": [
    "import numpy as np\n",
    "import tensorflow as tf\n",
    "from tensorflow import keras\n",
    "\n",
    "vocab_size = len(word_to_index)  # 위 예시에서 딕셔너리에 포함된 단어 개수는 10\n",
    "word_vector_dim = 4    # 위 그림과 같이 4차원의 워드벡터를 가정합니다. \n",
    "\n",
    "embedding = tf.keras.layers.Embedding(input_dim=vocab_size, output_dim=word_vector_dim, mask_zero=True)\n",
    "\n",
    "raw_inputs = np.array(get_encoded_sentences(sentences, word_to_index))\n",
    "raw_inputs = keras.preprocessing.sequence.pad_sequences(raw_inputs,\n",
    "                                                       value=word_to_index['<PAD>'],\n",
    "                                                       padding='post',\n",
    "                                                       maxlen=5)\n",
    "print(raw_inputs)"
   ]
  },
  {
   "cell_type": "code",
   "execution_count": 10,
   "metadata": {},
   "outputs": [
    {
     "name": "stdout",
     "output_type": "stream",
     "text": [
      "tf.Tensor(\n",
      "[[[ 0.04378034 -0.03371773 -0.01984987 -0.00285923]\n",
      "  [-0.04808449  0.0025991  -0.02751175 -0.01471026]\n",
      "  [-0.00929161 -0.04194347  0.02199142  0.01699494]\n",
      "  [ 0.03624152 -0.0423796  -0.00343906 -0.00925913]\n",
      "  [ 0.03577541  0.01748356 -0.0236531   0.03974633]]\n",
      "\n",
      " [[ 0.04378034 -0.03371773 -0.01984987 -0.00285923]\n",
      "  [-0.04808449  0.0025991  -0.02751175 -0.01471026]\n",
      "  [ 0.01755496 -0.02279428 -0.03736581 -0.00739583]\n",
      "  [ 0.02858224 -0.03328326  0.0350509  -0.0188911 ]\n",
      "  [ 0.03577541  0.01748356 -0.0236531   0.03974633]]\n",
      "\n",
      " [[ 0.04378034 -0.03371773 -0.01984987 -0.00285923]\n",
      "  [ 0.01957137 -0.02543417 -0.00650746  0.02505204]\n",
      "  [-0.04808449  0.0025991  -0.02751175 -0.01471026]\n",
      "  [-0.00929161 -0.04194347  0.02199142  0.01699494]\n",
      "  [ 0.00899283 -0.04862361  0.02768515 -0.04123863]]], shape=(3, 5, 4), dtype=float32)\n"
     ]
    }
   ],
   "source": [
    "output = embedding(raw_inputs)\n",
    "print(output)"
   ]
  },
  {
   "cell_type": "markdown",
   "metadata": {},
   "source": [
    "## 시퀀스 데이터를 다루는 모델 - LSTM"
   ]
  },
  {
   "cell_type": "code",
   "execution_count": 11,
   "metadata": {},
   "outputs": [
    {
     "name": "stdout",
     "output_type": "stream",
     "text": [
      "Model: \"sequential\"\n",
      "_________________________________________________________________\n",
      "Layer (type)                 Output Shape              Param #   \n",
      "=================================================================\n",
      "embedding_1 (Embedding)      (None, None, 4)           40        \n",
      "_________________________________________________________________\n",
      "lstm (LSTM)                  (None, 8)                 416       \n",
      "_________________________________________________________________\n",
      "dense (Dense)                (None, 8)                 72        \n",
      "_________________________________________________________________\n",
      "dense_1 (Dense)              (None, 1)                 9         \n",
      "=================================================================\n",
      "Total params: 537\n",
      "Trainable params: 537\n",
      "Non-trainable params: 0\n",
      "_________________________________________________________________\n"
     ]
    }
   ],
   "source": [
    "vocab_size = 10  # 어휘 사전의 크기입니다(10개의 단어)\n",
    "word_vector_dim = 4  # 어휘 사전의 크기입니다(10개의 단어)\n",
    "\n",
    "model = keras.Sequential()\n",
    "model.add(keras.layers.Embedding(vocab_size, word_vector_dim, input_shape=(None,)))\n",
    "model.add(keras.layers.LSTM(8))   # 가장 널리 쓰이는 RNN인 LSTM 레이어를 사용하였습니다. 이때 LSTM state 벡터의 차원수는 8로 하였습니다. (변경가능)\n",
    "model.add(keras.layers.Dense(8, activation='relu'))\n",
    "model.add(keras.layers.Dense(1, activation='sigmoid'))  # 최종 출력은 긍정/부정을 나타내는 1dim 입니다.\n",
    "\n",
    "model.summary()"
   ]
  },
  {
   "cell_type": "markdown",
   "metadata": {},
   "source": [
    "## 시퀀스 데이터를 다루는 모델 - cnn1d"
   ]
  },
  {
   "cell_type": "code",
   "execution_count": 12,
   "metadata": {},
   "outputs": [
    {
     "name": "stdout",
     "output_type": "stream",
     "text": [
      "Model: \"sequential_1\"\n",
      "_________________________________________________________________\n",
      "Layer (type)                 Output Shape              Param #   \n",
      "=================================================================\n",
      "embedding_2 (Embedding)      (None, None, 4)           40        \n",
      "_________________________________________________________________\n",
      "conv1d (Conv1D)              (None, None, 16)          464       \n",
      "_________________________________________________________________\n",
      "max_pooling1d (MaxPooling1D) (None, None, 16)          0         \n",
      "_________________________________________________________________\n",
      "conv1d_1 (Conv1D)            (None, None, 16)          1808      \n",
      "_________________________________________________________________\n",
      "global_max_pooling1d (Global (None, 16)                0         \n",
      "_________________________________________________________________\n",
      "dense_2 (Dense)              (None, 8)                 136       \n",
      "_________________________________________________________________\n",
      "dense_3 (Dense)              (None, 1)                 9         \n",
      "=================================================================\n",
      "Total params: 2,457\n",
      "Trainable params: 2,457\n",
      "Non-trainable params: 0\n",
      "_________________________________________________________________\n"
     ]
    }
   ],
   "source": [
    "vocab_size = 10  # 어휘 사전의 크기입니다(10개의 단어)\n",
    "word_vector_dim = 4  # 어휘 사전의 크기입니다(10개의 단어)\n",
    "\n",
    "model = keras.Sequential()\n",
    "model.add(keras.layers.Embedding(vocab_size, word_vector_dim, input_shape=(None,)))\n",
    "model.add(keras.layers.Conv1D(16, 7, activation='relu'))\n",
    "model.add(keras.layers.MaxPooling1D(5))\n",
    "model.add(keras.layers.Conv1D(16, 7, activation='relu'))\n",
    "model.add(keras.layers.GlobalMaxPooling1D())\n",
    "model.add(keras.layers.Dense(8, activation='relu'))\n",
    "model.add(keras.layers.Dense(1, activation='sigmoid'))  # 최종 출력은 긍정/부정을 나타내는 1dim 입니다.\n",
    "\n",
    "model.summary()"
   ]
  },
  {
   "cell_type": "markdown",
   "metadata": {},
   "source": [
    "## 시퀀스 데이터를 다루는 모델 - global max pooling"
   ]
  },
  {
   "cell_type": "code",
   "execution_count": 13,
   "metadata": {},
   "outputs": [
    {
     "name": "stdout",
     "output_type": "stream",
     "text": [
      "Model: \"sequential_2\"\n",
      "_________________________________________________________________\n",
      "Layer (type)                 Output Shape              Param #   \n",
      "=================================================================\n",
      "embedding_3 (Embedding)      (None, None, 4)           40        \n",
      "_________________________________________________________________\n",
      "global_max_pooling1d_1 (Glob (None, 4)                 0         \n",
      "_________________________________________________________________\n",
      "dense_4 (Dense)              (None, 8)                 40        \n",
      "_________________________________________________________________\n",
      "dense_5 (Dense)              (None, 1)                 9         \n",
      "=================================================================\n",
      "Total params: 89\n",
      "Trainable params: 89\n",
      "Non-trainable params: 0\n",
      "_________________________________________________________________\n"
     ]
    }
   ],
   "source": [
    "vocab_size = 10  # 어휘 사전의 크기입니다(10개의 단어)\n",
    "word_vector_dim = 4  # 어휘 사전의 크기입니다(10개의 단어)\n",
    "\n",
    "model = keras.Sequential()\n",
    "model.add(keras.layers.Embedding(vocab_size, word_vector_dim, input_shape=(None,)))\n",
    "model.add(keras.layers.GlobalMaxPooling1D())\n",
    "model.add(keras.layers.Dense(8, activation='relu'))\n",
    "model.add(keras.layers.Dense(1, activation='sigmoid'))  # 최종 출력은 긍정/부정을 나타내는 1dim 입니다.\n",
    "\n",
    "model.summary()"
   ]
  },
  {
   "cell_type": "markdown",
   "metadata": {},
   "source": [
    "## IMDB 데이터 분석"
   ]
  },
  {
   "cell_type": "code",
   "execution_count": 11,
   "metadata": {},
   "outputs": [
    {
     "name": "stdout",
     "output_type": "stream",
     "text": [
      "2.2.0\n",
      "훈련 샘플 개수: 25000, 테스트 개수: 25000\n"
     ]
    }
   ],
   "source": [
    "from __future__ import absolute_import, division, print_function, unicode_literals\n",
    "import tensorflow as tf\n",
    "from tensorflow import keras\n",
    "import numpy as np\n",
    "\n",
    "print(tf.__version__)\n",
    "imdb = keras.datasets.imdb\n",
    "\n",
    "# IMDB 데이터셋 다운로드 \n",
    "(x_train, y_train), (x_test, y_test) = imdb.load_data(num_words=10000)\n",
    "print(\"훈련 샘플 개수: {}, 테스트 개수: {}\".format(len(x_train), len(x_test)))"
   ]
  },
  {
   "cell_type": "code",
   "execution_count": 12,
   "metadata": {},
   "outputs": [
    {
     "name": "stdout",
     "output_type": "stream",
     "text": [
      "[1, 14, 22, 16, 43, 530, 973, 1622, 1385, 65, 458, 4468, 66, 3941, 4, 173, 36, 256, 5, 25, 100, 43, 838, 112, 50, 670, 2, 9, 35, 480, 284, 5, 150, 4, 172, 112, 167, 2, 336, 385, 39, 4, 172, 4536, 1111, 17, 546, 38, 13, 447, 4, 192, 50, 16, 6, 147, 2025, 19, 14, 22, 4, 1920, 4613, 469, 4, 22, 71, 87, 12, 16, 43, 530, 38, 76, 15, 13, 1247, 4, 22, 17, 515, 17, 12, 16, 626, 18, 2, 5, 62, 386, 12, 8, 316, 8, 106, 5, 4, 2223, 5244, 16, 480, 66, 3785, 33, 4, 130, 12, 16, 38, 619, 5, 25, 124, 51, 36, 135, 48, 25, 1415, 33, 6, 22, 12, 215, 28, 77, 52, 5, 14, 407, 16, 82, 2, 8, 4, 107, 117, 5952, 15, 256, 4, 2, 7, 3766, 5, 723, 36, 71, 43, 530, 476, 26, 400, 317, 46, 7, 4, 2, 1029, 13, 104, 88, 4, 381, 15, 297, 98, 32, 2071, 56, 26, 141, 6, 194, 7486, 18, 4, 226, 22, 21, 134, 476, 26, 480, 5, 144, 30, 5535, 18, 51, 36, 28, 224, 92, 25, 104, 4, 226, 65, 16, 38, 1334, 88, 12, 16, 283, 5, 16, 4472, 113, 103, 32, 15, 16, 5345, 19, 178, 32]\n",
      "라벨:  1\n",
      "1번째 리뷰 문장 길이:  218\n",
      "2번째 리뷰 문장 길이:  189\n",
      "[1 0 0 ... 0 1 0]\n"
     ]
    }
   ],
   "source": [
    "print(x_train[0])  # 1번째 리뷰데이터\n",
    "print('라벨: ', y_train[0])  # 1번째 리뷰데이터의 라벨\n",
    "print('1번째 리뷰 문장 길이: ', len(x_train[0]))\n",
    "print('2번째 리뷰 문장 길이: ', len(x_train[1]))\n",
    "print(y_train)"
   ]
  },
  {
   "cell_type": "code",
   "execution_count": 13,
   "metadata": {},
   "outputs": [
    {
     "name": "stdout",
     "output_type": "stream",
     "text": [
      "the\n",
      "1\n"
     ]
    }
   ],
   "source": [
    "word_to_index = imdb.get_word_index()\n",
    "index_to_word = {index:word for word, index in word_to_index.items()}\n",
    "print(index_to_word[1])     # 'the' 가 출력됩니다. \n",
    "print(word_to_index['the'])  # 1 이 출력됩니다."
   ]
  },
  {
   "cell_type": "code",
   "execution_count": 14,
   "metadata": {},
   "outputs": [
    {
     "name": "stdout",
     "output_type": "stream",
     "text": [
      "<BOS>\n",
      "4\n",
      "the\n",
      "88588\n"
     ]
    }
   ],
   "source": [
    "#실제 인코딩 인덱스는 제공된 word_to_index에서 index 기준으로 3씩 뒤로 밀려 있습니다.  \n",
    "word_to_index = {k:(v+3) for k,v in word_to_index.items()}\n",
    "\n",
    "# 처음 몇 개 인덱스는 사전에 정의되어 있습니다\n",
    "word_to_index[\"<PAD>\"] = 0\n",
    "word_to_index[\"<BOS>\"] = 1\n",
    "word_to_index[\"<UNK>\"] = 2  # unknown\n",
    "word_to_index[\"<UNUSED>\"] = 3\n",
    "\n",
    "index_to_word[0] = \"<PAD>\"\n",
    "index_to_word[1] = \"<BOS>\"\n",
    "index_to_word[2] = \"<UNK>\"\n",
    "index_to_word[3] = \"<UNUSED>\"\n",
    "\n",
    "index_to_word = {index:word for word, index in word_to_index.items()}\n",
    "\n",
    "print(index_to_word[1])     # '<BOS>' 가 출력됩니다. \n",
    "print(word_to_index['the'])  # 4 이 출력됩니다. \n",
    "print(index_to_word[4])     # 'the' 가 출력됩니다.\n",
    "print(len(index_to_word))"
   ]
  },
  {
   "cell_type": "code",
   "execution_count": 15,
   "metadata": {},
   "outputs": [
    {
     "name": "stdout",
     "output_type": "stream",
     "text": [
      "this film was just brilliant casting location scenery story direction everyone's really suited the part they played and you could just imagine being there robert <UNK> is an amazing actor and now the same being director <UNK> father came from the same scottish island as myself so i loved the fact there was a real connection with this film the witty remarks throughout the film were great it was just brilliant so much that i bought the film as soon as it was released for <UNK> and would recommend it to everyone to watch and the fly fishing was amazing really cried at the end it was so sad and you know what they say if you cry at a film it must have been good and this definitely was also <UNK> to the two little boy's that played the <UNK> of norman and paul they were just brilliant children are often left out of the <UNK> list i think because the stars that play them all grown up are such a big profile for the whole film but these children are amazing and should be praised for what they have done don't you think the whole story was so lovely because it was true and was someone's life after all that was shared with us all\n",
      "라벨:  1\n"
     ]
    }
   ],
   "source": [
    "print(get_decoded_sentence(x_train[0], index_to_word))\n",
    "print('라벨: ', y_train[0])  # 1번째 리뷰데이터의 라벨"
   ]
  },
  {
   "cell_type": "code",
   "execution_count": 16,
   "metadata": {},
   "outputs": [
    {
     "name": "stdout",
     "output_type": "stream",
     "text": [
      "문장길이 평균 :  234.75892\n",
      "문장길이 최대 :  2494\n",
      "문장길이 표준편차 :  172.91149458735703\n",
      "pad_sequences maxlen :  580\n",
      "전체 문장의 0.94536%가 maxlen 설정값 이내에 포함됩니다. \n"
     ]
    }
   ],
   "source": [
    "total_data_text = list(x_train) + list(x_test)\n",
    "# 텍스트데이터 문장길이의 리스트를 생성한 후\n",
    "num_tokens = [len(tokens) for tokens in total_data_text]\n",
    "num_tokens = np.array(num_tokens)\n",
    "# 문장길이의 평균값, 최대값, 표준편차를 계산해 본다. \n",
    "print('문장길이 평균 : ', np.mean(num_tokens))\n",
    "print('문장길이 최대 : ', np.max(num_tokens))\n",
    "print('문장길이 표준편차 : ', np.std(num_tokens))\n",
    "\n",
    "# 예를들어, 최대 길이를 (평균 + 2*표준편차)로 한다면,  \n",
    "max_tokens = np.mean(num_tokens) + 2 * np.std(num_tokens)\n",
    "maxlen = int(max_tokens)\n",
    "print('pad_sequences maxlen : ', maxlen)\n",
    "print('전체 문장의 {}%가 maxlen 설정값 이내에 포함됩니다. '.format(np.sum(num_tokens < max_tokens) / len(num_tokens)))"
   ]
  },
  {
   "cell_type": "code",
   "execution_count": 17,
   "metadata": {},
   "outputs": [
    {
     "name": "stdout",
     "output_type": "stream",
     "text": [
      "(25000, 580)\n"
     ]
    }
   ],
   "source": [
    "x_train = keras.preprocessing.sequence.pad_sequences(x_train,\n",
    "                                                        value=word_to_index[\"<PAD>\"],\n",
    "                                                        padding='post', # 혹은 'pre'\n",
    "                                                        maxlen=maxlen)\n",
    "\n",
    "x_test = keras.preprocessing.sequence.pad_sequences(x_test,\n",
    "                                                       value=word_to_index[\"<PAD>\"],\n",
    "                                                       padding='post', # 혹은 'pre'\n",
    "                                                       maxlen=maxlen)\n",
    "\n",
    "print(x_train.shape)"
   ]
  },
  {
   "cell_type": "code",
   "execution_count": 21,
   "metadata": {},
   "outputs": [
    {
     "name": "stdout",
     "output_type": "stream",
     "text": [
      "Model: \"sequential_3\"\n",
      "_________________________________________________________________\n",
      "Layer (type)                 Output Shape              Param #   \n",
      "=================================================================\n",
      "embedding_4 (Embedding)      (None, None, 16)          160000    \n",
      "_________________________________________________________________\n",
      "lstm_1 (LSTM)                (None, 8)                 800       \n",
      "_________________________________________________________________\n",
      "dense_6 (Dense)              (None, 8)                 72        \n",
      "_________________________________________________________________\n",
      "dense_7 (Dense)              (None, 1)                 9         \n",
      "=================================================================\n",
      "Total params: 160,881\n",
      "Trainable params: 160,881\n",
      "Non-trainable params: 0\n",
      "_________________________________________________________________\n"
     ]
    }
   ],
   "source": [
    "vocab_size = 10000    # 어휘 사전의 크기입니다(10,000개의 단어)\n",
    "word_vector_dim = 16  # 워드 벡터의 차원수 (변경가능한 하이퍼파라미터)\n",
    "\n",
    "model = keras.Sequential()\n",
    "model.add(keras.layers.Embedding(vocab_size, word_vector_dim, input_shape=(None,)))\n",
    "model.add(keras.layers.LSTM(8))\n",
    "model.add(keras.layers.Dense(8, activation='relu'))\n",
    "model.add(keras.layers.Dense(1, activation='sigmoid'))\n",
    "\n",
    "model.summary()"
   ]
  },
  {
   "cell_type": "code",
   "execution_count": 18,
   "metadata": {},
   "outputs": [
    {
     "name": "stdout",
     "output_type": "stream",
     "text": [
      "(15000, 580)\n",
      "(15000,)\n"
     ]
    }
   ],
   "source": [
    "# validation set 10000건 분리\n",
    "x_val = x_train[:10000]   \n",
    "y_val = y_train[:10000]\n",
    "\n",
    "# validation set을 제외한 나머지 15000건\n",
    "partial_x_train = x_train[10000:]  \n",
    "partial_y_train = y_train[10000:]\n",
    "\n",
    "print(partial_x_train.shape)\n",
    "print(partial_y_train.shape)"
   ]
  },
  {
   "cell_type": "code",
   "execution_count": 23,
   "metadata": {},
   "outputs": [
    {
     "name": "stdout",
     "output_type": "stream",
     "text": [
      "Epoch 1/20\n",
      "30/30 [==============================] - 1s 42ms/step - loss: 0.6931 - accuracy: 0.5029 - val_loss: 0.6932 - val_accuracy: 0.5038\n",
      "Epoch 2/20\n",
      "30/30 [==============================] - 1s 32ms/step - loss: 0.6926 - accuracy: 0.5126 - val_loss: 0.6929 - val_accuracy: 0.5026\n",
      "Epoch 3/20\n",
      "30/30 [==============================] - 1s 32ms/step - loss: 0.6918 - accuracy: 0.5139 - val_loss: 0.6925 - val_accuracy: 0.5031\n",
      "Epoch 4/20\n",
      "30/30 [==============================] - 1s 33ms/step - loss: 0.6889 - accuracy: 0.5162 - val_loss: 0.6903 - val_accuracy: 0.5048\n",
      "Epoch 5/20\n",
      "30/30 [==============================] - 1s 35ms/step - loss: 0.6801 - accuracy: 0.5239 - val_loss: 0.6848 - val_accuracy: 0.5190\n",
      "Epoch 6/20\n",
      "30/30 [==============================] - 1s 36ms/step - loss: 0.6704 - accuracy: 0.5360 - val_loss: 0.6927 - val_accuracy: 0.5129\n",
      "Epoch 7/20\n",
      "30/30 [==============================] - 1s 34ms/step - loss: 0.6656 - accuracy: 0.5399 - val_loss: 0.6825 - val_accuracy: 0.5179\n",
      "Epoch 8/20\n",
      "30/30 [==============================] - 1s 34ms/step - loss: 0.6615 - accuracy: 0.5350 - val_loss: 0.6905 - val_accuracy: 0.5205\n",
      "Epoch 9/20\n",
      "30/30 [==============================] - 1s 33ms/step - loss: 0.6627 - accuracy: 0.5395 - val_loss: 0.6943 - val_accuracy: 0.5132\n",
      "Epoch 10/20\n",
      "30/30 [==============================] - 1s 33ms/step - loss: 0.6619 - accuracy: 0.5419 - val_loss: 0.6889 - val_accuracy: 0.5087\n",
      "Epoch 11/20\n",
      "30/30 [==============================] - 1s 33ms/step - loss: 0.6610 - accuracy: 0.5361 - val_loss: 0.6885 - val_accuracy: 0.5118\n",
      "Epoch 12/20\n",
      "30/30 [==============================] - 1s 32ms/step - loss: 0.6563 - accuracy: 0.5377 - val_loss: 0.6933 - val_accuracy: 0.5121\n",
      "Epoch 13/20\n",
      "30/30 [==============================] - 1s 32ms/step - loss: 0.6537 - accuracy: 0.5387 - val_loss: 0.6950 - val_accuracy: 0.5127\n",
      "Epoch 14/20\n",
      "30/30 [==============================] - 1s 33ms/step - loss: 0.6518 - accuracy: 0.5393 - val_loss: 0.7010 - val_accuracy: 0.5209\n",
      "Epoch 15/20\n",
      "30/30 [==============================] - 1s 33ms/step - loss: 0.6502 - accuracy: 0.5375 - val_loss: 0.7011 - val_accuracy: 0.5162\n",
      "Epoch 16/20\n",
      "30/30 [==============================] - 1s 35ms/step - loss: 0.6531 - accuracy: 0.5326 - val_loss: 0.6927 - val_accuracy: 0.5157\n",
      "Epoch 17/20\n",
      "30/30 [==============================] - 1s 36ms/step - loss: 0.6520 - accuracy: 0.5349 - val_loss: 0.7018 - val_accuracy: 0.5124\n",
      "Epoch 18/20\n",
      "30/30 [==============================] - 1s 33ms/step - loss: 0.6510 - accuracy: 0.5397 - val_loss: 0.7019 - val_accuracy: 0.5132\n",
      "Epoch 19/20\n",
      "30/30 [==============================] - 1s 32ms/step - loss: 0.6500 - accuracy: 0.5399 - val_loss: 0.7069 - val_accuracy: 0.5143\n",
      "Epoch 20/20\n",
      "30/30 [==============================] - 1s 33ms/step - loss: 0.6492 - accuracy: 0.5403 - val_loss: 0.7063 - val_accuracy: 0.5151\n"
     ]
    }
   ],
   "source": [
    "model.compile(optimizer='adam',\n",
    "              loss='binary_crossentropy',\n",
    "              metrics=['accuracy'])\n",
    "              \n",
    "epochs=20  \n",
    "\n",
    "history = model.fit(partial_x_train,\n",
    "                    partial_y_train,\n",
    "                    epochs=epochs,\n",
    "                    batch_size=512,\n",
    "                    validation_data=(x_val, y_val),\n",
    "                    verbose=1)"
   ]
  },
  {
   "cell_type": "code",
   "execution_count": 24,
   "metadata": {},
   "outputs": [
    {
     "name": "stdout",
     "output_type": "stream",
     "text": [
      "782/782 - 5s - loss: 0.6999 - accuracy: 0.5177\n",
      "[0.6999092698097229, 0.5177199840545654]\n"
     ]
    }
   ],
   "source": [
    "results = model.evaluate(x_test,  y_test, verbose=2)\n",
    "\n",
    "print(results)"
   ]
  },
  {
   "cell_type": "code",
   "execution_count": 25,
   "metadata": {},
   "outputs": [
    {
     "name": "stdout",
     "output_type": "stream",
     "text": [
      "dict_keys(['loss', 'accuracy', 'val_loss', 'val_accuracy'])\n"
     ]
    }
   ],
   "source": [
    "history_dict = history.history\n",
    "print(history_dict.keys()) # epoch에 따른 그래프를 그려볼 수 있는 항목들"
   ]
  },
  {
   "cell_type": "code",
   "execution_count": 26,
   "metadata": {},
   "outputs": [
    {
     "data": {
      "image/png": "[encoded data removed]",
      "text/plain": [
       "<Figure size 432x288 with 1 Axes>"
      ]
     },
     "metadata": {
      "needs_background": "light"
     },
     "output_type": "display_data"
    }
   ],
   "source": [
    "import matplotlib.pyplot as plt\n",
    "\n",
    "acc = history_dict['accuracy']\n",
    "val_acc = history_dict['val_accuracy']\n",
    "loss = history_dict['loss']\n",
    "val_loss = history_dict['val_loss']\n",
    "\n",
    "epochs = range(1, len(acc) + 1)\n",
    "\n",
    "# \"bo\"는 \"파란색 점\"입니다\n",
    "plt.plot(epochs, loss, 'bo', label='Training loss')\n",
    "# b는 \"파란 실선\"입니다\n",
    "plt.plot(epochs, val_loss, 'b', label='Validation loss')\n",
    "plt.title('Training and validation loss')\n",
    "plt.xlabel('Epochs')\n",
    "plt.ylabel('Loss')\n",
    "plt.legend()\n",
    "\n",
    "plt.show()"
   ]
  },
  {
   "cell_type": "code",
   "execution_count": 27,
   "metadata": {},
   "outputs": [
    {
     "data": {
      "image/png": "[encoded data removed]",
      "text/plain": [
       "<Figure size 432x288 with 1 Axes>"
      ]
     },
     "metadata": {
      "needs_background": "light"
     },
     "output_type": "display_data"
    }
   ],
   "source": [
    "plt.clf()   # 그림을 초기화합니다\n",
    "\n",
    "plt.plot(epochs, acc, 'bo', label='Training acc')\n",
    "plt.plot(epochs, val_acc, 'b', label='Validation acc')\n",
    "plt.title('Training and validation accuracy')\n",
    "plt.xlabel('Epochs')\n",
    "plt.ylabel('Accuracy')\n",
    "plt.legend()\n",
    "\n",
    "plt.show()"
   ]
  },
  {
   "cell_type": "code",
   "execution_count": 28,
   "metadata": {},
   "outputs": [
    {
     "name": "stdout",
     "output_type": "stream",
     "text": [
      "(10000, 16)\n"
     ]
    }
   ],
   "source": [
    "embedding_layer = model.layers[0]\n",
    "weights = embedding_layer.get_weights()[0]\n",
    "print(weights.shape)    # shape: (vocab_size, embedding_dim)"
   ]
  },
  {
   "cell_type": "code",
   "execution_count": 19,
   "metadata": {},
   "outputs": [
    {
     "ename": "NameError",
     "evalue": "name 'model' is not defined",
     "output_type": "error",
     "traceback": [
      "\u001b[0;31m---------------------------------------------------------------------------\u001b[0m",
      "\u001b[0;31mNameError\u001b[0m                                 Traceback (most recent call last)",
      "\u001b[0;32m<ipython-input-19-38972c49ae67>\u001b[0m in \u001b[0;36m<module>\u001b[0;34m\u001b[0m\n\u001b[1;32m      7\u001b[0m \u001b[0;34m\u001b[0m\u001b[0m\n\u001b[1;32m      8\u001b[0m \u001b[0;31m# 단어 개수(에서 특수문자 4개는 제외하고)만큼의 워드 벡터를 파일에 기록합니다.\u001b[0m\u001b[0;34m\u001b[0m\u001b[0;34m\u001b[0m\u001b[0;34m\u001b[0m\u001b[0m\n\u001b[0;32m----> 9\u001b[0;31m \u001b[0mvectors\u001b[0m \u001b[0;34m=\u001b[0m \u001b[0mmodel\u001b[0m\u001b[0;34m.\u001b[0m\u001b[0mget_weights\u001b[0m\u001b[0;34m(\u001b[0m\u001b[0;34m)\u001b[0m\u001b[0;34m[\u001b[0m\u001b[0;36m0\u001b[0m\u001b[0;34m]\u001b[0m\u001b[0;34m\u001b[0m\u001b[0;34m\u001b[0m\u001b[0m\n\u001b[0m\u001b[1;32m     10\u001b[0m \u001b[0;32mfor\u001b[0m \u001b[0mi\u001b[0m \u001b[0;32min\u001b[0m \u001b[0mrange\u001b[0m\u001b[0;34m(\u001b[0m\u001b[0;36m4\u001b[0m\u001b[0;34m,\u001b[0m\u001b[0mvocab_size\u001b[0m\u001b[0;34m)\u001b[0m\u001b[0;34m:\u001b[0m\u001b[0;34m\u001b[0m\u001b[0;34m\u001b[0m\u001b[0m\n\u001b[1;32m     11\u001b[0m     \u001b[0mf\u001b[0m\u001b[0;34m.\u001b[0m\u001b[0mwrite\u001b[0m\u001b[0;34m(\u001b[0m\u001b[0;34m'{} {}\\n'\u001b[0m\u001b[0;34m.\u001b[0m\u001b[0mformat\u001b[0m\u001b[0;34m(\u001b[0m\u001b[0mindex_to_word\u001b[0m\u001b[0;34m[\u001b[0m\u001b[0mi\u001b[0m\u001b[0;34m]\u001b[0m\u001b[0;34m,\u001b[0m \u001b[0;34m' '\u001b[0m\u001b[0;34m.\u001b[0m\u001b[0mjoin\u001b[0m\u001b[0;34m(\u001b[0m\u001b[0mmap\u001b[0m\u001b[0;34m(\u001b[0m\u001b[0mstr\u001b[0m\u001b[0;34m,\u001b[0m \u001b[0mlist\u001b[0m\u001b[0;34m(\u001b[0m\u001b[0mvectors\u001b[0m\u001b[0;34m[\u001b[0m\u001b[0mi\u001b[0m\u001b[0;34m,\u001b[0m \u001b[0;34m:\u001b[0m\u001b[0;34m]\u001b[0m\u001b[0;34m)\u001b[0m\u001b[0;34m)\u001b[0m\u001b[0;34m)\u001b[0m\u001b[0;34m)\u001b[0m\u001b[0;34m)\u001b[0m\u001b[0;34m\u001b[0m\u001b[0;34m\u001b[0m\u001b[0m\n",
      "\u001b[0;31mNameError\u001b[0m: name 'model' is not defined"
     ]
    }
   ],
   "source": [
    "import os\n",
    "\n",
    "# 학습한 Embedding 파라미터를 파일에 써서 저장합니다. \n",
    "word2vec_file_path = os.getenv('HOME')+'/aiffel/sentiment_classification/word2vec.txt'\n",
    "f = open(word2vec_file_path, 'w')\n",
    "f.write('{} {}\\n'.format(vocab_size-4, word_vector_dim))  # 몇개의 벡터를 얼마 사이즈로 기재할지 타이틀을 씁니다.\n",
    "\n",
    "# 단어 개수(에서 특수문자 4개는 제외하고)만큼의 워드 벡터를 파일에 기록합니다. \n",
    "vectors = model.get_weights()[0]\n",
    "for i in range(4,vocab_size):\n",
    "    f.write('{} {}\\n'.format(index_to_word[i], ' '.join(map(str, list(vectors[i, :])))))\n",
    "f.close()"
   ]
  },
  {
   "cell_type": "code",
   "execution_count": 30,
   "metadata": {},
   "outputs": [
    {
     "data": {
      "text/plain": [
       "array([-0.00586249, -0.01583305,  0.01958807, -0.03897187,  0.01405035,\n",
       "       -0.06888697,  0.01341382,  0.03567697,  0.06927241, -0.00341208,\n",
       "       -0.00079158,  0.01316665,  0.01833537,  0.05516416,  0.04834705,\n",
       "       -0.01619362], dtype=float32)"
      ]
     },
     "execution_count": 30,
     "metadata": {},
     "output_type": "execute_result"
    }
   ],
   "source": [
    "#!pip install gensim\n",
    "from gensim.models.keyedvectors import Word2VecKeyedVectors\n",
    "\n",
    "word_vectors = Word2VecKeyedVectors.load_word2vec_format(word2vec_file_path, binary=False)\n",
    "vector = word_vectors['computer']\n",
    "vector"
   ]
  },
  {
   "cell_type": "code",
   "execution_count": 31,
   "metadata": {},
   "outputs": [
    {
     "data": {
      "text/plain": [
       "[('comment', 0.9544352293014526),\n",
       " ('events', 0.9378311038017273),\n",
       " ('seemed', 0.9371362328529358),\n",
       " ('portrayal', 0.9348063468933105),\n",
       " ('genuine', 0.9278603792190552),\n",
       " ('great', 0.9255738258361816),\n",
       " ('chemistry', 0.9219061732292175),\n",
       " ('chris', 0.9213999509811401),\n",
       " ('harry', 0.9198406934738159),\n",
       " ('counter', 0.9165128469467163)]"
      ]
     },
     "execution_count": 31,
     "metadata": {},
     "output_type": "execute_result"
    }
   ],
   "source": [
    "word_vectors.similar_by_word(\"love\")"
   ]
  },
  {
   "cell_type": "code",
   "execution_count": 20,
   "metadata": {},
   "outputs": [
    {
     "data": {
      "text/plain": [
       "array([ 1.07421875e-01, -2.01171875e-01,  1.23046875e-01,  2.11914062e-01,\n",
       "       -9.13085938e-02,  2.16796875e-01, -1.31835938e-01,  8.30078125e-02,\n",
       "        2.02148438e-01,  4.78515625e-02,  3.66210938e-02, -2.45361328e-02,\n",
       "        2.39257812e-02, -1.60156250e-01, -2.61230469e-02,  9.71679688e-02,\n",
       "       -6.34765625e-02,  1.84570312e-01,  1.70898438e-01, -1.63085938e-01,\n",
       "       -1.09375000e-01,  1.49414062e-01, -4.65393066e-04,  9.61914062e-02,\n",
       "        1.68945312e-01,  2.60925293e-03,  8.93554688e-02,  6.49414062e-02,\n",
       "        3.56445312e-02, -6.93359375e-02, -1.46484375e-01, -1.21093750e-01,\n",
       "       -2.27539062e-01,  2.45361328e-02, -1.24511719e-01, -3.18359375e-01,\n",
       "       -2.20703125e-01,  1.30859375e-01,  3.66210938e-02, -3.63769531e-02,\n",
       "       -1.13281250e-01,  1.95312500e-01,  9.76562500e-02,  1.26953125e-01,\n",
       "        6.59179688e-02,  6.93359375e-02,  1.02539062e-02,  1.75781250e-01,\n",
       "       -1.68945312e-01,  1.21307373e-03, -2.98828125e-01, -1.15234375e-01,\n",
       "        5.66406250e-02, -1.77734375e-01, -2.08984375e-01,  1.76757812e-01,\n",
       "        2.38037109e-02, -2.57812500e-01, -4.46777344e-02,  1.88476562e-01,\n",
       "        5.51757812e-02,  5.02929688e-02, -1.06933594e-01,  1.89453125e-01,\n",
       "       -1.16210938e-01,  8.49609375e-02, -1.71875000e-01,  2.45117188e-01,\n",
       "       -1.73828125e-01, -8.30078125e-03,  4.56542969e-02, -1.61132812e-02,\n",
       "        1.86523438e-01, -6.05468750e-02, -4.17480469e-02,  1.82617188e-01,\n",
       "        2.20703125e-01, -1.22558594e-01, -2.55126953e-02, -3.08593750e-01,\n",
       "        9.13085938e-02,  1.60156250e-01,  1.70898438e-01,  1.19628906e-01,\n",
       "        7.08007812e-02, -2.64892578e-02, -3.08837891e-02,  4.06250000e-01,\n",
       "       -1.01562500e-01,  5.71289062e-02, -7.26318359e-03, -9.17968750e-02,\n",
       "       -1.50390625e-01, -2.55859375e-01,  2.16796875e-01, -3.63769531e-02,\n",
       "        2.24609375e-01,  8.00781250e-02,  1.56250000e-01,  5.27343750e-02,\n",
       "        1.50390625e-01, -1.14746094e-01, -8.64257812e-02,  1.19140625e-01,\n",
       "       -7.17773438e-02,  2.73437500e-01, -1.64062500e-01,  7.29370117e-03,\n",
       "        4.21875000e-01, -1.12792969e-01, -1.35742188e-01, -1.31835938e-01,\n",
       "       -1.37695312e-01, -7.66601562e-02,  6.25000000e-02,  4.98046875e-02,\n",
       "       -1.91406250e-01, -6.03027344e-02,  2.27539062e-01,  5.88378906e-02,\n",
       "       -3.24218750e-01,  5.41992188e-02, -1.35742188e-01,  8.17871094e-03,\n",
       "       -5.24902344e-02, -1.74713135e-03, -9.81445312e-02, -2.86865234e-02,\n",
       "        3.61328125e-02,  2.15820312e-01,  5.98144531e-02, -3.08593750e-01,\n",
       "       -2.27539062e-01,  2.61718750e-01,  9.86328125e-02, -5.07812500e-02,\n",
       "        1.78222656e-02,  1.31835938e-01, -5.35156250e-01, -1.81640625e-01,\n",
       "        1.38671875e-01, -3.10546875e-01, -9.71679688e-02,  1.31835938e-01,\n",
       "       -1.16210938e-01,  7.03125000e-02,  2.85156250e-01,  3.51562500e-02,\n",
       "       -1.01562500e-01, -3.75976562e-02,  1.41601562e-01,  1.42578125e-01,\n",
       "       -5.68847656e-02,  2.65625000e-01, -2.09960938e-01,  9.64355469e-03,\n",
       "       -6.68945312e-02, -4.83398438e-02, -6.10351562e-02,  2.45117188e-01,\n",
       "       -9.66796875e-02,  1.78222656e-02, -1.27929688e-01, -4.78515625e-02,\n",
       "       -7.26318359e-03,  1.79687500e-01,  2.78320312e-02, -2.10937500e-01,\n",
       "       -1.43554688e-01, -1.27929688e-01,  1.73339844e-02, -3.60107422e-03,\n",
       "       -2.04101562e-01,  3.63159180e-03, -1.19628906e-01, -6.15234375e-02,\n",
       "        5.93261719e-02, -3.23486328e-03, -1.70898438e-01, -3.14941406e-02,\n",
       "       -8.88671875e-02, -2.89062500e-01,  3.44238281e-02, -1.87500000e-01,\n",
       "        2.94921875e-01,  1.58203125e-01, -1.19628906e-01,  7.61718750e-02,\n",
       "        6.39648438e-02, -4.68750000e-02, -6.83593750e-02,  1.21459961e-02,\n",
       "       -1.44531250e-01,  4.54101562e-02,  3.68652344e-02,  3.88671875e-01,\n",
       "        1.45507812e-01, -2.55859375e-01, -4.46777344e-02, -1.33789062e-01,\n",
       "       -1.38671875e-01,  6.59179688e-02,  1.37695312e-01,  1.14746094e-01,\n",
       "        2.03125000e-01, -4.78515625e-02,  1.80664062e-02, -8.54492188e-02,\n",
       "       -2.48046875e-01, -3.39843750e-01, -2.83203125e-02,  1.05468750e-01,\n",
       "       -2.14843750e-01, -8.74023438e-02,  7.12890625e-02,  1.87500000e-01,\n",
       "       -1.12304688e-01,  2.73437500e-01, -3.26171875e-01, -1.77734375e-01,\n",
       "       -4.24804688e-02, -2.69531250e-01,  6.64062500e-02, -6.88476562e-02,\n",
       "       -1.99218750e-01, -7.03125000e-02, -2.43164062e-01, -3.66210938e-02,\n",
       "       -7.37304688e-02, -1.77734375e-01,  9.17968750e-02, -1.25000000e-01,\n",
       "       -1.65039062e-01, -3.57421875e-01, -2.85156250e-01, -1.66992188e-01,\n",
       "        1.97265625e-01, -1.53320312e-01,  2.31933594e-02,  2.06054688e-01,\n",
       "        1.80664062e-01, -2.74658203e-02, -1.92382812e-01, -9.61914062e-02,\n",
       "       -1.06811523e-02, -4.73632812e-02,  6.54296875e-02, -1.25732422e-02,\n",
       "        1.78222656e-02, -8.00781250e-02, -2.59765625e-01,  9.37500000e-02,\n",
       "       -7.81250000e-02,  4.68750000e-02, -2.22167969e-02,  1.86767578e-02,\n",
       "        3.11279297e-02,  1.04980469e-02, -1.69921875e-01,  2.58789062e-02,\n",
       "       -3.41796875e-02, -1.44042969e-02, -5.46875000e-02, -8.78906250e-02,\n",
       "        1.96838379e-03,  2.23632812e-01, -1.36718750e-01,  1.75781250e-01,\n",
       "       -1.63085938e-01,  1.87500000e-01,  3.44238281e-02, -5.63964844e-02,\n",
       "       -2.27689743e-05,  4.27246094e-02,  5.81054688e-02, -1.07910156e-01,\n",
       "       -3.88183594e-02, -2.69531250e-01,  3.34472656e-02,  9.81445312e-02,\n",
       "        5.63964844e-02,  2.23632812e-01, -5.49316406e-02,  1.46484375e-01,\n",
       "        5.93261719e-02, -2.19726562e-01,  6.39648438e-02,  1.66015625e-02,\n",
       "        4.56542969e-02,  3.26171875e-01, -3.80859375e-01,  1.70898438e-01,\n",
       "        5.66406250e-02, -1.04492188e-01,  1.38671875e-01, -1.57226562e-01,\n",
       "        3.23486328e-03, -4.80957031e-02, -2.48046875e-01, -6.20117188e-02],\n",
       "      dtype=float32)"
      ]
     },
     "execution_count": 20,
     "metadata": {},
     "output_type": "execute_result"
    }
   ],
   "source": [
    "import os\n",
    "from gensim.models import KeyedVectors\n",
    "word2vec_path = os.getenv('HOME')+'/aiffel/sentiment_classification/GoogleNews-vectors-negative300.bin.gz'\n",
    "word2vec = KeyedVectors.load_word2vec_format(word2vec_path, binary=True)\n",
    "vector = word2vec['computer']\n",
    "vector     # 무려 300dim의 워드 벡터입니다."
   ]
  },
  {
   "cell_type": "code",
   "execution_count": 21,
   "metadata": {},
   "outputs": [
    {
     "data": {
      "text/plain": [
       "(3000000, 300)"
      ]
     },
     "execution_count": 21,
     "metadata": {},
     "output_type": "execute_result"
    }
   ],
   "source": [
    "word2vec.vectors.shape"
   ]
  },
  {
   "cell_type": "code",
   "execution_count": 22,
   "metadata": {},
   "outputs": [],
   "source": [
    "# word2vec.similar_by_word(\"love\") # 커널 다운됨"
   ]
  },
  {
   "cell_type": "code",
   "execution_count": 23,
   "metadata": {},
   "outputs": [],
   "source": [
    "import numpy as np\n",
    "vocab_size = 10000    # 어휘 사전의 크기입니다(10,000개의 단어)\n",
    "word_vector_dim = 300  # 워드 벡터의 차원수 (변경가능한 하이퍼파라미터)\n",
    "\n",
    "embedding_matrix = np.random.rand(vocab_size, word_vector_dim)\n",
    "\n",
    "# embedding_matrix에 Word2Vec 워드벡터를 단어 하나씩마다 차례차례 카피한다.\n",
    "for i in range(4,vocab_size):\n",
    "    if index_to_word[i] in word2vec:\n",
    "        embedding_matrix[i] = word2vec[index_to_word[i]]"
   ]
  },
  {
   "cell_type": "code",
   "execution_count": 36,
   "metadata": {},
   "outputs": [
    {
     "name": "stdout",
     "output_type": "stream",
     "text": [
      "Model: \"sequential_4\"\n",
      "_________________________________________________________________\n",
      "Layer (type)                 Output Shape              Param #   \n",
      "=================================================================\n",
      "embedding_5 (Embedding)      (None, 580, 300)          3000000   \n",
      "_________________________________________________________________\n",
      "conv1d_2 (Conv1D)            (None, 574, 16)           33616     \n",
      "_________________________________________________________________\n",
      "max_pooling1d_1 (MaxPooling1 (None, 114, 16)           0         \n",
      "_________________________________________________________________\n",
      "conv1d_3 (Conv1D)            (None, 108, 16)           1808      \n",
      "_________________________________________________________________\n",
      "global_max_pooling1d_2 (Glob (None, 16)                0         \n",
      "_________________________________________________________________\n",
      "dense_8 (Dense)              (None, 8)                 136       \n",
      "_________________________________________________________________\n",
      "dense_9 (Dense)              (None, 1)                 9         \n",
      "=================================================================\n",
      "Total params: 3,035,569\n",
      "Trainable params: 3,035,569\n",
      "Non-trainable params: 0\n",
      "_________________________________________________________________\n"
     ]
    }
   ],
   "source": [
    "from tensorflow import keras\n",
    "from tensorflow.keras.initializers import Constant\n",
    "\n",
    "\n",
    "vocab_size = 10000    # 어휘 사전의 크기입니다(10,000개의 단어)\n",
    "word_vector_dim = 300  # 워드 벡터의 차원수 (변경가능한 하이퍼파라미터)\n",
    "\n",
    "# 모델 구성\n",
    "model = keras.Sequential()\n",
    "model.add(keras.layers.Embedding(vocab_size, \n",
    "                                 word_vector_dim, \n",
    "                                 embeddings_initializer=Constant(embedding_matrix),  # 카피한 임베딩을 여기서 활용\n",
    "                                 input_length=maxlen, \n",
    "                                 trainable=True))   # trainable을 True로 주면 Fine-tuning\n",
    "model.add(keras.layers.Conv1D(16, 7, activation='relu'))\n",
    "model.add(keras.layers.MaxPooling1D(5))\n",
    "model.add(keras.layers.Conv1D(16, 7, activation='relu'))\n",
    "model.add(keras.layers.GlobalMaxPooling1D())\n",
    "model.add(keras.layers.Dense(8, activation='relu'))\n",
    "model.add(keras.layers.Dense(1, activation='sigmoid')) \n",
    "\n",
    "model.summary()"
   ]
  },
  {
   "cell_type": "code",
   "execution_count": 37,
   "metadata": {},
   "outputs": [
    {
     "name": "stdout",
     "output_type": "stream",
     "text": [
      "Epoch 1/20\n",
      "30/30 [==============================] - 24s 789ms/step - loss: 0.6911 - accuracy: 0.5389 - val_loss: 0.6734 - val_accuracy: 0.5876\n",
      "Epoch 2/20\n",
      "30/30 [==============================] - 6s 202ms/step - loss: 0.6310 - accuracy: 0.6573 - val_loss: 0.6021 - val_accuracy: 0.6798\n",
      "Epoch 3/20\n",
      "30/30 [==============================] - 6s 202ms/step - loss: 0.4870 - accuracy: 0.7887 - val_loss: 0.4168 - val_accuracy: 0.8275\n",
      "Epoch 4/20\n",
      "30/30 [==============================] - 6s 216ms/step - loss: 0.3248 - accuracy: 0.8727 - val_loss: 0.3356 - val_accuracy: 0.8619\n",
      "Epoch 5/20\n",
      "30/30 [==============================] - 6s 209ms/step - loss: 0.2331 - accuracy: 0.9135 - val_loss: 0.3114 - val_accuracy: 0.8670\n",
      "Epoch 6/20\n",
      "30/30 [==============================] - 6s 204ms/step - loss: 0.1677 - accuracy: 0.9459 - val_loss: 0.3029 - val_accuracy: 0.8738\n",
      "Epoch 7/20\n",
      "30/30 [==============================] - 6s 206ms/step - loss: 0.1259 - accuracy: 0.9645 - val_loss: 0.3610 - val_accuracy: 0.8527\n",
      "Epoch 8/20\n",
      "30/30 [==============================] - 7s 220ms/step - loss: 0.1044 - accuracy: 0.9718 - val_loss: 0.3128 - val_accuracy: 0.8747\n",
      "Epoch 9/20\n",
      "30/30 [==============================] - 6s 216ms/step - loss: 0.0661 - accuracy: 0.9879 - val_loss: 0.3216 - val_accuracy: 0.8749\n",
      "Epoch 10/20\n",
      "30/30 [==============================] - 6s 208ms/step - loss: 0.0460 - accuracy: 0.9949 - val_loss: 0.3327 - val_accuracy: 0.8760\n",
      "Epoch 11/20\n",
      "30/30 [==============================] - 6s 201ms/step - loss: 0.0331 - accuracy: 0.9975 - val_loss: 0.3466 - val_accuracy: 0.8744\n",
      "Epoch 12/20\n",
      "30/30 [==============================] - 6s 200ms/step - loss: 0.0239 - accuracy: 0.9986 - val_loss: 0.3588 - val_accuracy: 0.8758\n",
      "Epoch 13/20\n",
      "30/30 [==============================] - 6s 203ms/step - loss: 0.0178 - accuracy: 0.9991 - val_loss: 0.3731 - val_accuracy: 0.8751\n",
      "Epoch 14/20\n",
      "30/30 [==============================] - 6s 200ms/step - loss: 0.0136 - accuracy: 0.9993 - val_loss: 0.3862 - val_accuracy: 0.8735\n",
      "Epoch 15/20\n",
      "30/30 [==============================] - 6s 210ms/step - loss: 0.0105 - accuracy: 0.9996 - val_loss: 0.3953 - val_accuracy: 0.8737\n",
      "Epoch 16/20\n",
      "30/30 [==============================] - 6s 204ms/step - loss: 0.0083 - accuracy: 0.9997 - val_loss: 0.4110 - val_accuracy: 0.8717\n",
      "Epoch 17/20\n",
      "30/30 [==============================] - 6s 208ms/step - loss: 0.0066 - accuracy: 0.9999 - val_loss: 0.4202 - val_accuracy: 0.8722\n",
      "Epoch 18/20\n",
      "30/30 [==============================] - 6s 214ms/step - loss: 0.0052 - accuracy: 0.9999 - val_loss: 0.4289 - val_accuracy: 0.8732\n",
      "Epoch 19/20\n",
      "30/30 [==============================] - 6s 215ms/step - loss: 0.0043 - accuracy: 0.9999 - val_loss: 0.4387 - val_accuracy: 0.8730\n",
      "Epoch 20/20\n",
      "30/30 [==============================] - 6s 213ms/step - loss: 0.0036 - accuracy: 0.9999 - val_loss: 0.4467 - val_accuracy: 0.8728\n"
     ]
    }
   ],
   "source": [
    "# 학습의 진행\n",
    "model.compile(optimizer='adam',\n",
    "              loss='binary_crossentropy',\n",
    "              metrics=['accuracy'])\n",
    "              \n",
    "epochs=20  # 몇 epoch를 훈련하면 좋을지 결과를 보면서 바꾸어 봅시다. \n",
    "\n",
    "history = model.fit(partial_x_train,\n",
    "                    partial_y_train,\n",
    "                    epochs=epochs,\n",
    "                    batch_size=512,\n",
    "                    validation_data=(x_val, y_val),\n",
    "                    verbose=1)"
   ]
  },
  {
   "cell_type": "code",
   "execution_count": 38,
   "metadata": {},
   "outputs": [
    {
     "name": "stdout",
     "output_type": "stream",
     "text": [
      "782/782 - 9s - loss: 0.4769 - accuracy: 0.8654\n",
      "[0.47687262296676636, 0.8653600215911865]\n"
     ]
    }
   ],
   "source": [
    "# 테스트셋을 통한 모델 평가\n",
    "results = model.evaluate(x_test,  y_test, verbose=2)\n",
    "\n",
    "print(results)"
   ]
  },
  {
   "cell_type": "markdown",
   "metadata": {},
   "source": [
    "## 네이버 영화리뷰 감성분석 도전하기"
   ]
  },
  {
   "cell_type": "markdown",
   "metadata": {},
   "source": [
    "### 1) 데이터 준비 및 확인"
   ]
  },
  {
   "cell_type": "code",
   "execution_count": 1,
   "metadata": {},
   "outputs": [
    {
     "data": {
      "text/html": [
       "<div>\n",
       "<style scoped>\n",
       "    .dataframe tbody tr th:only-of-type {\n",
       "        vertical-align: middle;\n",
       "    }\n",
       "\n",
       "    .dataframe tbody tr th {\n",
       "        vertical-align: top;\n",
       "    }\n",
       "\n",
       "    .dataframe thead th {\n",
       "        text-align: right;\n",
       "    }\n",
       "</style>\n",
       "<table border=\"1\" class=\"dataframe\">\n",
       "  <thead>\n",
       "    <tr style=\"text-align: right;\">\n",
       "      <th></th>\n",
       "      <th>id</th>\n",
       "      <th>document</th>\n",
       "      <th>label</th>\n",
       "    </tr>\n",
       "  </thead>\n",
       "  <tbody>\n",
       "    <tr>\n",
       "      <th>0</th>\n",
       "      <td>9976970</td>\n",
       "      <td>아 더빙.. 진짜 짜증나네요 목소리</td>\n",
       "      <td>0</td>\n",
       "    </tr>\n",
       "    <tr>\n",
       "      <th>1</th>\n",
       "      <td>3819312</td>\n",
       "      <td>흠...포스터보고 초딩영화줄....오버연기조차 가볍지 않구나</td>\n",
       "      <td>1</td>\n",
       "    </tr>\n",
       "    <tr>\n",
       "      <th>2</th>\n",
       "      <td>10265843</td>\n",
       "      <td>너무재밓었다그래서보는것을추천한다</td>\n",
       "      <td>0</td>\n",
       "    </tr>\n",
       "    <tr>\n",
       "      <th>3</th>\n",
       "      <td>9045019</td>\n",
       "      <td>교도소 이야기구먼 ..솔직히 재미는 없다..평점 조정</td>\n",
       "      <td>0</td>\n",
       "    </tr>\n",
       "    <tr>\n",
       "      <th>4</th>\n",
       "      <td>6483659</td>\n",
       "      <td>사이몬페그의 익살스런 연기가 돋보였던 영화!스파이더맨에서 늙어보이기만 했던 커스틴 ...</td>\n",
       "      <td>1</td>\n",
       "    </tr>\n",
       "  </tbody>\n",
       "</table>\n",
       "</div>"
      ],
      "text/plain": [
       "         id                                           document  label\n",
       "0   9976970                                아 더빙.. 진짜 짜증나네요 목소리      0\n",
       "1   3819312                  흠...포스터보고 초딩영화줄....오버연기조차 가볍지 않구나      1\n",
       "2  10265843                                  너무재밓었다그래서보는것을추천한다      0\n",
       "3   9045019                      교도소 이야기구먼 ..솔직히 재미는 없다..평점 조정      0\n",
       "4   6483659  사이몬페그의 익살스런 연기가 돋보였던 영화!스파이더맨에서 늙어보이기만 했던 커스틴 ...      1"
      ]
     },
     "execution_count": 1,
     "metadata": {},
     "output_type": "execute_result"
    }
   ],
   "source": [
    "import pandas as pd\n",
    "import urllib.request\n",
    "%matplotlib inline\n",
    "import matplotlib.pyplot as plt\n",
    "import re\n",
    "from konlpy.tag import Okt\n",
    "import tensorflow as tf\n",
    "from tensorflow import keras\n",
    "from tensorflow.keras.preprocessing.text import Tokenizer\n",
    "import numpy as np\n",
    "from tensorflow.keras.preprocessing.sequence import pad_sequences\n",
    "from collections import Counter\n",
    "\n",
    "# 데이터를 읽어봅시다. \n",
    "train_data = pd.read_table('~/aiffel/sentiment_classification/ratings_train.txt')\n",
    "test_data = pd.read_table('~/aiffel/sentiment_classification/ratings_test.txt')\n",
    "\n",
    "train_data.head()"
   ]
  },
  {
   "cell_type": "markdown",
   "metadata": {},
   "source": [
    "### 2) 데이터로더 구성"
   ]
  },
  {
   "cell_type": "code",
   "execution_count": null,
   "metadata": {},
   "outputs": [],
   "source": [
    "from konlpy.tag import Mecab\n",
    "tokenizer = Okt()\n",
    "stopwords = ['의','가','이','은','들','는','좀','잘','걍','과','도','를','을','다','.','으로','자','에','게','에게','와','한','하다']\n",
    "\n",
    "def load_data(train_data, test_data, num_words=10000):\n",
    "    train_data.drop_duplicates(subset=['document'], inplace=True)\n",
    "    train_data = train_data.dropna(how = 'any') \n",
    "    test_data.drop_duplicates(subset=['document'], inplace=True)\n",
    "    test_data = test_data.dropna(how = 'any') \n",
    "\n",
    "    X_train = []\n",
    "    for sentence in train_data['document']:\n",
    "        temp_X = tokenizer.morphs(sentence) # 토큰화\n",
    "        temp_X = [word for word in temp_X if not word in stopwords] # 불용어 제거\n",
    "        X_train.append(temp_X)\n",
    "\n",
    "    X_test = []\n",
    "    for sentence in test_data['document']:\n",
    "        temp_X = tokenizer.morphs(sentence) # 토큰화\n",
    "        temp_X = [word for word in temp_X if not word in stopwords] # 불용어 제거\n",
    "        X_test.append(temp_X)\n",
    "\n",
    "    words = np.concatenate(X_train).tolist()\n",
    "    counter = Counter(words)\n",
    "    counter = counter.most_common(10000-4)\n",
    "    vocab = ['<PAD>', '<BOS>', '<UNK>', '<UNUSED>'] + [key for key, _ in counter]\n",
    "    word_to_index = {word:index for index, word in enumerate(vocab)}\n",
    "\n",
    "    def wordlist_to_indexlist(wordlist):\n",
    "        return [word_to_index[word] if word in word_to_index else word_to_index['<UNK>'] for word in wordlist]\n",
    "\n",
    "    X_train = list(map(wordlist_to_indexlist, X_train))\n",
    "    X_test = list(map(wordlist_to_indexlist, X_test))\n",
    "\n",
    "    return X_train, np.array(list(train_data['label'])), X_test, np.array(list(test_data['label'])), word_to_index\n",
    "\n",
    "X_train, y_train, X_test, y_test, word_to_index = load_data(train_data, test_data)"
   ]
  },
  {
   "cell_type": "code",
   "execution_count": 19,
   "metadata": {},
   "outputs": [],
   "source": [
    "index_to_word = {index:word for word, index in word_to_index.items()}"
   ]
  },
  {
   "cell_type": "code",
   "execution_count": 2,
   "metadata": {},
   "outputs": [],
   "source": [
    "# 문장 1개를 활용할 딕셔너리와 함께 주면, 단어 인덱스 리스트 벡터로 변환해 주는 함수입니다. \n",
    "# 단, 모든 문장은 <BOS>로 시작하는 것으로 합니다. \n",
    "def get_encoded_sentence(sentence, word_to_index):\n",
    "    return [word_to_index['<BOS>']]+[word_to_index[word] if word in word_to_index else word_to_index['<UNK>'] for word in sentence.split()]\n",
    "\n",
    "# 여러 개의 문장 리스트를 한꺼번에 단어 인덱스 리스트 벡터로 encode해 주는 함수입니다. \n",
    "def get_encoded_sentences(sentences, word_to_index):\n",
    "    return [get_encoded_sentence(sentence, word_to_index) for sentence in sentences]\n",
    "\n",
    "# 숫자 벡터로 encode된 문장을 원래대로 decode하는 함수입니다. \n",
    "def get_decoded_sentence(encoded_sentence, index_to_word):\n",
    "    return ' '.join(index_to_word[index] if index in index_to_word else '<UNK>' for index in encoded_sentence[1:])  #[1:]를 통해 <BOS>를 제외\n",
    "\n",
    "# 여러개의 숫자 벡터로 encode된 문장을 한꺼번에 원래대로 decode하는 함수입니다. \n",
    "def get_decoded_sentences(encoded_sentences, index_to_word):\n",
    "    return [get_decoded_sentence(encoded_sentence, index_to_word) for encoded_sentence in encoded_sentences]"
   ]
  },
  {
   "cell_type": "code",
   "execution_count": 21,
   "metadata": {},
   "outputs": [
    {
     "name": "stdout",
     "output_type": "stream",
     "text": [
      "{'<PAD>': 0, '<BOS>': 1, '<UNK>': 2, '<UNUSED>': 3, '영화': 4, '..': 5, '...': 6, ',': 7, '너무': 8, '?': 9, '정말': 10, '적': 11, '만': 12, '진짜': 13, '!': 14, '로': 15, '점': 16, '에서': 17, '연기': 18, '것': 19, '평점': 20, '내': 21, '~': 22, '최고': 23, '나': 24, '그': 25, '안': 26, '인': 27, '이런': 28, '스토리': 29, '생각': 30, '못': 31, '....': 32, '왜': 33, '드라마': 34, '이다': 35, '감동': 36, '사람': 37, '하는': 38, '1': 39, '보고': 40, '하고': 41, '말': 42, '고': 43, '더': 44, '아': 45, '때': 46, '배우': 47, 'ㅋㅋ': 48, '거': 49, '감독': 50, '그냥': 51, '요': 52, '본': 53, '내용': 54, '재미': 55, '중': 56, '뭐': 57, '까지': 58, '!!': 59, '보다': 60, '없는': 61, '시간': 62, '수': 63, '쓰레기': 64, '지': 65, '네': 66, '봤는데': 67, '작품': 68, '10': 69, '사랑': 70, '할': 71, '없다': 72, '하나': 73, '다시': 74, '볼': 75, '마지막': 76, '이건': 77, '좋은': 78, 'ㅋ': 79, '저': 80, '정도': 81, '같은': 82, '입니다': 83, '완전': 84, '있는': 85, '2': 86, 'ㅋㅋㅋ': 87, '처음': 88, '장면': 89, '액션': 90, '주인공': 91, '대': 92, '걸': 93, '이렇게': 94, '보는': 95, '개': 96, 'ㅠㅠ': 97, '3': 98, \"'\": 99, '지금': 100, '돈': 101, '최악': 102, '이야기': 103, '참': 104, '임': 105, '봐도': 106, '하': 107, '느낌': 108, '연출': 109, '없고': 110, '라': 111, '끝': 112, '듯': 113, '인데': 114, '명작': 115, '그리고': 116, '별': 117, '별로': 118, '역시': 119, '기': 120, '많이': 121, '난': 122, '서': 123, '이해': 124, '재밌게': 125, '^^': 126, 'ㅡㅡ': 127, '이영화': 128, '면': 129, '라고': 130, '!!!': 131, '보면': 132, '또': 133, '이나': 134, '여자': 135, '때문': 136, '성': 137, '부터': 138, '해서': 139, '꼭': 140, '편': 141, '된': 142, '이고': 143, '보기': 144, '전': 145, '두': 146, '일': 147, '여': 148, '무슨': 149, '기억': 150, '엔': 151, '같다': 152, '결말': 153, '야': 154, '랑': 155, '아깝다': 156, '짱': 157, 'ㅎㅎ': 158, '마음': 159, '인생': 160, '소재': 161, 'ㅠ': 162, '~~': 163, '넘': 164, '애': 165, '님': 166, '없이': 167, '수준': 168, '영': 169, '현실': 170, '해': 171, '씨': 172, '한번': 173, '한다': 174, '속': 175, '가장': 176, '반전': 177, '급': 178, '제': 179, '라는': 180, '전개': 181, '매력': 182, ';;': 183, '함': 184, '??': 185, '남자': 186, '한국': 187, '뿐': 188, '가슴': 189, '되는': 190, '하지만': 191, '하게': 192, '음악': 193, '알': 194, '아이': 195, '다른': 196, '니': 197, '원작': 198, '줄': 199, '만든': 200, '인간': 201, '우리': 202, '추천': 203, '냐': 204, '않고': 205, '눈물': 206, '합니다': 207, '봤다': 208, '인지': 209, '모든': 210, '화': 211, '지만': 212, '번': 213, '자체': 214, '하지': 215, '눈': 216, '인가': 217, '캐릭터': 218, '코미디': 219, '솔직히': 220, '처럼': 221, 'ㅋㅋㅋㅋ': 222, '움': 223, '했다': 224, '뭔가': 225, '대한': 226, '모두': 227, '이상': 228, '전혀': 229, '대박': 230, '좋다': 231, '연기력': 232, '이네': 233, '여운': 234, '그래도': 235, '기대': 236, '있다': 237, '개봉': 238, '근데': 239, '공감': 240, '일본': 241, '중간': 242, '영상': 243, '표현': 244, '아주': 245, '허': 246, ')': 247, '(': 248, '부분': 249, '시리즈': 250, '모습': 251, '그런': 252, '이라': 253, '계속': 254, '에는': 255, '제목': 256, '분': 257, '이랑': 258, '-': 259, '가족': 260, '작': 261, '내내': 262, ';': 263, '후': 264, 'ㅎ': 265, '보지': 266, '뭔': 267, '하면': 268, 'OO': 269, '많은': 270, '재미있게': 271, '진심': 272, '몰입': 273, '실망': 274, '봐': 275, '없음': 276, '건지': 277, '어떻게': 278, '밖에': 279, '기분': 280, '했는데': 281, '나오는': 282, '였다': 283, '작가': 284, 'ㅜㅜ': 285, '재밌다': 286, '위': 287, '이제': 288, '아니다': 289, '건': 290, '\"\"': 291, '보면서': 292, '봤습니다': 293, '않은': 294, ',,': 295, '공포': 296, '요즘': 297, '아니고': 298, '감': 299, '아니라': 300, '스릴러': 301, '이라는': 302, '용': 303, '개인': 304, '긴장감': 305, '잼': 306, 'ㅡ': 307, '대사': 308, '않는': 309, '4': 310, '조금': 311, '굿': 312, '점도': 313, '애니': 314, '이유': 315, '제대로': 316, '삶': 317, '보다가': 318, '아닌': 319, '특히': 320, '알바': 321, '노래': 322, '아까운': 323, '극장': 324, '욕': 325, '딱': 326, '한테': 327, '점수': 328, '시작': 329, '재미없다': 330, '막장': 331, '연': 332, '오랜': 333, '0': 334, '나름': 335, '아름다운': 336, '이란': 337, '시': 338, '.....': 339, '이지': 340, '극': 341, '차라리': 342, '제일': 343, '노잼': 344, '놈': 345, '좋고': 346, '친구': 347, '에도': 348, '당시': 349, '보게': 350, '같이': 351, '영화로': 352, '봤어요': 353, '류': 354, '절대': 355, '보세요': 356, '의미': 357, '있고': 358, '만드는': 359, '세상': 360, '력': 361, '재밌어요': 362, '식': 363, '위해': 364, '싶다': 365, '몇': 366, '뻔한': 367, '아직도': 368, '♥': 369, '이라고': 370, '\"': 371, '도대체': 372, '미국': 373, '해도': 374, '너': 375, '명': 376, '앞': 377, '공포영화': 378, '보니': 379, '오': 380, '웃음': 381, '설정': 382, '무엇': 383, '마다': 384, '7': 385, '나도': 386, '아무': 387, '물': 388, '주고': 389, '수작': 390, '어': 391, '봄': 392, '뭘': 393, '데': 394, '우리나라': 395, '좋아하는': 396, '초반': 397, '남': 398, '출연': 399, '좋았다': 400, '사실': 401, '5': 402, '세': 403, '보는내내': 404, '추억': 405, '엄청': 406, '안되는': 407, '남는': 408, '준다': 409, '이야': 410, '장난': 411, '한국영': 412, '가지': 413, '시나리오': 414, 'OOO': 415, '주는': 416, '된다': 417, '분위기': 418, '관객': 419, '시대': 420, '팬': 421, '지루함': 422, '반': 423, '지루하고': 424, '든': 425, '살': 426, '자신': 427, '소리': 428, '이딴': 429, '봤던': 430, '같아요': 431, '감정': 432, '졸작': 433, '오늘': 434, '접': 435, '영화관': 436, '이지만': 437, '엄마': 438, '엔딩': 439, '주': 440, '결국': 441, '정신': 442, '제발': 443, '좋아요': 444, '인상': 445, '더빙': 446, '포스터': 447, '캐스팅': 448, '준': 449, '최고다': 450, '문제': 451, '평가': 452, '라면': 453, '구': 454, '코믹': 455, '니까': 456, '아무리': 457, '~~~': 458, '얼마나': 459, '될': 460, '엉': 461, '음': 462, '신': 463, '함께': 464, '그저': 465, '애니메이션': 466, '멋진': 467, '어떤': 468, '몰입도': 469, '!!!!': 470, '봐서': 471, '했던': 472, '어릴': 473, '티비': 474, '배경': 475, '뒤': 476, '강추': 477, '8': 478, '대해': 479, '첨': 480, '괜찮은': 481, '킬링타임': 482, '맘': 483, '스릴': 484, '같은데': 485, '충격': 486, '개연': 487, '만화': 488, '질': 489, '건가': 490, '전쟁': 491, '아니': 492, '책': 493, '얘기': 494, '구성': 495, '머리': 496, 'ㅜ': 497, '그렇게': 498, '예술': 499, '갈수록': 500, '보단': 501, '매우': 502, '머': 503, '싶은': 504, '얼굴': 505, '웃기': 506, '하면서': 507, '후회': 508, '이름': 509, '울': 510, '까': 511, '재밌음': 512, '기도': 513, '재밌는': 514, '큰': 515, '어디': 516, '너무나': 517, '옛날': 518, '9': 519, '영화인': 520, '나온': 521, '집중': 522, '이후': 523, '않는다': 524, '조': 525, '장르': 526, '꽤': 527, '집': 528, '지루한': 529, '총': 530, '하는데': 531, '봐라': 532, '주연': 533, '날': 534, '만들어': 535, '그래서': 536, '억지': 537, '원': 538, '간': 539, '존나': 540, '모르겠다': 541, '다큐': 542, '상황': 543, '진': 544, '누구': 545, '???': 546, '비': 547, '이리': 548, '글': 549, '+': 550, '언제': 551, '짜증': 552, '시즌': 553, '씬': 554, '아직': 555, ',,,': 556, '예전': 557, '보는데': 558, '후반': 559, '다운': 560, '역사': 561, '어느': 562, '먹': 563, 'B': 564, '아님': 565, '누가': 566, '여기': 567, '걸작': 568, '본다': 569, '약간': 570, '마세요': 571, '지루하다': 572, '자기': 573, '실화': 574, '했지만': 575, '상': 576, '소름': 577, '그것': 578, '그나마': 579, '분들': 580, '인물': 581, '발연기': 582, '등': 583, '그대로': 584, '훨씬': 585, '방송': 586, '시절': 587, '재미없음': 588, '봤음': 589, '않다': 590, '부': 591, '~!': 592, '비디오': 593, '할수': 594, '보': 595, '판': 596, '동안': 597, '대체': 598, '재밌고': 599, '아들': 600, '한마디': 601, '다음': 602, '소설': 603, 'CG': 604, '사회': 605, '됨': 606, '간만': 607, '로맨스': 608, '없어': 609, '비교': 610, '아까': 611, '하기': 612, '초딩': 613, '봤지만': 614, '휴': 615, '이었다': 616, '6': 617, '만점': 618, '감성': 619, '네이버': 620, '나와서': 621, '여배우': 622, '전체': 623, '여주': 624, '해야': 625, '없네': 626, '죠': 627, '라도': 628, '꿈': 629, '좋은데': 630, '같음': 631, '코': 632, '나이': 633, '이라도': 634, '성룡': 635, '나라': 636, '편이': 637, ';;;': 638, '만큼': 639, '였습니다': 640, '재': 641, '없었다': 642, '어렸을': 643, '혼자': 644, '순간': 645, '아쉽다': 646, '없어서': 647, '열': 648, '년': 649, '교훈': 650, '삼류': 651, '보다는': 652, '빨리': 653, '가는': 654, '존재': 655, '하네요': 656, '힘': 657, '그만': 658, 'ㅉㅉ': 659, '미친': 660, '주제': 661, '바로': 662, '어설픈': 663, '낸': 664, '목소리': 665, '에요': 666, '......': 667, '진정한': 668, '장': 669, '죽': 670, '거의': 671, '당신': 672, '재밋': 673, '쯤': 674, '말고': 675, '안보': 676, '몇번': 677, '낭비': 678, '질질': 679, '는데': 680, '잔잔한': 681, '짜리': 682, '라니': 683, '줄거리': 684, '상당히': 685, '재미있어요': 686, '딸': 687, '있지만': 688, '되고': 689, '판타지': 690, '점주': 691, '아버지': 692, '좀비': 693, '에선': 694, '이번': 695, '갑자기': 696, '보여주는': 697, '피': 698, '그러나': 699, '의도': 700, '모': 701, '전부': 702, '되어': 703, '좋아': 704, '어른': 705, '상영': 706, '실제': 707, '하며': 708, '소': 709, 'ㅎㅎㅎ': 710, '각본': 711, '시청률': 712, '믿고': 713, '있을까': 714, '제작': 715, '맛': 716, '평론가': 717, '난다': 718, '곳': 719, '으로도': 720, '봤네요': 721, '단': 722, '당': 723, '바': 724, '답': 725, '한편': 726, '땜': 727, '만하': 728, '버린': 729, '화면': 730, '필요': 731, '재미있는': 732, '하네': 733, '비해': 734, '그녀': 735, '히': 736, '사': 737, '같네요': 738, '재밌네요': 739, '극장판': 740, '쳐': 741, '나온다': 742, '재미있다': 743, '막': 744, '간다': 745, '란': 746, '/': 747, '10년': 748, '중국': 749, '대로': 750, '되지': 751, '볼때': 752, '있는데': 753, '세계': 754, '있어서': 755, '에서도': 756, '굉장히': 757, '형': 758, '이하': 759, '밑': 760, '훌륭한': 761, '그런지': 762, '발': 763, '관람': 764, '평': 765, '선': 766, '있어': 767, '저런': 768, '스타일': 769, '참고': 770, '선택': 771, '좋네요': 772, '터': 773, '똥': 774, '복수': 775, '성우': 776, '뻔': 777, '일단': 778, '가치': 779, '요소': 780, 'TV': 781, '둘': 782, '항상': 783, '에서는': 784, '첫': 785, '봐야': 786, '햇': 787, '올': 788, '온': 789, '역': 790, '어디서': 791, '흥행': 792, '그때': 793, '없네요': 794, '해주는': 795, '어린': 796, '모르고': 797, '더욱': 798, '여러': 799, '거기': 800, '래': 801, '치고': 802, '이냐': 803, '슬픈': 804, '라서': 805, '점점': 806, '물론': 807, '였음': 808, '또한': 809, '보는게': 810, '굳': 811, '아빠': 812, '수가': 813, '역대': 814, '편집': 815, '인거': 816, '완성': 817, '어이': 818, '재미없는': 819, '전형': 820, '초': 821, '멜로': 822, '했음': 823, '새': 824, '좋음': 825, 'ㅋㅋㅋㅋㅋ': 826, '상미': 827, '충분히': 828, '드': 829, '짓': 830, 'ㅠㅠㅠ': 831, '술': 832, '화이팅': 833, '씩': 834, '해준': 835, '새로운': 836, '에겐': 837, '이에요': 838, '개그': 839, '거지': 840, '귀': 841, '불륜': 842, '잠': 843, '진행': 844, '알았는데': 845, '엉망': 846, '군': 847, '예상': 848, '중반': 849, '미화': 850, '낫다': 851, '사건': 852, '무': 853, '그게': 854, '~!!': 855, '어쩔': 856, '병맛': 857, '나옴': 858, '있음': 859, '키': 860, '설명': 861, '과거': 862, '만에': 863, '좋겠다': 864, '프랑스': 865, '배': 866, '나오고': 867, '손': 868, '더럽게': 869, '꿀잼': 870, '따': 871, '나올': 872, '도저히': 873, '노력': 874, '흥미진진': 875, '원래': 876, '댓글': 877, '깊은': 878, '그래픽': 879, '티': 880, '-_-': 881, '리': 882, '미': 883, '흥미': 884, '죽음': 885, '취향': 886, '거리': 887, '였어요': 888, '척': 889, '무조건': 890, '몸': 891, '현': 892, '않음': 893, '하는게': 894, '알았다': 895, '있게': 896, '여서': 897, '자극': 898, '화가': 899, '안된다': 900, '한다는': 901, '따뜻한': 902, '화보': 903, '만으로도': 904, '같아': 905, '감상': 906, '새끼': 907, '아닌가': 908, '재밌는데': 909, '관': 910, '학교': 911, '예': 912, '대단한': 913, '아까워': 914, 'ost': 915, '일이': 916, '자꾸': 917, '같습니다': 918, '괜히': 919, '20': 920, '예고편': 921, '오히려': 922, ':': 923, '액션영화': 924, '암': 925, '며': 926, '바보': 927, '심리': 928, '결혼': 929, '억': 930, '흠': 931, '속편': 932, '좋았어요': 933, '게임': 934, '아저씨': 935, '엄청난': 936, '♡': 937, '이래': 938, '잘만': 939, '연기자': 940, '안됨': 941, '만이': 942, '법': 943, '있을': 944, '보이': 945, '마무리': 946, '천재': 947, '관계': 948, '맨': 949, '기대하고': 950, '이라니': 951, '헐': 952, '땐': 953, '재밌었다': 954, 'ㄷㄷ': 955, '양': 956, '억지로': 957, '표정': 958, '귀신': 959, '가서': 960, '되': 961, 'SF': 962, '하는지': 963, '최근': 964, '봤을': 965, '야할': 966, '현재': 967, '전설': 968, '영환': 969, '상상': 970, '높은': 971, '산': 972, '젠': 973, '느끼게': 974, '전편': 975, '꺼': 976, '유치': 977, '드는': 978, '짐': 979, '나쁜': 980, '순': 981, '촬영': 982, '오래': 983, '따라': 984, '아쉬움': 985, '오빠': 986, '완벽한': 987, '다가': 988, '대한민국': 989, '하는거': 990, '조차': 991, '재미있고': 992, '타임': 993, '대작': 994, '우연히': 995, '길': 996, '타': 997, '회': 998, '재미없고': 999, '만의': 1000, '그닥': 1001, '90년': 1002, '묘사': 1003, '메세지': 1004, '엇': 1005, '존': 1006, '스타': 1007, '마': 1008, '일까': 1009, '있었다': 1010, '철학': 1011, '그렇고': 1012, '하하': 1013, '동화': 1014, '프로그램': 1015, '그림': 1016, '지루': 1017, '조연': 1018, '프로': 1019, '동': 1020, '살다': 1021, '2시간': 1022, 'tv': 1023, '예요': 1024, '쓴': 1025, '전달': 1026, '유치한': 1027, '이미': 1028, '역할': 1029, '짜': 1030, '서로': 1031, '>': 1032, '아니면': 1033, '나중': 1034, '전작': 1035, '유머': 1036, '등장': 1037, '소녀': 1038, '경찰': 1039, '그런데': 1040, '지루하지': 1041, '스러운': 1042, '먼저': 1043, '다행': 1044, '모르는': 1045, '볼수': 1046, '정': 1047, '졸라': 1048, 'ㅇ': 1049, '했으면': 1050, '받아': 1051, '마치': 1052, '무비': 1053, '살인': 1054, '먹고': 1055, '다만': 1056, '봣': 1057, '노': 1058, '놔': 1059, '아쉬운': 1060, '주의': 1061, '되었다': 1062, '공': 1063, '힘든': 1064, '유치하고': 1065, '런가': 1066, '이며': 1067, '보이는': 1068, '비슷한': 1069, '특유': 1070, '100': 1071, '망작': 1072, '하냐': 1073, '통해': 1074, '행동': 1075, '환상': 1076, '아니지만': 1077, '않았다': 1078, '아닐까': 1079, '인정': 1080, '이면': 1081, '맞는': 1082, '입': 1083, '사이': 1084, '바람': 1085, '노출': 1086, '관심': 1087, '미래': 1088, '예산': 1089, '청춘': 1090, '으': 1091, '해요': 1092, '같아서': 1093, '안되고': 1094, '만들지': 1095, '군대': 1096, '리메이크': 1097, '왕': 1098, 'D': 1099, '깊이': 1100, '재밌었어요': 1101, '안나': 1102, '비추': 1103, '지난': 1104, '왠지': 1105, '좋았음': 1106, '감사합니다': 1107, '께': 1108, 'ㅅㅂ': 1109, '보시길': 1110, '반개': 1111, '느낄': 1112, '제작비': 1113, '돼': 1114, '보고나서': 1115, '80년': 1116, '영웅': 1117, '효과': 1118, '봤으면': 1119, '있나': 1120, '아닌데': 1121, 'OST': 1122, '좋았고': 1123, '보고싶다': 1124, '긴': 1125, '생': 1126, '화려한': 1127, '용도': 1128, '손발': 1129, '진부한': 1130, '좋았습니다': 1131, '외': 1132, '생애': 1133, '.......': 1134, '지루해': 1135, '얼': 1136, '너무나도': 1137, '대의': 1138, '케이블': 1139, '평생': 1140, '시도': 1141, '만들': 1142, '이상한': 1143, '과정': 1144, '엿': 1145, '이런거': 1146, '재미없어': 1147, '채널': 1148, '봤었는데': 1149, '범인': 1150, '희망': 1151, '만들었다': 1152, '강': 1153, '싫다': 1154, '형님': 1155, '버렸다': 1156, '빼고': 1157, '나왔으면': 1158, '능력': 1159, '상상력': 1160, '좋았는데': 1161, '대단하다': 1162, '가끔': 1163, '재밌어': 1164, '이런게': 1165, '스케일': 1166, '미소': 1167, '였는데': 1168, '그리': 1169, '카메라': 1170, '결론': 1171, '다소': 1172, '필요없다': 1173, '광고': 1174, '독립영화': 1175, '저렇게': 1176, '없을': 1177, '체': 1178, '낮은': 1179, 'cg': 1180, '낚': 1181, '않게': 1182, '확실히': 1183, '대안': 1184, '^': 1185, '대충': 1186, '자막': 1187, '잘못': 1188, '메시지': 1189, '그래': 1190, '계': 1191, '나와': 1192, '보고싶은': 1193, '언니': 1194, '한계': 1195, '있다면': 1196, '약': 1197, '든다': 1198, '차': 1199, '나를': 1200, '고민': 1201, '여성': 1202, '부족': 1203, '어이없는': 1204, '슬픔': 1205, '없나': 1206, '부족한': 1207, '되게': 1208, '재미있음': 1209, '고생': 1210, '으로는': 1211, '메디': 1212, '봤다가': 1213, '<': 1214, '의리': 1215, '않아': 1216, '\"\"\"': 1217, '있다는': 1218, '귀여운': 1219, '들어': 1220, '없지만': 1221, '볼수록': 1222, '커플': 1223, '유': 1224, '리얼': 1225, '밤': 1226, '무서운': 1227, '동생': 1228, '방': 1229, '해라': 1230, '마라': 1231, '유쾌한': 1232, '할까': 1233, '아는': 1234, '매': 1235, '슬프다': 1236, '순수한': 1237, '어린이': 1238, '어색한': 1239, '아침': 1240, '우': 1241, '줌': 1242, '깊게': 1243, '아닌듯': 1244, '리뷰': 1245, '보시': 1246, '..?': 1247, '귀엽고': 1248, '박수': 1249, '끝나고': 1250, '시청자': 1251, '있네': 1252, '괴물': 1253, '재밌었는데': 1254, '자연': 1255, '그럼': 1256, '드립니다': 1257, '흐름': 1258, '로맨틱': 1259, '용이': 1260, '굳이': 1261, '게이': 1262, '폭력': 1263, '로는': 1264, '웃김': 1265, '살짝': 1266, '범죄': 1267, '겁나': 1268, '개판': 1269, '치': 1270, '표절': 1271, '봅니다': 1272, '있었던': 1273, '스럽다': 1274, '포장': 1275, '짱짱': 1276, '발견': 1277, '만들어진': 1278, '랄': 1279, '정말로': 1280, '열심히': 1281, '남는다': 1282, '같고': 1283, '멋': 1284, '필요없는': 1285, '연애': 1286, '달': 1287, '지도': 1288, '써': 1289, '수도': 1290, '악역': 1291, '빨': 1292, '여전히': 1293, '사극': 1294, '언': 1295, '스': 1296, '문화': 1297, '몸매': 1298, '좋아서': 1299, '개도': 1300, '포기': 1301, '않을': 1302, '진실': 1303, '어찌': 1304, '인기': 1305, '진정': 1306, '덕분': 1307, '성인': 1308, '감탄': 1309, '일상': 1310, '시선': 1311, '주기': 1312, '쓰래': 1313, '혹시': 1314, '했을': 1315, '문': 1316, '조폭': 1317, '있지': 1318, '지는': 1319, '~~~~': 1320, '정서': 1321, '심': 1322, '독특한': 1323, '과연': 1324, '평범한': 1325, '는걸': 1326, '퀄리티': 1327, '쩐다': 1328, '잼있게': 1329, '사는': 1330, '보여준': 1331, '하다가': 1332, '표': 1333, '떨어지는': 1334, '들이': 1335, '로서': 1336, '10분': 1337, '우정': 1338, '뜻': 1339, '젤': 1340, '상처': 1341, '끼리': 1342, 'ㅇㅇ': 1343, '병': 1344, '하세요': 1345, '성도': 1346, '용서': 1347, '남녀': 1348, '오락': 1349, '스럽게': 1350, '이연걸': 1351, '하루': 1352, '웃겨': 1353, '와는': 1354, '됩니다': 1355, '악': 1356, '몰라도': 1357, '하니': 1358, '막판': 1359, '홍콩': 1360, '이기': 1361, '코드': 1362, '재밌습니다': 1363, '20년': 1364, '않나': 1365, '말로': 1366, '보지마': 1367, '정치': 1368, '홍보': 1369, '크게': 1370, '30분': 1371, '갈': 1372, '볼거리': 1373, '=': 1374, '죄': 1375, '어제': 1376, '쉽게': 1377, '느껴지는': 1378, '보라': 1379, '좋게': 1380, '아름답고': 1381, '뮤지컬': 1382, '느와르': 1383, '국민': 1384, '빛': 1385, '노답': 1386, 'b': 1387, '북한': 1388, '삼': 1389, '보긴': 1390, '핵': 1391, '등장인물': 1392, '낮아서': 1393, '해피엔딩': 1394, '섹스': 1395, '끌': 1396, '보아': 1397, '펑펑': 1398, '신선한': 1399, '팔': 1400, '가진': 1401, '힐링': 1402, '없지': 1403, '으론': 1404, '아오': 1405, '희생': 1406, '않': 1407, '무협': 1408, '나머지': 1409, '감명': 1410, '반성': 1411, '나서': 1412, '먼': 1413, '버리고': 1414, '형편': 1415, '에서의': 1416, '눈빛': 1417, '지루해서': 1418, '불가': 1419, '재미없네': 1420, '받은': 1421, '자유': 1422, '자식': 1423, '하여': 1424, '되네요': 1425, '~^^': 1426, '다큐멘터리': 1427, '아깝지': 1428, '춤': 1429, '권': 1430, '짜증나는': 1431, '남편': 1432, '하자': 1433, '본방': 1434, '실감': 1435, '보다도': 1436, '공부': 1437, '기술': 1438, '불': 1439, '했습니다': 1440, '많다': 1441, '암튼': 1442, '소장': 1443, '받고': 1444, '행복': 1445, '죽는줄': 1446, '만든다': 1447, '뜬금': 1448, '쓰': 1449, '재미있네요': 1450, '열정': 1451, '가면': 1452, '쫌': 1453, '싸움': 1454, '만으로': 1455, '올해': 1456, '그럭저럭': 1457, '대화': 1458, '풀어': 1459, '기본': 1460, '없는데': 1461, '하려는': 1462, '_': 1463, '에만': 1464, '아름답다': 1465, '차이': 1466, '만들고': 1467, '(?)': 1468, '고전': 1469, '까지는': 1470, '제로': 1471, '의문': 1472, '까진': 1473, '입장': 1474, '걸까': 1475, '라지': 1476, '오는': 1477, '누나': 1478, '슬프고': 1479, '늘': 1480, '무시': 1481, '비극': 1482, '비주': 1483, '있어요': 1484, '불구': 1485, '않지만': 1486, '종교': 1487, '그걸': 1488, '긴장': 1489, '가볍게': 1490, '둘다': 1491, '이라서': 1492, '기적': 1493, '지구': 1494, '그다지': 1495, '빼고는': 1496, '했어요': 1497, '디즈니': 1498, '&': 1499, '모르게': 1500, '싸구려': 1501, '따위': 1502, '있네요': 1503, 'ㅠㅠㅠㅠ': 1504, '악당': 1505, '에게는': 1506, '게다가': 1507, '시사회': 1508, '재밌었음': 1509, '보인다': 1510, '실력': 1511, '까지도': 1512, '마저': 1513, '아픔': 1514, '받아서': 1515, '언제나': 1516, '보러': 1517, '좀더': 1518, '호러': 1519, '결과': 1520, '뻔하고': 1521, '무섭지도': 1522, '대가': 1523, '딱히': 1524, '아줌마': 1525, '즈': 1526, '좋습니다': 1527, '동물': 1528, '흑': 1529, '반복': 1530, '높다': 1531, '과는': 1532, '이제야': 1533, '발전': 1534, '이쁘고': 1535, '아이돌': 1536, '보길': 1537, '하다니': 1538, '서야': 1539, '본인': 1540, '단지': 1541, '밥': 1542, '이니': 1543, '봐요': 1544, '많고': 1545, '잊혀지지': 1546, '있습니다': 1547, '방금': 1548, '아픈': 1549, '백': 1550, '그린': 1551, '아름다': 1552, '찍은': 1553, '러닝': 1554, '존경': 1555, '나오면': 1556, '토': 1557, '예쁜': 1558, '좋았던': 1559, '창': 1560, '분노': 1561, '여행': 1562, '전문가': 1563, '맨날': 1564, '해석': 1565, '에로': 1566, '꼴': 1567, '웃긴': 1568, '넘치는': 1569, '외국': 1570, '쓰고': 1571, '연예인': 1572, '로봇': 1573, '선생님': 1574, '한다고': 1575, '젊은': 1576, '있으면': 1577, '과의': 1578, '라인': 1579, '드럽게': 1580, '실패': 1581, '글쎄': 1582, '어머니': 1583, '할말이': 1584, '청소년': 1585, '평이': 1586, '헐리우드': 1587, '새벽': 1588, '누군가': 1589, '진리': 1590, '벌써': 1591, '본게': 1592, '무언가': 1593, '짝': 1594, '그거': 1595, '한국인': 1596, '오버': 1597, '재밌네': 1598, '보지마라': 1599, '사랑스러운': 1600, '돌려': 1601, '견자단': 1602, '외모': 1603, '대표': 1604, '질리': 1605, '그렇다고': 1606, '되서': 1607, '방법': 1608, '보고나면': 1609, '주기도': 1610, '필름': 1611, '쇼': 1612, '달라': 1613, '좋': 1614, '만족': 1615, '좋아하는데': 1616, '냥': 1617, '이든': 1618, '갑니다': 1619, '없어요': 1620, '짝퉁': 1621, '베스트': 1622, '으리': 1623, '최': 1624, '방식': 1625, '생각나는': 1626, 'ㅋㅋㅋㅋㅋㅋ': 1627, '내고': 1628, '봣는데': 1629, '금': 1630, '무섭다': 1631, '좋아해서': 1632, '미드': 1633, '이었습니다': 1634, '성한': 1635, '시트콤': 1636, '로만': 1637, '전개도': 1638, '갈등': 1639, '과장': 1640, '스스로': 1641, '애기': 1642, '죄다': 1643, '이미지': 1644, '김기덕': 1645, '비판': 1646, '자리': 1647, '연속': 1648, '1시간': 1649, '세기': 1650, '히어로': 1651, '이여': 1652, '은근': 1653, '이쁘다': 1654, '팀': 1655, '이자': 1656, '분명': 1657, '푹': 1658, '별루': 1659, '헐리웃': 1660, '떠나서': 1661, '뛰어난': 1662, '심장': 1663, '12': 1664, '명품': 1665, '가고': 1666, '모르겠고': 1667, '인가요': 1668, '...?': 1669, '받는': 1670, '재미없어요': 1671, '국내': 1672, '딴': 1673, '부모': 1674, '와우': 1675, '작은': 1676, '싶네요': 1677, '시각': 1678, '쩝': 1679, '맥': 1680, '재미있었다': 1681, '담': 1682, '한데': 1683, '이정': 1684, '단순한': 1685, '즐겁게': 1686, '미모': 1687, '도전': 1688, '주말': 1689, '30': 1690, '했는지': 1691, '재미있었어요': 1692, '학생': 1693, '아쉽네요': 1694, '극치': 1695, '멋지다': 1696, '레전드': 1697, '잔잔하고': 1698, '확': 1699, '두고': 1700, '좋겠어요': 1701, '편의': 1702, '힘들다': 1703, '희': 1704, '에피소드': 1705, '단연': 1706, '조합': 1707, '했고': 1708, '남주': 1709, '봤더니': 1710, '흔한': 1711, '편견': 1712, '끼': 1713, '그려': 1714, '자살': 1715, '왜케': 1716, '♥♥': 1717, '유쾌하고': 1718, '안타깝다': 1719, '양심': 1720, '굿굿': 1721, '가는줄': 1722, '신고': 1723, '검색': 1724, '하고자': 1725, '신분': 1726, '전반': 1727, '쩌': 1728, '신경': 1729, '사기': 1730, '나쁘지': 1731, '근': 1732, '챙겨': 1733, '사수': 1734, '달달': 1735, '보려고': 1736, '망': 1737, '향': 1738, '테러': 1739, '개성': 1740, '모르겠지만': 1741, '본다면': 1742, '인해': 1743, '보겠다': 1744, '탄탄한': 1745, '19': 1746, '없': 1747, '라이': 1748, '잔인한': 1749, '지루했다': 1750, '좋지만': 1751, '한참': 1752, '어휴': 1753, '유발': 1754, '[': 1755, '오브': 1756, '경험': 1757, '형사': 1758, '카': 1759, '크': 1760, '영어': 1761, '경': 1762, '가요': 1763, '????': 1764, '빠져': 1765, '이따위': 1766, '훨': 1767, '주변': 1768, '봐야지': 1769, '의외로': 1770, '째': 1771, ']': 1772, '묘': 1773, '캐리': 1774, '무척': 1775, '없다는': 1776, '코난': 1777, '생활': 1778, '도안': 1779, '........': 1780, '레알': 1781, '보자': 1782, '울었다': 1783, '우와': 1784, '대부분': 1785, '따뜻해지는': 1786, '기세': 1787, '포인트': 1788, '허세': 1789, '어려운': 1790, '버림': 1791, '초등학생': 1792, '.\"': 1793, '웃기지도': 1794, '로써': 1795, '쵝오': 1796, '지루할': 1797, '나오네': 1798, '멋있다': 1799, '상업': 1800, '되는데': 1801, '해주세요': 1802, '고양이': 1803, '마이클': 1804, '없었던': 1805, '하던': 1806, '아내': 1807, '보며': 1808, '위대한': 1809, '쪽': 1810, '개뿔': 1811, '짜증난다': 1812, '되면': 1813, '성장': 1814, '만들어도': 1815, '기자': 1816, '아깝고': 1817, '먹는': 1818, '신선하고': 1819, '설마': 1820, '학년': 1821, '마이너스': 1822, '영혼': 1823, '카리스마': 1824, ',,,,': 1825, 'C': 1826, '왠': 1827, '외계인': 1828, '옆': 1829, '개념': 1830, '보았다': 1831, '러브': 1832, 'good': 1833, '얘': 1834, '본거': 1835, '겁니다': 1836, '적임': 1837, '변화': 1838, '기대했는데': 1839, '응원': 1840, '멍청한': 1841, '그렇지': 1842, '로그인': 1843, '넘게': 1844, '으로서': 1845, '빠진': 1846, '스트레스': 1847, '명성': 1848, '끝날': 1849, '위로': 1850, '그렇다': 1851, '즐거운': 1852, '봤': 1853, '풍경': 1854, '감히': 1855, '싸이코': 1856, '번째': 1857, '나오지': 1858, '주성치': 1859, '옛': 1860, '한다면': 1861, '스럽지': 1862, '꽝': 1863, '젠장': 1864, '관점': 1865, '등등': 1866, '싶은데': 1867, '보았습니다': 1868, '만해': 1869, '피해자': 1870, '할머니': 1871, '개막': 1872, '정체': 1873, '18': 1874, '롭고': 1875, '직접': 1876, '좋았으나': 1877, '더불어': 1878, '연결': 1879, '받을': 1880, '기만': 1881, '잊지': 1882, '무지': 1883, '형제': 1884, '케': 1885, '야한다': 1886, '듣고': 1887, '않을까': 1888, '않네요': 1889, 'ㄱ': 1890, '완전히': 1891, '기준': 1892, '좋았지만': 1893, '만큼은': 1894, '싶을': 1895, '짜증나': 1896, '투자': 1897, '겨': 1898, '포르노': 1899, '가본': 1900, '교육': 1901, '답답한': 1902, '점준': 1903, '야하는': 1904, '칼': 1905, '시키는': 1906, '뒷': 1907, '하기엔': 1908, '재밋다': 1909, '착한': 1910, '유치하다': 1911, '유명한': 1912, '했다는': 1913, '처': 1914, '편도': 1915, '십': 1916, '없게': 1917, 'ㅅ': 1918, '느끼는': 1919, '잠깐': 1920, '?!': 1921, '남아': 1922, '악마': 1923, '정의': 1924, '초등학교': 1925, '일품': 1926, '조절': 1927, '들었다': 1928, '빼면': 1929, '아마': 1930, '겨우': 1931, '쉬': 1932, '으로써': 1933, '아아': 1934, '세번': 1935, '빈': 1936, '끝나는': 1937, '하려고': 1938, '하나로': 1939, '재밋어': 1940, '와의': 1941, '이어서': 1942, '왠만하면': 1943, '국가': 1944, 'M': 1945, 'x': 1946, '덜': 1947, '몇몇': 1948, '빼곤': 1949, '크리스마스': 1950, '투': 1951, '공짜': 1952, '면서': 1953, 'ㅋㅋㅋㅋㅋㅋㅋ': 1954, '변태': 1955, '찾아': 1956, '007': 1957, '우주': 1958, '하는건': 1959, '막장드라마': 1960, '고통': 1961, '야동': 1962, '압권': 1963, '가수': 1964, '기회': 1965, '에로영화': 1966, '느껴진다': 1967, '따로': 1968, '무술': 1969, '없습니다': 1970, '알수': 1971, '으로만': 1972, '해결': 1973, '만들기': 1974, '욕망': 1975, '행복한': 1976, '린': 1977, '맞지': 1978, '이도': 1979, '생각나서': 1980, '지루하게': 1981, '확인': 1982, '의식': 1983, '홍콩영화': 1984, '효': 1985, '틈': 1986, '시청': 1987, '결정': 1988, '봤는데도': 1989, '세월': 1990, '패러디': 1991, '에나': 1992, '내면': 1993, '하길래': 1994, '이용': 1995, '정신병': 1996, '바다': 1997, '배역': 1998, '그럴': 1999, '있었지만': 2000, '튼': 2001, '죽는': 2002, '베': 2003, '예쁘고': 2004, '놓고': 2005, '셈': 2006, '높아': 2007, '이보': 2008, '감흥': 2009, '드림': 2010, '좋을': 2011, '않아서': 2012, '답답하고': 2013, '부모님': 2014, '사진': 2015, '영국': 2016, 'DVD': 2017, '봤네': 2018, '어린시절': 2019, '탓': 2020, '더러운': 2021, '대중': 2022, '똑같은': 2023, '21': 2024, '참으로': 2025, '특수': 2026, '덕': 2027, '기법': 2028, '진부하고': 2029, '지나치게': 2030, '시킨': 2031, '선물': 2032, '인들': 2033, '이쁨': 2034, '니깐': 2035, '비현실적': 2036, '영화계': 2037, '낮지': 2038, '이상은': 2039, '모르겠음': 2040, '듬': 2041, '이래서': 2042, '15': 2043, '흑인': 2044, '만들다니': 2045, '만남': 2046, '땅': 2047, '갑': 2048, '전에': 2049, '스크린': 2050, '흥미로운': 2051, '방영': 2052, '재밌다고': 2053, 'the': 2054, '안습': 2055, '그건': 2056, '해야지': 2057, '파': 2058, '데리': 2059, '최강': 2060, '훈훈한': 2061, '망한': 2062, '씀': 2063, '의심': 2064, '수고': 2065, '얼마': 2066, '괜찮은데': 2067, '조작': 2068, '채': 2069, '들고': 2070, '최초': 2071, '낮다': 2072, '다시는': 2073, '근래': 2074, '깨': 2075, '워': 2076, ';;;;': 2077, '이었음': 2078, '쓰는': 2079, '달리': 2080, '예능': 2081, ',.': 2082, '낮네': 2083, '5분': 2084, '보네': 2085, '내생': 2086, '우려': 2087, '빵점': 2088, '있었는데': 2089, '단어': 2090, '녀': 2091, '한심한': 2092, '칠': 2093, '미가': 2094, '본적': 2095, 'ㅠㅜ': 2096, '색감': 2097, '만들면': 2098, '거짓말': 2099, '목': 2100, '했나': 2101, '깨닫게': 2102, '상태': 2103, '아예': 2104, '감각': 2105, '루': 2106, '공포물': 2107, '끔': 2108, '폐지': 2109, '시기': 2110, '리즈': 2111, '영원히': 2112, '잇는': 2113, '전쟁영화': 2114, '거나': 2115, '꼬마': 2116, '용기': 2117, '봤을까': 2118, '값': 2119, '호구': 2120, '잊을': 2121, '삭제': 2122, '잼있다': 2123, '..;;': 2124, '설득': 2125, '하겠다': 2126, '갓': 2127, '줍니다': 2128, '냄새': 2129, '보여준다': 2130, '풍자': 2131, '트': 2132, '캐': 2133, '관련': 2134, '감안': 2135, '잔': 2136, '잔뜩': 2137, '70년': 2138, '어울리는': 2139, '패': 2140, '심하게': 2141, '이쁜': 2142, '아역': 2143, '빌려': 2144, ':)': 2145, '깜짝': 2146, '성격': 2147, '떨어진다': 2148, '보통': 2149, '여러분': 2150, '있는지': 2151, '번은': 2152, '잼있어요': 2153, '했으나': 2154, '재미없게': 2155, '다룬': 2156, '갠': 2157, '보던': 2158, '바랍니다': 2159, '성은': 2160, '가족영화': 2161, '넌': 2162, '명화': 2163, '재밌': 2164, '전율': 2165, '하지마라': 2166, '작위': 2167, '아래': 2168, '껏': 2169, '갔다': 2170, '마시길': 2171, '짜임새': 2172, '같': 2173, '장가': 2174, '기를': 2175, '던데': 2176, '여러가지': 2177, '하긴': 2178, '하는것': 2179, '타고': 2180, '케릭': 2181, '점줌': 2182, '볼려고': 2183, '있구나': 2184, '야한': 2185, '아까울': 2186, '부족하다': 2187, '대본': 2188, '김': 2189, '아닙니다': 2190, '많은데': 2191, '대놓고': 2192, '기독교': 2193, '11': 2194, '동시': 2195, '디': 2196, '아쉽지만': 2197, '신의': 2198, '재난영화': 2199, '밋': 2200, 'ㅉㅉㅉ': 2201, '부부': 2202, '스런': 2203, '배우도': 2204, '재미있습니다': 2205, '같지': 2206, '가득': 2207, '오랫': 2208, '탄': 2209, '무섭고': 2210, '결코': 2211, '박': 2212, '살면서': 2213, '자주': 2214, '탄생': 2215, '여태': 2216, '말고는': 2217, '잼나게': 2218, 'X': 2219, '만은': 2220, 'sf': 2221, '명의': 2222, '안타까운': 2223, '만을': 2224, '애가': 2225, '있': 2226, '제외': 2227, '라이언': 2228, '비밀': 2229, '곡': 2230, '앞뒤': 2231, '맞아': 2232, '운명': 2233, '마이': 2234, 'ㄷㄷㄷ': 2235, '였던': 2236, '좋겠네요': 2237, '버리는': 2238, '본듯': 2239, '웃고': 2240, '이따': 2241, '서는': 2242, '필요한': 2243, '각': 2244, '소소한': 2245, '풍': 2246, '색다른': 2247, '포스': 2248, '없었음': 2249, '았': 2250, '중요한': 2251, '물이': 2252, '혹은': 2253, '아이디어': 2254, '낚시': 2255, '무서움': 2256, '하나같이': 2257, '모험': 2258, '목적': 2259, '브루스': 2260, '떨어지고': 2261, '심지어': 2262, '배우는': 2263, '낫': 2264, '목숨': 2265, '승리': 2266, '한숨': 2267, 'A': 2268, '골': 2269, '태어나서': 2270, '읽어': 2271, '귀여워': 2272, '연인': 2273, '사고': 2274, '느꼈다': 2275, '블록버스터': 2276, '톰': 2277, '아무런': 2278, '둘째': 2279, '죽은': 2280, '남네요': 2281, '.........': 2282, '사상': 2283, '보구': 2284, '없다고': 2285, '봤다면': 2286, '!!!!!': 2287, '알겠는데': 2288, '아동': 2289, '였지만': 2290, '탈': 2291, '보신': 2292, '볼수있는': 2293, '철': 2294, '느낄수': 2295, '빵빵': 2296, '성하고': 2297, '뇌': 2298, '할듯': 2299, '시점': 2300, '뭐라': 2301, '지나도': 2302, '후속작': 2303, '많아서': 2304, '팔이': 2305, '.^^': 2306, '소중한': 2307, '열연': 2308, '구나': 2309, '만들었는지': 2310, '첫사랑': 2311, '감정이입': 2312, '됐다': 2313, '치곤': 2314, '갖고': 2315, 'ㄷ': 2316, '욕심': 2317, '@': 2318, '없는게': 2319, '할아버지': 2320, '매니아': 2321, '또다른': 2322, '재미없었다': 2323, '아니야': 2324, '아깝네': 2325, '유치함': 2326, '훌륭하다': 2327, '했을까': 2328, '구리': 2329, '틱': 2330, '천': 2331, '버전': 2332, '려고': 2333, '20분': 2334, '높게': 2335, '짜증나서': 2336, '죽여': 2337, '이었어요': 2338, '안감': 2339, '통': 2340, '요리': 2341, '적당히': 2342, '탑': 2343, '같네': 2344, '호': 2345, '신파': 2346, '그만큼': 2347, '줘': 2348, '보여': 2349, '많은걸': 2350, '있던': 2351, '야구': 2352, '소년': 2353, '어쩜': 2354, '금보': 2355, '없냐': 2356, '시켜': 2357, '중심': 2358, '거부': 2359, '성공': 2360, 'ㅋㅋㅋㅋㅋㅋㅋㅋ': 2361, '담배': 2362, '재밌던데': 2363, '마리': 2364, '해준다': 2365, '기는': 2366, '선동': 2367, '이상하고': 2368, '싶지': 2369, '무료': 2370, '조카': 2371, '느낀': 2372, '치는': 2373, '장국영': 2374, '중독': 2375, '된거': 2376, '꽃': 2377, '당황': 2378, '하아': 2379, '배경음악': 2380, '길게': 2381, '수많은': 2382, '린다': 2383, '가능한': 2384, '맞고': 2385, '그야말로': 2386, '짜증남': 2387, '옷': 2388, 'ㅁ': 2389, '없으면': 2390, '참신한': 2391, '나네요': 2392, '본지': 2393, '남은': 2394, '주제가': 2395, '먼가': 2396, '억지스러운': 2397, '종영': 2398, '저리': 2399, '본건데': 2400, '단순': 2401, '플롯': 2402, '대신': 2403, '틴': 2404, '사투리': 2405, '낮게': 2406, '쓸': 2407, '집착': 2408, '낚였다': 2409, '가정': 2410, '한개': 2411, '심형래': 2412, '두번째': 2413, '아냐': 2414, '교과서': 2415, '이런건': 2416, '재미없어서': 2417, '식상한': 2418, '될듯': 2419, '의사': 2420, '추리': 2421, '30년': 2422, '재밌어서': 2423, '오래전': 2424, '대통령': 2425, '잠시': 2426, '현대': 2427, '부작': 2428, '이뻐서': 2429, '뭥미': 2430, '울컥': 2431, '쥐': 2432, '하늘': 2433, '빵': 2434, '좋다고': 2435, '13': 2436, '..^^': 2437, '이었던': 2438, '아니라고': 2439, '아기': 2440, '마냥': 2441, '모를': 2442, '놀랍다': 2443, '로코': 2444, '여름': 2445, '임팩트': 2446, '천국': 2447, '아깝': 2448, '적이네요': 2449, '났다': 2450, '정보': 2451, '않았지만': 2452, '오래된': 2453, '틀': 2454, '보여주고': 2455, '고등학교': 2456, '허허': 2457, '메': 2458, '높아서': 2459, '그립다': 2460, '모르겠네요': 2461, '어설프고': 2462, '로버트': 2463, '따뜻하고': 2464, '습': 2465, '했네': 2466, '아까웠다': 2467, 'ㅎㅎㅎㅎ': 2468, '파괴': 2469, '일부러': 2470, '//': 2471, '여자친구': 2472, '색': 2473, '모양': 2474, '~!!!': 2475, '의상': 2476, '부터가': 2477, '잼있음': 2478, '꼬': 2479, '싶어요': 2480, '앤': 2481, '따름': 2482, '아프다': 2483, '당연히': 2484, '다양한': 2485, '웬': 2486, '논리': 2487, '웃으면서': 2488, '여자애': 2489, '알았음': 2490, '쓸데없이': 2491, '토록': 2492, '나고': 2493, '떠나': 2494, '있다고': 2495, '죽이는': 2496, '정작': 2497, '없나요': 2498, '터미네이터': 2499, '예쁘다': 2500, '이전': 2501, '뱀파이어': 2502, '있다니': 2503, '잤다': 2504, '유일하게': 2505, '찾기': 2506, '쿡': 2507, '클레멘타인': 2508, '최대': 2509, '졸리': 2510, '이긴': 2511, '돼지': 2512, '할만': 2513, '보이지': 2514, '너무도': 2515, '궁금하다': 2516, '레이': 2517, '남겨': 2518, '컨셉': 2519, '재미없': 2520, '♥♥♥': 2521, '만드': 2522, '바탕': 2523, '감사': 2524, '손색': 2525, 'dvd': 2526, '이상하게': 2527, '나은': 2528, '재밋음': 2529, '나왔다': 2530, '보다니': 2531, '끌어': 2532, '했네요': 2533, '주윤발': 2534, '링': 2535, '웃': 2536, '보셈': 2537, '보는거': 2538, '있냐': 2539, '절정': 2540, '몰랐다': 2541, '특별한': 2542, '중학교': 2543, '숨': 2544, '재능': 2545, '제니퍼': 2546, '주지': 2547, '하시는': 2548, '하품': 2549, '발상': 2550, '같았다': 2551, '않은데': 2552, '여친': 2553, '져': 2554, 'ㅏ': 2555, '공간': 2556, '잡고': 2557, '어디가': 2558, '참나': 2559, '반드시': 2560, '유덕화': 2561, '키드': 2562, '해리포터': 2563, '깍': 2564, '어색하고': 2565, '인내심': 2566, '정이': 2567, '하도': 2568, '졸': 2569, '사운드': 2570, '버려': 2571, '짧은': 2572, '있어야': 2573, '만약': 2574, '괜찮다': 2575, '착각': 2576, '반대': 2577, '과학': 2578, '선정': 2579, '거장': 2580, '흐르는': 2581, '유일한': 2582, '조화': 2583, '인지도': 2584, '실수': 2585, '하지원': 2586, '그동안': 2587, '고딩': 2588, '멋지고': 2589, '류작': 2590, '조니뎁': 2591, '숨겨진': 2592, '어쩌': 2593, '단순히': 2594, '음식': 2595, '했더니': 2596, '우뢰매': 2597, '왔다': 2598, '도에': 2599, '연극': 2600, '탈출': 2601, '무기': 2602, '치고는': 2603, '영화제': 2604, '끼워': 2605, '이어': 2606, '귀엽다': 2607, '지경': 2608, '박진': 2609, '의지': 2610, '에다': 2611, '배트맨': 2612, '길이': 2613, '홍상수': 2614, '매일': 2615, '레': 2616, '겁': 2617, '제임스': 2618, '좋지': 2619, '자고': 2620, '지겹다': 2621, 'ㅈ': 2622, '강한': 2623, '이만': 2624, '재밌다는': 2625, '야함': 2626, '잡': 2627, '화의': 2628, '궁금해서': 2629, '운': 2630, '죽고': 2631, 'ㅣ': 2632, '동성애': 2633, '할말': 2634, '가벼운': 2635, '제이슨': 2636, '들은': 2637, 'I': 2638, '와서': 2639, '나가는': 2640, '2014년': 2641, '찍고': 2642, '보소': 2643, '인도': 2644, '아름답게': 2645, '이소룡': 2646, '폴': 2647, '일본인': 2648, '아무튼': 2649, '하던데': 2650, '평균': 2651, '살인마': 2652, '자동차': 2653, '만화책': 2654, '어처구니': 2655, '100%': 2656, '캬': 2657, '짜증나고': 2658, '에게도': 2659, '다섯': 2660, '신은': 2661, '끝난': 2662, '전투': 2663, '메이드': 2664, '마약': 2665, '뭐임': 2666, '옴': 2667, '스럽고': 2668, '체적': 2669, '강렬한': 2670, '불쌍한': 2671, '하정우': 2672, '센스': 2673, '가득한': 2674, '재미없다고': 2675, '괜찮음': 2676, '다르게': 2677, '같지만': 2678, '극단': 2679, '영화감독': 2680, '나오는데': 2681, '사용': 2682, '논': 2683, '살아가는': 2684, '떨어짐': 2685, 'ㄴ': 2686, '괜찮았는데': 2687, '디워': 2688, '울면': 2689, 'of': 2690, '다리': 2691, '동영상': 2692, '할수가': 2693, '환경': 2694, '봤지': 2695, '들어서': 2696, '능': 2697, '슴': 2698, '걱정': 2699, 'ㅋㅋㅋㅋㅋㅋㅋㅋㅋ': 2700, '잭': 2701, 'ㅎㄷㄷ': 2702, '나레이션': 2703, '분량': 2704, '불쌍하다': 2705, '적어도': 2706, '아니지': 2707, '보는듯': 2708, '션': 2709, '블랙': 2710, '케빈': 2711, '론': 2712, '코메디': 2713, '빠른': 2714, '아깝네요': 2715, '기존': 2716, '최고봉': 2717, '민폐': 2718, '수입': 2719, '루즈': 2720, '돋보이는': 2721, '남성': 2722, '흥': 2723, '였고': 2724, '끝나': 2725, '아놀드': 2726, '진수': 2727, '울리는': 2728, '슈퍼': 2729, '할리우드': 2730, '끝나서': 2731, '인터넷': 2732, '거품': 2733, '니콜': 2734, '어거지': 2735, '내일': 2736, '때려': 2737, '이구나': 2738, '도움': 2739, '인형': 2740, '신인': 2741, '절': 2742, '배신': 2743, '폭발': 2744, '여인': 2745, '좋을듯': 2746, '영향': 2747, '리가': 2748, '이니까': 2749, '하이': 2750, '이군': 2751, '성의': 2752, '쓸데없는': 2753, '여신': 2754, '베리': 2755, '겨울': 2756, '상실': 2757, '했다고': 2758, '좋아할': 2759, '에이': 2760, '친': 2761, '만들어서': 2762, '네티즌': 2763, '리지': 2764, '포': 2765, '해주고': 2766, '도무지': 2767, '소중함을': 2768, '보임': 2769, '어색': 2770, '명대사': 2771, 'a': 2772, '잊을수': 2773, '피해': 2774, '--': 2775, '준비': 2776, '읽고': 2777, '어쩌면': 2778, '따듯': 2779, '살린': 2780, '화일': 2781, '놀라운': 2782, '시키지': 2783, '재미나': 2784, '난리': 2785, '불편한': 2786, '겉': 2787, '역사상': 2788, '인류': 2789, '40': 2790, '싶어': 2791, '빠져서': 2792, '동심': 2793, '인게': 2794, '송강호': 2795, '적은': 2796, '베드': 2797, '하고는': 2798, '출신': 2799, '평소': 2800, '다세포': 2801, '이를': 2802, '혐오': 2803, '겉멋': 2804, '손가락': 2805, '요새': 2806, '발음': 2807, '다르다': 2808, '버': 2809, '말투': 2810, '각색': 2811, '깡패': 2812, '배급사': 2813, '보았는데': 2814, '한국판': 2815, '던': 2816, '그렇지만': 2817, '이었는데': 2818, '무대': 2819, '및': 2820, '아만다': 2821, '일반': 2822, '데뷔': 2823, '유럽': 2824, '과도': 2825, '괜찮았다': 2826, '다신': 2827, '김치': 2828, '생각난다': 2829, '극복': 2830, '..........': 2831, '에다가': 2832, '분장': 2833, '황당': 2834, '파리': 2835, '판단': 2836, '온다': 2837, '찾아서': 2838, '첨부': 2839, '차원': 2840, '최소': 2841, '?...': 2842, '비중': 2843, '.,': 2844, '잖아': 2845, '오프닝': 2846, '많아': 2847, '완벽': 2848, '곧': 2849, '언젠가': 2850, '리얼리티': 2851, '보고있는데': 2852, '러시아': 2853, '끝내': 2854, '유쾌하게': 2855, '생긴': 2856, '나오네요': 2857, '무한': 2858, '성적': 2859, '흡입': 2860, '감도': 2861, '영화사': 2862, '게뭐': 2863, '영원한': 2864, '무서워': 2865, '잔잔하게': 2866, '정우성': 2867, '괜찮고': 2868, '때매': 2869, '했다면': 2870, '찬': 2871, '추': 2872, '키스': 2873, '누군지': 2874, '쉽지': 2875, '아치': 2876, '라스트': 2877, '임창정': 2878, '콩': 2879, '컷': 2880, '전하': 2881, 'ㅄ': 2882, '싸우는': 2883, '아까워서': 2884, '왔는데': 2885, '이해도': 2886, '부족함': 2887, '화란': 2888, '황당한': 2889, '게스트': 2890, '놀랐다': 2891, '했': 2892, '도데': 2893, '갔는데': 2894, '최소한': 2895, '알았네': 2896, '웰': 2897, '압도': 2898, '응': 2899, '할거': 2900, '했었는데': 2901, '별하나': 2902, '보네요': 2903, '어렵다': 2904, '하러': 2905, '축구': 2906, '만들었을까': 2907, '류승범': 2908, '소개': 2909, 'ㅉ': 2910, '`': 2911, '좋았을텐데': 2912, '샘': 2913, '알겠다': 2914, '하라': 2915, '되었습니다': 2916, '미스': 2917, '부정': 2918, '잇': 2919, '빨갱이': 2920, '동네': 2921, '유지': 2922, '적절한': 2923, '소화': 2924, '단체': 2925, '무게': 2926, '스티븐': 2927, '왜곡': 2928, '판이': 2929, '라기': 2930, '역량': 2931, '탄탄하고': 2932, '강력': 2933, '부인': 2934, '글자': 2935, '널': 2936, '파격': 2937, '낮아': 2938, '윌리스': 2939, '무재': 2940, '무난': 2941, '년전': 2942, '개콘': 2943, '계기': 2944, '호기심': 2945, '않아요': 2946, '놀이': 2947, '먹은': 2948, '블랙코미디': 2949, '치유': 2950, '에서만': 2951, '실험': 2952, '만큼이나': 2953, '귀여워요': 2954, '받았다': 2955, '하자는': 2956, '단점': 2957, '빛나는': 2958, 'ㅜㅠ': 2959, '서부': 2960, '마음속': 2961, '만세': 2962, '재미있는데': 2963, '몽환': 2964, '드디어': 2965, '녀석': 2966, '만화영화': 2967, '보고나니': 2968, '했어': 2969, '액션씬': 2970, '아닌것': 2971, '필': 2972, '망친': 2973, '대결': 2974, '깨알': 2975, '재미있었음': 2976, '왠만한': 2977, '듣기': 2978, '뻔했다': 2979, '배꼽': 2980, '되나': 2981, '흉내': 2982, '정상': 2983, '죽어': 2984, '줬다': 2985, '중년': 2986, '볼거': 2987, '봤고': 2988, '범죄자': 2989, '만들었나': 2990, '명연기': 2991, '군인': 2992, '무리': 2993, '중딩': 2994, '가능성': 2995, '대사도': 2996, '명불허전': 2997, '있었으면': 2998, '미녀': 2999, '유치해서': 3000, '서도': 3001, '정리': 3002, '그대': 3003, '염': 3004, '절제': 3005, '재미있었습니다': 3006, '타란티노': 3007, '좋았을': 3008, '하나님': 3009, '하길': 3010, '절망': 3011, '신하균': 3012, '즐겨': 3013, '멋있는': 3014, '1회': 3015, '필요없음': 3016, '노인': 3017, '이병헌': 3018, '일주일': 3019, '담긴': 3020, '모로': 3021, '담은': 3022, '인듯': 3023, '미도': 3024, '보고있어요': 3025, '됐는데': 3026, '우연': 3027, '모르지만': 3028, '왤케': 3029, '쭉': 3030, '상어': 3031, '킬링': 3032, '화장실': 3033, '하는듯': 3034, '베일': 3035, '잊지못': 3036, '와도': 3037, '부활': 3038, '담아': 3039, '이기도': 3040, '처리': 3041, '향수': 3042, '보고싶은데': 3043, '드니': 3044, '본능': 3045, '비행기': 3046, '커': 3047, '나을듯': 3048, '장애인': 3049, '해보게': 3050, '잉': 3051, '진한': 3052, '뜬금없이': 3053, '다해': 3054, '에서나': 3055, '괜찮게': 3056, '백인': 3057, '괜찮았음': 3058, '찾는': 3059, '우선': 3060, '거지같은': 3061, '알파': 3062, '멍': 3063, '왔습니다': 3064, '등록': 3065, '인걸': 3066, '고뇌': 3067, '쓰지': 3068, '싶어서': 3069, '한순간': 3070, '쩔어': 3071, 'you': 3072, '씹': 3073, '매번': 3074, '속지': 3075, '지나': 3076, '힘들': 3077, '아쉬워요': 3078, '느껴': 3079, '매미': 3080, '선사': 3081, 'EBS': 3082, '캐릭': 3083, '원숭이': 3084, '하면서도': 3085, '멋짐': 3086, '좋네': 3087, '있었고': 3088, '어이없다': 3089, '명복': 3090, '단편': 3091, '50': 3092, '향연': 3093, '든지': 3094, '직업': 3095, '앙': 3096, '재난': 3097, '진지하게': 3098, '울었어요': 3099, 'd': 3100, '교회': 3101, '많네': 3102, '풋풋한': 3103, '아프고': 3104, '에가': 3105, '각자': 3106, '독일': 3107, '까지만': 3108, '디테일': 3109, '갖다': 3110, '존스': 3111, '선생': 3112, '잊고': 3113, '짬뽕': 3114, '과대': 3115, '도둑': 3116, '공유': 3117, '섬세한': 3118, '하지도': 3119, '포드': 3120, '들게': 3121, '돋는': 3122, '순수하고': 3123, '한가지': 3124, '만도': 3125, '재미있었는데': 3126, '이별': 3127, '무간도': 3128, '비쥬': 3129, '레옹': 3130, '상징': 3131, '애초': 3132, '박보영': 3133, '버튼': 3134, '열자': 3135, '가히': 3136, '준것': 3137, '빠': 3138, '재미없네요': 3139, '어이없음': 3140, '스파이더맨': 3141, '나간': 3142, '상대': 3143, '지옥': 3144, '모르겠네': 3145, '쌍': 3146, '늦게': 3147, '땀': 3148, '맡은': 3149, '오로지': 3150, '역겨운': 3151, '졸업': 3152, '고독': 3153, '아이유': 3154, '경우': 3155, '케이': 3156, '똑같이': 3157, '개그맨': 3158, '2000년': 3159, '낮은지': 3160, '회사': 3161, '보나': 3162, '좋겠습니다': 3163, '년도': 3164, '아쉽': 3165, '객관': 3166, '방해': 3167, '허무한': 3168, '변신': 3169, '가까운': 3170, '만들어라': 3171, '부로': 3172, '아니었다': 3173, '박중훈': 3174, '가야': 3175, '포함': 3176, '본것': 3177, '강간': 3178, 'T': 3179, '재미있어': 3180, '오글오글': 3181, '대에': 3182, '답답': 3183, '밀': 3184, '부는': 3185, '무거운': 3186, '예측': 3187, '올레': 3188, '어울리지': 3189, '의외': 3190, '싫어': 3191, 'ㅜㅜㅜ': 3192, '역겹다': 3193, '제작자': 3194, '사랑스럽다': 3195, '부탁': 3196, '반영': 3197, '소통': 3198, '닥': 3199, '좋아하지만': 3200, '흔': 3201, '덩어리': 3202, '연습': 3203, '워낙': 3204, '쟁이': 3205, '선수': 3206, '장점': 3207, '하기도': 3208, '된다는': 3209, '범': 3210, '솔': 3211, '칭찬': 3212, '멋있고': 3213, '커서': 3214, '바닥': 3215, '짜증나게': 3216, '보고싶어요': 3217, '김수현': 3218, '서울': 3219, '드네': 3220, '두운': 3221, '다시금': 3222, '보았던': 3223, '스포': 3224, '아오이': 3225, '뭐라고': 3226, '강동원': 3227, '싶었다': 3228, '보느니': 3229, '진지한': 3230, '2년': 3231, '초월': 3232, '수록': 3233, '한심하다': 3234, '정부': 3235, '비록': 3236, '않았던': 3237, '우린': 3238, '일듯': 3239, '미스터리': 3240, '했지': 3241, '엽기': 3242, '스타워즈': 3243, '케미': 3244, '답답하다': 3245, '찬양': 3246, '우드': 3247, '~~^^': 3248, '높지': 3249, '본질': 3250, '낫겠다': 3251, '최후': 3252, '도시': 3253, '없던': 3254, '명장': 3255, '할지': 3256, '낮네요': 3257, '대부': 3258, '치노': 3259, '일부': 3260, '잼있네요': 3261, '리암': 3262, '드문': 3263, '뒤죽박죽': 3264, '찌질': 3265, '절로': 3266, '리도': 3267, '비호감': 3268, '...^^': 3269, '가짜': 3270, '혁명': 3271, '놀란': 3272, '한효주': 3273, '상식': 3274, '만들었냐': 3275, '아깝습니다': 3276, '미스테리': 3277, '믿음': 3278, '속이': 3279, '극적': 3280, '잡는': 3281, '클래식': 3282, '싫은': 3283, '멜로영화': 3284, '생명': 3285, '..!': 3286, '잔인함': 3287, '순위': 3288, '기대하지': 3289, '보고싶네요': 3290, '줘도': 3291, '왕조현': 3292, '?..': 3293, '부를': 3294, '컴퓨터': 3295, '낭만': 3296, '맞음': 3297, '넘어': 3298, '공룡': 3299, '냈다': 3300, '주세요': 3301, '1등': 3302, '쯧쯧': 3303, '봤나': 3304, '징': 3305, '감은': 3306, '혼란': 3307, '산다': 3308, '출연자': 3309, '좋으나': 3310, '알려': 3311, '어설프다': 3312, '디카프리오': 3313, '밖': 3314, '살이': 3315, '상이': 3316, '가나': 3317, '하시길': 3318, '도중': 3319, '다니는': 3320, '차승원': 3321, '중학생': 3322, '지식': 3323, '안타까': 3324, '픽사': 3325, '되었는데': 3326, '있으나': 3327, '광구': 3328, '산만하고': 3329, '내게': 3330, '고증': 3331, '이안': 3332, '특집': 3333, '낼': 3334, '남는게': 3335, '없어도': 3336, '사랑스럽고': 3337, '미스캐스팅': 3338, '스릴러물': 3339, '★': 3340, '무어': 3341, '페이크': 3342, '미학': 3343, '흑백': 3344, '보려': 3345, '숨은': 3346, '모른다': 3347, '1년': 3348, '섹시': 3349, '오글거리는': 3350, '웃겼다': 3351, 'ㅈㄴ': 3352, '중국영화': 3353, '부산': 3354, '떄': 3355, '다는': 3356, '뭣': 3357, '당장': 3358, '슨': 3359, '소름끼치는': 3360, '국어': 3361, '전성기': 3362, '조선': 3363, '무섭지': 3364, '어떻': 3365, '킬러': 3366, '아마추어': 3367, '...........': 3368, '권력': 3369, '이구만': 3370, '말씀': 3371, '가라': 3372, '아쉬울': 3373, '해줘서': 3374, '식이': 3375, '스텝': 3376, '시종일관': 3377, '짜집기': 3378, '깔끔한': 3379, '멋지게': 3380, '잃은': 3381, '추가': 3382, '화질': 3383, '절대로': 3384, '사과': 3385, '잇어요': 3386, '한지': 3387, '연관': 3388, '섬': 3389, '추합니다': 3390, '남친': 3391, '들지': 3392, '뜨': 3393, '너희': 3394, '이었고': 3395, '독특하고': 3396, '수면제': 3397, '안되네': 3398, '엄정화': 3399, '떡': 3400, '연상': 3401, '일지': 3402, '대단': 3403, 'Good': 3404, '떡밥': 3405, '웃기는': 3406, '찍는': 3407, '머냐': 3408, '위트': 3409, '구분': 3410, '봤는지': 3411, '웃었다': 3412, '민족': 3413, '장진': 3414, '나무': 3415, 's': 3416, '애인': 3417, '호불호': 3418, '아무나': 3419, '작화': 3420, '한석규': 3421, '김혜수': 3422, '국산': 3423, '로맨틱코미디': 3424, '닥치고': 3425, '구만': 3426, '허나': 3427, '살려': 3428, '싸': 3429, '공주': 3430, '아누': 3431, '남자배우': 3432, '별거': 3433, '능가': 3434, '승부': 3435, '머릿속': 3436, '엄청나게': 3437, '아닌가요': 3438, '90분': 3439, '돌': 3440, '풀': 3441, '믿을': 3442, '지지': 3443, '만화가': 3444, '순수': 3445, '행': 3446, '누님': 3447, '살렸다': 3448, '호흡': 3449, '주고싶다': 3450, '세대': 3451, '터짐': 3452, '빠지게': 3453, '옥': 3454, '다른사람': 3455, '나음': 3456, '랑은': 3457, '빕니다': 3458, '믿기지': 3459, '세트': 3460, '찍어': 3461, '있었음': 3462, '슈퍼맨': 3463, '뎅': 3464, '않습니다': 3465, '개는': 3466, '~~!!': 3467, '피아노': 3468, '구로': 3469, '트리': 3470, '나올까': 3471, '당할': 3472, '웃겨서': 3473, '아닌거': 3474, '커버': 3475, '않네': 3476, '대는': 3477, '난해한': 3478, '엔딩크레딧': 3479, '억지스럽고': 3480, '망치': 3481, '이상해': 3482, '심사': 3483, '형식': 3484, '애니매이션': 3485, '거짓': 3486, '광기': 3487, '바란다': 3488, '마찬가지': 3489, '로움': 3490, '사이코': 3491, '폭풍': 3492, '나루토': 3493, '가까이': 3494, '기획': 3495, '당하는': 3496, '첨으로': 3497, '볼것': 3498, 'ㅋㅋㅋㅋㅋㅋㅋㅋㅋㅋㅋ': 3499, '이드': 3500, '만들었으면': 3501, '유아': 3502, '너무하네': 3503, '마누라': 3504, '눈치': 3505, '시험': 3506, '아니라면': 3507, '되어야': 3508, '만난': 3509, '줄수': 3510, '만들수': 3511, '되길': 3512, '허무': 3513, '미안하다': 3514, '해지': 3515, '^-^': 3516, '국': 3517, '부터는': 3518, '껐다': 3519, '조지': 3520, '반응': 3521, '할수있는': 3522, '재앙': 3523, '주관': 3524, '꿀': 3525, '된게': 3526, '상큼': 3527, '온갖': 3528, '하신': 3529, '느끼고': 3530, '전문': 3531, '납득': 3532, '검사': 3533, '볼라': 3534, '짱짱맨': 3535, '싶습니다': 3536, '이상하다': 3537, '아우': 3538, '재치': 3539, '해놓고': 3540, '권상우': 3541, '신화': 3542, '버리지': 3543, '없구': 3544, '터지는': 3545, '두고두고': 3546, '멋져요': 3547, '적당한': 3548, '콜린': 3549, '아까워요': 3550, '티나': 3551, '원조': 3552, '봤다는': 3553, '낮': 3554, '구조': 3555, '40분': 3556, '택시': 3557, '살때': 3558, '완벽하다': 3559, '문득': 3560, '잇고': 3561, '어차피': 3562, '세계관': 3563, 'ㅋㅋㅋㅋㅋㅋㅋㅋㅋㅋ': 3564, '예고': 3565, '난후': 3566, '돋는다': 3567, '몰라': 3568, '김희선': 3569, '합': 3570, '일반인': 3571, '인권': 3572, '쓰는데': 3573, '주가': 3574, '고문': 3575, '할것': 3576, '테이큰': 3577, '환자': 3578, '스포츠': 3579, '방황': 3580, 'bb': 3581, '장애': 3582, '클라라': 3583, '즐거움': 3584, '낀': 3585, '역작': 3586, '의견': 3587, '충분한': 3588, '괜찮네요': 3589, '업': 3590, '필요한가': 3591, '추격': 3592, '의한': 3593, '색채': 3594, '메이': 3595, '볼까': 3596, '본격': 3597, '않았음': 3598, '조잡한': 3599, '이러지': 3600, '제시카': 3601, '망할': 3602, '둔': 3603, '데이': 3604, '한동안': 3605, '였지': 3606, '보는것': 3607, '하려': 3608, '피식': 3609, '외국인': 3610, '예수': 3611, '여지': 3612, '적당': 3613, '크리스찬': 3614, '어쨌든': 3615, '인식': 3616, '안해': 3617, '시키고': 3618, '있겠지만': 3619, '15년': 3620, '행복하게': 3621, '위주': 3622, '언어': 3623, '알바생': 3624, '무섭게': 3625, '석': 3626, '만든거': 3627, '나면': 3628, 'is': 3629, 'movie': 3630, '반도': 3631, '복선': 3632, '맙시': 3633, '스펙': 3634, '맞추기': 3635, '끝남': 3636, '아니네요': 3637, '맞다': 3638, '완벽하게': 3639, '전지현': 3640, '보는줄': 3641, '나오나': 3642, '성과': 3643, '빠져들게': 3644, '유치해': 3645, '니콜라스': 3646, '리기': 3647, '데이빗': 3648, '부담': 3649, '로빈': 3650, '맞나': 3651, '에바': 3652, '재밌었던': 3653, '어울림': 3654, '느껴지지': 3655, '찍': 3656, '뻔하다': 3657, '성형': 3658, '오랫동안': 3659, '헉': 3660, '하지말고': 3661, '나로': 3662, '납니다': 3663, '고등학생': 3664, '만드냐': 3665, '아깝다는': 3666, '없는듯': 3667, '였어': 3668, '빠순이': 3669, '!~': 3670, '기사': 3671, '부족하고': 3672, '어딘가': 3673, '영활': 3674, '압': 3675, '였으면': 3676, '해본': 3677, '외면': 3678, '시골': 3679, '찌': 3680, '뛰어넘는': 3681, '천사': 3682, '층': 3683, '렉': 3684, '미치는': 3685, '본건': 3686, '!!!!!!': 3687, '버릴': 3688, '난무': 3689, '있는듯': 3690, '듭니': 3691, '설': 3692, '지루했음': 3693, '투성이': 3694, '살아있는': 3695, '...!': 3696, '멋져': 3697, '인연': 3698, '하는것도': 3699, '방향': 3700, '기전': 3701, '편하게': 3702, '아담': 3703, '하기가': 3704, '나게': 3705, '크레딧': 3706, '거임': 3707, '극본': 3708, '중후': 3709, '되어서': 3710, '치료': 3711, '집단': 3712, '없었는데': 3713, '안되': 3714, '관리': 3715, '기타': 3716, '시체': 3717, '안될': 3718, '회상': 3719, '힘들었다': 3720, '광': 3721, '돌아': 3722, 'ㅂ': 3723, '살인자': 3724, 'MBC': 3725, '영웅본색': 3726, '느낀다': 3727, '뎀': 3728, '남고': 3729, '남긴다': 3730, '크리스': 3731, '설경구': 3732, '참여': 3733, '기억나는': 3734, '홀로': 3735, '질문': 3736, '들아': 3737, '하기에는': 3738, '태국': 3739, '나왔던': 3740, '고해': 3741, '겨울왕국': 3742, '간지': 3743, '있긴': 3744, '개꿀잼': 3745, '4.44': 3746, '대역': 3747, '하시고': 3748, '스필버그': 3749, '해외': 3750, '...(': 3751, '실': 3752, '러셀': 3753, '동양': 3754, '원피스': 3755, '끈': 3756, '잔인하고': 3757, '오해': 3758, '킹': 3759, '->': 3760, '않아도': 3761, '심하다': 3762, '유치원': 3763, '클': 3764, '박찬욱': 3765, '마저도': 3766, '먹기': 3767, '뻔함': 3768, '세련된': 3769, '3시간': 3770, '애정': 3771, '억지스런': 3772, '시장': 3773, '유행': 3774, '폼': 3775, '흘러가는': 3776, '같다는': 3777, '손예진': 3778, '진창': 3779, '주네': 3780, '로드': 3781, '건데': 3782, '들의': 3783, '아이언맨': 3784, '이상함': 3785, '훈훈하고': 3786, '싶었던': 3787, '합시다': 3788, '슬퍼요': 3789, '깜놀': 3790, '뭐랄까': 3791, '픽션': 3792, '싫어하는': 3793, '스키': 3794, '전라도': 3795, '가게': 3796, '아니잖아': 3797, '늑대': 3798, 'c': 3799, '간직': 3800, '미달': 3801, '지가': 3802, '찬사': 3803, '재밌었습니다': 3804, '짱구': 3805, '싶음': 3806, '흔적': 3807, '타인': 3808, '잇다': 3809, '고픈': 3810, '만들었네': 3811, '아바타': 3812, '하는구나': 3813, '볼일': 3814, '어울린다': 3815, '스콧': 3816, '기발한': 3817, '쏘우': 3818, '침': 3819, '도라에몽': 3820, '넹': 3821, '하던가': 3822, '평화': 3823, '오직': 3824, '1분': 3825, '좋더라': 3826, '삶은': 3827, '답답해': 3828, '클라스': 3829, '좋아하네요': 3830, '..!!': 3831, '자연스러운': 3832, '톤': 3833, '구석': 3834, '봤어': 3835, '귀여워서': 3836, '돌아보게': 3837, '밋밋한': 3838, '되냐': 3839, '개똥': 3840, 'vs': 3841, '직': 3842, '들어간': 3843, '느껴졌다': 3844, '에드워드': 3845, '이럼': 3846, 'ㅓ': 3847, '공연': 3848, '최민수': 3849, '목사': 3850, '장소': 3851, '하더라': 3852, '애로': 3853, '납치': 3854, '벨': 3855, '유령': 3856, '혹': 3857, '웃는': 3858, '파워': 3859, '금지': 3860, '유혹': 3861, '화끈한': 3862, '찡': 3863, '재방': 3864, '일찍': 3865, '께서': 3866, '만든것': 3867, '보일': 3868, '해야하나': 3869, '할려고': 3870, '강요': 3871, '도를': 3872, '의해': 3873, '고어': 3874, '거듭': 3875, '다이하드': 3876, '놓은': 3877, '어째': 3878, '이정재': 3879, '향기': 3880, '없으니': 3881, '가네': 3882, '로운': 3883, '한국어': 3884, '왕가위': 3885, '후기': 3886, '백배': 3887, '신세계': 3888, '고인': 3889, '까는': 3890, '소지섭': 3891, '힙합': 3892, '난국': 3893, '아니네': 3894, '이러냐': 3895, '개발': 3896, '수위': 3897, '밖에는': 3898, '하자면': 3899, '대고': 3900, '화중': 3901, '구혜선': 3902, '유쾌': 3903, '대학': 3904, '갖게': 3905, '노튼': 3906, '음향': 3907, '좋아했던': 3908, '이의': 3909, '많음': 3910, '군더더기': 3911, '지대': 3912, '로버츠': 3913, '영구': 3914, '대하': 3915, '하게하는': 3916, '실상': 3917, '대상': 3918, '반감': 3919, '주온': 3920, '김명민': 3921, '.!': 3922, '재미없었음': 3923, '놀래': 3924, '예뻐서': 3925, '번역': 3926, '왕자': 3927, '성유리': 3928, '웃으며': 3929, '저희': 3930, '송승헌': 3931, '그런거': 3932, '경악': 3933, '하는가': 3934, '몰랐는데': 3935, '팝콘': 3936, '있는가': 3937, '나머진': 3938, '입고': 3939, '마디': 3940, '소품': 3941, '막상': 3942, '아이고': 3943, '가관': 3944, '신부': 3945, '야하지도': 3946, '정선': 3947, '알려주는': 3948, '농담': 3949, '하지마': 3950, '답답해서': 3951, '더럽고': 3952, '우롱': 3953, '좋아하시는': 3954, '지배': 3955, '기억난다': 3956, '외로움': 3957, '가기': 3958, '텐데': 3959, '재주': 3960, '인도영화': 3961, '람보': 3962, '어설프게': 3963, '내는': 3964, '싸이코패스': 3965, '즐겁고': 3966, '웃긴다': 3967, '강아지': 3968, '오지': 3969, '슬프네요': 3970, '고작': 3971, '사람과': 3972, '출발': 3973, '화판': 3974, '동감': 3975, '모욕': 3976, '60년': 3977, '마블': 3978, '된다고': 3979, '에로물': 3980, '정점': 3981, '아쉬웠지만': 3982, '최민식': 3983, '안되서': 3984, '잼나요': 3985, '원하는': 3986, '이뻐': 3987, '누': 3988, '있나요': 3989, '출현': 3990, '되도': 3991, '혀': 3992, '곤': 3993, '울었습니다': 3994, '했어도': 3995, '분명히': 3996, '김태희': 3997, '디테': 3998, '헛웃음': 3999, '민': 4000, '색깔': 4001, '-_-;;': 4002, '오글거려서': 4003, '매주': 4004, '격': 4005, '마시고': 4006, '2.22': 4007, '신데렐라': 4008, '에드': 4009, '남아있는': 4010, '깨달음': 4011, '넘치고': 4012, '하셨습니다': 4013, '호감': 4014, '첩보': 4015, '벌': 4016, '사장': 4017, '스러': 4018, '덤': 4019, '긴박': 4020, '주행': 4021, '살기': 4022, '웃다가': 4023, '락': 4024, '식상하다': 4025, '였네요': 4026, '보고서': 4027, '아련한': 4028, '걸린': 4029, '하드': 4030, '끝판': 4031, '새록새록': 4032, '엑스맨': 4033, '쓴다': 4034, '하고싶은': 4035, '어쩌다': 4036, '젊은이': 4037, '이은주': 4038, '스파이': 4039, '영광': 4040, '많은것을': 4041, '만들겠다': 4042, '재미있어서': 4043, '작전': 4044, '우는': 4045, '완젼': 4046, '듣는': 4047, '대학생': 4048, '볼줄': 4049, '불쌍해서': 4050, '겠지': 4051, '추구': 4052, '찡한': 4053, '주인': 4054, '학살': 4055, '재방송': 4056, '학창시절': 4057, '전화': 4058, '바라보는': 4059, '재미있': 4060, '하구': 4061, '지고': 4062, '줄리아': 4063, '높은지': 4064, '흥미롭게': 4065, '보낸다': 4066, '슬펐다': 4067, '들을': 4068, '~~~~~': 4069, '웬만하면': 4070, '...;;': 4071, '될수': 4072, '고도': 4073, '구역': 4074, '주위': 4075, '있어도': 4076, '구경': 4077, '피디': 4078, '안성기': 4079, '생기': 4080, '미친듯이': 4081, '이스트': 4082, '기용': 4083, '종': 4084, '관람객': 4085, '조명': 4086, '재밌당': 4087, '시간대': 4088, '싶다면': 4089, '한정': 4090, '멘탈': 4091, '까요': 4092, '신세경': 4093, '유의': 4094, '껴': 4095, '곰': 4096, '라스': 4097, '자랑': 4098, '나온다고': 4099, '심한': 4100, '갖춘': 4101, '장동건': 4102, '통쾌한': 4103, '잘하고': 4104, '드래곤볼': 4105, '감옥': 4106, '하고도': 4107, '안되게': 4108, '폰': 4109, '다니엘': 4110, '뉴스': 4111, '애국심': 4112, '모독': 4113, '디젤': 4114, '커녕': 4115, '지루하기': 4116, '기승': 4117, '스킵': 4118, '나왔음': 4119, '나오는거': 4120, '싶었는데': 4121, '될까': 4122, '집안': 4123, '차별': 4124, '청년': 4125, '심각하게': 4126, '않으면': 4127, '더욱더': 4128, '부르는': 4129, '멀리': 4130, '조차도': 4131, '모순': 4132, '남기고': 4133, '불쾌한': 4134, '감기': 4135, '마르': 4136, '충분하다': 4137, '함부로': 4138, '될것': 4139, '우울한': 4140, '정화': 4141, '가안': 4142, '높네': 4143, '김민종': 4144, '맞춘': 4145, '뻥': 4146, '배속': 4147, '충': 4148, '할말을': 4149, '됬는데': 4150, '하겠습니다': 4151, '모르겟다': 4152, '맞은': 4153, '없는것': 4154, '수십': 4155, '빠지는': 4156, '떨어진': 4157, '다운로드': 4158, '댄스': 4159, '임신': 4160, '길다': 4161, '본성': 4162, '테': 4163, '상관': 4164, '걸이': 4165, '연주': 4166, '김구라': 4167, '래야': 4168, '특': 4169, '롱': 4170, '말았다': 4171, '이어지는': 4172, '닷': 4173, '차태현': 4174, '달리는': 4175, '고맙습니다': 4176, '해보고': 4177, '자격': 4178, '할배': 4179, '자본': 4180, '재료': 4181, '지인': 4182, '정석': 4183, '있었습니다': 4184, '레이첼': 4185, '먼지': 4186, '깨워': 4187, '극혐': 4188, '어딜': 4189, '잭슨': 4190, '좋아지는': 4191, '겹': 4192, '괜찮았던': 4193, '좋아해요': 4194, '마니': 4195, '지극히': 4196, '심오한': 4197, '이민기': 4198, '아쉽긴': 4199, '꼽': 4200, '프리': 4201, '볼걸': 4202, '간간히': 4203, '버린다': 4204, '이외': 4205, '성찰': 4206, '미국인': 4207, '엽문': 4208, '이탈리아': 4209, '경의': 4210, '감수성': 4211, '나와라': 4212, '고스': 4213, '멀': 4214, '죽기전에': 4215, '어이없고': 4216, '사무라이': 4217, '아니라는': 4218, '퍼스': 4219, '깊다': 4220, '운동': 4221, '양반': 4222, '팍팍': 4223, '심정': 4224, '미장센': 4225, '진영화': 4226, '행위': 4227, '없구나': 4228, '빨간': 4229, '마녀': 4230, '이연희': 4231, '장이': 4232, '스페인': 4233, '이끌어': 4234, '새삼': 4235, '넘은': 4236, '약하다': 4237, '보진': 4238, '여유': 4239, '공중파': 4240, '하기에': 4241, '집니다': 4242, '한텐': 4243, '다니': 4244, '남매': 4245, '완죤': 4246, '다크나이트': 4247, '차마': 4248, '적극': 4249, '오그라드는': 4250, '재현': 4251, '임청하': 4252, '흉내내': 4253, '셋': 4254, '수없이': 4255, '알았더니': 4256, '남기는데': 4257, '이네요': 4258, '러브스토리': 4259, '오페라': 4260, '슬퍼': 4261, '모방': 4262, '끝난다': 4263, '좋아하고': 4264, '였다면': 4265, '랩': 4266, '닿는': 4267, '흐지부지': 4268, '찍지': 4269, '전도연': 4270, '버그': 4271, '죽인': 4272, '황정민': 4273, '좋아하지': 4274, '예쁨': 4275, '-_-;': 4276, '끄고': 4277, '끄는': 4278, '봐야겠다': 4279, '경계': 4280, '엘': 4281, '유우': 4282, '간의': 4283, '탁월한': 4284, '초기': 4285, '3분': 4286, '가자': 4287, '들어도': 4288, '지네': 4289, '서양': 4290, '허무하게': 4291, '재밌을': 4292, '5년': 4293, '예술가': 4294, '7.5': 4295, '답지': 4296, '터져': 4297, '촌': 4298, '커피': 4299, '독립': 4300, '니당': 4301, '명도': 4302, '품': 4303, 'OOOO': 4304, '또는': 4305, '요약': 4306, 'ㅋㅋㅋㅋㅋㅋㅋㅋㅋㅋㅋㅋㅋ': 4307, '헛': 4308, '전기': 4309, '고자': 4310, '2005년': 4311, '믿지': 4312, '마을': 4313, '성함': 4314, '.\"\"': 4315, '크루즈': 4316, '마법': 4317, '만나는': 4318, '각각': 4319, '다른건': 4320, '토니': 4321, '하더니': 4322, '부디': 4323, '스피드': 4324, '일수': 4325, '아름다웠다': 4326, '졸잼': 4327, '토끼': 4328, '믿을게': 4329, '박평': 4330, '엉터리': 4331, '로다': 4332, '이웃': 4333, '거야': 4334, '8년': 4335, '받지': 4336, '마틴': 4337, '조승우': 4338, '나오게': 4339, '낯': 4340, '!?': 4341, '7년': 4342, '신비': 4343, '하기는': 4344, '싶지만': 4345, '빈약한': 4346, '로망': 4347, '죽지': 4348, '봐줄만': 4349, '뻔해서': 4350, '신민아': 4351, '깊고': 4352, '제왕': 4353, '트랜스포머': 4354, '오로라': 4355, '덜덜': 4356, '웃겼음': 4357, '국제': 4358, '와중': 4359, '없었고': 4360, '불쌍': 4361, '정통': 4362, '스탈': 4363, '자의': 4364, '카메론': 4365, '칸': 4366, '힘내세요': 4367, '않았고': 4368, '노골': 4369, '맥스': 4370, '진부하다': 4371, '내기': 4372, '.(': 4373, '짜증나네': 4374, '인척': 4375, '같기도': 4376, '인종차별': 4377, '타이틀': 4378, '어이없어서': 4379, '자위': 4380, '파라': 4381, '삐': 4382, '베이': 4383, '최하': 4384, '이형': 4385, '톰크루즈': 4386, '없었으면': 4387, '였나': 4388, 'ㅂㅅ': 4389, '나오다니': 4390, '장난감': 4391, '유리': 4392, '유지태': 4393, '만나서': 4394, '재미있었고': 4395, '살리지': 4396, '격투': 4397, '앞서': 4398, '섭외': 4399, '씨발': 4400, '하디': 4401, '특이한': 4402, '구멍': 4403, 'ㅋㅋㅋㅋㅋㅋㅋㅋㅋㅋㅋㅋ': 4404, '줘서': 4405, '맞게': 4406, 'ㅐ': 4407, '뚝뚝': 4408, '서정': 4409, '흑역사': 4410, '생존': 4411, '^^*': 4412, '했다가': 4413, '잼있는': 4414, '카피': 4415, '남긴': 4416, '부자': 4417, '법정': 4418, '대비': 4419, '뜨거운': 4420, '멤버': 4421, '나왔는데': 4422, '썩': 4423, '신념': 4424, '아니라서': 4425, '하려면': 4426, '8.5': 4427, '생겨서': 4428, '깊었다': 4429, '혹평': 4430, '에러': 4431, '단역': 4432, '강하게': 4433, '주면': 4434, '남는건': 4435, '홧팅': 4436, '넘는': 4437, '사기꾼': 4438, '포켓몬': 4439, '빠짐': 4440, '덴젤': 4441, '아카데미': 4442, '지브리': 4443, '해보면': 4444, '월드': 4445, '재밋네': 4446, '메인': 4447, 'CGV': 4448, '버렸네': 4449, '오우삼': 4450, '역활': 4451, '이던': 4452, '때리고': 4453, '싶으면': 4454, '힘들게': 4455, '남기는': 4456, '에릭': 4457, '님들': 4458, '도로': 4459, '노예': 4460, '윤아': 4461, '하였다': 4462, '에여': 4463, '구려': 4464, '말아먹은': 4465, '하더라도': 4466, '증말': 4467, '안타깝네요': 4468, '였구나': 4469, '환타지': 4470, '그지같은': 4471, '전사': 4472, '♥♥♥♥': 4473, '원표': 4474, '컬트': 4475, '오인혜': 4476, '울음': 4477, '무서워서': 4478, '낙': 4479, '보게되': 4480, '고수': 4481, '만들다': 4482, '쉬운': 4483, '있는게': 4484, '그나저나': 4485, '않는데': 4486, '되는지': 4487, '타령': 4488, '절반': 4489, '뒤늦게': 4490, 'The': 4491, '봉': 4492, '나니': 4493, '하든': 4494, '정확히': 4495, '모르겠는데': 4496, '만큼의': 4497, '아프리카': 4498, '뽕짝': 4499, '기록': 4500, '전투씬': 4501, '극찬': 4502, '심심할': 4503, '구원': 4504, '괜': 4505, '태양': 4506, '드립': 4507, '울림': 4508, '최선': 4509, '머피': 4510, '꼬맹이': 4511, '나오는지': 4512, '위기': 4513, '강지환': 4514, '특징': 4515, '만드는지': 4516, '15분': 4517, '그럼에도': 4518, '더니': 4519, '몬': 4520, '가식': 4521, '강조': 4522, '공원': 4523, '주먹': 4524, '나은듯': 4525, '굉장한': 4526, '조정': 4527, '뛰': 4528, '남발': 4529, '젊음': 4530, '닿지': 4531, '잔잔하지만': 4532, '오글거리고': 4533, '인터뷰': 4534, '독': 4535, '할줄': 4536, '호텔': 4537, '같지도': 4538, '장혁': 4539, '찐': 4540, '바라는': 4541, '잇음': 4542, '절절': 4543, '마마': 4544, '나와야': 4545, '되야': 4546, '되는거': 4547, '좋아한다면': 4548, '되는게': 4549, '존내': 4550, '어의': 4551, '잇게': 4552, '여기저기': 4553, '신도': 4554, '알겠지만': 4555, '패턴': 4556, '없구만': 4557, '할수록': 4558, '장근석': 4559, '허구': 4560, '송혜교': 4561, '불러': 4562, '초점': 4563, '미이라': 4564, '전락': 4565, '아시': 4566, '교수': 4567, '만나': 4568, '강제': 4569, '장치': 4570, '서프라이즈': 4571, '장나라': 4572, '고로': 4573, '정사': 4574, '여왕': 4575, '접근': 4576, '크다': 4577, '부럽다': 4578, '원인': 4579, '보여줌': 4580, '전환': 4581, '신선': 4582, '모야': 4583, '오유': 4584, '찾고': 4585, '이러니': 4586, '벤': 4587, '공식': 4588, '홍': 4589, '눈요기': 4590, '퀴어': 4591, '재밌지': 4592, '무색': 4593, '스텝업': 4594, '뻔히': 4595, '없을까': 4596, '안되나': 4597, '몇개': 4598, '엉엉': 4599, '곁': 4600, '흥분': 4601, '늙은': 4602, '송지효': 4603, '사나이': 4604, '되니': 4605, '구도': 4606, '구성은': 4607, '노무': 4608, '모르나': 4609, '이예': 4610, '2015년': 4611, '나나': 4612, '쥬라기': 4613, '무적': 4614, '워커': 4615, '아이러니': 4616, '치면': 4617, '남자라면': 4618, '선율': 4619, '보였다': 4620, '이범수': 4621, '월': 4622, '비롯': 4623, '정당화': 4624, '줄리': 4625, '글쎄요': 4626, '이뻐요': 4627, '같은거': 4628, '필요하다': 4629, '려': 4630, '믄': 4631, '호화': 4632, '굿굿굿': 4633, '아닌지': 4634, '생략': 4635, '배려': 4636, '똑바로': 4637, '울어': 4638, '재밌었고': 4639, '지적': 4640, '짓게': 4641, '하고싶다': 4642, '에든': 4643, '와이프': 4644, '남지': 4645, '대단히': 4646, '진작': 4647, '무섭': 4648, '찝찝한': 4649, '잔잔하면서도': 4650, '가해자': 4651, '。': 4652, '호강': 4653, '울었네요': 4654, '죽일': 4655, '솔직한': 4656, '종류': 4657, '몫': 4658, '획': 4659, '쥐어': 4660, '돼는': 4661, '퍼즐': 4662, '겠다': 4663, '무서웠다': 4664, '임수정': 4665, '써서': 4666, '있는거': 4667, '대가리': 4668, '안든다': 4669, '작렬': 4670, '왓': 4671, '잘생기고': 4672, '자아': 4673, '비치': 4674, '없는거': 4675, '로마': 4676, '생김': 4677, 'PD': 4678, '레드': 4679, '하나요': 4680, '자본주의': 4681, '드려요': 4682, '뉴욕': 4683, '불쌍해': 4684, '닼': 4685, '율': 4686, '광팬': 4687, '레오': 4688, '해안가': 4689, '희망이': 4690, '기대한': 4691, '반지': 4692, '배우다': 4693, '가네요': 4694, '에서야': 4695, '때리는': 4696, '우왕': 4697, '줘야': 4698, '지르고': 4699, '증명': 4700, '길고': 4701, '안함': 4702, '취급': 4703, '버스': 4704, '낮음': 4705, '벽': 4706, '뮤직비디오': 4707, '준영': 4708, '우익': 4709, '런닝맨': 4710, '미야자키': 4711, '주상욱': 4712, '두려움': 4713, '저번': 4714, '패션': 4715, '보이는데': 4716, '물건': 4717, '다크': 4718, '중국인': 4719, '그로': 4720, '없다는게': 4721, '웅장': 4722, '들보': 4723, '일리': 4724, '그래요': 4725, '시스': 4726, '오오': 4727, '태도': 4728, '하진': 4729, '있었다니': 4730, '할것도': 4731, '일요일': 4732, '상치': 4733, '부여': 4734, '임권택': 4735, '안된': 4736, '남았다': 4737, '싼': 4738, '보다보다': 4739, '되네': 4740, '아쉽고': 4741, '않았을까': 4742, '하고픈': 4743, '외화': 4744, '가능': 4745, '좋아할만': 4746, '이나영': 4747, '동료': 4748, '투표': 4749, '더럽다': 4750, '미치도록': 4751, '찾을': 4752, '긴한데': 4753, '원주율': 4754, '시원한': 4755, '너무한다': 4756, '아까웠던': 4757, '상당한': 4758, '녹화': 4759, '책임': 4760, '모성애': 4761, '나오길': 4762, '히스': 4763, '어둡고': 4764, '노동자': 4765, '플': 4766, '참다': 4767, '죽는다': 4768, '일도': 4769, '움직이는': 4770, '활용': 4771, '루이스': 4772, '슬프지만': 4773, '없군': 4774, '갔다가': 4775, '등급': 4776, '어떠한': 4777, '과잉': 4778, '홍금보': 4779, '구역질': 4780, '하니까': 4781, '체험': 4782, '많네요': 4783, '만들려고': 4784, '파악': 4785, '피트': 4786, '낚였': 4787, '휴먼': 4788, '이었지만': 4789, '조용히': 4790, '다를': 4791, '않았는데': 4792, '접함': 4793, '만듬': 4794, '쩜': 4795, '드림웍스': 4796, '봐줄': 4797, '돋보인다': 4798, '시민': 4799, 'it': 4800, '양동근': 4801, '땜시': 4802, '졸음': 4803, '단편영화': 4804, '생각나네요': 4805, '일드': 4806, '떠오르는': 4807, '위원': 4808, '서스펜스': 4809, '해피': 4810, '이구': 4811, '불후': 4812, '뼈': 4813, '펭귄': 4814, '짐승': 4815, '날려': 4816, '안타까울': 4817, '도입': 4818, '먹하다': 4819, '2012년': 4820, '도통': 4821, '2003년': 4822, '쏴': 4823, '미쳐': 4824, '맷': 4825, '읽은': 4826, '느껴질': 4827, '의학': 4828, '로우': 4829, '밖엔': 4830, '16': 4831, '총알': 4832, '국적': 4833, '접하다': 4834, '작년': 4835, '가을': 4836, '인줄': 4837, '물의': 4838, '궁': 4839, '역쉬': 4840, '뽕': 4841, '자매': 4842, '훌륭하고': 4843, '읽는': 4844, '만나고': 4845, '그러면': 4846, '증거': 4847, '했어야': 4848, '파워레인저': 4849, '전의': 4850, '마케팅': 4851, '대전': 4852, '나온거': 4853, '나쁘진': 4854, '보냐': 4855, '많지만': 4856, '계획': 4857, '은퇴': 4858, '가사': 4859, '이혼': 4860, '^^;': 4861, '활동': 4862, '먹어': 4863, '강시': 4864, '떨어져': 4865, '평론': 4866, '진짜진짜': 4867, '수애': 4868, '어이없네': 4869, '뻔하지만': 4870, '바꿔': 4871, '할수도': 4872, '걸고': 4873, '고마운': 4874, '모티브': 4875, '아니죠': 4876, '넣은': 4877, '웃겨요': 4878, '탐': 4879, '코스프레': 4880, '침묵': 4881, '심히': 4882, '이완': 4883, '안남': 4884, '짓거리': 4885, '...\"': 4886, '망쳐': 4887, '예쁘게': 4888, '해적': 4889, '싫음': 4890, '..;': 4891, '천만': 4892, '어서': 4893, '차지': 4894, '에의': 4895, '헐크': 4896, '봤다고': 4897, '짜여진': 4898, '실사': 4899, '유아인': 4900, '훌륭함': 4901, '엉덩이': 4902, '높이': 4903, '묘미': 4904, '호소': 4905, '병원': 4906, '*': 4907, 'ebs': 4908, '불면증': 4909, '된듯': 4910, '졸려': 4911, '박신양': 4912, '돼서': 4913, '보스': 4914, '잃지': 4915, '제작사': 4916, '넘어선': 4917, '않았으면': 4918, '미안': 4919, '읍': 4920, '피터': 4921, '가미': 4922, '지나친': 4923, '빼': 4924, '오타쿠': 4925, '깝': 4926, '직원': 4927, '조아': 4928, '존중': 4929, '어쩌라고': 4930, '심심한': 4931, '대만': 4932, '재탕': 4933, '온몸': 4934, '부가': 4935, '여정': 4936, '긍정': 4937, '빠져드는': 4938, '복': 4939, '땡': 4940, '간첩': 4941, '잃고': 4942, '밴드': 4943, '2004년': 4944, '엑소시스트': 4945, '박사': 4946, '기쁨': 4947, '경이': 4948, '쩔고': 4949, '복잡한': 4950, '미키': 4951, '록키': 4952, '웹툰': 4953, '분석': 4954, '저기': 4955, '고발': 4956, '지루했어요': 4957, '예수님': 4958, '재밌지도': 4959, '봤었던': 4960, 'best': 4961, '양조위': 4962, '컨저링': 4963, '파이팅': 4964, '안좋은': 4965, '추락': 4966, '몰': 4967, '받음': 4968, '주원': 4969, 'ㅗ': 4970, '안되는데': 4971, '나오기': 4972, 'to': 4973, '6년': 4974, '식스센스': 4975, 'ㄹㅇ': 4976, '멘붕': 4977, '엄': 4978, '학원': 4979, '대감': 4980, '르': 4981, '거만': 4982, '주옥': 4983, '기대도': 4984, 'ㄱㄱ': 4985, '지역': 4986, '깔': 4987, '않았나': 4988, '숲': 4989, '울었던': 4990, '비싼': 4991, '날로': 4992, '기대는': 4993, '지났지만': 4994, '히트': 4995, '기독교인': 4996, '오랜만': 4997, '재밋는데': 4998, '제시': 4999, '할게': 5000, '써라': 5001, 'mbc': 5002, '생각나게': 5003, '깔끔하고': 5004, '허무맹랑': 5005, '미션': 5006, '나마': 5007, '지상': 5008, '믿': 5009, '서방': 5010, '괜찮아': 5011, '종일': 5012, '없었지만': 5013, '재밋는': 5014, '배드': 5015, '츠': 5016, '보이네요': 5017, '예뻐요': 5018, '성경': 5019, '강호동': 5020, '블루': 5021, '조직': 5022, '보자고': 5023, '될지': 5024, '활': 5025, '재미있다고': 5026, '용가리': 5027, '잔인하게': 5028, '나갈': 5029, '알수가': 5030, '이승기': 5031, '휴가': 5032, '큐브': 5033, '심심해서': 5034, '으로나': 5035, 't': 5036, '탕웨이': 5037, '후속': 5038, '사망': 5039, '강혜정': 5040, '된다면': 5041, '물씬': 5042, '이성재': 5043, '이신': 5044, '안다': 5045, '재미없습니다': 5046, '나발': 5047, '봤다니': 5048, '말라': 5049, '매혹': 5050, '용두사미': 5051, '어케': 5052, '해본다': 5053, '그러지': 5054, '전이': 5055, '지원': 5056, '줄리엣': 5057, '불만': 5058, '가시': 5059, '쳐도': 5060, '동호': 5061, '되요': 5062, '환불': 5063, '하느라': 5064, '게리': 5065, '돋았다': 5066, '으로가': 5067, '볼수가': 5068, '실소': 5069, '재미있네': 5070, '쌈': 5071, '행크스': 5072, '일베충': 5073, '인터스텔라': 5074, '싶네': 5075, '구라': 5076, '부른': 5077, '저절로': 5078, '지루하네': 5079, '만들었네요': 5080, '도하': 5081, '해볼': 5082, '저주': 5083, '화만': 5084, '아시아': 5085, '욕구': 5086, '북': 5087, '저녁': 5088, '사라': 5089, '다기': 5090, '하이킥': 5091, '해서는': 5092, '진보': 5093, '대도': 5094, '왔어요': 5095, '사연': 5096, '활약': 5097, '발생': 5098, '이쁘게': 5099, '예뻐': 5100, '하차': 5101, '미국영화': 5102, '별다른': 5103, '슬래셔': 5104, '슬퍼서': 5105, '보면서도': 5106, '전세계': 5107, '존잼': 5108, '뿌리': 5109, '김강우': 5110, '............': 5111, '멋있어요': 5112, 'ocn': 5113, '써요': 5114, '호러물': 5115, '클리셰': 5116, '쓰기': 5117, '아니었음': 5118, '아가': 5119, '당연한': 5120, '그땐': 5121, '엠마': 5122, '면도': 5123, '담고': 5124, '적절히': 5125, 'KBS': 5126, '워싱턴': 5127, '조조': 5128, '재밌기만': 5129, '지금껏': 5130, '데스': 5131, '이동욱': 5132, '닉': 5133, '됐어요': 5134, '리스': 5135, '가슴속': 5136, '기리': 5137, '화해': 5138, '서기': 5139, '쓰면': 5140, '어울리고': 5141, '몰락': 5142, '본다고': 5143, '저급': 5144, '리브': 5145, '완': 5146, '졸면서': 5147, '성하다': 5148, '귀요미': 5149, '최저': 5150, '♡♡': 5151, '망상': 5152, '수치': 5153, '되었던': 5154, '노말': 5155, '조금씩': 5156, '무리수': 5157, '에일리언': 5158, '나왔을': 5159, '필수': 5160, '끝나네': 5161, '안타깝고': 5162, '공존': 5163, '서극': 5164, '꿈꾸는': 5165, '트릭': 5166, '습작': 5167, '‥': 5168, '빅뱅': 5169, '이준기': 5170, '언급': 5171, '되면서': 5172, '떨어': 5173, '잊을수가': 5174, '상의': 5175, '힘든데': 5176, '기간': 5177, '이념': 5178, '멋있음': 5179, '초능력': 5180, '디자인': 5181, '있으니': 5182, '무도': 5183, '김하늘': 5184, '짜는': 5185, '까말까': 5186, '예매': 5187, '씁쓸한': 5188, '불법': 5189, '거울': 5190, '느껴짐': 5191, '개잼': 5192, '영감': 5193, '장쯔이': 5194, '미리': 5195, '부턴': 5196, '오글거림': 5197, '미안하지만': 5198, '새롭게': 5199, '아역배우': 5200, '안되네요': 5201, '고질라': 5202, '증': 5203, '실컷': 5204, '화려하고': 5205, '귀가': 5206, '찾아볼': 5207, '신나게': 5208, '좋아했는데': 5209, '빚': 5210, '시원하게': 5211, '쿠': 5212, '버렸음': 5213, '글구': 5214, '스러웠다': 5215, '였다니': 5216, '보고있습니다': 5217, '달콤한': 5218, '먹해': 5219, '훈남': 5220, '같았음': 5221, '태': 5222, '되다니': 5223, '닮은': 5224, '발레': 5225, '찬란': 5226, '다른거': 5227, '비유': 5228, '법칙': 5229, '자세히': 5230, '빌': 5231, '족': 5232, '잘생김': 5233, '..\"': 5234, '자제': 5235, '지루하기만': 5236, '미술': 5237, '내리는': 5238, '↓': 5239, '뭡': 5240, '야할듯': 5241, '올려': 5242, '혹성탈출': 5243, '격전': 5244, '고찰': 5245, '일생': 5246, '인디아나': 5247, '말았어야': 5248, '잠수함': 5249, '왤': 5250, '써도': 5251, '욤': 5252, '기대했던': 5253, '느리고': 5254, '한두': 5255, '재미있을': 5256, '넣어': 5257, '유명': 5258, '14년': 5259, '사다코': 5260, '신현준': 5261, '열린': 5262, 'ㅋㅋㅋㅋㅋㅋㅋㅋㅋㅋㅋㅋㅋㅋ': 5263, '다를게': 5264, '즉': 5265, '지존': 5266, '절실': 5267, '곳곳': 5268, '저예산영화': 5269, '묻어나는': 5270, '허무하다': 5271, '정재영': 5272, '피는': 5273, '주목': 5274, '해리슨': 5275, '50년': 5276, '두근두근': 5277, '먹을': 5278, '유치하지만': 5279, '즐길': 5280, '만들어주세요': 5281, '비명': 5282, '말아라': 5283, '신기할': 5284, '시사': 5285, '그러니까': 5286, '받아야': 5287, '아니었으면': 5288, '샤론스톤': 5289, '저급한': 5290, '여동생': 5291, '케이트': 5292, '런닝타임': 5293, '인한': 5294, '질투': 5295, '아자': 5296, '예의': 5297, '빵터짐': 5298, '어우': 5299, '억지스러': 5300, '좋아함': 5301, '미인': 5302, '거뭐': 5303, '감당': 5304, '비난': 5305, '브래드피트': 5306, '대책': 5307, '허니': 5308, '만드는게': 5309, '마크': 5310, '만들었는데': 5311, '설레임': 5312, '일베': 5313, '☆': 5314, '죽임': 5315, '받는다': 5316, '기어': 5317, '잔혹한': 5318, '주지훈': 5319, '보물': 5320, '황비홍': 5321, '극한': 5322, '한글': 5323, '소문': 5324, '깨워주는': 5325, '신기한': 5326, '깔끔하게': 5327, '하겠지만': 5328, '0.5': 5329, '애도': 5330, '오그라든다': 5331, '에게나': 5332, '다문화': 5333, '달까': 5334, '홍진호': 5335, '승': 5336, '샤를': 5337, '4년': 5338, '실망한': 5339, '연장': 5340, '다름': 5341, '어찌나': 5342, '끝나지': 5343, '준거': 5344, '비슷': 5345, '나가고': 5346, '현빈': 5347, '울었음': 5348, '빡쳐서': 5349, '아무래도': 5350, '치기': 5351, '동아리': 5352, '명곡': 5353, '3년': 5354, '덕후': 5355, '한장': 5356, '보냅니다': 5357, '스톤': 5358, '매트릭스': 5359, '졸려서': 5360, '우월': 5361, '건아': 5362, '어우러진': 5363, '실망했다': 5364, '한게': 5365, '금요일': 5366, '역사왜곡': 5367, '먹한': 5368, '적당하다': 5369, '좋아하게': 5370, '없다면': 5371, '뇌리': 5372, '리오': 5373, '나가': 5374, '전적': 5375, '속도': 5376, '아니냐': 5377, '미안해': 5378, '없었습니다': 5379, '생각나네': 5380, '내러티브': 5381, '부재': 5382, '박해일': 5383, '잣': 5384, '들어요': 5385, '나오는게': 5386, '지겨워': 5387, '미로': 5388, '죽기': 5389, '망함': 5390, '흘러도': 5391, '토마스': 5392, '한예슬': 5393, '좋구': 5394, '미군': 5395, '않았습니다': 5396, '프레디': 5397, '대형': 5398, '장편': 5399, '되기': 5400, '플레이': 5401, '만들었음': 5402, '싸우고': 5403, '측면': 5404, '왠만해': 5405, '뗄': 5406, '드리고': 5407, '몰라서': 5408, '흔히': 5409, '.?': 5410, '안되요': 5411, '기차': 5412, '넋': 5413, '자료': 5414, '헤어': 5415, '남음': 5416, '우리네': 5417, '화답': 5418, '보았지만': 5419, '~~!': 5420, '꾹': 5421, '파일': 5422, '수다': 5423, '있다는게': 5424, '악평': 5425, '불편하고': 5426, '만든듯': 5427, '더러워': 5428, '무려': 5429, '필요없고': 5430, '돋네': 5431, '선전': 5432, '크리스틴': 5433, '하다는': 5434, '무니': 5435, '켄': 5436, '크로우': 5437, '압박': 5438, '핳': 5439, '고요': 5440, '연령': 5441, '옹박': 5442, '레이싱': 5443, '으으': 5444, '투자자': 5445, 'kbs': 5446, '고백': 5447, '주체': 5448, '롯데': 5449, '.............': 5450, '버금': 5451, '에게서': 5452, '잃어버린': 5453, '그러니': 5454, '나오니': 5455, '같았는데': 5456, '죽인다': 5457, '테론': 5458, '어떨까': 5459, '가치관': 5460, '쓰레기통': 5461, '잔잔하면서': 5462, '오글거려': 5463, '암살': 5464, '3일': 5465, '아쉽네': 5466, '쯧': 5467, '나열': 5468, '폭': 5469, '시스템': 5470, '슈렉': 5471, '채플린': 5472, '인종': 5473, '심각한': 5474, '했냐': 5475, '됐음': 5476, '따윈': 5477, '한없이': 5478, '충만': 5479, '광주': 5480, '있겠지': 5481, '알아야': 5482, '괴수': 5483, '충무로': 5484, '봐주겠다': 5485, '만날': 5486, '찰리': 5487, '나이트': 5488, '봤었다': 5489, '에리': 5490, '위험한': 5491, '서우': 5492, '올라갈': 5493, '나오냐': 5494, '괜찮': 5495, '조선족': 5496, 'in': 5497, '마른': 5498, '어울려': 5499, '콤비': 5500, '현장': 5501, '말기': 5502, '그랬다': 5503, '늙어': 5504, '됌': 5505, '나왔습니다': 5506, '몬스터': 5507, '보이려고': 5508, '...;;;': 5509, '떠': 5510, '크리스토퍼': 5511, '현대인': 5512, '황': 5513, '장군': 5514, '괜찮네': 5515, '12년': 5516, '꾼': 5517, '보고있는': 5518, '왔던': 5519, '요구': 5520, '닿는다': 5521, '><': 5522, '함정': 5523, '즐': 5524, '게왜': 5525, '섹시한': 5526, '거대한': 5527, '들어가': 5528, 'ㄹ': 5529, '유오성': 5530, '마인드': 5531, '불필요한': 5532, '우디': 5533, '오류': 5534, '언론': 5535, '치밀한': 5536, '잡아': 5537, '로렌스': 5538, '미만': 5539, '회장': 5540, '리즈시절': 5541, '일대기': 5542, '재회': 5543, '호러영화': 5544, '참을': 5545, '불편하다': 5546, '기대합니다': 5547, '리들리': 5548, '디스': 5549, '어둠': 5550, '그렇': 5551, '상투': 5552, '휴머니즘': 5553, '보장': 5554, '없더라': 5555, '싹': 5556, '로그': 5557, '대략': 5558, '실종': 5559, '앵글': 5560, '따라서': 5561, '자비': 5562, 'o': 5563, '나올수': 5564, '깎아': 5565, '2013년': 5566, '공개': 5567, '멍청이': 5568, '안목': 5569, '행복했습니다': 5570, '교감': 5571, '느린': 5572, '옹': 5573, '돌려줘': 5574, '보여주지': 5575, '매년': 5576, '이라곤': 5577, '라곤': 5578, '입은': 5579, '억지스럽다': 5580, '문근영': 5581, '남김': 5582, '뜸': 5583, '리스트': 5584, '시청율': 5585, '아름다웠던': 5586, '근거': 5587, '몰아': 5588, '표본': 5589, '답답함': 5590, '창작': 5591, '로보캅': 5592, '먹어라': 5593, '슬프게': 5594, '2001년': 5595, '묵직한': 5596, '안녕': 5597, '작정': 5598, '더한': 5599, '짧게': 5600, '진구': 5601, '한쪽': 5602, '대단합니다': 5603, '웨슬리': 5604, '즐겁다': 5605, '없을듯': 5606, '지겨운': 5607, '곱니다': 5608, '나네': 5609, '에너지': 5610, '보석': 5611, '종합': 5612, '개독': 5613, '느꼈습니다': 5614, '화평': 5615, '옹호': 5616, '진화': 5617, '콘서트': 5618, '선배': 5619, '껄': 5620, '다음주': 5621, '악의': 5622, '작업': 5623, '봣다': 5624, '어려움': 5625, '믿는': 5626, '조인성': 5627, '까메오': 5628, '가볍고': 5629, '빠르고': 5630, '어느새': 5631, '바라며': 5632, '개미': 5633, '!!!!!!!': 5634, '기대되': 5635, '조재현': 5636, 'K': 5637, '형성': 5638, '충실한': 5639, '하다고': 5640, '적응': 5641, '느꼈던': 5642, '1%': 5643, '김남길': 5644, '바이러스': 5645, '바른': 5646, '위원회': 5647, '쏙': 5648, '허무하고': 5649, '직전': 5650, '발톱': 5651, '진다': 5652, '신나는': 5653, '생생하게': 5654, '자는': 5655, '..,': 5656, '가문': 5657, '민망한': 5658, '공효진': 5659, '이민정': 5660, '윤계상': 5661, '된것': 5662, '웬만한': 5663, '마구': 5664, '고소영': 5665, '솜씨': 5666, '지나서': 5667, '재미없다는': 5668, '루크': 5669, '분명하다': 5670, '됬다': 5671, '스캔들': 5672, '!^^': 5673, '어째서': 5674, '없이도': 5675, '나와요': 5676, '출연료': 5677, '까지의': 5678, '버젼': 5679, '많지': 5680, '어깨': 5681, '때우기': 5682, '人': 5683, '고현정': 5684, '욬': 5685, '대치': 5686, ',..': 5687, '씁니다': 5688, '보느라': 5689, '이종석': 5690, '에이리언': 5691, '찾았다': 5692, 'ㅠㅠㅠㅠㅠ': 5693, '황제': 5694, '지진희': 5695, '슬프': 5696, '2회': 5697, '모자란': 5698, '로드무비': 5699, '효민': 5700, '원빈': 5701, '호평': 5702, '후지': 5703, '하시네요': 5704, '우울할': 5705, '맑은': 5706, '졸았다': 5707, '샌': 5708, '..??': 5709, '유도': 5710, '볼껄': 5711, '프레데터': 5712, '산만한': 5713, '맞': 5714, '엑스트라': 5715, '클루니': 5716, '어려서': 5717, '놀람': 5718, '사라진': 5719, '아니에요': 5720, '짤': 5721, '조각': 5722, '웃게': 5723, '오토바이': 5724, '자세': 5725, '멋집니다': 5726, '시보': 5727, '적도': 5728, '~~~~~~': 5729, '알면서도': 5730, '때메': 5731, 'and': 5732, 'very': 5733, '퍼': 5734, '실존': 5735, '정신건강': 5736, '볼꺼': 5737, '해줬으면': 5738, '나지': 5739, '꺼져': 5740, '따뜻하게': 5741, '큐': 5742, '어설퍼': 5743, '높음': 5744, '육체': 5745, '멜깁슨': 5746, '확신': 5747, '턱': 5748, '...!!': 5749, '…': 5750, '몰래': 5751, '제법': 5752, '하구만': 5753, '태어난': 5754, '끝나면': 5755, '인셉션': 5756, '망쳤다': 5757, '찌질한': 5758, '300': 5759, '이순신': 5760, '임용': 5761, '세라': 5762, '돋보임': 5763, '마루': 5764, '돌리도': 5765, '어색하다': 5766, '알맹이': 5767, '도박': 5768, '던지는': 5769, '각인': 5770, '검은': 5771, '페이지': 5772, '지루하지만': 5773, '듣보잡': 5774, '통수': 5775, '사라져': 5776, '다한': 5777, '쌍욕': 5778, 'ㄴㄴ': 5779, '핸드폰': 5780, '퉤': 5781, '김선아': 5782, '초심': 5783, '발휘': 5784, '슈스케': 5785, '변호사': 5786, '좋아하면': 5787, '말아야': 5788, '수사': 5789, '사전': 5790, '나온다는': 5791, '음모': 5792, '주의자': 5793, '변명': 5794, '줬으면': 5795, '지켜': 5796, '빠질': 5797, '만큼도': 5798, '만드는데': 5799, '훈련': 5800, '재기': 5801, '신기하다': 5802, '도덕': 5803, '구해': 5804, '나오는건': 5805, '고래': 5806, '악몽': 5807, '데이먼': 5808, '얼른': 5809, \"?'\": 5810, '끝내준다': 5811, '유작': 5812, '떄문': 5813, '클린트': 5814, '전국': 5815, '아쉽습니다': 5816, '낯선': 5817, '무의미한': 5818, '참신': 5819, '없었다면': 5820, '승화': 5821, '한지민': 5822, '바뀌고': 5823, '썩은': 5824, '다수': 5825, '정돈': 5826, '있는것도': 5827, '그래두': 5828, '이상형': 5829, '봤는데요': 5830, '산드라': 5831, '종이': 5832, '신기': 5833, '아팠다': 5834, '당하고': 5835, '해대': 5836, '건물': 5837, '약한': 5838, '가운데': 5839, '대리': 5840, '통한': 5841, '!!!!!!!!': 5842, '인증': 5843, '콧물': 5844, '급전': 5845, '였': 5846, '^_^': 5847, '아마도': 5848, '멋대로': 5849, '이었다면': 5850, '알아서': 5851, '들었음': 5852, '높고': 5853, '줄알': 5854, '있는것': 5855, '여진구': 5856, '망했는지': 5857, '보는건': 5858, '이남': 5859, '미치겠다': 5860, '달았다': 5861, '봤으니': 5862, '병사': 5863, '나을': 5864, '밝은': 5865, '그치만': 5866, '시킬': 5867, '붉은': 5868, '방이': 5869, '들이라면': 5870, '해낸': 5871, '큼': 5872, '신파극': 5873, '통쾌': 5874, '스티브': 5875, '였네': 5876, '재미있었던': 5877, '무얼': 5878, '사랑스런': 5879, '사춘기': 5880, '벗고': 5881, '똥폼': 5882, '평타': 5883, '백미': 5884, '까지가': 5885, '금방': 5886, '해줌': 5887, '우마': 5888, '비정상': 5889, '그딴': 5890, '아주아주': 5891, '있었나': 5892, '여우': 5893, '듯이': 5894, '에서부터': 5895, '수정': 5896, '수술': 5897, '사서': 5898, '떠올리게': 5899, '추악한': 5900, '자하': 5901, '훼손': 5902, '잼있어': 5903, '야합니다': 5904, '피라냐': 5905, '독창': 5906, '17': 5907, '나오지만': 5908, '반의': 5909, '짧아서': 5910, '위안': 5911, '마초': 5912, '잡지': 5913, '하필': 5914, '불쌍함': 5915, '봤어도': 5916, '들어가는': 5917, '모델': 5918, '거중': 5919, '한때': 5920, '헤헤': 5921, '참신하고': 5922, '낸다': 5923, '받았습니다': 5924, '뺨': 5925, '해주길래': 5926, '나오면서': 5927, '사의': 5928, '탕': 5929, '어땠을까': 5930, '화끈하게': 5931, '발랄한': 5932, '퀄': 5933, '한듯': 5934, '관객수': 5935, '정유미': 5936, '미묘한': 5937, '나았다': 5938, '해주': 5939, '싸울': 5940, '이선균': 5941, '조커': 5942, '아이리스': 5943, '없는지': 5944, '이슈': 5945, '높네요': 5946, '문성우': 5947, '엑': 5948, '부러': 5949, '소유': 5950, '창조': 5951, '돌아가는': 5952, '그리운': 5953, '크리': 5954, '결과물': 5955, '나인': 5956, '근본': 5957, '보고싶지': 5958, '이렇지': 5959, '린치': 5960, '잔잔하니': 5961, '정답': 5962, '있었어요': 5963, '조용한': 5964, '부의': 5965, '라고는': 5966, '봤는대': 5967, '허준': 5968, '묻어': 5969, '이길': 5970, '질주': 5971, '알았네요': 5972, '서서히': 5973, '기부': 5974, '해놓은': 5975, '찍어라': 5976, '감독판': 5977, '일일': 5978, '놀라': 5979, '어보': 5980, '직장': 5981, '서인국': 5982, '해보니': 5983, '2008년': 5984, '중요한건': 5985, '얻어': 5986, 'my': 5987, '잔잔함': 5988, '걸레': 5989, '황금': 5990, '만들었어요': 5991, '도아': 5992, '대단하네요': 5993, '더보': 5994, '멋있게': 5995, '고마워요': 5996, '빅': 5997, '보호': 5998, '또다시': 5999, '배우고': 6000, '터지고': 6001, '한국말': 6002, '하던지': 6003, '맞춰': 6004, '정적': 6005, '화난다': 6006, '없으며': 6007, 'MC': 6008, '즐기는': 6009, '민주주의': 6010, '후유증': 6011, '소방관': 6012, '한거': 6013, '암울한': 6014, '흐': 6015, '빠르게': 6016, '심했다': 6017, '나비': 6018, '풋풋하고': 6019, '소수': 6020, '지루합니다': 6021, '공리': 6022, '남자친구': 6023, '뒤통수': 6024, '자연스럽고': 6025, '여명': 6026, '데이트': 6027, '끔찍한': 6028, '지루하지도': 6029, '경기': 6030, '낭': 6031, '평범': 6032, '괜찮았고': 6033, '코스트': 6034, '?\"\"': 6035, '똑같다': 6036, '해줄': 6037, 'OCN': 6038, '김수로': 6039, '앵': 6040, '실패한': 6041, '먹으면서': 6042, '좋겟다': 6043, '후의': 6044, '볼땐': 6045, '신선하다': 6046, '만들까': 6047, '봤던건데': 6048, '뭉클한': 6049, '앓이': 6050, '아쉬웠다': 6051, '미니': 6052, '매회': 6053, '고향': 6054, '행운': 6055, '제공': 6056, '팬심': 6057, '매튜': 6058, '너무하다': 6059, '멋있었다': 6060, '좌파': 6061, '미쳤다': 6062, '소외': 6063, '없죠': 6064, '아깝다고': 6065, '끝났다': 6066, '진의': 6067, '자마자': 6068, '않은가': 6069, '발암': 6070, '소린': 6071, '혼': 6072, '예정': 6073, '쉣': 6074, '치가': 6075, '독백': 6076, '독도': 6077, '이럴': 6078, '댓글알바': 6079, 'ㅋㅋㅋㅋㅋㅋㅋㅋㅋㅋㅋㅋㅋㅋㅋ': 6080, '넘어서': 6081, '부수': 6082, '썬': 6083, '보고싶어': 6084, '어벤져스': 6085, '받았는데': 6086, '브래드': 6087, '2일': 6088, '고려': 6089, '내겐': 6090, '지성': 6091, '있겠다': 6092, '도망': 6093, '채민서': 6094, 'F': 6095, '차가운': 6096, '이분': 6097, '치명': 6098, '그렇네요': 6099, '떠오른다': 6100, '2012': 6101, '댓': 6102, '밀어': 6103, '막스': 6104, '악인': 6105, '눈뜨고': 6106, '춘': 6107, '놓치지': 6108, '되지만': 6109, '으아': 6110, '--;': 6111, '힘듬': 6112, '사막': 6113, '인피니트': 6114, '할텐데': 6115, '낚임': 6116, '토르': 6117, '이라고는': 6118, '하는거지': 6119, '같은게': 6120, '취미': 6121, '웃어': 6122, '경제': 6123, '평정': 6124, '좋다는': 6125, '공격': 6126, '맞지만': 6127, '가만히': 6128, '마련': 6129, '찍어서': 6130, '옴니버스': 6131, '받게': 6132, '나오니까': 6133, '제이': 6134, '일방': 6135, '지하철': 6136, '훌륭했다': 6137, '어유': 6138, '거여': 6139, '스탤론': 6140, '서민': 6141, '알겠으나': 6142, '일어나는': 6143, '토미': 6144, '합리화': 6145, '타짜': 6146, '행복해지는': 6147, '불가능': 6148, '그룹': 6149, '오디션': 6150, '주장': 6151, '1억': 6152, '와나': 6153, '히치콕': 6154, '뉴': 6155, '의존': 6156, '그러': 6157, '오래오래': 6158, '관계자': 6159, '어메이징': 6160, '내서': 6161, '출': 6162, '이브': 6163, '배울': 6164, '쓰나미': 6165, '짠한': 6166, '에야': 6167, '들었는데': 6168, '낳은': 6169, '있죠': 6170, '휘': 6171, '맞는듯': 6172, '케로로': 6173, '큰일': 6174, '시시한': 6175, '불가능한': 6176, '잘생긴': 6177, '가도': 6178, '지능': 6179, '아날로그': 6180, '보겠네': 6181, '같은건': 6182, '안되지': 6183, '일본애니': 6184, '우울증': 6185, '시바': 6186, '농구': 6187, '안티': 6188, '메리': 6189, '잼있': 6190, '김래원': 6191, '에혀': 6192, '됐지만': 6193, '들었던': 6194, '없잖아': 6195, '여실히': 6196, '끊임없이': 6197, '해보는': 6198, '중이': 6199, '주신': 6200, '재미없던데': 6201, '100분': 6202, '먹음': 6203, '높냐': 6204, '보여줬다': 6205, '일세': 6206, '잼있고': 6207, '봤으나': 6208, '유역비': 6209, '멋지네요': 6210, '몰랐던': 6211, 'no': 6212, '대구': 6213, '보겠음': 6214, '각성': 6215, '거침': 6216, '되었어요': 6217, '즘': 6218, '과제': 6219, '크고': 6220, '스트립': 6221, '주제곡': 6222, '한몫': 6223, '계단': 6224, '동기': 6225, 'cgv': 6226, '해주네요': 6227, '눈물난다': 6228, '농락': 6229, '조아요': 6230, '의심스럽다': 6231, '좋아합니다': 6232, '토이스토리': 6233, '알았지만': 6234, '-.-': 6235, '잉여': 6236, '흔해': 6237, '화장': 6238, '되었으면': 6239, '하죠': 6240, '브로디': 6241, '교차': 6242, '보았어요': 6243, '최대한': 6244, '놓친': 6245, '많': 6246, '어물': 6247, '정글': 6248, '이러한': 6249, '이쁘네': 6250, '신들린': 6251, '짐작': 6252, '유승준': 6253, '리언': 6254, '쾌감': 6255, '보영': 6256, '.!!': 6257, '안된다는': 6258, '너무하네요': 6259, '타입': 6260, '구매': 6261, '블': 6262, '팬티': 6263, '안듬': 6264, '적나라하게': 6265, '거대': 6266, '인내': 6267, '빠지고': 6268, '심해': 6269, '지루하다고': 6270, '섞어': 6271, '신은경': 6272, '지속': 6273, '),': 6274, '결합': 6275, '왔으면': 6276, '짧고': 6277, '엄태웅': 6278, '무작정': 6279, '오리': 6280, '안고': 6281, '레인': 6282, '야하지': 6283, '배는': 6284, '제인': 6285, '괴작': 6286, '마피아': 6287, '가볍지': 6288, '은희': 6289, '망신': 6290, '화이': 6291, '엠비씨': 6292, '모를까': 6293, '논란': 6294, '해설': 6295, '거슬린다': 6296, '...-_-': 6297, '완벽히': 6298, '밝고': 6299, '문학': 6300, '익숙한': 6301, '2%': 6302, '작살': 6303, '2010년': 6304, '강하다': 6305, '의아': 6306, '대변': 6307, '박자': 6308, '짜증나요': 6309, '성향': 6310, '자녀': 6311, '시킨다': 6312, '구림': 6313, '비슷하게': 6314, '거도': 6315, '브리': 6316, '그러고': 6317, '주민': 6318, '신뢰': 6319, '고만': 6320, '뗄수': 6321, '로맨스영화': 6322, '천녀유혼': 6323, '두서': 6324, '침대': 6325, '약해': 6326, '카타르': 6327, '아웃': 6328, '미성년': 6329, '통틀어': 6330, '부대': 6331, '최지우': 6332, '헌': 6333, '....?': 6334, '지상파': 6335, '뎁': 6336, '잼있었음': 6337, '완전한': 6338, '이자벨': 6339, '검': 6340, '보여줄': 6341, '천하': 6342, '안됩니다': 6343, '궁금증': 6344, '동의': 6345, '잊혀지지가': 6346, '신동엽': 6347, '보는지': 6348, '무장': 6349, '보삼': 6350, '생겼다': 6351, '아쉬워': 6352, '욧': 6353, '부끄러운': 6354, '되었지만': 6355, '프로젝트': 6356, '흘러': 6357, '시킴': 6358, '내공': 6359, '200': 6360, '된장': 6361, '다르겠지만': 6362, '쥔': 6363, '않았어요': 6364, '좆': 6365, '14': 6366, '남습니다': 6367, '사랑과전쟁': 6368, '퀸': 6369, '주는데': 6370, '대단함': 6371, '재미있던데': 6372, '안겨': 6373, '역겹고': 6374, '어필': 6375, '정성': 6376, '모르겠으나': 6377, '할게요': 6378, '스토': 6379, '관성': 6380, '룩': 6381, '장만옥': 6382, '하는건데': 6383, '왕따': 6384, '빠지지': 6385, '않길': 6386, '쓴거': 6387, '쓰나': 6388, '좌절': 6389, '진자': 6390, '유익한': 6391, '가가': 6392, '짜집': 6393, '아니란': 6394, '아르': 6395, '아니겠지': 6396, '전통': 6397, '만으로는': 6398, '정권': 6399, '약하고': 6400, '난해하다': 6401, '러': 6402, '찍어도': 6403, '여야': 6404, '진하게': 6405, '기계': 6406, '사례': 6407, '패닝': 6408, '잘생겼다': 6409, '만들어야': 6410, '노무현': 6411, '테스트': 6412, '짠': 6413, '처절한': 6414, '넣고': 6415, '아랫': 6416, '수업': 6417, '쿠바': 6418, '끈다': 6419, '벌레': 6420, '캐서린': 6421, '자존심': 6422, '어중간한': 6423, '잔혹': 6424, '신앙': 6425, '시켜서': 6426, '좌빨': 6427, '있었지': 6428, '애절한': 6429, '놀라울': 6430, '지루하네요': 6431, '설레는': 6432, '오고': 6433, '잼있었다': 6434, '힐': 6435, '크로': 6436, '유쾌하다': 6437, '유행어': 6438, '재밌긴': 6439, '싶어지는': 6440, '촌스러운': 6441, '탐욕': 6442, '패기': 6443, '기괴한': 6444, '침몰': 6445, '미스터': 6446, '때론': 6447, '쉴': 6448, '진부': 6449, '양산': 6450, '하루하루': 6451, '안경': 6452, '있다가': 6453, '목표': 6454, '웃기긴': 6455, '필요할까': 6456, '밉': 6457, '빈틈': 6458, '씁': 6459, '끝장': 6460, '살아야': 6461, '있을듯': 6462, '식상하고': 6463, '가더': 6464, '모드': 6465, '아담샌들러': 6466, '솔직하게': 6467, '진지': 6468, '잔인하지도': 6469, '별반': 6470, '모른': 6471, '비급': 6472, '붕괴': 6473, '봉태규': 6474, '준수': 6475, '중구': 6476, '난방': 6477, '와이어': 6478, '스타뎀': 6479, '자신감': 6480, '괜찮던데': 6481, '촌스럽고': 6482, '위치': 6483, '되다': 6484, '알았습니다': 6485, '~!!!!': 6486, '이내': 6487, '흐흐': 6488, '타이밍': 6489, '자가': 6490, '해리': 6491, '한니발': 6492, '있다는걸': 6493, '클라': 6494, '윌스미스': 6495, '핵심': 6496, '약속': 6497, '죽겠다': 6498, '이었다는': 6499, '이틀': 6500, '인공': 6501, '많았던': 6502, '섞인': 6503, '여군': 6504, '뛰어': 6505, '말리': 6506, '판타지영화': 6507, '배두나': 6508, '제적': 6509, '형태': 6510, '매끄럽지': 6511, 'i': 6512, '므': 6513, '수년': 6514, '숨막히는': 6515, '잼있는데': 6516, '조롱': 6517, '조잡하고': 6518, '고고': 6519, '알것': 6520, '부류': 6521, '부각': 6522, '괜찮았어요': 6523, '청': 6524, '삼국지': 6525, '나오': 6526, '미남': 6527, '보상': 6528, '어정쩡한': 6529, '엑소': 6530, '재미없는데': 6531, '괴': 6532, '균형': 6533, '미션임파서블': 6534, '있기에': 6535, '다가오는': 6536, '허무함': 6537, '그렇다치고': 6538, '새로': 6539, '가다': 6540, '날라': 6541, '그런게': 6542, '불꽃': 6543, '버려서': 6544, '밋밋하고': 6545, '오줌': 6546, '모르겠어요': 6547, 'but': 6548, '나소': 6549, '알리': 6550, '쏘는': 6551, '되었고': 6552, '지겹고': 6553, '괜찬': 6554, '뮤직': 6555, '뽀로로': 6556, '블록': 6557, '차인표': 6558, '썩어': 6559, '아프네요': 6560, '멸망': 6561, '묻혀': 6562, '특성': 6563, '테이크': 6564, '진국': 6565, '좋았네요': 6566, '싶었음': 6567, '주는거': 6568, '나온게': 6569, '엉뚱한': 6570, '줘야지': 6571, '깊었던': 6572, '집어': 6573, '헛소리': 6574, '됐고': 6575, '확실한': 6576, '책임감': 6577, '박힌': 6578, '가는데': 6579, '어떨지': 6580, '키스신': 6581, '아키라': 6582, '무표정': 6583, '만들었던': 6584, '좋아한다': 6585, '축': 6586, '스무': 6587, '어색하지': 6588, '빠져든다': 6589, '브라이언': 6590, '롭': 6591, '아까웠음': 6592, '지루해요': 6593, '편히': 6594, '기대하면서': 6595, '생각남': 6596, '초적': 6597, '최진실': 6598, \".'\": 6599, '내놔': 6600, 'S': 6601, '명량': 6602, '어쨋': 6603, 'No': 6604, '주시': 6605, '통일': 6606, '수습': 6607, '나오지도': 6608, '제레미': 6609, '장담': 6610, '좋으면': 6611, '발차기': 6612, '튀는': 6613, '있을까요': 6614, '허영': 6615, '통찰': 6616, 'love': 6617, 'AV': 6618, '동원': 6619, '아파': 6620, '’': 6621, '유해진': 6622, '좋았어': 6623, '지루하진': 6624, '현상': 6625, '홈': 6626, '필요없이': 6627, '일어날': 6628, '무서웠음': 6629, '물고기': 6630, '더러': 6631, '갔으면': 6632, '웃어야': 6633, '데미무어': 6634, '점임': 6635, '런닝': 6636, '쪽바리': 6637, '물질': 6638, '기운': 6639, '암시': 6640, '구지성': 6641, '기반': 6642, '얼은': 6643, '대를': 6644, '재밌겠다': 6645, '될거': 6646, '더군요': 6647, '데려다': 6648, '문제점': 6649, '라며': 6650, '멋있어': 6651, '마주': 6652, '무섭다고': 6653, '서세원': 6654, '만들었지': 6655, '올만에': 6656, '으로의': 6657, '실체': 6658, '블루레이': 6659, '동참': 6660, '틀림없다': 6661, '대단해': 6662, '적이였다': 6663, '판타스틱': 6664, '해학': 6665, '사형': 6666, '피터팬': 6667, '..............': 6668, '잔잔히': 6669, '떨어지지만': 6670, '담담하게': 6671, '남동생': 6672, '쬐': 6673, '하나경': 6674, '잘난': 6675, 'L': 6676, '싫어서': 6677, '제도': 6678, '초콜릿': 6679, '끝났으면': 6680, '좋아라': 6681, '자전거': 6682, '다그': 6683, '돋보였던': 6684, '바비': 6685, '드래곤': 6686, '화신': 6687, '모건': 6688, '요원': 6689, '부실한': 6690, '조디': 6691, '2009년': 6692, '우베': 6693, '이쁘네요': 6694, '번만': 6695, '다가온다': 6696, '잃었다': 6697, 'ㅜㅜㅜㅜ': 6698, '-_': 6699, '짧지만': 6700, '박신혜': 6701, '난이': 6702, '느끼지': 6703, '놔서': 6704, '충분': 6705, '흠잡을': 6706, '알수있는': 6707, '대학교': 6708, '반지의제왕': 6709, '하여튼': 6710, '안정': 6711, '봣음': 6712, '심하네': 6713, '떨어져서': 6714, '퍼펙트': 6715, '케이스': 6716, '띠': 6717, '자질': 6718, '비노': 6719, '공기': 6720, '99년': 6721, '단막극': 6722, '감우성': 6723, '최강희': 6724, '컬': 6725, '하얀': 6726, '봣던': 6727, '아리': 6728, '끝내주는': 6729, '어렵게': 6730, '중요성': 6731, '이었으면': 6732, '마동석': 6733, '영호': 6734, '저건': 6735, '어이없게': 6736, '피하': 6737, '이러면': 6738, '주겠다': 6739, '되야지': 6740, '할것이다': 6741, '대기업': 6742, '웨이': 6743, '보내고': 6744, '어요': 6745, '죽어서': 6746, '악플': 6747, '세명': 6748, '장사': 6749, '꽁': 6750, '며칠': 6751, '움직임': 6752, '모니터': 6753, '우울하고': 6754, '레저': 6755, '낮은듯': 6756, '낚였어': 6757, '싶다는': 6758, '괜찮아요': 6759, '유명배우': 6760, '다나': 6761, '어렵고': 6762, '이나마': 6763, '전범': 6764, '싸이': 6765, 'sbs': 6766, '시간여행': 6767, '맙소사': 6768, '이런지': 6769, '이중': 6770, '희극': 6771, '어색해서': 6772, '경지': 6773, '유치하지': 6774, '먹하고': 6775, '생생한': 6776, '엮': 6777, '좀해': 6778, '축하': 6779, '모처럼': 6780, '서양인': 6781, '지독한': 6782, '편지': 6783, '안주': 6784, '자라': 6785, '유이': 6786, '카드': 6787, '타는': 6788, '있어야지': 6789, '약자': 6790, 'm': 6791, '별개': 6792, '아까운데': 6793, '치밀어': 6794, '회복': 6795, '친일파': 6796, '잡은': 6797, '넘친다': 6798, '손꼽히는': 6799, '닌자': 6800, '느끼': 6801, '김승우': 6802, '상승': 6803, '오늘날': 6804, '트와일라잇': 6805, '궁금': 6806, ',...': 6807, '힘들듯': 6808, '개봉관': 6809, '메릴': 6810, '하여간': 6811, 'so': 6812, '결제': 6813, '무서운거': 6814, '보여줬는데': 6815, '인칭': 6816, '단순하고': 6817, '그림자': 6818, '엥': 6819, '였을': 6820, '시원': 6821, 'av': 6822, '2002년': 6823, '안젤리나': 6824, '하셨어요': 6825, '고집': 6826, '욕설': 6827, '귀엽': 6828, '성질': 6829, '만인': 6830, '내지': 6831, '액': 6832, '단계': 6833, '이치': 6834, '되었네요': 6835, '난생': 6836, '다루는': 6837, '보더': 6838, '브금': 6839, '댐': 6840, '날림': 6841, '않냐': 6842, '이었네요': 6843, '쓸쓸한': 6844, '극도': 6845, '생일': 6846, '나쁘다': 6847, '여자도': 6848, '이기는': 6849, '남한': 6850, 'O': 6851, '찍었을까': 6852, '랍시고': 6853, '놀랬다': 6854, '해운대': 6855, '신비로운': 6856, '저딴': 6857, '유준상': 6858, '장인': 6859, '삘': 6860, 'me': 6861, '말곤': 6862, '진출': 6863, '만듦': 6864, '이수근': 6865, '뮤': 6866, '도감': 6867, '테러리스트': 6868, '가위': 6869, '부리': 6870, '괜찮지만': 6871, '건달': 6872, '좋던데': 6873, '철저히': 6874, '배슬기': 6875, '맞을': 6876, '센': 6877, '시망': 6878, '윽': 6879, '조악한': 6880, '돌이': 6881, '리치': 6882, '느껴지네요': 6883, '모자': 6884, '돋보인': 6885, '순정': 6886, '앉아': 6887, '흥미롭지': 6888, '건담': 6889, '다녀온': 6890, '돼요': 6891, '살해': 6892, '그러다': 6893, '당대': 6894, '제자': 6895, '칠이': 6896, '심은하': 6897, '사라지고': 6898, '핫': 6899, '흘리며': 6900, '꽉': 6901, '로나': 6902, '미는': 6903, '주고싶은': 6904, '진지하고': 6905, '압축': 6906, '스토리텔링': 6907, '기절': 6908, '짠하고': 6909, '애틋한': 6910, '생각나고': 6911, '신선했다': 6912, '가져다': 6913, '하는군': 6914, '느껴져서': 6915, '건너': 6916, '볼란다': 6917, '하셔서': 6918, '정신없이': 6919, '한수': 6920, '나오길래': 6921, '미친듯': 6922, '벌어지는': 6923, '원스': 6924, '해야되': 6925, '맥주': 6926, '추강': 6927, '9년': 6928, '금발': 6929, '재밌지만': 6930, '만들어내는': 6931, '재밌냐': 6932, '경쟁': 6933, '이정현': 6934, '뜨고': 6935, '헤': 6936, '권리': 6937, '박영화': 6938, 'ㅅㅅ': 6939, '획기': 6940, '폭탄': 6941, '토비': 6942, '빠져들어': 6943, '달려': 6944, '1990년': 6945, '반면': 6946, '푸른': 6947, '탁': 6948, '쓰냐': 6949, '삼가': 6950, '서사시': 6951, '윤시윤': 6952, '연민': 6953, '따뜻하다': 6954, '정신병원': 6955, '돌아가고': 6956, '사랑스러': 6957, '알았어': 6958, '이라기': 6959, '노다메': 6960, '좋을것': 6961, '박정희': 6962, '같았어요': 6963, '외로': 6964, '조기': 6965, '남깁니다': 6966, '보겟다': 6967, '닭': 6968, '되는것': 6969, '아일랜드': 6970, '만들었다면': 6971, '조여정': 6972, '^^;;': 6973, '손오공': 6974, '타이타닉': 6975, '있었으나': 6976, '입가': 6977, '들여': 6978, '지닌': 6979, '헌터': 6980, '그리워': 6981, '일기': 6982, '죄책감': 6983, '영화음악': 6984, '사가': 6985, '급하게': 6986, '스콜': 6987, '세지': 6988, '걸릴': 6989, '편안하게': 6990, '는지': 6991, '팔마': 6992, '충족': 6993, '많았다': 6994, '반해': 6995, '기념': 6996, '명언': 6997, '허각': 6998, '추석': 6999, '파티': 7000, '괜찮다고': 7001, '일줄': 7002, '스틱': 7003, '..,,': 7004, '하여금': 7005, '탈락': 7006, '97년': 7007, '샤말란': 7008, '대면': 7009, '짙은': 7010, '없는건': 7011, '여고괴담': 7012, '초한지': 7013, '?.': 7014, '보수': 7015, '같다고': 7016, '김정은': 7017, '떠나지': 7018, '이제껏': 7019, '한일': 7020, '탄은': 7021, '인사': 7022, '들었지만': 7023, '바를': 7024, '모자라': 7025, '스칼렛': 7026, '담겨있는': 7027, '어색함': 7028, '극영화': 7029, '쌍둥이': 7030, '쨩': 7031, '들었어요': 7032, '말길': 7033, '멘스': 7034, '위안부': 7035, '이긴한데': 7036, 'ㅈㄹ': 7037, '가질': 7038, '풀이': 7039, '오점': 7040, '보려는': 7041, '필립': 7042, '지리': 7043, '잠든': 7044, '인간미': 7045, '어울려요': 7046, '이야말로': 7047, '송중기': 7048, '한시': 7049, '로라': 7050, '뱀': 7051, '25': 7052, '규': 7053, '선입견': 7054, '되지도': 7055, '장미': 7056, '보석같은': 7057, '이프': 7058, '피어스': 7059, '살림': 7060, '느끼는게': 7061, '성장기': 7062, '지망': 7063, '삼촌': 7064, '6.5': 7065, '던져': 7066, '전결': 7067, '민영화': 7068, '바뀌는': 7069, '않나요': 7070, '잇는데': 7071, '힘들어': 7072, 'ㅆ': 7073, '신기하고': 7074, '비용': 7075, '고기': 7076, '봅시다': 7077, '국뽕': 7078, '오우': 7079, '촌스러': 7080, '귀엽네요': 7081, '치중': 7082, '대립': 7083, '좌좀': 7084, '유치하기': 7085, '순수하게': 7086, '끄': 7087, '출동': 7088, '변함': 7089, '나타난': 7090, '몸부림': 7091, '보는것도': 7092, '넣어서': 7093, '놀라고': 7094, '에디': 7095, '조치': 7096, '!!!!!!!!!': 7097, '외로운': 7098, '불멸': 7099, '짜고': 7100, '앜': 7101, '원제': 7102, '미치지': 7103, '덧': 7104, '군데': 7105, '애잔한': 7106, '된장녀': 7107, '종종': 7108, '들으면': 7109, '섬세하고': 7110, '고맙다': 7111, '기업': 7112, '불쌍하고': 7113, '있었을까': 7114, '클래스': 7115, '업고': 7116, '사이코패스': 7117, '중세': 7118, '망치는': 7119, '엇어': 7120, '여고생': 7121, '상속': 7122, '윤리': 7123, '동정': 7124, '재밌구만': 7125, '죽어도': 7126, '시위': 7127, '앤딩': 7128, '모여': 7129, '?)': 7130, '히틀러': 7131, '자칫': 7132, '위성': 7133, '안타깝지만': 7134, '짜증나네요': 7135, '안달': 7136, '용의': 7137, '원한': 7138, '민간인': 7139, '뻔하지': 7140, '그릇': 7141, '만들었다고': 7142, '오면': 7143, '알고싶다': 7144, '복귀': 7145, '믿을수': 7146, '재미없었던': 7147, '보고싶어서': 7148, '정치인': 7149, '만들어놓고': 7150, '뛰어나다': 7151, '^.^': 7152, '멋졌다': 7153, '모르겠습니다': 7154, '아메리칸': 7155, '피고': 7156, '쌤': 7157, '결투': 7158, '평작': 7159, '될것이다': 7160, '고릴라': 7161, '~~~~~~~': 7162, '헬기': 7163, '신선함': 7164, '됐네요': 7165, '사소한': 7166, '학': 7167, '였던것': 7168, '저만': 7169, '피로': 7170, '빠진다': 7171, '****': 7172, '곽지민': 7173, '전투기': 7174, '뻔해': 7175, '질감': 7176, '파는': 7177, '서른': 7178, '오만': 7179, '이런데': 7180, '느': 7181, '아트': 7182, '느낌이었다': 7183, '고개': 7184, '같던데': 7185, '일어나서': 7186, '장진영': 7187, '무식한': 7188, '보실': 7189, '배제': 7190, '조건': 7191, '...!!!': 7192, '있었을텐데': 7193, '물결': 7194, '느낄수있는': 7195, '후보': 7196, 'E': 7197, '걸왜': 7198, '우승': 7199, '멀쩡한': 7200, '가왜': 7201, '나왔는지': 7202, '터진다': 7203, '궁금하게': 7204, '마모루': 7205, '웃기려고': 7206, '찾아가는': 7207, '지나가는': 7208, '모아': 7209, '거참': 7210, '영화배우': 7211, '루시': 7212, '찾아봤는데': 7213, '기원': 7214, '구입': 7215, '사정': 7216, '확실하게': 7217, '이지나': 7218, '공각기동대': 7219, '않겠다': 7220, '라마': 7221, '블레이드': 7222, '박스오피스': 7223, '공상': 7224, '재미없을': 7225, '이럴수가': 7226, '하는줄': 7227, '들어가서': 7228, '올드보이': 7229, '주는건': 7230, '아유': 7231, '첩보물': 7232, '지라': 7233, '류승룡': 7234, '술함': 7235, '두뇌': 7236, '림': 7237, '저능': 7238, '개방': 7239, '모니카': 7240, '부실': 7241, '고루': 7242, '보려면': 7243, '폭소': 7244, '흥미롭다': 7245, '통속': 7246, '론데': 7247, '미친다': 7248, '동성애자': 7249, '벗어나지': 7250, '생생하다': 7251, '성공한': 7252, '시어머니': 7253, '잔인하다': 7254, '페이': 7255, '했으니': 7256, '니미': 7257, '줫': 7258, '김규리': 7259, 'lt': 7260, '어쩐지': 7261, '유산': 7262, '찾아볼수': 7263, '학대': 7264, '정책': 7265, 'ㅡㅜ': 7266, '장용': 7267, '1000': 7268, '까지나': 7269, '풀어가는': 7270, '해안': 7271, '질러': 7272, '씁쓸하다': 7273, '‘': 7274, '식당': 7275, '오기': 7276, '기다리고': 7277, '권선': 7278, '양키': 7279, '데드': 7280, '미셸': 7281, '박유천': 7282, '비행': 7283, '도배': 7284, '인디언': 7285, '나옵니다': 7286, '떼': 7287, '왔지만': 7288, '그이': 7289, '없기': 7290, '?????': 7291, '그로테스크': 7292, '킬빌': 7293, '있는건': 7294, '범죄영화': 7295, '했다는게': 7296, '2007년': 7297, '하겠는데': 7298, '비슷해서': 7299, '바꿔라': 7300, '드릅': 7301, '장백지': 7302, '두루': 7303, '모자이크': 7304, '세월호': 7305, '다케시': 7306, '낭비한': 7307, '종말': 7308, '스님': 7309, '화제': 7310, '였던거': 7311, '유승호': 7312, '태권도': 7313, '고르는': 7314, '명예': 7315, '러시': 7316, '버리네': 7317, '2011년': 7318, '연락': 7319, '일텐데': 7320, '즐거웠다': 7321, '쏘': 7322, '맞나요': 7323, '딸아이': 7324, '눈물샘': 7325, '당한': 7326, '화재': 7327, '재미없으면': 7328, '이상우': 7329, '부조리': 7330, '이스라엘': 7331, '마니아': 7332, '일본어': 7333, '고정': 7334, '들용': 7335, '강예원': 7336, '이라지만': 7337, '그려진': 7338, '문구': 7339, '아는데': 7340, '닥터': 7341, '이리저리': 7342, '일인': 7343, '전파': 7344, '얼도': 7345, '대단하다고': 7346, '단말': 7347, '잔잔하다': 7348, 'ㅅㄱ': 7349, '로사': 7350, '겁나게': 7351, '재밌게잘': 7352, '진상': 7353, '궁금하네요': 7354, '꺄': 7355, '밍밍': 7356, '불안': 7357, '신들': 7358, '더더': 7359, '삼천포': 7360, '슈': 7361, '힘들고': 7362, '호랑이': 7363, '방울': 7364, '폭파': 7365, '했는가': 7366, '지나면': 7367, '변질': 7368, '그런건': 7369, '들었습니다': 7370, '스틸': 7371, '하구요': 7372, '케이온': 7373, '야쿠자': 7374, '웃다': 7375, '동화책': 7376, '그런대로': 7377, '유루': 7378, '달인': 7379, '은은한': 7380, '사골': 7381, '숀펜': 7382, '야할지': 7383, '했더라면': 7384, '녹음': 7385, '코너': 7386, '도의': 7387, '재생': 7388, '보세여': 7389, '나오겠지': 7390, '하더만': 7391, '주냐': 7392, '모아서': 7393, '엇음': 7394, '늦은': 7395, '건질게': 7396, 'this': 7397, '싶게': 7398, '숨어있는': 7399, '돌리고': 7400, '오르는': 7401, '꼽히는': 7402, '초등': 7403, '답습': 7404, '아기자기한': 7405, '다닐': 7406, '만든거냐': 7407, '광해': 7408, '빠다': 7409, '솔로': 7410, '머니': 7411, '이모': 7412, '대판': 7413, '치밀하고': 7414, '영화광': 7415, '보드': 7416, '던지': 7417, '꺼내': 7418, '끔찍하다': 7419, '알려지지': 7420, '장선우': 7421, '기대하게': 7422, '꾸밈': 7423, '후진': 7424, '장동민': 7425, '수지': 7426, '정준호': 7427, '가르쳐': 7428, '풍부한': 7429, '음모론': 7430, '잼남': 7431, '변하는': 7432, '했었다': 7433, '좋겠는데': 7434, '성동일': 7435, '보내는': 7436, 'ㅡㅡㅋ': 7437, '아이디': 7438, '제한': 7439, '근육': 7440, '알렉스': 7441, '눈물나게': 7442, '라이트': 7443, '빨려': 7444, '다르지': 7445, '에게만': 7446, '서커스': 7447, '싫어하는데': 7448, '범벅': 7449, '무방': 7450, '에반게리온': 7451, '영화니': 7452, '하우스': 7453, '아하': 7454, '폐해': 7455, '섬세하게': 7456, '결혼식': 7457, '지루했던': 7458, '어이없어': 7459, '마스터피스': 7460, '봤는': 7461, '진도': 7462, '데스노트': 7463, '그랬지만': 7464, '444': 7465, '매드': 7466, '좋아용': 7467, '쩔어요': 7468, '멕': 7469, '비둘기': 7470, '오래도록': 7471, '같으면서도': 7472, '도가니': 7473, '무명': 7474, '일어난': 7475, '환': 7476, '7~8': 7477, '하질': 7478, '오다': 7479, '스크림': 7480, '소름끼친다': 7481, '할수밖에': 7482, '껀': 7483, '청춘영화': 7484, '...............': 7485, '만들었어': 7486, '엠씨': 7487, '변하지': 7488, '아프게': 7489, '순수함을': 7490, '짝사랑': 7491, '바라': 7492, '구지': 7493, '미숙': 7494, '슬펐어요': 7495, '들도': 7496, '섹시하고': 7497, '됐으면': 7498, '바램': 7499, '봉준호': 7500, '찢어': 7501, '무서울': 7502, '있었네요': 7503, '아니더라도': 7504, '드라큐라': 7505, '스무살': 7506, 'It': 7507, '환영': 7508, '재판': 7509, '돌리다가': 7510, 'gt': 7511, '관우': 7512, '좋겠음': 7513, '가깝다': 7514, '김민준': 7515, '영점': 7516, '폴라': 7517, '박한별': 7518, '이입': 7519, '휴잭맨': 7520, '만원': 7521, '명절': 7522, '붕': 7523, '돌림': 7524, '살아갈': 7525, '보는데도': 7526, '과감': 7527, '왔음': 7528, '이준': 7529, '참내': 7530, '교사': 7531, '톱': 7532, '흠뻑': 7533, '박살': 7534, '“': 7535, '됐지': 7536, '인용': 7537, '마스터': 7538, '스포일러': 7539, '남아도': 7540, '부영': 7541, '숀': 7542, '놀': 7543, '높은거': 7544, '후회된다': 7545, '멘트': 7546, '기발하고': 7547, '나왔어요': 7548, '창문': 7549, '억압': 7550, '이었어': 7551, '후배': 7552, '오그': 7553, '십대': 7554, '잔인하기만': 7555, '서바이벌': 7556, '바치는': 7557, '장수': 7558, '싶고': 7559, '대니': 7560, '느려': 7561, '이문식': 7562, '하는거야': 7563, '공익': 7564, '지나고': 7565, '서태지': 7566, '주는게': 7567, '시끄럽고': 7568, '당췌': 7569, '진주': 7570, '슬슬': 7571, '미련': 7572, '느낌이네요': 7573, '의의': 7574, '이민호': 7575, '매치': 7576, '해봐': 7577, '소소하게': 7578, '넼': 7579, '받았던': 7580, '조잡': 7581, '오덕': 7582, '다쳐도': 7583, '연예': 7584, '아깝게': 7585, '싫어요': 7586, '오드리': 7587, '훌륭': 7588, '민주화': 7589, '인위': 7590, '호프': 7591, '겨지지': 7592, '마이크': 7593, '완결': 7594, '이루는': 7595, '앗': 7596, '깨고': 7597, '지다': 7598, '1초': 7599, '그립네요': 7600, '불편함': 7601, '세력': 7602, '싱크로': 7603, '9~10': 7604, 'XX': 7605, '본다는': 7606, '피어': 7607, '불우': 7608, '긴급': 7609, '빌리': 7610, '그러냐': 7611, '아니게': 7612, '무섭긴': 7613, '거구': 7614, '위선': 7615, '강력한': 7616, '비리': 7617, '먼의': 7618, '연결고리': 7619, '파멸': 7620, '죽어라': 7621, '봤건만': 7622, '만나면': 7623, '재벌': 7624, '봐야겠어요': 7625, '운전': 7626, '미개한': 7627, '25년': 7628, '윌리엄스': 7629, '피노키오': 7630, '위험': 7631, '수단': 7632, '클럽': 7633, '되는듯': 7634, '맞네': 7635, '주셔서': 7636, '안되냐': 7637, '영애': 7638, '꾸': 7639, '정확한': 7640, '있던데': 7641, '둘리': 7642, '눈물나는': 7643, '하이라이트': 7644, '되어가는': 7645, '해주면': 7646, '삽입': 7647, '재미없었어요': 7648, '걸음': 7649, '굿바이': 7650, '거친': 7651, '저그': 7652, '나오나요': 7653, '존잘': 7654, '1.2': 7655, '넘쳐': 7656, '람': 7657, '예쁘네요': 7658, '뻔했네': 7659, '소원': 7660, '따라가는': 7661, '완존': 7662, '주년': 7663, '무고': 7664, '훅': 7665, '안개': 7666, '사토시': 7667, '핑계': 7668, '망침': 7669, '투쟁': 7670, '영화평론가': 7671, '놀라게': 7672, '좋았을걸': 7673, '성인영화': 7674, '있을지': 7675, '됬으면': 7676, '나서도': 7677, '고본': 7678, '겪어': 7679, '불교': 7680, '풍기는': 7681, '그랬어': 7682, '저격': 7683, '어게인': 7684, '삽질': 7685, '비트': 7686, '정상인': 7687, '나쁘게': 7688, '저래': 7689, '오열': 7690, '페미니즘': 7691, '순수함이': 7692, '리그': 7693, '얼음': 7694, '킬': 7695, '접영': 7696, '어떡해': 7697, '설리': 7698, '중견': 7699, '훌쩍': 7700, '기한': 7701, '써야': 7702, '최수종': 7703, '갔던': 7704, '결': 7705, '잡스': 7706, '인간성': 7707, '헌신': 7708, '캡틴': 7709, '그레이': 7710, '주진모': 7711, '가보': 7712, '어처구니없는': 7713, '조선시대': 7714, '사신': 7715, '필요없습니다': 7716, '운지': 7717, '1~2': 7718, '것임': 7719, '살아있다': 7720, '설레고': 7721, '심심': 7722, '40년': 7723, '모름': 7724, '28': 7725, '시퀀스': 7726, '온통': 7727, '파트너': 7728, '갈수': 7729, '반쪽': 7730, '무한도전': 7731, '가는게': 7732, '버리면': 7733, '보너스': 7734, '했다니': 7735, '패스': 7736, '생기는': 7737, '늘어지는': 7738, '리부트': 7739, '건강': 7740, '겄': 7741, '만들었니': 7742, '웨스턴': 7743, '시네마': 7744, '집합': 7745, '떨어지네요': 7746, '뻔하디': 7747, '좋앗다': 7748, '따스한': 7749, '김현주': 7750, '뭘말': 7751, '라이브': 7752, '이대로': 7753, '톱스타': 7754, '분이라면': 7755, '밋게봣': 7756, '23': 7757, '박용우': 7758, '4000원': 7759, '고급': 7760, '버려라': 7761, '않으면서': 7762, '제리': 7763, '기대했건만': 7764, '그랬어요': 7765, '모르면': 7766, '환희': 7767, '되나요': 7768, '흐른다': 7769, '들러': 7770, '아야': 7771, '슬레': 7772, '투모로우': 7773, '해냈다': 7774, '녹아': 7775, '들었고': 7776, '비참한': 7777, '해소': 7778, '방사': 7779, '조잡하다': 7780, '토요명화': 7781, '재밌긴한데': 7782, '월드컵': 7783, '이런것': 7784, '들지만': 7785, '당했다': 7786, '안주는데': 7787, '로안': 7788, '지니어스': 7789, '되겠다': 7790, '감점': 7791, '창의': 7792, 'bgm': 7793, '하더군요': 7794, '파치노': 7795, '천년': 7796, '아쉬운건': 7797, '건진': 7798, '택': 7799, '주리': 7800, '만들려면': 7801, '시시하고': 7802, '맥그리거': 7803, '알았어요': 7804, '산만하다': 7805, '주요': 7806, '생각날': 7807, '2006년': 7808, '뽑아': 7809, '잊혀지질': 7810, '업그레이드': 7811, '컨데': 7812, '지은': 7813, '해봐도': 7814, '김민희': 7815, '우울': 7816, '안타깝습니다': 7817, '기기': 7818, '쇼킹': 7819, '취지': 7820, '김보성': 7821, '말장난': 7822, '재희': 7823, '협박': 7824, '봤어야': 7825, '보길잘': 7826, '용감한': 7827, '문명': 7828, '징악': 7829, 'ㅁㅊ': 7830, '배우진': 7831, '반점': 7832, '무서워요': 7833, '타잔': 7834, '이기심': 7835, '박현지': 7836, '볼수있어서': 7837, '과언': 7838, '러브레터': 7839, '에이미': 7840, '배운': 7841, '시한': 7842, '기대했지만': 7843, '참패': 7844, '걸려': 7845, '미치는줄': 7846, '본드': 7847, '세이': 7848, '먹지': 7849, '무성영화': 7850, '욱': 7851, '을해': 7852, '콩가루': 7853, '역겨': 7854, '위대하다': 7855, '흰': 7856, '뜬': 7857, '취하': 7858, '절묘한': 7859, '주었다': 7860, '받네': 7861, '너무했다': 7862, '서서': 7863, '끼들': 7864, '유튜브': 7865, '경쾌한': 7866, '에어': 7867, '밀려오는': 7868, '죄악': 7869, '금도': 7870, '라이더': 7871, '요가': 7872, '밋음': 7873, '50분': 7874, '빡침': 7875, '여자아이': 7876, '애비': 7877, 'CF': 7878, '실망했어요': 7879, '부르': 7880, '간접': 7881, '해봅니다': 7882, '먹는다': 7883, '이정진': 7884, '증오': 7885, '보고나서도': 7886, '절용': 7887, '여느': 7888, '걷는': 7889, '윌리엄': 7890, '썅': 7891, '대처': 7892, '한거야': 7893, '편향': 7894, '햇던': 7895, '만든거지': 7896, '소비': 7897, '그랬냐': 7898, '파이': 7899, '따지면': 7900, '수백': 7901, '않는게': 7902, '늑대인간': 7903, '물리': 7904, '않았을': 7905, '불편했다': 7906, '적이었음': 7907, '찬란한': 7908, '주려다가': 7909, '김창완': 7910, '나하': 7911, '준건': 7912, '추적': 7913, '평범하지': 7914, '전후': 7915, '프리드': 7916, '악어': 7917, 'z': 7918, '이서': 7919, '익은': 7920, '안드로메다': 7921, '연설': 7922, '막무가내': 7923, '공장': 7924, '멋있네요': 7925, '쩔음': 7926, '썼다': 7927, '베트남': 7928, '고갈': 7929, '오름': 7930, '흑형': 7931, '아름다워': 7932, '기대하며': 7933, '변': 7934, '인시디어스': 7935, '뿐더러': 7936, '짓는': 7937, '났음': 7938, '디아즈': 7939, '맞아서': 7940, '맛있는': 7941, '아쉬웠던': 7942, '만든건': 7943, '썼으면': 7944, '망했다': 7945, '노아': 7946, '동경': 7947, '기다려': 7948, '끝없는': 7949, '싫고': 7950, '영하': 7951, '내린': 7952, '이미연': 7953, '타워': 7954, '없을것': 7955, '관찰': 7956, '담백하게': 7957, '탄이': 7958, '김주혁': 7959, '맞냐': 7960, '질린다': 7961, '좋아할듯': 7962, '흘러나오는': 7963, '짓은': 7964, '담백한': 7965, '접해': 7966, '순이': 7967, '테이프': 7968, '됐습니다': 7969, '핀': 7970, '기네': 7971, '올인': 7972, '일것': 7973, '어마어마한': 7974, '마는': 7975, '교양': 7976, '그리움': 7977, '완벽했다': 7978, '박물관': 7979, '간신히': 7980, '본데': 7981, '사업': 7982, '태어나': 7983, '~.': 7984, '살아서': 7985, '작고': 7986, '산업': 7987, '저렴한': 7988, '하겠지': 7989, '일병': 7990, '이었지': 7991, '앉아서': 7992, '되돌아보게': 7993, '인성': 7994, '않았다면': 7995, '구식': 7996, '주님': 7997, '죠스': 7998, '뻔하게': 7999, '편성': 8000, '당함': 8001, '야말로': 8002, '라운드': 8003, '강우석': 8004, '재밌었': 8005, '패륜': 8006, '대지': 8007, '올린': 8008, '습격': 8009, '김옥빈': 8010, '개척': 8011, '했나요': 8012, '갱': 8013, '볼려': 8014, '유선': 8015, '나올듯': 8016, '죽었다': 8017, '알면서': 8018, '해줘': 8019, '탄탄': 8020, '상관없는': 8021, '벅찬': 8022, '대장': 8023, '햇음': 8024, '100년': 8025, '김준호': 8026, '소녀시대': 8027, '고난': 8028, '카이': 8029, '않다는': 8030, '유치하게': 8031, '관념': 8032, '불과': 8033, '삼성': 8034, '내려': 8035, '빠져들었다': 8036, '받을만한': 8037, '눈살': 8038, '봐야되': 8039, '고사': 8040, '아녀': 8041, '아름다워요': 8042, '울버린': 8043, '성폭행': 8044, '봤었지': 8045, '사도': 8046, '직장인': 8047, '선한': 8048, '찾다가': 8049, 'ㅇㅅㅇ': 8050, '지어': 8051, '찝찝함': 8052, '나온건': 8053, '나래': 8054, '가난한': 8055, '들인': 8056, '아따': 8057, '사하나': 8058, '각심': 8059, '녹아있는': 8060, '하다못해': 8061, '볼바': 8062, '경력': 8063, '즌': 8064, '주는것도': 8065, '없군요': 8066, '2014': 8067, '푸': 8068, '이렇게도': 8069, '잡탕': 8070, '김소연': 8071, '2분': 8072, '소유진': 8073, '졸린': 8074, '생각나': 8075, '도도': 8076, '빙의': 8077, '야수': 8078, '따라한': 8079, '천천히': 8080, '쿵푸팬더': 8081, '이래도': 8082, '지루하다는': 8083, '^^~': 8084, '입체': 8085, '입니당': 8086, '킹콩': 8087, '퍼센트': 8088, '박진영': 8089, '바라지': 8090, 'ㅇㅇㅇ': 8091, '레고': 8092, '나선': 8093, '이럴거면': 8094, '봣어': 8095, '그럴듯한': 8096, '깔깔': 8097, '리얼리즘': 8098, '쌩뚱맞': 8099, '아니구나': 8100, '24': 8101, '강남': 8102, '사나': 8103, '부끄럽다': 8104, '디비디': 8105, '크크': 8106, '비평': 8107, '잃음': 8108, '판치는': 8109, '보고싶': 8110, '윤발': 8111, '수식어': 8112, '인내력': 8113, '쿠엔틴': 8114, '맞는다': 8115, '볼듯': 8116, '해주지': 8117, '살아라': 8118, '재연': 8119, '따분한': 8120, '쫙': 8121, '주문': 8122, '저학년': 8123, '읍니': 8124, '파탄': 8125, '여태껏': 8126, '만행': 8127, '올리는': 8128, '있도록': 8129, '불안한': 8130, '심금': 8131, '찍으면': 8132, '잇어서': 8133, '괜찮을': 8134, '좁은': 8135, '이렇다': 8136, '보고왔는데': 8137, '지못미': 8138, '안가네요': 8139, '기능': 8140, '하고있는': 8141, '늘어지고': 8142, '배워라': 8143, '고마': 8144, '소라': 8145, '이성': 8146, '주변인': 8147, '80분': 8148, 'k': 8149, '짜증났음': 8150, '연출자': 8151, '-;': 8152, '봣습니': 8153, '수호': 8154, '관능': 8155, '범작': 8156, '어어': 8157, '진실된': 8158, '좋아하던': 8159, '멀미': 8160, '사자': 8161, '상관없이': 8162, '빌려서': 8163, '은유': 8164, '상자': 8165, '눈앞': 8166, '메이저': 8167, '번방': 8168, '비슷하다': 8169, '탱고': 8170, '불어': 8171, '같으면': 8172, '반항': 8173, '와인': 8174, '괴수영화': 8175, '였으나': 8176, '만들지마라': 8177, '!!^^': 8178, '복잡하고': 8179, '~?': 8180, '철저한': 8181, '친일': 8182, '유진': 8183, '부르고': 8184, '똥꼬': 8185, '쉰': 8186, '세심': 8187, '이빨': 8188, '일진': 8189, '우주전쟁': 8190, '알거': 8191, '차기작': 8192, '예상외': 8193, '쿨': 8194, '머리카락': 8195, '불행': 8196, '법도': 8197, '블러드': 8198, '실천': 8199, '길거리': 8200, '좌': 8201, '말이안': 8202, '써는': 8203, '주어': 8204, '하리': 8205, '있었다면': 8206, '아깝더라': 8207, '순수함': 8208, '묻지': 8209, '대인': 8210, '♡♡♡': 8211, '회의': 8212, '조한선': 8213, '마력': 8214, '나오긴': 8215, '앨리스': 8216, '낮은게': 8217, '~~~~~~~~': 8218, '릴리': 8219, '한잔': 8220, '포커스': 8221, '치부': 8222, '따른': 8223, '순진한': 8224, '재일': 8225, '진가': 8226, '맞춰서': 8227, '다르고': 8228, '발악': 8229, '바꿔서': 8230, '화이트': 8231, '프리퀄': 8232, '분류': 8233, '와라': 8234, '특급': 8235, '하는거다': 8236, '필요없네요': 8237, '새롭다': 8238, '위협': 8239, '됫': 8240, '대단하고': 8241, '코넬': 8242, '만들었고': 8243, '소련': 8244, '..-_-': 8245, '듦': 8246, '재밌으면': 8247, '볼것도': 8248, '아니올시다': 8249, '보셨으면': 8250, '스물': 8251, '마셈': 8252, '레즈': 8253, '답답하게': 8254, '강소라': 8255, '맞는지': 8256, '에잇': 8257, 'ㅋㅋㅋㅋㅋㅋㅋㅋㅋㅋㅋㅋㅋㅋㅋㅋ': 8258, '느껴지고': 8259, '온건': 8260, '놀랍고': 8261, '지연': 8262, '어설픔': 8263, '스케': 8264, '껍데기': 8265, '잼있었어요': 8266, '잔인': 8267, '한구석': 8268, '대답': 8269, '갈망': 8270, '기억남': 8271, '걸리는': 8272, '성시경': 8273, '남상미': 8274, '김윤석': 8275, '보고있다': 8276, '게로': 8277, '까고': 8278, '뮤비': 8279, '상사': 8280, '잡기': 8281, '하는지도': 8282, '드러난': 8283, '甲': 8284, '상쾌': 8285, '제대': 8286, '98년': 8287, '길어서': 8288, '하락': 8289, '눈부신': 8290, '13년': 8291, '생각났다': 8292, '스포츠영화': 8293, '안되나요': 8294, '밀려온다': 8295, '비약': 8296, '성기': 8297, '본분': 8298, '홍경인': 8299, '원망': 8300, '아련하고': 8301, '꾸준히': 8302, '토나온다': 8303, '특별히': 8304, '색다르고': 8305, '처벌': 8306, '통제': 8307, '지향': 8308, '그러는데': 8309, '지저분한': 8310, '지겨': 8311, '우우': 8312, '버리게': 8313, '짜장면': 8314, '킴': 8315, '조안': 8316, '돌아온': 8317, '축복': 8318, '장비': 8319, '결승전': 8320, '나오미': 8321, '조니': 8322, '수학': 8323, '제시카알바': 8324, 'up': 8325, '애국': 8326, '모음': 8327, '아니구': 8328, '펜': 8329, '입력': 8330, '혼합': 8331, '무덤': 8332, '맘대로': 8333, '있었을': 8334, '드류': 8335, '이해해': 8336, '슬로우': 8337, '분투': 8338, '종결': 8339, '취해': 8340, '처절하게': 8341, '뗄수가': 8342, '판도': 8343, '그중': 8344, '무죄': 8345, '웃지요': 8346, '보는건데': 8347, '떠서': 8348, '괴기': 8349, '그러네요': 8350, '되며': 8351, '웟': 8352, '강도': 8353, '인질': 8354, '차가': 8355, '좋을거': 8356, '룰': 8357, '때로는': 8358, '마법사': 8359, '스나입스': 8360, '대요': 8361, '낳고': 8362, '라이즈': 8363, '잇어': 8364, '이지아': 8365, '돋음': 8366, '맑고': 8367, '해주는거': 8368, '자국': 8369, '탐정': 8370, \"..'\": 8371, '눈알': 8372, '그랬는데': 8373, '가봐도': 8374, '클로이': 8375, '망하고': 8376, '칠한': 8377, '리차드': 8378, '육': 8379, '안되면': 8380, '다임': 8381, '맞아요': 8382, '나잇': 8383, '흘리게': 8384, '으악': 8385, '밸런스': 8386, '웃긴데': 8387, '원한다면': 8388, '아름답네요': 8389, '소가': 8390, '한심하고': 8391, '모리': 8392, '주다니': 8393, '오래간만': 8394, '웃었음': 8395, '애매한': 8396, '이빠이': 8397, '들어있는': 8398, '많은지': 8399, '종교영화': 8400, '낮추기': 8401, '마스크': 8402, '찝': 8403, '후레쉬맨': 8404, '필요함': 8405, '노소': 8406, '재활용': 8407, '기다리는': 8408, '!\"': 8409, '미치게': 8410, '됐네': 8411, '때우': 8412, '많은듯': 8413, '막힌': 8414, '어렷을때': 8415, '행복했다': 8416, '스머프': 8417, '제라드': 8418, '죄송하지만': 8419, '나비효과': 8420, 'SBS': 8421, '재밌을듯': 8422, '90%': 8423, '이진': 8424, '지루하기도': 8425, '세금': 8426, '乃': 8427, '후후': 8428, '깃': 8429, '이즈': 8430, '꾸역꾸역': 8431, '달린': 8432, '이서진': 8433, '조장': 8434, '출시': 8435, '송윤아': 8436, '발가락': 8437, '행복해': 8438, '직설': 8439, '지루한건': 8440, '고마워': 8441, '봤자': 8442, '찾은': 8443, '죽겠네': 8444, '민호': 8445, '심판': 8446, '이경영': 8447, '얻을': 8448, '하겠네': 8449, '임성한': 8450, '사는게': 8451, '꼽으라': 8452, '만치': 8453, '골라': 8454, '어지럽고': 8455, '금은': 8456, '찾게': 8457, '실속': 8458, '벨라': 8459, '짝짝': 8460, '재밌는지': 8461, '울린': 8462, '학예회': 8463, '아포칼립토': 8464, '킹왕짱': 8465, '괴담': 8466, '이렇게나': 8467, '허망': 8468, '주저': 8469, '괜찮을듯': 8470, '시켰다': 8471, '섹': 8472, '얻은': 8473, '제국': 8474, '는다': 8475, '재밌을것': 8476, '이나라': 8477, '베를린': 8478, '합격': 8479, '화나는': 8480, '송새벽': 8481, '신발': 8482, '유희': 8483, '...;': 8484, '없으면서': 8485, '절친': 8486, '보기전에': 8487, '스토커': 8488, '날개': 8489, 'ㄷㄷㄷㄷ': 8490, '기대했었는데': 8491, '즈음': 8492, '해야겠다': 8493, '윤은혜': 8494, '디게': 8495, '테일러': 8496, '존예': 8497, '이불': 8498, '털': 8499, '겪는': 8500, '테잎': 8501, '클로즈업': 8502, '”': 8503, '남우': 8504, '말던가': 8505, '흘렸다': 8506, '개월': 8507, '우디앨런': 8508, '꽃미남': 8509, '하모니': 8510, '친다': 8511, '쏘고': 8512, '버리': 8513, '지날수록': 8514, '기묘한': 8515, '부리는': 8516, '재미없어도': 8517, '쌍벽': 8518, '가르침': 8519, '다짐': 8520, '눈높이': 8521, '중점': 8522, '몰랐음': 8523, '특색': 8524, '감사해요': 8525, '유치하다고': 8526, '오정세': 8527, '난잡한': 8528, '한이다': 8529, '자다': 8530, '인즈': 8531, '퇴폐': 8532, '아름답습니다': 8533, '하는것이': 8534, '주식': 8535, '하지말자': 8536, '보람': 8537, 'boring': 8538, '휴지': 8539, '개망작': 8540, '하시지': 8541, '행복합니다': 8542, '싸인': 8543, '촌스럽다': 8544, '70': 8545, '..;;;': 8546, '나탈리': 8547, '스티': 8548, '수영': 8549, '싫은데': 8550, '그러면서': 8551, '필요해': 8552, '다르지만': 8553, '지나지': 8554, '이었': 8555, '부천': 8556, '쓰라고': 8557, '~~!!!': 8558, '어색해': 8559, '착하고': 8560, '제멋대로': 8561, '다양성': 8562, '도록': 8563, '어렵지만': 8564, '패밀리': 8565, '고함': 8566, '하야오': 8567, '알기': 8568, '침략': 8569, '재밌어용': 8570, '하실': 8571, '바꾼': 8572, '에밀리': 8573, '모호한': 8574, '이슬람': 8575, '아니였음': 8576, '어장': 8577, '보자마자': 8578, '모르겠는': 8579, '사이트': 8580, '많았으면': 8581, '살다가': 8582, '떠난': 8583, '였다고': 8584, '?(': 8585, 'ㅠㅠㅠㅠㅠㅠ': 8586, '후편': 8587, '해주셔서': 8588, '완소': 8589, '아가씨': 8590, 'SM': 8591, '그날': 8592, '싸가지': 8593, '교통사고': 8594, '청자': 8595, '좋아해': 8596, '이익': 8597, '드러나는': 8598, '니모': 8599, '이미숙': 8600, '했을텐데': 8601, '유부녀': 8602, '기막힌': 8603, '나오던데': 8604, '보내': 8605, '기대할게요': 8606, '강원도': 8607, '산타': 8608, '지친': 8609, '발정': 8610, '래서': 8611, '.,.': 8612, '끝나나': 8613, '박시환': 8614, '했구나': 8615, '거북': 8616, '남주는': 8617, '인격': 8618, '강수연': 8619, '살자': 8620, '하려는지': 8621, '박스': 8622, '앤드류': 8623, '친척': 8624, '재밌더라': 8625, '시켜라': 8626, '절때': 8627, '유태인': 8628, '세계대전': 8629, '몸짓': 8630, '부족하지만': 8631, '관해': 8632, '마술': 8633, '싸대기': 8634, '네요': 8635, '그토록': 8636, '사는데': 8637, '·': 8638, '주로': 8639, '누워서': 8640, '폰부스': 8641, '이집트': 8642, '류덕환': 8643, '미사일': 8644, '뭉클': 8645, '하기를': 8646, '초보': 8647, '돼고': 8648, '어려울': 8649, '찔끔': 8650, '존쿠삭': 8651, '맞습니다': 8652, '예감': 8653, '낮냐': 8654, '늘어진다': 8655, '로부터': 8656, '붙인': 8657, '나왔다고': 8658, '젖': 8659, '줄수가': 8660, '김지수': 8661, '만들자': 8662, '나오더라': 8663, '외치': 8664, '함축': 8665, '보았을': 8666, '냉소': 8667, '많아요': 8668, '어수선하고': 8669, '똥망': 8670, '당당히': 8671, '퇴보': 8672, '재수': 8673, '시시하다': 8674, '이쁜데': 8675, '한반도': 8676, '낼수': 8677, '?....': 8678, '비됴': 8679, '레벨': 8680, '위인': 8681, '울다': 8682, '김아중': 8683, '신선했고': 8684, '좋구요': 8685, '이었네': 8686, '가지는': 8687, '없는거야': 8688, '맥락': 8689, '할수있다': 8690, '이요원': 8691, '자도': 8692, '스럽네요': 8693, '리더': 8694, '짠하다': 8695, '먹었다': 8696, '꼬리': 8697, '힝': 8698, '순수했던': 8699, '돌란': 8700, '치킨': 8701, '제주도': 8702, '찾아보니': 8703, '생뚱맞': 8704, '김우빈': 8705, '1980년': 8706, '한적': 8707, '되질': 8708, '불과하다': 8709, '매기': 8710, '권장': 8711, '퍼포먼스': 8712, '적절하게': 8713, '작성': 8714, '시시': 8715, '워쇼스키': 8716, '펼쳐지는': 8717, '소름끼치게': 8718, '재밌나': 8719, '보여주세요': 8720, '멋있어서': 8721, '정복': 8722, '도서관': 8723, '돌리다': 8724, '덩': 8725, '일치': 8726, '쓰세요': 8727, '똑같네': 8728, ').': 8729, '록': 8730, '갔음': 8731, '예나': 8732, '런': 8733, '워스트': 8734, '김수미': 8735, '모범': 8736, '심함': 8737, '잼있었는데': 8738, '1만': 8739, '낮은거': 8740, '동양인': 8741, '즐거웠던': 8742, '부족해': 8743, '조심': 8744, '학적': 8745, '토요일': 8746, '일만': 8747, '긴지': 8748, '팩트': 8749, '망가진': 8750, '껴서': 8751, '.~': 8752, '서사': 8753, '그리스': 8754, '잘하네요': 8755, '덥잖은': 8756, '대다수': 8757, '터널': 8758, '좋았을듯': 8759, '만능': 8760, '데려다가': 8761, '4회': 8762, '겠죠': 8763, '지게': 8764, '만들던가': 8765, '물어': 8766, '추상': 8767, '잤음': 8768, '신영화': 8769, '채워': 8770, '재미있게잘': 8771, '줄라': 8772, '받았어요': 8773, '도나': 8774, '되긴': 8775, '알수있다': 8776, '이길래': 8777, '넨': 8778, '아니어도': 8779, '쓴듯': 8780, '성냥': 8781, '토토': 8782, '요정': 8783, '주러': 8784, '드리': 8785, '졌다': 8786, '90': 8787, '///': 8788, '표지': 8789, '체인지': 8790, '적어': 8791, '클레이': 8792, '치매': 8793, '특이하고': 8794, '안소니': 8795, '라기보다는': 8796, '숫자': 8797, '이쯤': 8798, '짭': 8799, '낫네요': 8800, '리프': 8801, '연대기': 8802, '여사': 8803, '지워': 8804, '보여줘서': 8805, '피부': 8806, '일관': 8807, '어리': 8808, '할래': 8809, '쓰네': 8810, '허락': 8811, '장창': 8812, '6~7': 8813, '풋': 8814, '얄팍한': 8815, '흥미로웠다': 8816, '운영': 8817, '보편': 8818, '개봉일': 8819, '.................': 8820, '애환': 8821, '알았지': 8822, '마돈나': 8823, '브라질': 8824, '심하고': 8825, '담겨': 8826, '비오는': 8827, '베토벤': 8828, '하려다': 8829, '오마쥬': 8830, '좋은지': 8831, '쟁쟁': 8832, '불신': 8833, '문소리': 8834, '아니였다': 8835, \"!'\": 8836, '봐야하나': 8837, '끊기는': 8838, '?;;': 8839, '올바른': 8840, '공군': 8841, '확실': 8842, '멘': 8843, '무지하게': 8844, '줬음': 8845, '지루했고': 8846, '라라': 8847, '알려진': 8848, '알겠네': 8849, '할꺼면': 8850, '둘이서': 8851, '십분': 8852, '전기영': 8853, '박진희': 8854, '종편': 8855, '엌': 8856, '마녀사냥': 8857, '인디': 8858, '영역': 8859, '악행': 8860, '명분': 8861, '편안한': 8862, '사냥': 8863, '시계': 8864, '제국주의': 8865, '낄낄': 8866, '긴장도': 8867, '해야하는': 8868, '장예모': 8869, '폐': 8870, '...)': 8871, '월화': 8872, '잃게': 8873, '웃기네요': 8874, '만다': 8875, '경치': 8876, '가는지': 8877, '타임머신': 8878, '썸띵': 8879, '터질': 8880, '걸림': 8881, '슴가': 8882, '멜': 8883, '봤구요': 8884, '맴돈다': 8885, '현우': 8886, '마르소': 8887, '넘이': 8888, '자연스레': 8889, '올드': 8890, '쪼금': 8891, '말론': 8892, '놀랐음': 8893, 'G': 8894, '라기보단': 8895, '헨리': 8896, '함께한': 8897, '횽': 8898, '굴': 8899, '성지순례': 8900, '있구': 8901, '없는걸': 8902, '아파트': 8903, '나치': 8904, '빈약': 8905, '올리': 8906, '싱크': 8907, '싶': 8908, '액션연기': 8909, '이동진': 8910, '나는데': 8911, '총격': 8912, '13일': 8913, '모레': 8914, '은애': 8915, '해야만': 8916, '춤추는': 8917, '여럿': 8918, '과분': 8919, '은행': 8920, '신지': 8921, '걸어': 8922, 'ever': 8923, '닭살': 8924, '멈추지': 8925, '달린다': 8926, '!!!!!!!!!!!!': 8927, '모르겠': 8928, '보고또보고': 8929, '여기서도': 8930, '재미없는건': 8931, '아름다워서': 8932, '궁금함': 8933, '가스': 8934, '슬프지': 8935, '기다림': 8936, '바이블': 8937, '봤었음': 8938, '라네': 8939, '유코': 8940, '보았음': 8941, '샹': 8942, '느낀건': 8943, '겠지만': 8944, '신랑': 8945, '지루하긴': 8946, '이었을': 8947, '소위': 8948, '찍히': 8949, '이보영': 8950, '혈압': 8951, '버렸어': 8952, '김대희': 8953, '잔인하지만': 8954, '보았네요': 8955, '하트': 8956, '우상': 8957, '당첨': 8958, '좋아했어요': 8959, '보입니다': 8960, '라이토': 8961, '조국': 8962, '준다는': 8963, '없을만큼': 8964, '딴거': 8965, '교도소': 8966, '웃지': 8967, '키이라': 8968, '올리고': 8969, '있군요': 8970, '문자': 8971, '슬펐던': 8972, '만이라도': 8973, '면상': 8974, '짜증날': 8975, '우웩': 8976, '우물': 8977, '월요일': 8978, '부족했다': 8979, '류승완': 8980, '삼아': 8981, '였다는': 8982, '최신': 8983, '유대인': 8984, '생동감': 8985, '사치': 8986, '지아': 8987, '이득': 8988, '카메오': 8989, '드릴': 8990, '만든다는': 8991, '찝찝하고': 8992, '비긴': 8993, '배틀로얄': 8994, '국회의원': 8995, '없을까요': 8996, '알앗는데': 8997, '내사': 8998, '나위': 8999, '아씨': 9000, '사라지는': 9001, '괜찮았지만': 9002, '김윤진': 9003, '들어와': 9004, '재미없었는데': 9005, '나오던': 9006, '아프지만': 9007, '..................': 9008, '질적': 9009, '슬프지도': 9010, '일제': 9011, '스러울': 9012, '자세한': 9013, '맞추자': 9014, '세련되고': 9015, '쓰는거': 9016, '죽이기': 9017, '할꺼': 9018, '힘들었음': 9019, '박시후': 9020, '있을줄': 9021, '왜캐': 9022, '아나운서': 9023, '참신하다': 9024, '서비스': 9025, '오버액션': 9026, '그만해라': 9027, '.;;': 9028, '될만': 9029, '쿵푸': 9030, '분신사바': 9031, '화구': 9032, '돋을': 9033, '몰랐네': 9034, '치냐': 9035, '재미없더라': 9036, '유죄': 9037, '돋네요': 9038, '맥과이어': 9039, 'ㅋㅋㅋㅋㅋㅋㅋㅋㅋㅋㅋㅋㅋㅋㅋㅋㅋ': 9040, '전용': 9041, '멘타리': 9042, '성장하는': 9043, '잘라': 9044, '야한다는': 9045, '상도': 9046, '이해력': 9047, '근대': 9048, '들여서': 9049, '있으니까': 9050, '어이없': 9051, '정준': 9052, '강용석': 9053, '핸드': 9054, '5~6': 9055, '보여지는': 9056, '60': 9057, '있구만': 9058, '!!!!!!!!!!': 9059, '서라도': 9060, '못만드': 9061, '어이없이': 9062, '해봐라': 9063, '좋겟네요': 9064, '감회': 9065, '기초': 9066, '셧': 9067, '전무후무': 9068, '자칭': 9069, '박한': 9070, '누드': 9071, '티라노': 9072, '안내': 9073, '전두환': 9074, '망쳐놓은': 9075, '봣으': 9076, '화나서': 9077, '찡하게': 9078, '복싱': 9079, '훌륭합니다': 9080, '바디': 9081, '팍': 9082, '느님': 9083, '권하고': 9084, '않은게': 9085, '죽여도': 9086, '쟤': 9087, '특정': 9088, '영향력': 9089, '부실하고': 9090, '감사하고': 9091, '스마트폰': 9092, '웬만해': 9093, '여학생': 9094, '없었어요': 9095, '서유기': 9096, '아비': 9097, '이었다니': 9098, '트루': 9099, '사고방식': 9100, '좋겠네': 9101, '렌트': 9102, '유전자': 9103, '미생': 9104, '하네여': 9105, '빠졌다': 9106, '깊네요': 9107, '련': 9108, '박력': 9109, '상업성': 9110, '할라고': 9111, '보여주는데': 9112, '좋았': 9113, '123': 9114, '파도': 9115, '박아': 9116, '한판': 9117, '아깝단': 9118, '맴도': 9119, '일류': 9120, '카펜터': 9121, '취권': 9122, '안에': 9123, '꾀': 9124, '진전': 9125, '레즈비언': 9126, '불쾌하다': 9127, '입술': 9128, '테마': 9129, '생생히': 9130, '만들었다는': 9131, '따뜻해': 9132, '사라졌다': 9133, '구심': 9134, '깜짝깜짝': 9135, '흘렀다': 9136, '아쉽게': 9137, '찌르는': 9138, '나왔다는': 9139, '좋았다고': 9140, '부족한듯': 9141, '독특하게': 9142, '떠나는': 9143, '싫다고': 9144, '미스터빈': 9145, '세뇌': 9146, '설렘': 9147, '있는거지': 9148, '비슷함': 9149, '나가서': 9150, '매료': 9151, '있기': 9152, '기름': 9153, '꼽는': 9154, '꼬꼬': 9155, '불쌍할': 9156, '궁금해': 9157, '플러스': 9158, '불문': 9159, '한가인': 9160, '문채원': 9161, '복잡': 9162, '소소하고': 9163, '어마': 9164, '탱': 9165, '싶지도': 9166, '상한': 9167, '놨': 9168, '천원': 9169, '정무문': 9170, 'what': 9171, '밧는데': 9172, '기대하는': 9173, '라만': 9174, '넘버': 9175, '그립습니다': 9176, '밑바닥': 9177, '출품': 9178, '리플': 9179, '대중성': 9180, '봤다만': 9181, '부탁드립니다': 9182, '금성무': 9183, '즐기고': 9184, '맞먹는': 9185, '굿닥터': 9186, '회수': 9187, '쓰다': 9188, '노고': 9189, '10000': 9190, '이태임': 9191, '나서야': 9192, '비하': 9193, '개구리': 9194, '크기': 9195, '무심코': 9196, '이색': 9197, '방화': 9198, '소름끼치도록': 9199, '루카스': 9200, '밋밋하다': 9201, '스럽네': 9202, '사태': 9203, '정사씬': 9204, '계급': 9205, '잼있네': 9206, '브로스': 9207, '정준영': 9208, '모르겟고': 9209, '않는가': 9210, '입맛': 9211, '김지운': 9212, '중요한지': 9213, '너무해': 9214, '투입': 9215, '고질': 9216, '잇엇다': 9217, '살수': 9218, '모아놓고': 9219, '멍청하고': 9220, '날리고': 9221, '간단한': 9222, '국가대표': 9223, '애교': 9224, '백프로': 9225, '이는': 9226, '금고': 9227, 'be': 9228, '나서는': 9229, '곽부성': 9230, '한자': 9231, '일줄은': 9232, '하시는데': 9233, '앤더슨': 9234, '났어요': 9235, '힛걸': 9236, '툭': 9237, '되었는지': 9238, '복장': 9239, '부드러운': 9240, '딴건': 9241, '하도록': 9242, '없는가': 9243, '성숙한': 9244, '행복하다': 9245, '줬어': 9246, '끝나고도': 9247, '구린': 9248, '기다린': 9249, '노란': 9250, '재밌었어': 9251, '떠날': 9252, '그랬음': 9253, '동거': 9254, '찐한': 9255, '느껴야': 9256, '거저': 9257, '미친거': 9258, '연발': 9259, '승자': 9260, '하녀': 9261, '봤어여': 9262, 'am': 9263, '코끝': 9264, '찾으러': 9265, '만났다': 9266, 'Best': 9267, '따뜻함이': 9268, '말것': 9269, '훔쳐': 9270, '지하': 9271, '한층': 9272, '전해지는': 9273, '재밌는듯': 9274, '불친절한': 9275, '가든': 9276, '봤다는게': 9277, '잇지만': 9278, '싶어졌다': 9279, '많은것': 9280, '생겼는데': 9281, '꼬박꼬박': 9282, 'sm': 9283, '아메리카': 9284, '김고은': 9285, '챔피언': 9286, '쉽': 9287, '장안': 9288, '베니': 9289, '이세': 9290, '바람둥이': 9291, '많았음': 9292, '알았으면': 9293, '감사하게': 9294, '치자': 9295, '스페이스': 9296, '한낱': 9297, '낭패': 9298, '놓칠': 9299, '참된': 9300, '하시면': 9301, '탱크': 9302, '개쩌': 9303, '연평해전': 9304, '전과': 9305, '합작': 9306, '만들어주는': 9307, '오글거린다': 9308, '잤어요': 9309, '차분한': 9310, '대박나세요': 9311, '불명': 9312, '되었을': 9313, '사위': 9314, '김대중': 9315, '11년': 9316, '강의': 9317, '황당하고': 9318, 'GOOD': 9319, '할거면': 9320, '보여줘': 9321, '게다': 9322, '이었구나': 9323, '제격': 9324, '해봐야': 9325, '식상함': 9326, '가필드': 9327, '고아라': 9328, '발성': 9329, '맞네요': 9330, '따라하기': 9331, '건질': 9332, '포스트': 9333, '빌린': 9334, '졋': 9335, '썼나': 9336, '프랭크': 9337, '일로': 9338, '올리비아': 9339, 'top': 9340, '되는구나': 9341, '산만함': 9342, '여성부': 9343, '씬들': 9344, '어쩌구': 9345, '..!!!': 9346, '찰스': 9347, '안중근': 9348, '훈녀': 9349, '퓨전': 9350, '지날': 9351, '로고': 9352, '입양': 9353, '빠돌이': 9354, '보리': 9355, '졸다': 9356, '갱스터': 9357, '고서': 9358, '안될까': 9359, '알고있는': 9360, '뒷맛': 9361, '둔갑': 9362, '주어진': 9363, '베드씬': 9364, '보고있으면': 9365, '보여주면': 9366, '껐음': 9367, '기대하면': 9368, '!...': 9369, '바뀐': 9370, '별그대': 9371, '쏟아': 9372, '벗은': 9373, '어우러져': 9374, '자다가': 9375, '92년': 9376, '동방불패': 9377, '발랄': 9378, '담당': 9379, '짱깨': 9380, '섬뜩한': 9381, '넘침': 9382, '실적': 9383, '니슨': 9384, '좋아도': 9385, '핀처': 9386, '종북': 9387, '누굴': 9388, '덮어': 9389, '추모': 9390, '권총': 9391, '패배': 9392, '무너지는': 9393, '다지': 9394, '고추': 9395, '시리': 9396, '명백한': 9397, '믹스': 9398, '있길래': 9399, '섹시하다': 9400, '.\"\"\"': 9401, '펀치': 9402, '찬다': 9403, '푸하하하': 9404, '연속극': 9405, '실망했음': 9406, '싸한': 9407, '닮아서': 9408, '떨어지지': 9409, '베테': 9410, '여부': 9411, '검술': 9412, '흘러간다': 9413, '받았음': 9414, 'for': 9415, '장교': 9416, '대단했다': 9417, '모르겠어': 9418, '코끼리': 9419, '느껴집니다': 9420, '웃었네요': 9421, '이크': 9422, '되니까': 9423, '....;;': 9424, '효과음': 9425, '국민학교': 9426, '공자': 9427, '쥬': 9428, '낚시질': 9429, '아니었나': 9430, '와이': 9431, '유투브': 9432, '졸귀': 9433, '상품': 9434, '줄려고': 9435, '기억나는건': 9436, '94년': 9437, '충돌': 9438, '영원하라': 9439, '지켜라': 9440, '만들어놓은': 9441, '봤는디': 9442, '소림사': 9443, '시내': 9444, '싱어': 9445, '선교': 9446, '로드리게즈': 9447, '파커': 9448, '가오': 9449, '착오': 9450, '는바': 9451, '수능': 9452, '으로서의': 9453, '10%': 9454, '웃길': 9455, '달러': 9456, '되는건': 9457, '도리': 9458, 'not': 9459, '밴': 9460, '이하나': 9461, '웃긴건': 9462, '템포': 9463, '후딱': 9464, '야마카시': 9465, '세운': 9466, '자만': 9467, '외설': 9468, '바라본': 9469, '하는거냐': 9470, '인것': 9471, '있었네': 9472, '들어와서': 9473, '는대': 9474, '용인': 9475, '출생': 9476, '댄서': 9477, '안된다고': 9478, '만들었': 9479, '피닉스': 9480, '풀어내는': 9481, '클릭': 9482, '불편': 9483, '미지': 9484, '갖는': 9485, '..(': 9486, '레기': 9487, '열차': 9488, '방송국': 9489, '레이미': 9490, '않겠습니다': 9491, '딱지': 9492, '먹방': 9493, '잡다': 9494, '죽어가는': 9495, '벗어': 9496, '잼슴': 9497, ',,,,,': 9498, '료코': 9499, '죄송합니다': 9500, '별것': 9501, '여기는': 9502, '→': 9503, '비운': 9504, '남았던': 9505, '세밀': 9506, '기념비': 9507, '망했어': 9508, '낮고': 9509, '끌리는': 9510, '어따': 9511, '대세': 9512, '서영희': 9513, '더락': 9514, '경향': 9515, '수녀': 9516, '알포인트': 9517, '죄송': 9518, 'Z': 9519, '오멘': 9520, '돋보였다': 9521, '벗': 9522, '!!!!!!!!!!!': 9523, '어울릴': 9524, '존슨': 9525, '쩌러': 9526, '릴': 9527, '치아': 9528, '통쾌하고': 9529, '넘나': 9530, '탄압': 9531, '시궁창': 9532, '안전': 9533, '나기': 9534, '뛰는': 9535, '가물가물': 9536, '느꼈어요': 9537, '파이널': 9538, '뜯어': 9539, '들어갈': 9540, '같을': 9541, '단순하게': 9542, '놀고': 9543, '길어': 9544, '썸머': 9545, '양념': 9546, '어리석은': 9547, '흑백영화': 9548, '유치함의': 9549, '거꾸로': 9550, '우에노': 9551, '다코타': 9552, '유감': 9553, '유동근': 9554, '신선함이': 9555, '지웠다': 9556, '간데': 9557, '커트': 9558, '샤이니': 9559, '식구': 9560, '팬텀': 9561, '0.1': 9562, '눈길': 9563, '찍었나': 9564, '성하게': 9565, '받아라': 9566, '초대': 9567, '스티븐시걸': 9568, '받았을': 9569, '보더라구요': 9570, '이긴하지만': 9571, '만들거면': 9572, '보여줬으면': 9573, '했었던': 9574, '느낀게': 9575, '이런저런': 9576, '삼박자': 9577, '하울': 9578, '할로윈': 9579, '보낸': 9580, '최상': 9581, '넘어가는': 9582, '싫으면': 9583, '전설의고향': 9584, '트라우마': 9585, '됐던': 9586, '9.5': 9587, '싶으나': 9588, '주걸륜': 9589, '느끼며': 9590, '나왔지만': 9591, '돌고': 9592, '재밌을거': 9593, '이루어진': 9594, '켈리': 9595, '관대하다': 9596, '요한슨': 9597, '김동완': 9598, '저지른': 9599, '적이면서도': 9600, '멋있었어요': 9601, '해주는데': 9602, '♬': 9603, '진솔한': 9604, '판사': 9605, '악한': 9606, '이처럼': 9607, '넘치게': 9608, '보군': 9609, '볼수있다': 9610, '볼건': 9611, '삽입곡': 9612, '놀라서': 9613, '했을듯': 9614, '아파서': 9615, '재림': 9616, '보지말것': 9617, '배웠습니다': 9618, '감사한다': 9619, '솔직하고': 9620, '잇네요': 9621, '했는데도': 9622, '제이콥': 9623, '않으며': 9624, '렌': 9625, '나눠': 9626, '퀴': 9627, '수긍': 9628, '막말': 9629, '바쁜': 9630, '어울리지도': 9631, '없이는': 9632, '자동': 9633, '생긴다': 9634, '보고싶다면': 9635, '샤론': 9636, '결여': 9637, '장영': 9638, '어줍잖은': 9639, '진영': 9640, '잘데기': 9641, '스미스': 9642, '기다리며': 9643, '요괴': 9644, '심심하다': 9645, '라가': 9646, '쒸레기': 9647, '이룬': 9648, '알았': 9649, '망정': 9650, '깬다': 9651, '*^^*': 9652, '틀어': 9653, '터진': 9654, '부시': 9655, '고스트': 9656, '화살': 9657, '않기': 9658, '따뜻해지고': 9659, '인양': 9660, '살리고': 9661, '생명체': 9662, '떨어졌다': 9663, '>_<': 9664, '상대로': 9665, '중국어': 9666, '어렵지': 9667, '뽀뽀': 9668, '모세': 9669, '옆집': 9670, '날리는': 9671, '났습니다': 9672, '페넬로페': 9673, '오컬트': 9674, '끝내지': 9675, '맹': 9676, '났던': 9677, '드라마틱한': 9678, '히로': 9679, '눈시울': 9680, '바이올린': 9681, '안타까웠다': 9682, '황정음': 9683, '정경호': 9684, '사람인': 9685, '해바라기': 9686, 'But': 9687, '주려': 9688, '스카이': 9689, '이참': 9690, '호연': 9691, '생방송': 9692, '대륙': 9693, '그레이스': 9694, '니야': 9695, 'pd': 9696, '천상': 9697, '노릇': 9698, 'BGM': 9699, '장기': 9700, '아야세': 9701, '이러고': 9702, '비틀즈': 9703, '역은': 9704, '돌고래': 9705, '마부': 9706, '모모': 9707, '보여줬던': 9708, '오마이갓': 9709, '열고': 9710, 'are': 9711, '아끼는': 9712, '끝냈어야': 9713, '심각': 9714, '발매': 9715, '높은듯': 9716, '겸': 9717, '버리다니': 9718, '911': 9719, '벌이': 9720, '왕국': 9721, '귓가': 9722, '악령': 9723, '써니': 9724, '리처드': 9725, '잘나가다가': 9726, '귀엽네': 9727, '뜨는': 9728, '이로': 9729, '해병대': 9730, '본래': 9731, '글로리아': 9732, '몰랐네요': 9733, '귀찮아서': 9734, '백퍼': 9735, '아니었는데': 9736, '이제훈': 9737, '않던': 9738, '십자': 9739, '뺀': 9740, '공허한': 9741, '갈리는': 9742, '한치': 9743, '치도': 9744, '낫습니다': 9745, '퇴': 9746, '난감': 9747, '지루하던데': 9748, '방지': 9749, '재즈': 9750, '불쾌하고': 9751, '아닐': 9752, '저걸': 9753, '파고드는': 9754, '웨스': 9755, '있을수': 9756, '하기전에': 9757, '탐험': 9758, '되려': 9759, '올리자': 9760, '맞어': 9761, '미치겠네': 9762, '깊었음': 9763, '오션스': 9764, '마더': 9765, '로리': 9766, '돋게': 9767, '애써': 9768, '콜': 9769, '윗': 9770, '오감': 9771, '경고': 9772, '토모': 9773, '아니잖아요': 9774, '3시': 9775, '곱': 9776, '리나': 9777, '티스': 9778, '배틀': 9779, '취한': 9780, '반미': 9781, '여백': 9782, '자폐': 9783, \"...'\": 9784, '셜록': 9785, '수면': 9786, '이상해서': 9787, '항': 9788, '17년': 9789, '아닙니까': 9790, '무섭진': 9791, '싫어진다': 9792, '이상준': 9793, '다섯손가락': 9794, '한것': 9795, '1970년': 9796, '한류': 9797, '쭈욱': 9798, '아청법': 9799, '움직': 9800, '반가운': 9801, '천지': 9802, '권투': 9803, '동물농장': 9804, '방어율': 9805, '드럽다': 9806, 'ㅎㅎㅎㅎㅎ': 9807, '뒷모습': 9808, '역경': 9809, '보여주기': 9810, '꿀잼임': 9811, '심플': 9812, '거미': 9813, '시끄러워서': 9814, '큽니다': 9815, '페인': 9816, '싶은게': 9817, '됬지': 9818, '안되지만': 9819, '떠나질': 9820, '신성일': 9821, '염정아': 9822, '그럴듯하게': 9823, '홍석천': 9824, '유명해서': 9825, '유치하긴': 9826, '같잖은': 9827, '다냐': 9828, '쓰러': 9829, '소금': 9830, '감사할': 9831, '좋을텐데': 9832, '부자연스러운': 9833, '무관심': 9834, '2월': 9835, '믿어': 9836, '따구로': 9837, '태권브이': 9838, '줄줄': 9839, '굿굿굿굿': 9840, '위대함을': 9841, '유방': 9842, '있으면서': 9843, '쉽다': 9844, '라디오스타': 9845, '아니여': 9846, '겜': 9847, '공략': 9848, '황진이': 9849, '전체관람가': 9850, 'p': 9851, '|': 9852, '바스코': 9853, '싱거운': 9854, '단면': 9855, '안이': 9856, '럼': 9857, '불법체류자': 9858, '만든다고': 9859, '베댓': 9860, '!!!!!!!!!!!!!!': 9861, '주된': 9862, '타겟': 9863, '뮤지컬영화': 9864, '무당': 9865, '참가자': 9866, '벗어난': 9867, '가발': 9868, '은지원': 9869, '개그콘서트': 9870, '50%': 9871, '정은지': 9872, '됐다고': 9873, '었': 9874, '만들었습니다': 9875, '한창': 9876, '안대': 9877, '들었을': 9878, '대적': 9879, '점차': 9880, '페이스': 9881, '지수': 9882, '갈팡질팡': 9883, '빙빙': 9884, '유괴': 9885, '로더': 9886, '성해': 9887, '제보': 9888, '툭툭': 9889, '접하게': 9890, '유치했다': 9891, '불쌍하게': 9892, '아이템': 9893, '느껴져': 9894, '대우': 9895, '최루성': 9896, '리좀': 9897, '능청': 9898, '불쾌했다': 9899, '하트넷': 9900, '설마설마': 9901, '해군': 9902, '업적': 9903, '+_+': 9904, '설교': 9905, '작자': 9906, '안타': 9907, '파트': 9908, '되었다는': 9909, '잔치': 9910, '하다만': 9911, '있을거': 9912, '삼총사': 9913, '않겠지만': 9914, '한채영': 9915, 'H': 9916, '넘사벽': 9917, '토리': 9918, '하느님': 9919, '단호': 9920, '재밌네여': 9921, '성욕': 9922, '미덕': 9923, '좋았구요': 9924, '최곤데': 9925, '벗어나': 9926, '소스': 9927, '백만': 9928, '널리': 9929, '하지는': 9930, '소동': 9931, '나오려나': 9932, '당할수': 9933, '비스트': 9934, '갔었는데': 9935, '아쉬웠어요': 9936, '에플렉': 9937, '슈퍼스타': 9938, '나왔어도': 9939, '귀여니': 9940, '우아한': 9941, '높길래': 9942, '다우니': 9943, '사만': 9944, '매끄럽게': 9945, '안녕하세요': 9946, '재미있다는': 9947, '애썼다': 9948, '맹목': 9949, '뿐이었다': 9950, '나타나서': 9951, '우기': 9952, '장통': 9953, '리버': 9954, '정식': 9955, '시초': 9956, '편협': 9957, '찰리채플린': 9958, '지기': 9959, '썰전': 9960, '떨어뜨린다': 9961, '요청': 9962, '거절': 9963, '해체': 9964, '기여': 9965, '확장': 9966, '보고싶습니다': 9967, '해주었다': 9968, '휴대폰': 9969, '말년': 9970, '그다음': 9971, '오시': 9972, '임요환': 9973, '낮다니': 9974, '김정훈': 9975, '윌': 9976, '가방': 9977, '약함': 9978, '다람쥐': 9979, '놀랐어요': 9980, '웅': 9981, '무너': 9982, '되는군': 9983, '만들엇다': 9984, '뒷이야기': 9985, '안타까워': 9986, '괴리감': 9987, '멜로디': 9988, '없다니': 9989, '이뻤다': 9990, '.;': 9991, '본연': 9992, '미라': 9993, '담담한': 9994, '존트라볼타': 9995, '비우고': 9996, '분만': 9997, '지났는데도': 9998, '나타낸': 9999}\n"
     ]
    }
   ],
   "source": [
    "print(word_to_index)"
   ]
  },
  {
   "cell_type": "code",
   "execution_count": 22,
   "metadata": {},
   "outputs": [
    {
     "name": "stdout",
     "output_type": "stream",
     "text": [
      "문장길이 평균 :  12.073610492528374\n",
      "문장길이 최대 :  95\n",
      "문장길이 표준편차 :  9.759447201203077\n",
      "pad_sequences maxlen :  31\n",
      "전체 문장의 0.9348056455700091%가 maxlen 설정값 이내에 포함됩니다. \n"
     ]
    }
   ],
   "source": [
    "total_data_text = list(X_train) + list(X_test)\n",
    "# 텍스트데이터 문장길이의 리스트를 생성한 후\n",
    "num_tokens = [len(tokens) for tokens in total_data_text]\n",
    "num_tokens = np.array(num_tokens)\n",
    "# 문장길이의 평균값, 최대값, 표준편차를 계산해 본다. \n",
    "print('문장길이 평균 : ', np.mean(num_tokens))\n",
    "print('문장길이 최대 : ', np.max(num_tokens))\n",
    "print('문장길이 표준편차 : ', np.std(num_tokens))\n",
    "\n",
    "# 예를들어, 최대 길이를 (평균 + 2*표준편차)로 한다면,  \n",
    "max_tokens = np.mean(num_tokens) + 2 * np.std(num_tokens)\n",
    "maxlen = int(max_tokens)\n",
    "print('pad_sequences maxlen : ', maxlen)\n",
    "print('전체 문장의 {}%가 maxlen 설정값 이내에 포함됩니다. '.format(np.sum(num_tokens < max_tokens) / len(num_tokens)))"
   ]
  },
  {
   "cell_type": "code",
   "execution_count": 23,
   "metadata": {},
   "outputs": [
    {
     "data": {
      "text/plain": [
       "[45, 446, 5, 13, 7135, 665]"
      ]
     },
     "execution_count": 23,
     "metadata": {},
     "output_type": "execute_result"
    }
   ],
   "source": [
    "X_train[0]"
   ]
  },
  {
   "cell_type": "code",
   "execution_count": 24,
   "metadata": {},
   "outputs": [
    {
     "data": {
      "text/plain": [
       "[931, 6, 447, 40, 613, 4, 199, 32, 1597, 18, 991, 6288, 2]"
      ]
     },
     "execution_count": 24,
     "metadata": {},
     "output_type": "execute_result"
    }
   ],
   "source": [
    "X_train[1]"
   ]
  },
  {
   "cell_type": "code",
   "execution_count": 25,
   "metadata": {},
   "outputs": [],
   "source": [
    "x_train = keras.preprocessing.sequence.pad_sequences(X_train,\n",
    "                                                       value=word_to_index[\"<PAD>\"],\n",
    "                                                       padding='pre', # 혹은 'pre'\n",
    "                                                       maxlen=maxlen)"
   ]
  },
  {
   "cell_type": "code",
   "execution_count": 26,
   "metadata": {},
   "outputs": [],
   "source": [
    "x_test = keras.preprocessing.sequence.pad_sequences(X_test,\n",
    "                                                       value=word_to_index[\"<PAD>\"],\n",
    "                                                       padding='pre', # 혹은 'pre'\n",
    "                                                       maxlen=maxlen)"
   ]
  },
  {
   "cell_type": "code",
   "execution_count": 27,
   "metadata": {},
   "outputs": [
    {
     "data": {
      "text/plain": [
       "(146182, 31)"
      ]
     },
     "execution_count": 27,
     "metadata": {},
     "output_type": "execute_result"
    }
   ],
   "source": [
    "x_train.shape"
   ]
  },
  {
   "cell_type": "code",
   "execution_count": 28,
   "metadata": {},
   "outputs": [],
   "source": [
    "# validation set 10000건 분리\n",
    "x_val = x_train[:10000]   \n",
    "y_val = y_train[:10000]\n",
    "\n",
    "# validation set을 제외한 나머지 15000건\n",
    "partial_x_train = x_train[10000:]  \n",
    "partial_y_train = y_train[10000:]\n",
    "\n",
    "vocab_size = 10000    # 어휘 사전의 크기입니다(10,000개의 단어)\n",
    "word_vector_dim = 100  # 워드 벡터의 차원수 (변경가능한 하이퍼파라미터)"
   ]
  },
  {
   "cell_type": "markdown",
   "metadata": {},
   "source": [
    "### Global max plooing"
   ]
  },
  {
   "cell_type": "code",
   "execution_count": 13,
   "metadata": {},
   "outputs": [
    {
     "name": "stdout",
     "output_type": "stream",
     "text": [
      "Epoch 1/10\n",
      "266/266 [==============================] - 2s 8ms/step - loss: 0.4842 - accuracy: 0.8006 - val_loss: 0.3483 - val_accuracy: 0.8454\n",
      "Epoch 2/10\n",
      "266/266 [==============================] - 2s 8ms/step - loss: 0.3211 - accuracy: 0.8629 - val_loss: 0.3311 - val_accuracy: 0.8548\n",
      "Epoch 3/10\n",
      "266/266 [==============================] - 2s 8ms/step - loss: 0.2785 - accuracy: 0.8849 - val_loss: 0.3319 - val_accuracy: 0.8577\n",
      "Epoch 4/10\n",
      "266/266 [==============================] - 2s 8ms/step - loss: 0.2452 - accuracy: 0.9015 - val_loss: 0.3407 - val_accuracy: 0.8540\n",
      "Epoch 5/10\n",
      "266/266 [==============================] - 2s 8ms/step - loss: 0.2140 - accuracy: 0.9169 - val_loss: 0.3568 - val_accuracy: 0.8540\n",
      "Epoch 6/10\n",
      "266/266 [==============================] - 2s 9ms/step - loss: 0.1827 - accuracy: 0.9317 - val_loss: 0.3754 - val_accuracy: 0.8506\n",
      "Epoch 7/10\n",
      "266/266 [==============================] - 2s 9ms/step - loss: 0.1514 - accuracy: 0.9459 - val_loss: 0.4055 - val_accuracy: 0.8487\n",
      "Epoch 8/10\n",
      "266/266 [==============================] - 2s 8ms/step - loss: 0.1223 - accuracy: 0.9588 - val_loss: 0.4367 - val_accuracy: 0.8444\n",
      "Epoch 9/10\n",
      "266/266 [==============================] - 2s 9ms/step - loss: 0.0969 - accuracy: 0.9697 - val_loss: 0.4673 - val_accuracy: 0.8465\n",
      "Epoch 10/10\n",
      "266/266 [==============================] - 3s 10ms/step - loss: 0.0759 - accuracy: 0.9773 - val_loss: 0.5155 - val_accuracy: 0.8375\n",
      "1537/1537 - 1s - loss: 0.5377 - accuracy: 0.8335\n",
      "results [0.5376753807067871, 0.8335130214691162]\n",
      "dict_keys(['loss', 'accuracy', 'val_loss', 'val_accuracy'])\n"
     ]
    },
    {
     "data": {
      "image/png": "[encoded data removed]",
      "text/plain": [
       "<Figure size 432x288 with 1 Axes>"
      ]
     },
     "metadata": {
      "needs_background": "light"
     },
     "output_type": "display_data"
    }
   ],
   "source": [
    "model = keras.Sequential()\n",
    "model.add(keras.layers.Embedding(vocab_size, word_vector_dim, input_shape=(None,)))\n",
    "model.add(keras.layers.GlobalMaxPooling1D())\n",
    "model.add(keras.layers.Dense(8, activation='relu'))\n",
    "model.add(keras.layers.Dense(1, activation='sigmoid'))  # 최종 출력은 긍정/부정을 나타내는 1dim 입니다.\n",
    "\n",
    "model.compile(optimizer='adam',\n",
    "              loss='binary_crossentropy',\n",
    "              metrics=['accuracy'])\n",
    "              \n",
    "epochs=10  \n",
    "\n",
    "history = model.fit(partial_x_train,\n",
    "                    partial_y_train,\n",
    "                    epochs=epochs,\n",
    "                    batch_size=512,\n",
    "                    validation_data=(x_val, y_val),\n",
    "                    verbose=1)\n",
    "\n",
    "results = model.evaluate(x_test,  y_test, verbose=2)\n",
    "\n",
    "print(\"results\",results)\n",
    "\n",
    "history_dict = history.history\n",
    "print(history_dict.keys()) # epoch에 따른 그래프를 그려볼 수 있는 항목들\n",
    "\n",
    "acc = history_dict['accuracy']\n",
    "val_acc = history_dict['val_accuracy']\n",
    "loss = history_dict['loss']\n",
    "val_loss = history_dict['val_loss']\n",
    "\n",
    "epochs = range(1, len(acc) + 1)\n",
    "\n",
    "\n",
    "plt.plot(epochs, loss, 'bo', label='Training loss')\n",
    "plt.plot(epochs, val_loss, 'b', label='Validation loss')\n",
    "plt.title('Training and validation loss')\n",
    "plt.xlabel('Epochs')\n",
    "plt.ylabel('Loss')\n",
    "plt.legend()\n",
    "\n",
    "plt.show()"
   ]
  },
  {
   "cell_type": "markdown",
   "metadata": {},
   "source": [
    "### Conv 1d"
   ]
  },
  {
   "cell_type": "code",
   "execution_count": 14,
   "metadata": {},
   "outputs": [
    {
     "name": "stdout",
     "output_type": "stream",
     "text": [
      "Epoch 1/10\n",
      "266/266 [==============================] - 10s 39ms/step - loss: 0.4388 - accuracy: 0.7913 - val_loss: 0.3364 - val_accuracy: 0.8514\n",
      "Epoch 2/10\n",
      "266/266 [==============================] - 3s 10ms/step - loss: 0.3006 - accuracy: 0.8732 - val_loss: 0.3195 - val_accuracy: 0.8623\n",
      "Epoch 3/10\n",
      "266/266 [==============================] - 2s 9ms/step - loss: 0.2424 - accuracy: 0.9030 - val_loss: 0.3326 - val_accuracy: 0.8580\n",
      "Epoch 4/10\n",
      "266/266 [==============================] - 3s 9ms/step - loss: 0.1768 - accuracy: 0.9347 - val_loss: 0.3715 - val_accuracy: 0.8529\n",
      "Epoch 5/10\n",
      "266/266 [==============================] - 3s 10ms/step - loss: 0.1143 - accuracy: 0.9613 - val_loss: 0.4554 - val_accuracy: 0.8457\n",
      "Epoch 6/10\n",
      "266/266 [==============================] - 3s 10ms/step - loss: 0.0741 - accuracy: 0.9766 - val_loss: 0.5396 - val_accuracy: 0.8437\n",
      "Epoch 7/10\n",
      "266/266 [==============================] - 2s 9ms/step - loss: 0.0518 - accuracy: 0.9844 - val_loss: 0.6142 - val_accuracy: 0.8391\n",
      "Epoch 8/10\n",
      "266/266 [==============================] - 3s 10ms/step - loss: 0.0384 - accuracy: 0.9888 - val_loss: 0.6928 - val_accuracy: 0.8388\n",
      "Epoch 9/10\n",
      "266/266 [==============================] - 3s 10ms/step - loss: 0.0313 - accuracy: 0.9908 - val_loss: 0.7714 - val_accuracy: 0.8383\n",
      "Epoch 10/10\n",
      "266/266 [==============================] - 3s 10ms/step - loss: 0.0267 - accuracy: 0.9920 - val_loss: 0.8422 - val_accuracy: 0.8367\n",
      "1537/1537 - 4s - loss: 0.8949 - accuracy: 0.8338\n",
      "results [0.8948752284049988, 0.8337774872779846]\n",
      "dict_keys(['loss', 'accuracy', 'val_loss', 'val_accuracy'])\n"
     ]
    },
    {
     "data": {
      "image/png": "[encoded data removed]",
      "text/plain": [
       "<Figure size 432x288 with 1 Axes>"
      ]
     },
     "metadata": {
      "needs_background": "light"
     },
     "output_type": "display_data"
    }
   ],
   "source": [
    "vocab_size = 10000    # 어휘 사전의 크기입니다(10,000개의 단어)\n",
    "word_vector_dim = 100  # 워드 벡터의 차원수 (변경가능한 하이퍼파라미터)\n",
    "\n",
    "model = keras.Sequential()\n",
    "model.add(keras.layers.Embedding(vocab_size, word_vector_dim, input_shape=(None,)))\n",
    "model.add(keras.layers.Conv1D(16, 7, activation='relu'))\n",
    "model.add(keras.layers.MaxPooling1D(5))\n",
    "model.add(keras.layers.Conv1D(16, 7, activation='relu'))\n",
    "model.add(keras.layers.GlobalMaxPooling1D())\n",
    "model.add(keras.layers.Dense(8, activation='relu'))\n",
    "model.add(keras.layers.Dense(1, activation='sigmoid'))  # 최종 출력은 긍정/부정을 나타내는 1dim 입니다.\n",
    "\n",
    "model.compile(optimizer='adam',\n",
    "              loss='binary_crossentropy',\n",
    "              metrics=['accuracy'])\n",
    "              \n",
    "epochs=10  \n",
    "\n",
    "history = model.fit(partial_x_train,\n",
    "                    partial_y_train,\n",
    "                    epochs=epochs,\n",
    "                    batch_size=512,\n",
    "                    validation_data=(x_val, y_val),\n",
    "                    verbose=1)\n",
    "\n",
    "results = model.evaluate(x_test,  y_test, verbose=2)\n",
    "\n",
    "print(\"results\",results)\n",
    "\n",
    "history_dict = history.history\n",
    "print(history_dict.keys()) # epoch에 따른 그래프를 그려볼 수 있는 항목들\n",
    "\n",
    "acc = history_dict['accuracy']\n",
    "val_acc = history_dict['val_accuracy']\n",
    "loss = history_dict['loss']\n",
    "val_loss = history_dict['val_loss']\n",
    "\n",
    "epochs = range(1, len(acc) + 1)\n",
    "\n",
    "\n",
    "plt.plot(epochs, loss, 'bo', label='Training loss')\n",
    "plt.plot(epochs, val_loss, 'b', label='Validation loss')\n",
    "plt.title('Training and validation loss')\n",
    "plt.xlabel('Epochs')\n",
    "plt.ylabel('Loss')\n",
    "plt.legend()\n",
    "\n",
    "plt.show()"
   ]
  },
  {
   "cell_type": "markdown",
   "metadata": {},
   "source": [
    "### LSTM"
   ]
  },
  {
   "cell_type": "code",
   "execution_count": 15,
   "metadata": {},
   "outputs": [
    {
     "name": "stdout",
     "output_type": "stream",
     "text": [
      "Epoch 1/10\n",
      "266/266 [==============================] - 3s 11ms/step - loss: 0.4505 - accuracy: 0.8062 - val_loss: 0.3458 - val_accuracy: 0.8501\n",
      "Epoch 2/10\n",
      "266/266 [==============================] - 3s 10ms/step - loss: 0.3268 - accuracy: 0.8627 - val_loss: 0.3353 - val_accuracy: 0.8537\n",
      "Epoch 3/10\n",
      "266/266 [==============================] - 3s 10ms/step - loss: 0.3012 - accuracy: 0.8745 - val_loss: 0.3331 - val_accuracy: 0.8577\n",
      "Epoch 4/10\n",
      "266/266 [==============================] - 3s 10ms/step - loss: 0.2817 - accuracy: 0.8842 - val_loss: 0.3370 - val_accuracy: 0.8578\n",
      "Epoch 5/10\n",
      "266/266 [==============================] - 3s 10ms/step - loss: 0.2627 - accuracy: 0.8934 - val_loss: 0.3401 - val_accuracy: 0.8580\n",
      "Epoch 6/10\n",
      "266/266 [==============================] - 3s 10ms/step - loss: 0.2452 - accuracy: 0.9019 - val_loss: 0.3457 - val_accuracy: 0.8573\n",
      "Epoch 7/10\n",
      "266/266 [==============================] - 3s 10ms/step - loss: 0.2282 - accuracy: 0.9094 - val_loss: 0.3583 - val_accuracy: 0.8589\n",
      "Epoch 8/10\n",
      "266/266 [==============================] - 3s 10ms/step - loss: 0.2128 - accuracy: 0.9161 - val_loss: 0.3689 - val_accuracy: 0.8553\n",
      "Epoch 9/10\n",
      "266/266 [==============================] - 3s 10ms/step - loss: 0.1978 - accuracy: 0.9229 - val_loss: 0.3804 - val_accuracy: 0.8563\n",
      "Epoch 10/10\n",
      "266/266 [==============================] - 3s 10ms/step - loss: 0.1854 - accuracy: 0.9291 - val_loss: 0.4095 - val_accuracy: 0.8520\n",
      "1537/1537 - 2s - loss: 0.4205 - accuracy: 0.8479\n",
      "results [0.42054417729377747, 0.8478955030441284]\n",
      "dict_keys(['loss', 'accuracy', 'val_loss', 'val_accuracy'])\n"
     ]
    },
    {
     "data": {
      "image/png": "[encoded data removed]",
      "text/plain": [
       "<Figure size 432x288 with 1 Axes>"
      ]
     },
     "metadata": {
      "needs_background": "light"
     },
     "output_type": "display_data"
    }
   ],
   "source": [
    "vocab_size = 10000    # 어휘 사전의 크기입니다(10,000개의 단어)\n",
    "word_vector_dim = 100 # 워드 벡터의 차원수 (변경가능한 하이퍼파라미터)\n",
    "\n",
    "model = keras.Sequential()\n",
    "model.add(keras.layers.Embedding(vocab_size, word_vector_dim, input_shape=(None,)))\n",
    "model.add(keras.layers.LSTM(8))\n",
    "model.add(keras.layers.Dense(8, activation='relu'))\n",
    "model.add(keras.layers.Dense(1, activation='sigmoid'))\n",
    "\n",
    "model.compile(optimizer='adam',\n",
    "              loss='binary_crossentropy',\n",
    "              metrics=['accuracy'])\n",
    "              \n",
    "epochs=10  \n",
    "\n",
    "history = model.fit(partial_x_train,\n",
    "                    partial_y_train,\n",
    "                    epochs=epochs,\n",
    "                    batch_size=512,\n",
    "                    validation_data=(x_val, y_val),\n",
    "                    verbose=1)\n",
    "\n",
    "results = model.evaluate(x_test,  y_test, verbose=2)\n",
    "\n",
    "print(\"results\",results)\n",
    "\n",
    "history_dict = history.history\n",
    "print(history_dict.keys()) # epoch에 따른 그래프를 그려볼 수 있는 항목들\n",
    "\n",
    "acc = history_dict['accuracy']\n",
    "val_acc = history_dict['val_accuracy']\n",
    "loss = history_dict['loss']\n",
    "val_loss = history_dict['val_loss']\n",
    "\n",
    "epochs = range(1, len(acc) + 1)\n",
    "\n",
    "\n",
    "plt.plot(epochs, loss, 'bo', label='Training loss')\n",
    "plt.plot(epochs, val_loss, 'b', label='Validation loss')\n",
    "plt.title('Training and validation loss')\n",
    "plt.xlabel('Epochs')\n",
    "plt.ylabel('Loss')\n",
    "plt.legend()\n",
    "\n",
    "plt.show()"
   ]
  },
  {
   "cell_type": "markdown",
   "metadata": {},
   "source": [
    "## 워드 임베딩 적용하기"
   ]
  },
  {
   "cell_type": "code",
   "execution_count": 29,
   "metadata": {},
   "outputs": [
    {
     "data": {
      "text/plain": [
       "(30185, 200)"
      ]
     },
     "execution_count": 29,
     "metadata": {},
     "output_type": "execute_result"
    }
   ],
   "source": [
    "import os\n",
    "import numpy as np\n",
    "import gensim\n",
    "\n",
    "word2vec_path = os.getenv('HOME')+'/aiffel/sentiment_classification/ko.bin'\n",
    "word2vec = gensim.models.Word2Vec.load(word2vec_path)\n",
    "word2vec.wv.vectors.shape"
   ]
  },
  {
   "cell_type": "code",
   "execution_count": 30,
   "metadata": {},
   "outputs": [
    {
     "data": {
      "text/plain": [
       "[('...', 0.673183798789978),\n",
       " ('부탁드리', 0.6507028937339783),\n",
       " ('그럼', 0.6458038091659546),\n",
       " ('아무래도', 0.629248857498169),\n",
       " ('....', 0.6187001466751099),\n",
       " ('..', 0.5995675325393677),\n",
       " ('어차피', 0.5979518890380859),\n",
       " ('이야', 0.5854140520095825),\n",
       " ('제발', 0.5693918466567993),\n",
       " ('반갑', 0.5651735067367554)]"
      ]
     },
     "execution_count": 30,
     "metadata": {},
     "output_type": "execute_result"
    }
   ],
   "source": [
    "word2vec.wv.most_similar(\"ㅠㅠ\")"
   ]
  },
  {
   "cell_type": "code",
   "execution_count": 31,
   "metadata": {},
   "outputs": [
    {
     "name": "stderr",
     "output_type": "stream",
     "text": [
      "/home/aiffel0042/anaconda3/envs/aiffel/lib/python3.7/site-packages/ipykernel_launcher.py:8: DeprecationWarning: Call to deprecated `__contains__` (Method will be removed in 4.0.0, use self.wv.__contains__() instead).\n",
      "  \n",
      "/home/aiffel0042/anaconda3/envs/aiffel/lib/python3.7/site-packages/ipykernel_launcher.py:9: DeprecationWarning: Call to deprecated `__getitem__` (Method will be removed in 4.0.0, use self.wv.__getitem__() instead).\n",
      "  if __name__ == '__main__':\n"
     ]
    }
   ],
   "source": [
    "\n",
    "vocab_size = 10000 \n",
    "word_vector_dim = 200  # 워드 벡터의 차원수 (30185,200)\n",
    "\n",
    "embedding_matrix = np.random.rand(vocab_size, word_vector_dim)\n",
    "\n",
    "# embedding_matrix에 Word2Vec 워드벡터를 단어 하나씩마다 차례차례 카피한다.\n",
    "for i in range(vocab_size):\n",
    "    if index_to_word[i] in word2vec:\n",
    "        embedding_matrix[i] = word2vec[index_to_word[i]]"
   ]
  },
  {
   "cell_type": "code",
   "execution_count": 19,
   "metadata": {},
   "outputs": [
    {
     "name": "stdout",
     "output_type": "stream",
     "text": [
      "Epoch 1/10\n",
      "266/266 [==============================] - 5s 17ms/step - loss: 0.6997 - accuracy: 0.5536 - val_loss: 0.6430 - val_accuracy: 0.6299\n",
      "Epoch 2/10\n",
      "266/266 [==============================] - 5s 17ms/step - loss: 0.5866 - accuracy: 0.6889 - val_loss: 0.5431 - val_accuracy: 0.7275\n",
      "Epoch 3/10\n",
      "266/266 [==============================] - 5s 17ms/step - loss: 0.5075 - accuracy: 0.7526 - val_loss: 0.4877 - val_accuracy: 0.7673\n",
      "Epoch 4/10\n",
      "266/266 [==============================] - 5s 18ms/step - loss: 0.4578 - accuracy: 0.7841 - val_loss: 0.4607 - val_accuracy: 0.7837\n",
      "Epoch 5/10\n",
      "266/266 [==============================] - 4s 17ms/step - loss: 0.4238 - accuracy: 0.8050 - val_loss: 0.4320 - val_accuracy: 0.7973\n",
      "Epoch 6/10\n",
      "266/266 [==============================] - 5s 18ms/step - loss: 0.3976 - accuracy: 0.8199 - val_loss: 0.4192 - val_accuracy: 0.8037\n",
      "Epoch 7/10\n",
      "266/266 [==============================] - 5s 18ms/step - loss: 0.3771 - accuracy: 0.8321 - val_loss: 0.4080 - val_accuracy: 0.8098\n",
      "Epoch 8/10\n",
      "266/266 [==============================] - 5s 17ms/step - loss: 0.3593 - accuracy: 0.8413 - val_loss: 0.4008 - val_accuracy: 0.8150\n",
      "Epoch 9/10\n",
      "266/266 [==============================] - 5s 18ms/step - loss: 0.3446 - accuracy: 0.8494 - val_loss: 0.3985 - val_accuracy: 0.8168\n",
      "Epoch 10/10\n",
      "266/266 [==============================] - 5s 18ms/step - loss: 0.3303 - accuracy: 0.8580 - val_loss: 0.3926 - val_accuracy: 0.8235\n",
      "1537/1537 - 2s - loss: 0.4018 - accuracy: 0.8193\n",
      "results [0.4017934501171112, 0.8193339705467224]\n",
      "dict_keys(['loss', 'accuracy', 'val_loss', 'val_accuracy'])\n"
     ]
    },
    {
     "data": {
      "image/png": "[encoded data removed]",
      "text/plain": [
       "<Figure size 432x288 with 1 Axes>"
      ]
     },
     "metadata": {
      "needs_background": "light"
     },
     "output_type": "display_data"
    }
   ],
   "source": [
    "from tensorflow import keras\n",
    "from tensorflow.keras.initializers import Constant\n",
    "\n",
    "# 모델 구성\n",
    "model = keras.Sequential()\n",
    "model.add(keras.layers.Embedding(vocab_size, \n",
    "                                 word_vector_dim, \n",
    "                                 embeddings_initializer=Constant(embedding_matrix),  # 카피한 임베딩을 여기서 활용\n",
    "                                 input_length=maxlen, \n",
    "                                 trainable=True))   \n",
    "model.add(keras.layers.GlobalMaxPooling1D())\n",
    "model.add(keras.layers.Dense(8, activation='relu'))\n",
    "model.add(keras.layers.Dense(1, activation='sigmoid'))  # 최종 출력은 긍정/부정을 나타내는 1dim 입니다.\n",
    "\n",
    "model.compile(optimizer='adam',\n",
    "              loss='binary_crossentropy',\n",
    "              metrics=['accuracy'])\n",
    "              \n",
    "epochs=10  \n",
    "\n",
    "history = model.fit(partial_x_train,\n",
    "                    partial_y_train,\n",
    "                    epochs=epochs,\n",
    "                    batch_size=512,\n",
    "                    validation_data=(x_val, y_val),\n",
    "                    verbose=1)\n",
    "\n",
    "results = model.evaluate(x_test,  y_test, verbose=2)\n",
    "\n",
    "print(\"results\",results)\n",
    "\n",
    "history_dict = history.history\n",
    "print(history_dict.keys()) # epoch에 따른 그래프를 그려볼 수 있는 항목들\n",
    "\n",
    "acc = history_dict['accuracy']\n",
    "val_acc = history_dict['val_accuracy']\n",
    "loss = history_dict['loss']\n",
    "val_loss = history_dict['val_loss']\n",
    "\n",
    "epochs = range(1, len(acc) + 1)\n",
    "\n",
    "\n",
    "plt.plot(epochs, loss, 'bo', label='Training loss')\n",
    "plt.plot(epochs, val_loss, 'b', label='Validation loss')\n",
    "plt.title('Training and validation loss')\n",
    "plt.xlabel('Epochs')\n",
    "plt.ylabel('Loss')\n",
    "plt.legend()\n",
    "\n",
    "plt.show()"
   ]
  },
  {
   "cell_type": "code",
   "execution_count": 20,
   "metadata": {},
   "outputs": [
    {
     "name": "stdout",
     "output_type": "stream",
     "text": [
      "Epoch 1/10\n",
      "266/266 [==============================] - 10s 37ms/step - loss: 0.5534 - accuracy: 0.6905 - val_loss: 0.4290 - val_accuracy: 0.8071\n",
      "Epoch 2/10\n",
      "266/266 [==============================] - 5s 19ms/step - loss: 0.3782 - accuracy: 0.8320 - val_loss: 0.3653 - val_accuracy: 0.8431\n",
      "Epoch 3/10\n",
      "266/266 [==============================] - 5s 20ms/step - loss: 0.3215 - accuracy: 0.8632 - val_loss: 0.3486 - val_accuracy: 0.8514\n",
      "Epoch 4/10\n",
      "266/266 [==============================] - 5s 19ms/step - loss: 0.2897 - accuracy: 0.8795 - val_loss: 0.3512 - val_accuracy: 0.8462\n",
      "Epoch 5/10\n",
      "266/266 [==============================] - 5s 19ms/step - loss: 0.2653 - accuracy: 0.8915 - val_loss: 0.3594 - val_accuracy: 0.8451\n",
      "Epoch 6/10\n",
      "266/266 [==============================] - 5s 19ms/step - loss: 0.2445 - accuracy: 0.9025 - val_loss: 0.3641 - val_accuracy: 0.8465\n",
      "Epoch 7/10\n",
      "266/266 [==============================] - 5s 18ms/step - loss: 0.2239 - accuracy: 0.9136 - val_loss: 0.3816 - val_accuracy: 0.8425\n",
      "Epoch 8/10\n",
      "266/266 [==============================] - 5s 18ms/step - loss: 0.2040 - accuracy: 0.9228 - val_loss: 0.3921 - val_accuracy: 0.8397\n",
      "Epoch 9/10\n",
      "266/266 [==============================] - 5s 19ms/step - loss: 0.1833 - accuracy: 0.9326 - val_loss: 0.4070 - val_accuracy: 0.8432\n",
      "Epoch 10/10\n",
      "266/266 [==============================] - 5s 19ms/step - loss: 0.1651 - accuracy: 0.9415 - val_loss: 0.4532 - val_accuracy: 0.8378\n",
      "1537/1537 - 3s - loss: 0.4603 - accuracy: 0.8354\n",
      "results [0.4602941572666168, 0.8354252576828003]\n",
      "dict_keys(['loss', 'accuracy', 'val_loss', 'val_accuracy'])\n"
     ]
    },
    {
     "data": {
      "image/png": "[encoded data removed]",
      "text/plain": [
       "<Figure size 432x288 with 1 Axes>"
      ]
     },
     "metadata": {
      "needs_background": "light"
     },
     "output_type": "display_data"
    }
   ],
   "source": [
    "from tensorflow import keras\n",
    "from tensorflow.keras.initializers import Constant\n",
    "model = keras.Sequential()\n",
    "model.add(keras.layers.Embedding(vocab_size, \n",
    "                                 word_vector_dim, \n",
    "                                 embeddings_initializer=Constant(embedding_matrix),  # 카피한 임베딩을 여기서 활용\n",
    "                                 input_length=maxlen, \n",
    "                                 trainable=True))    \n",
    "\n",
    "model.add(keras.layers.Conv1D(16, 7, activation='relu'))\n",
    "model.add(keras.layers.MaxPooling1D(5))\n",
    "model.add(keras.layers.Conv1D(16, 7, activation='relu'))\n",
    "model.add(keras.layers.GlobalMaxPooling1D())\n",
    "model.add(keras.layers.Dense(8, activation='relu'))\n",
    "model.add(keras.layers.Dense(1, activation='sigmoid')) \n",
    "\n",
    "model.compile(optimizer='adam',\n",
    "              loss='binary_crossentropy',\n",
    "              metrics=['accuracy'])\n",
    "              \n",
    "epochs=10  \n",
    "\n",
    "history = model.fit(partial_x_train,\n",
    "                    partial_y_train,\n",
    "                    epochs=epochs,\n",
    "                    batch_size=512,\n",
    "                    validation_data=(x_val, y_val),\n",
    "                    verbose=1)\n",
    "\n",
    "results = model.evaluate(x_test,  y_test, verbose=2)\n",
    "\n",
    "print(\"results\",results)\n",
    "\n",
    "history_dict = history.history\n",
    "print(history_dict.keys()) # epoch에 따른 그래프를 그려볼 수 있는 항목들\n",
    "\n",
    "acc = history_dict['accuracy']\n",
    "val_acc = history_dict['val_accuracy']\n",
    "loss = history_dict['loss']\n",
    "val_loss = history_dict['val_loss']\n",
    "\n",
    "epochs = range(1, len(acc) + 1)\n",
    "\n",
    "\n",
    "plt.plot(epochs, loss, 'bo', label='Training loss')\n",
    "plt.plot(epochs, val_loss, 'b', label='Validation loss')\n",
    "plt.title('Training and validation loss')\n",
    "plt.xlabel('Epochs')\n",
    "plt.ylabel('Loss')\n",
    "plt.legend()\n",
    "\n",
    "plt.show()"
   ]
  },
  {
   "cell_type": "markdown",
   "metadata": {},
   "source": [
    "### 모델 구조 변경(1)"
   ]
  },
  {
   "cell_type": "code",
   "execution_count": 19,
   "metadata": {
    "scrolled": false
   },
   "outputs": [
    {
     "name": "stdout",
     "output_type": "stream",
     "text": [
      "WARNING:tensorflow:Layer lstm_3 will not use cuDNN kernel since it doesn't meet the cuDNN kernel criteria. It will use generic GPU kernel as fallback when running on GPU\n",
      "Epoch 1/20\n",
      "266/266 [==============================] - 22s 83ms/step - loss: 0.4871 - accuracy: 0.7602 - val_loss: 0.3690 - val_accuracy: 0.8373\n",
      "Epoch 2/20\n",
      "266/266 [==============================] - 22s 82ms/step - loss: 0.3671 - accuracy: 0.8358 - val_loss: 0.3304 - val_accuracy: 0.8543\n",
      "Epoch 3/20\n",
      "266/266 [==============================] - 22s 81ms/step - loss: 0.3234 - accuracy: 0.8595 - val_loss: 0.3176 - val_accuracy: 0.8639\n",
      "Epoch 4/20\n",
      "266/266 [==============================] - 22s 81ms/step - loss: 0.2967 - accuracy: 0.8727 - val_loss: 0.3066 - val_accuracy: 0.8690\n",
      "Epoch 5/20\n",
      "266/266 [==============================] - 22s 82ms/step - loss: 0.2748 - accuracy: 0.8838 - val_loss: 0.3026 - val_accuracy: 0.8712\n",
      "Epoch 6/20\n",
      "266/266 [==============================] - 22s 82ms/step - loss: 0.2560 - accuracy: 0.8922 - val_loss: 0.3059 - val_accuracy: 0.8754\n",
      "Epoch 7/20\n",
      "266/266 [==============================] - 22s 83ms/step - loss: 0.2392 - accuracy: 0.9002 - val_loss: 0.3132 - val_accuracy: 0.8717\n",
      "Epoch 8/20\n",
      "266/266 [==============================] - 22s 83ms/step - loss: 0.2230 - accuracy: 0.9073 - val_loss: 0.3196 - val_accuracy: 0.8740\n",
      "Epoch 9/20\n",
      "266/266 [==============================] - 22s 82ms/step - loss: 0.2095 - accuracy: 0.9139 - val_loss: 0.3353 - val_accuracy: 0.8728\n",
      "Epoch 10/20\n",
      "266/266 [==============================] - 22s 83ms/step - loss: 0.1943 - accuracy: 0.9204 - val_loss: 0.3445 - val_accuracy: 0.8725\n",
      "Epoch 11/20\n",
      "266/266 [==============================] - 22s 84ms/step - loss: 0.1829 - accuracy: 0.9257 - val_loss: 0.3479 - val_accuracy: 0.8705\n",
      "Epoch 12/20\n",
      "266/266 [==============================] - 23s 85ms/step - loss: 0.1694 - accuracy: 0.9312 - val_loss: 0.3689 - val_accuracy: 0.8697\n",
      "Epoch 13/20\n",
      "266/266 [==============================] - 22s 84ms/step - loss: 0.1580 - accuracy: 0.9355 - val_loss: 0.3957 - val_accuracy: 0.8739\n",
      "Epoch 14/20\n",
      "266/266 [==============================] - 22s 82ms/step - loss: 0.1491 - accuracy: 0.9396 - val_loss: 0.3984 - val_accuracy: 0.8711\n",
      "Epoch 15/20\n",
      "266/266 [==============================] - 22s 83ms/step - loss: 0.1382 - accuracy: 0.9448 - val_loss: 0.4166 - val_accuracy: 0.8691\n",
      "Epoch 16/20\n",
      "266/266 [==============================] - 22s 83ms/step - loss: 0.1313 - accuracy: 0.9473 - val_loss: 0.4496 - val_accuracy: 0.8627\n",
      "Epoch 17/20\n",
      "266/266 [==============================] - 22s 84ms/step - loss: 0.1230 - accuracy: 0.9509 - val_loss: 0.4777 - val_accuracy: 0.8682\n",
      "Epoch 18/20\n",
      "266/266 [==============================] - 22s 84ms/step - loss: 0.1149 - accuracy: 0.9543 - val_loss: 0.4656 - val_accuracy: 0.8686\n",
      "Epoch 19/20\n",
      "266/266 [==============================] - 22s 82ms/step - loss: 0.1078 - accuracy: 0.9568 - val_loss: 0.4924 - val_accuracy: 0.8641\n",
      "Epoch 20/20\n",
      "266/266 [==============================] - 22s 82ms/step - loss: 0.1019 - accuracy: 0.9589 - val_loss: 0.4975 - val_accuracy: 0.8670\n",
      "1537/1537 - 13s - loss: 0.5013 - accuracy: 0.8639\n",
      "results [0.5013195872306824, 0.8638647794723511]\n",
      "dict_keys(['loss', 'accuracy', 'val_loss', 'val_accuracy'])\n"
     ]
    },
    {
     "data": {
      "image/png": "[encoded data removed]",
      "text/plain": [
       "<Figure size 432x288 with 1 Axes>"
      ]
     },
     "metadata": {
      "needs_background": "light"
     },
     "output_type": "display_data"
    }
   ],
   "source": [
    "from tensorflow import keras\n",
    "from tensorflow.keras.initializers import Constant\n",
    "\n",
    "model = keras.Sequential()\n",
    "model.add(keras.layers.Embedding(vocab_size, \n",
    "                                 word_vector_dim, \n",
    "                                 embeddings_initializer=Constant(embedding_matrix),  # 카피한 임베딩을 여기서 활용\n",
    "                                 input_length=maxlen, \n",
    "                                 trainable=True))   \n",
    "model.add(keras.layers.LSTM(200,dropout=0.2,recurrent_dropout=0.2))\n",
    "model.add(keras.layers.Dense(200, activation='relu'))\n",
    "model.add(keras.layers.Dense(1, activation='sigmoid'))\n",
    "\n",
    "model.compile(optimizer=tf.keras.optimizers.RMSprop(lr=0.001),\n",
    "              loss='binary_crossentropy',\n",
    "              metrics=['accuracy'])\n",
    "              \n",
    "epochs=20\n",
    "\n",
    "history = model.fit(partial_x_train,\n",
    "                    partial_y_train,\n",
    "                    epochs=epochs,\n",
    "                    batch_size=512,\n",
    "                    validation_data=(x_val, y_val),\n",
    "                    verbose=1)\n",
    "\n",
    "results = model.evaluate(x_test,  y_test, verbose=2)\n",
    "\n",
    "print(\"results\",results)\n",
    "\n",
    "history_dict = history.history\n",
    "print(history_dict.keys()) # epoch에 따른 그래프를 그려볼 수 있는 항목들\n",
    "\n",
    "acc = history_dict['accuracy']\n",
    "val_acc = history_dict['val_accuracy']\n",
    "loss = history_dict['loss']\n",
    "val_loss = history_dict['val_loss']\n",
    "\n",
    "epochs = range(1, len(acc) + 1)\n",
    "\n",
    "\n",
    "plt.plot(epochs, loss, 'bo', label='Training loss')\n",
    "plt.plot(epochs, val_loss, 'b', label='Validation loss')\n",
    "plt.title('Training and validation loss')\n",
    "plt.xlabel('Epochs')\n",
    "plt.ylabel('Loss')\n",
    "plt.legend()\n",
    "\n",
    "plt.show()"
   ]
  },
  {
   "cell_type": "markdown",
   "metadata": {},
   "source": [
    "### 모델 구조 변경(2)"
   ]
  },
  {
   "cell_type": "code",
   "execution_count": 33,
   "metadata": {},
   "outputs": [
    {
     "name": "stdout",
     "output_type": "stream",
     "text": [
      "WARNING:tensorflow:Layer lstm_2 will not use cuDNN kernel since it doesn't meet the cuDNN kernel criteria. It will use generic GPU kernel as fallback when running on GPU\n",
      "Epoch 1/30\n",
      "266/266 [==============================] - 19s 72ms/step - loss: 0.5548 - accuracy: 0.7052 - val_loss: 0.4167 - val_accuracy: 0.8105\n",
      "Epoch 2/30\n",
      "266/266 [==============================] - 19s 71ms/step - loss: 0.4113 - accuracy: 0.8130 - val_loss: 0.3539 - val_accuracy: 0.8371\n",
      "Epoch 3/30\n",
      "266/266 [==============================] - 19s 73ms/step - loss: 0.3621 - accuracy: 0.8387 - val_loss: 0.3365 - val_accuracy: 0.8484\n",
      "Epoch 4/30\n",
      "266/266 [==============================] - 19s 71ms/step - loss: 0.3422 - accuracy: 0.8487 - val_loss: 0.3344 - val_accuracy: 0.8526\n",
      "Epoch 5/30\n",
      "266/266 [==============================] - 19s 71ms/step - loss: 0.3284 - accuracy: 0.8560 - val_loss: 0.3315 - val_accuracy: 0.8518\n",
      "Epoch 6/30\n",
      "266/266 [==============================] - 19s 72ms/step - loss: 0.3168 - accuracy: 0.8620 - val_loss: 0.3302 - val_accuracy: 0.8553\n",
      "Epoch 7/30\n",
      "266/266 [==============================] - 19s 73ms/step - loss: 0.3085 - accuracy: 0.8651 - val_loss: 0.3268 - val_accuracy: 0.8582\n",
      "Epoch 8/30\n",
      "266/266 [==============================] - 19s 70ms/step - loss: 0.3025 - accuracy: 0.8688 - val_loss: 0.3324 - val_accuracy: 0.8574\n",
      "Epoch 9/30\n",
      "266/266 [==============================] - 19s 70ms/step - loss: 0.2944 - accuracy: 0.8729 - val_loss: 0.3247 - val_accuracy: 0.8602\n",
      "Epoch 10/30\n",
      "266/266 [==============================] - 20s 74ms/step - loss: 0.2888 - accuracy: 0.8750 - val_loss: 0.3401 - val_accuracy: 0.8568\n",
      "Epoch 11/30\n",
      "266/266 [==============================] - 19s 70ms/step - loss: 0.2834 - accuracy: 0.8770 - val_loss: 0.3293 - val_accuracy: 0.8581\n",
      "Epoch 12/30\n",
      "266/266 [==============================] - 19s 70ms/step - loss: 0.2771 - accuracy: 0.8800 - val_loss: 0.3322 - val_accuracy: 0.8585\n",
      "Epoch 13/30\n",
      "266/266 [==============================] - 19s 71ms/step - loss: 0.2721 - accuracy: 0.8829 - val_loss: 0.3409 - val_accuracy: 0.8587\n",
      "Epoch 14/30\n",
      "266/266 [==============================] - 19s 71ms/step - loss: 0.2663 - accuracy: 0.8859 - val_loss: 0.3591 - val_accuracy: 0.8589\n",
      "Epoch 15/30\n",
      "266/266 [==============================] - 19s 72ms/step - loss: 0.2609 - accuracy: 0.8868 - val_loss: 0.3429 - val_accuracy: 0.8610\n",
      "Epoch 16/30\n",
      "266/266 [==============================] - 20s 74ms/step - loss: 0.2564 - accuracy: 0.8896 - val_loss: 0.3523 - val_accuracy: 0.8590\n",
      "Epoch 17/30\n",
      "266/266 [==============================] - 19s 73ms/step - loss: 0.2515 - accuracy: 0.8912 - val_loss: 0.3520 - val_accuracy: 0.8601\n",
      "Epoch 18/30\n",
      "266/266 [==============================] - 19s 71ms/step - loss: 0.2461 - accuracy: 0.8932 - val_loss: 0.3517 - val_accuracy: 0.8630\n",
      "Epoch 19/30\n",
      "266/266 [==============================] - 20s 74ms/step - loss: 0.2400 - accuracy: 0.8952 - val_loss: 0.3582 - val_accuracy: 0.8611\n",
      "Epoch 20/30\n",
      "266/266 [==============================] - 19s 71ms/step - loss: 0.2366 - accuracy: 0.8984 - val_loss: 0.3937 - val_accuracy: 0.8589\n",
      "Epoch 21/30\n",
      "266/266 [==============================] - 19s 73ms/step - loss: 0.2319 - accuracy: 0.8999 - val_loss: 0.4039 - val_accuracy: 0.8599\n",
      "Epoch 22/30\n",
      "266/266 [==============================] - 19s 73ms/step - loss: 0.2278 - accuracy: 0.9021 - val_loss: 0.3653 - val_accuracy: 0.8596\n",
      "Epoch 23/30\n",
      "266/266 [==============================] - 19s 71ms/step - loss: 0.2237 - accuracy: 0.9035 - val_loss: 0.3872 - val_accuracy: 0.8589\n",
      "Epoch 24/30\n",
      "266/266 [==============================] - 19s 70ms/step - loss: 0.2184 - accuracy: 0.9063 - val_loss: 0.4033 - val_accuracy: 0.8602\n",
      "Epoch 25/30\n",
      "266/266 [==============================] - 19s 71ms/step - loss: 0.2163 - accuracy: 0.9070 - val_loss: 0.4060 - val_accuracy: 0.8563\n",
      "Epoch 26/30\n",
      "266/266 [==============================] - 19s 70ms/step - loss: 0.2111 - accuracy: 0.9094 - val_loss: 0.4205 - val_accuracy: 0.8580\n",
      "Epoch 27/30\n",
      "266/266 [==============================] - 19s 70ms/step - loss: 0.2074 - accuracy: 0.9103 - val_loss: 0.4501 - val_accuracy: 0.8578\n",
      "Epoch 28/30\n",
      "266/266 [==============================] - 19s 71ms/step - loss: 0.2024 - accuracy: 0.9127 - val_loss: 0.4411 - val_accuracy: 0.8569\n",
      "Epoch 29/30\n",
      "266/266 [==============================] - 19s 71ms/step - loss: 0.1998 - accuracy: 0.9136 - val_loss: 0.4352 - val_accuracy: 0.8572\n",
      "Epoch 30/30\n",
      "266/266 [==============================] - 19s 72ms/step - loss: 0.1960 - accuracy: 0.9149 - val_loss: 0.4810 - val_accuracy: 0.8580\n",
      "1537/1537 - 9s - loss: 0.4963 - accuracy: 0.8490\n",
      "results [0.4962506890296936, 0.8489736914634705]\n",
      "dict_keys(['loss', 'accuracy', 'val_loss', 'val_accuracy'])\n"
     ]
    },
    {
     "data": {
      "image/png": "[encoded data removed]",
      "text/plain": [
       "<Figure size 432x288 with 1 Axes>"
      ]
     },
     "metadata": {
      "needs_background": "light"
     },
     "output_type": "display_data"
    }
   ],
   "source": [
    "from tensorflow import keras\n",
    "from tensorflow.keras.initializers import Constant\n",
    "\n",
    "model = keras.Sequential()\n",
    "model.add(keras.layers.Embedding(vocab_size, \n",
    "                                 word_vector_dim, \n",
    "                                 embeddings_initializer=Constant(embedding_matrix),  # 카피한 임베딩을 여기서 활용\n",
    "                                 input_length=maxlen, \n",
    "                                 trainable=True))   \n",
    "model.add(keras.layers.LSTM(200,dropout=0.5,recurrent_dropout=0.5))\n",
    "model.add(keras.layers.Dense(200, activation='relu'))\n",
    "model.add(keras.layers.Dropout(0.5))\n",
    "model.add(keras.layers.Dense(200, activation='relu'))\n",
    "model.add(keras.layers.Dropout(0.5))\n",
    "model.add(keras.layers.Dense(1, activation='sigmoid'))\n",
    "\n",
    "model.compile(optimizer=tf.keras.optimizers.Adam(lr=0.001),\n",
    "              loss='binary_crossentropy',\n",
    "              metrics=['accuracy'])\n",
    "              \n",
    "epochs=30\n",
    "\n",
    "history = model.fit(partial_x_train,\n",
    "                    partial_y_train,\n",
    "                    epochs=epochs,\n",
    "                    batch_size=512,\n",
    "                    validation_data=(x_val, y_val),\n",
    "                    verbose=1)\n",
    "\n",
    "results = model.evaluate(x_test,  y_test, verbose=2)\n",
    "\n",
    "print(\"results\",results)\n",
    "\n",
    "history_dict = history.history\n",
    "print(history_dict.keys()) # epoch에 따른 그래프를 그려볼 수 있는 항목들\n",
    "\n",
    "acc = history_dict['accuracy']\n",
    "val_acc = history_dict['val_accuracy']\n",
    "loss = history_dict['loss']\n",
    "val_loss = history_dict['val_loss']\n",
    "\n",
    "epochs = range(1, len(acc) + 1)\n",
    "\n",
    "\n",
    "plt.plot(epochs, loss, 'bo', label='Training loss')\n",
    "plt.plot(epochs, val_loss, 'b', label='Validation loss')\n",
    "plt.title('Training and validation loss')\n",
    "plt.xlabel('Epochs')\n",
    "plt.ylabel('Loss')\n",
    "plt.legend()\n",
    "\n",
    "plt.show()"
   ]
  },
  {
   "cell_type": "markdown",
   "metadata": {},
   "source": [
    "### 하이퍼 파라미터 변경(1)"
   ]
  },
  {
   "cell_type": "code",
   "execution_count": 32,
   "metadata": {},
   "outputs": [
    {
     "name": "stdout",
     "output_type": "stream",
     "text": [
      "WARNING:tensorflow:Layer lstm will not use cuDNN kernel since it doesn't meet the cuDNN kernel criteria. It will use generic GPU kernel as fallback when running on GPU\n",
      "Epoch 1/30\n",
      "266/266 [==============================] - 20s 74ms/step - loss: 0.5806 - accuracy: 0.6856 - val_loss: 0.4859 - val_accuracy: 0.7561\n",
      "Epoch 2/30\n",
      "266/266 [==============================] - 19s 72ms/step - loss: 0.4555 - accuracy: 0.7841 - val_loss: 0.4399 - val_accuracy: 0.7885\n",
      "Epoch 3/30\n",
      "266/266 [==============================] - 19s 72ms/step - loss: 0.3928 - accuracy: 0.8209 - val_loss: 0.3658 - val_accuracy: 0.8381\n",
      "Epoch 4/30\n",
      "266/266 [==============================] - 20s 74ms/step - loss: 0.3580 - accuracy: 0.8398 - val_loss: 0.3397 - val_accuracy: 0.8467\n",
      "Epoch 5/30\n",
      "266/266 [==============================] - 19s 73ms/step - loss: 0.3392 - accuracy: 0.8508 - val_loss: 0.3409 - val_accuracy: 0.8489\n",
      "Epoch 6/30\n",
      "266/266 [==============================] - 19s 73ms/step - loss: 0.3249 - accuracy: 0.8572 - val_loss: 0.3234 - val_accuracy: 0.8553\n",
      "Epoch 7/30\n",
      "266/266 [==============================] - 19s 72ms/step - loss: 0.3143 - accuracy: 0.8634 - val_loss: 0.3293 - val_accuracy: 0.8579\n",
      "Epoch 8/30\n",
      "266/266 [==============================] - 19s 73ms/step - loss: 0.3063 - accuracy: 0.8671 - val_loss: 0.3345 - val_accuracy: 0.8573\n",
      "Epoch 9/30\n",
      "266/266 [==============================] - 19s 72ms/step - loss: 0.2992 - accuracy: 0.8700 - val_loss: 0.3288 - val_accuracy: 0.8578\n",
      "Epoch 10/30\n",
      "266/266 [==============================] - 19s 72ms/step - loss: 0.2921 - accuracy: 0.8737 - val_loss: 0.3182 - val_accuracy: 0.8622\n",
      "Epoch 11/30\n",
      "266/266 [==============================] - 20s 75ms/step - loss: 0.2861 - accuracy: 0.8767 - val_loss: 0.3383 - val_accuracy: 0.8578\n",
      "Epoch 12/30\n",
      "266/266 [==============================] - 21s 78ms/step - loss: 0.2798 - accuracy: 0.8795 - val_loss: 0.3217 - val_accuracy: 0.8619\n",
      "Epoch 13/30\n",
      "266/266 [==============================] - 21s 80ms/step - loss: 0.2752 - accuracy: 0.8810 - val_loss: 0.3446 - val_accuracy: 0.8599\n",
      "Epoch 14/30\n",
      "266/266 [==============================] - 21s 77ms/step - loss: 0.2704 - accuracy: 0.8838 - val_loss: 0.3364 - val_accuracy: 0.8608\n",
      "Epoch 15/30\n",
      "266/266 [==============================] - 20s 74ms/step - loss: 0.2668 - accuracy: 0.8851 - val_loss: 0.3422 - val_accuracy: 0.8628\n",
      "Epoch 16/30\n",
      "266/266 [==============================] - 19s 70ms/step - loss: 0.2624 - accuracy: 0.8875 - val_loss: 0.3393 - val_accuracy: 0.8620\n",
      "Epoch 17/30\n",
      "266/266 [==============================] - 19s 71ms/step - loss: 0.2571 - accuracy: 0.8898 - val_loss: 0.3495 - val_accuracy: 0.8612\n",
      "Epoch 18/30\n",
      "266/266 [==============================] - 19s 71ms/step - loss: 0.2526 - accuracy: 0.8915 - val_loss: 0.3410 - val_accuracy: 0.8610\n",
      "Epoch 19/30\n",
      "266/266 [==============================] - 19s 71ms/step - loss: 0.2480 - accuracy: 0.8938 - val_loss: 0.3474 - val_accuracy: 0.8648\n",
      "Epoch 20/30\n",
      "266/266 [==============================] - 19s 71ms/step - loss: 0.2451 - accuracy: 0.8945 - val_loss: 0.3578 - val_accuracy: 0.8604\n",
      "Epoch 21/30\n",
      "266/266 [==============================] - 19s 70ms/step - loss: 0.2425 - accuracy: 0.8964 - val_loss: 0.3485 - val_accuracy: 0.8658\n",
      "Epoch 22/30\n",
      "266/266 [==============================] - 19s 70ms/step - loss: 0.2390 - accuracy: 0.8977 - val_loss: 0.3703 - val_accuracy: 0.8630\n",
      "Epoch 23/30\n",
      "266/266 [==============================] - 19s 71ms/step - loss: 0.2345 - accuracy: 0.8997 - val_loss: 0.3676 - val_accuracy: 0.8634\n",
      "Epoch 24/30\n",
      "266/266 [==============================] - 19s 71ms/step - loss: 0.2319 - accuracy: 0.9012 - val_loss: 0.3852 - val_accuracy: 0.8631\n",
      "Epoch 25/30\n",
      "266/266 [==============================] - 19s 70ms/step - loss: 0.2291 - accuracy: 0.9023 - val_loss: 0.3741 - val_accuracy: 0.8627\n",
      "Epoch 26/30\n",
      "266/266 [==============================] - 19s 71ms/step - loss: 0.2264 - accuracy: 0.9039 - val_loss: 0.3665 - val_accuracy: 0.8616\n",
      "Epoch 27/30\n",
      "266/266 [==============================] - 19s 71ms/step - loss: 0.2219 - accuracy: 0.9051 - val_loss: 0.3948 - val_accuracy: 0.8637\n",
      "Epoch 28/30\n",
      "266/266 [==============================] - 19s 70ms/step - loss: 0.2202 - accuracy: 0.9060 - val_loss: 0.3964 - val_accuracy: 0.8640\n",
      "Epoch 29/30\n",
      "266/266 [==============================] - 19s 71ms/step - loss: 0.2165 - accuracy: 0.9069 - val_loss: 0.3693 - val_accuracy: 0.8611\n",
      "Epoch 30/30\n",
      "266/266 [==============================] - 19s 71ms/step - loss: 0.2161 - accuracy: 0.9075 - val_loss: 0.3869 - val_accuracy: 0.8611\n",
      "1537/1537 - 11s - loss: 0.3933 - accuracy: 0.8574\n",
      "results [0.39331457018852234, 0.8573753237724304]\n",
      "dict_keys(['loss', 'accuracy', 'val_loss', 'val_accuracy'])\n"
     ]
    },
    {
     "data": {
      "image/png": "[encoded data removed]",
      "text/plain": [
       "<Figure size 432x288 with 1 Axes>"
      ]
     },
     "metadata": {
      "needs_background": "light"
     },
     "output_type": "display_data"
    }
   ],
   "source": [
    "from tensorflow import keras\n",
    "from tensorflow.keras.initializers import Constant\n",
    "\n",
    "model = keras.Sequential()\n",
    "model.add(keras.layers.Embedding(vocab_size, \n",
    "                                 word_vector_dim, \n",
    "                                 embeddings_initializer=Constant(embedding_matrix),  # 카피한 임베딩을 여기서 활용\n",
    "                                 input_length=maxlen, \n",
    "                                 trainable=True))   \n",
    "model.add(keras.layers.LSTM(300,dropout=0.5,recurrent_dropout=0.5))\n",
    "model.add(keras.layers.Dense(300, activation='relu'))\n",
    "model.add(keras.layers.Dropout(0.5))\n",
    "model.add(keras.layers.Dense(300, activation='relu'))\n",
    "model.add(keras.layers.Dropout(0.5))\n",
    "model.add(keras.layers.Dense(1, activation='sigmoid'))\n",
    "\n",
    "model.compile(optimizer=tf.keras.optimizers.RMSprop(lr=0.001),\n",
    "              loss='binary_crossentropy',\n",
    "              metrics=['accuracy'])\n",
    "              \n",
    "epochs=30\n",
    "\n",
    "history = model.fit(partial_x_train,\n",
    "                    partial_y_train,\n",
    "                    epochs=epochs,\n",
    "                    batch_size=512,\n",
    "                    validation_data=(x_val, y_val),\n",
    "                    verbose=1)\n",
    "\n",
    "results = model.evaluate(x_test,  y_test, verbose=2)\n",
    "\n",
    "print(\"results\",results)\n",
    "\n",
    "history_dict = history.history\n",
    "print(history_dict.keys()) # epoch에 따른 그래프를 그려볼 수 있는 항목들\n",
    "\n",
    "acc = history_dict['accuracy']\n",
    "val_acc = history_dict['val_accuracy']\n",
    "loss = history_dict['loss']\n",
    "val_loss = history_dict['val_loss']\n",
    "\n",
    "epochs = range(1, len(acc) + 1)\n",
    "\n",
    "\n",
    "plt.plot(epochs, loss, 'bo', label='Training loss')\n",
    "plt.plot(epochs, val_loss, 'b', label='Validation loss')\n",
    "plt.title('Training and validation loss')\n",
    "plt.xlabel('Epochs')\n",
    "plt.ylabel('Loss')\n",
    "plt.legend()\n",
    "\n",
    "plt.show()"
   ]
  },
  {
   "cell_type": "markdown",
   "metadata": {},
   "source": [
    "### 하이퍼 파라미터 변경(2)"
   ]
  },
  {
   "cell_type": "code",
   "execution_count": 33,
   "metadata": {},
   "outputs": [
    {
     "name": "stdout",
     "output_type": "stream",
     "text": [
      "WARNING:tensorflow:Layer lstm_1 will not use cuDNN kernel since it doesn't meet the cuDNN kernel criteria. It will use generic GPU kernel as fallback when running on GPU\n",
      "Epoch 1/30\n",
      "266/266 [==============================] - 17s 65ms/step - loss: 0.6055 - accuracy: 0.6634 - val_loss: 0.4755 - val_accuracy: 0.7671\n",
      "Epoch 2/30\n",
      "266/266 [==============================] - 17s 64ms/step - loss: 0.4751 - accuracy: 0.7769 - val_loss: 0.3976 - val_accuracy: 0.8147\n",
      "Epoch 3/30\n",
      "266/266 [==============================] - 17s 63ms/step - loss: 0.4068 - accuracy: 0.8176 - val_loss: 0.3618 - val_accuracy: 0.8351\n",
      "Epoch 4/30\n",
      "266/266 [==============================] - 17s 63ms/step - loss: 0.3707 - accuracy: 0.8371 - val_loss: 0.3487 - val_accuracy: 0.8424\n",
      "Epoch 5/30\n",
      "266/266 [==============================] - 17s 63ms/step - loss: 0.3510 - accuracy: 0.8481 - val_loss: 0.3347 - val_accuracy: 0.8512\n",
      "Epoch 6/30\n",
      "266/266 [==============================] - 17s 63ms/step - loss: 0.3380 - accuracy: 0.8535 - val_loss: 0.3323 - val_accuracy: 0.8534\n",
      "Epoch 7/30\n",
      "266/266 [==============================] - 17s 63ms/step - loss: 0.3273 - accuracy: 0.8592 - val_loss: 0.3360 - val_accuracy: 0.8562\n",
      "Epoch 8/30\n",
      "266/266 [==============================] - 17s 63ms/step - loss: 0.3213 - accuracy: 0.8621 - val_loss: 0.3241 - val_accuracy: 0.8571\n",
      "Epoch 9/30\n",
      "266/266 [==============================] - 17s 63ms/step - loss: 0.3128 - accuracy: 0.8662 - val_loss: 0.3244 - val_accuracy: 0.8580\n",
      "Epoch 10/30\n",
      "266/266 [==============================] - 17s 63ms/step - loss: 0.3078 - accuracy: 0.8695 - val_loss: 0.3326 - val_accuracy: 0.8573\n",
      "Epoch 11/30\n",
      "266/266 [==============================] - 17s 63ms/step - loss: 0.3028 - accuracy: 0.8702 - val_loss: 0.3234 - val_accuracy: 0.8594\n",
      "Epoch 12/30\n",
      "266/266 [==============================] - 17s 63ms/step - loss: 0.2983 - accuracy: 0.8730 - val_loss: 0.3328 - val_accuracy: 0.8611\n",
      "Epoch 13/30\n",
      "266/266 [==============================] - 17s 63ms/step - loss: 0.2937 - accuracy: 0.8758 - val_loss: 0.3254 - val_accuracy: 0.8618\n",
      "Epoch 14/30\n",
      "266/266 [==============================] - 17s 63ms/step - loss: 0.2898 - accuracy: 0.8767 - val_loss: 0.3558 - val_accuracy: 0.8585\n",
      "Epoch 15/30\n",
      "266/266 [==============================] - 17s 63ms/step - loss: 0.2847 - accuracy: 0.8789 - val_loss: 0.3338 - val_accuracy: 0.8620\n",
      "Epoch 16/30\n",
      "266/266 [==============================] - 17s 63ms/step - loss: 0.2813 - accuracy: 0.8809 - val_loss: 0.3236 - val_accuracy: 0.8613\n",
      "Epoch 17/30\n",
      "266/266 [==============================] - 17s 63ms/step - loss: 0.2794 - accuracy: 0.8816 - val_loss: 0.3442 - val_accuracy: 0.8614\n",
      "Epoch 18/30\n",
      "266/266 [==============================] - 17s 63ms/step - loss: 0.2733 - accuracy: 0.8841 - val_loss: 0.3446 - val_accuracy: 0.8620\n",
      "Epoch 19/30\n",
      "266/266 [==============================] - 17s 63ms/step - loss: 0.2715 - accuracy: 0.8846 - val_loss: 0.3385 - val_accuracy: 0.8636\n",
      "Epoch 20/30\n",
      "266/266 [==============================] - 17s 63ms/step - loss: 0.2676 - accuracy: 0.8857 - val_loss: 0.3437 - val_accuracy: 0.8637\n",
      "Epoch 21/30\n",
      "266/266 [==============================] - 17s 64ms/step - loss: 0.2662 - accuracy: 0.8870 - val_loss: 0.3363 - val_accuracy: 0.8634\n",
      "Epoch 22/30\n",
      "266/266 [==============================] - 17s 65ms/step - loss: 0.2619 - accuracy: 0.8885 - val_loss: 0.3345 - val_accuracy: 0.8643\n",
      "Epoch 23/30\n",
      "266/266 [==============================] - 17s 65ms/step - loss: 0.2590 - accuracy: 0.8898 - val_loss: 0.3576 - val_accuracy: 0.8641\n",
      "Epoch 24/30\n",
      "266/266 [==============================] - 17s 65ms/step - loss: 0.2567 - accuracy: 0.8910 - val_loss: 0.3367 - val_accuracy: 0.8652\n",
      "Epoch 25/30\n",
      "266/266 [==============================] - 17s 63ms/step - loss: 0.2539 - accuracy: 0.8923 - val_loss: 0.3558 - val_accuracy: 0.8668\n",
      "Epoch 26/30\n",
      "266/266 [==============================] - 17s 63ms/step - loss: 0.2496 - accuracy: 0.8933 - val_loss: 0.3321 - val_accuracy: 0.8634\n",
      "Epoch 27/30\n",
      "266/266 [==============================] - 17s 63ms/step - loss: 0.2483 - accuracy: 0.8957 - val_loss: 0.3357 - val_accuracy: 0.8609\n",
      "Epoch 28/30\n",
      "266/266 [==============================] - 17s 63ms/step - loss: 0.2451 - accuracy: 0.8964 - val_loss: 0.3769 - val_accuracy: 0.8639\n",
      "Epoch 29/30\n",
      "266/266 [==============================] - 17s 63ms/step - loss: 0.2428 - accuracy: 0.8963 - val_loss: 0.3588 - val_accuracy: 0.8636\n",
      "Epoch 30/30\n",
      "266/266 [==============================] - 17s 63ms/step - loss: 0.2403 - accuracy: 0.8985 - val_loss: 0.3940 - val_accuracy: 0.8661\n",
      "1537/1537 - 14s - loss: 0.3998 - accuracy: 0.8587\n",
      "results [0.39983853697776794, 0.8587383031845093]\n",
      "dict_keys(['loss', 'accuracy', 'val_loss', 'val_accuracy'])\n"
     ]
    },
    {
     "data": {
      "image/png": "[encoded data removed]",
      "text/plain": [
       "<Figure size 432x288 with 1 Axes>"
      ]
     },
     "metadata": {
      "needs_background": "light"
     },
     "output_type": "display_data"
    }
   ],
   "source": [
    "from tensorflow import keras\n",
    "from tensorflow.keras.initializers import Constant\n",
    "\n",
    "model = keras.Sequential()\n",
    "model.add(keras.layers.Embedding(vocab_size, \n",
    "                                 word_vector_dim, \n",
    "                                 embeddings_initializer=Constant(embedding_matrix),  # 카피한 임베딩을 여기서 활용\n",
    "                                 input_length=maxlen, \n",
    "                                 trainable=True))   \n",
    "model.add(keras.layers.LSTM(200,dropout=0.5,recurrent_dropout=0.5))\n",
    "model.add(keras.layers.Dense(100, activation='relu'))\n",
    "model.add(keras.layers.Dropout(0.5))\n",
    "model.add(keras.layers.Dense(100, activation='relu'))\n",
    "model.add(keras.layers.Dropout(0.5))\n",
    "model.add(keras.layers.Dense(100, activation='relu'))\n",
    "model.add(keras.layers.Dropout(0.5))\n",
    "model.add(keras.layers.Dense(1, activation='sigmoid'))\n",
    "\n",
    "model.compile(optimizer=tf.keras.optimizers.RMSprop(lr=0.001),\n",
    "              loss='binary_crossentropy',\n",
    "              metrics=['accuracy'])\n",
    "              \n",
    "epochs=30\n",
    "\n",
    "history = model.fit(partial_x_train,\n",
    "                    partial_y_train,\n",
    "                    epochs=epochs,\n",
    "                    batch_size=512,\n",
    "                    validation_data=(x_val, y_val),\n",
    "                    verbose=1)\n",
    "\n",
    "results = model.evaluate(x_test,  y_test, verbose=2)\n",
    "\n",
    "print(\"results\",results)\n",
    "\n",
    "history_dict = history.history\n",
    "print(history_dict.keys()) # epoch에 따른 그래프를 그려볼 수 있는 항목들\n",
    "\n",
    "acc = history_dict['accuracy']\n",
    "val_acc = history_dict['val_accuracy']\n",
    "loss = history_dict['loss']\n",
    "val_loss = history_dict['val_loss']\n",
    "\n",
    "epochs = range(1, len(acc) + 1)\n",
    "\n",
    "\n",
    "plt.plot(epochs, loss, 'bo', label='Training loss')\n",
    "plt.plot(epochs, val_loss, 'b', label='Validation loss')\n",
    "plt.title('Training and validation loss')\n",
    "plt.xlabel('Epochs')\n",
    "plt.ylabel('Loss')\n",
    "plt.legend()\n",
    "\n",
    "plt.show()"
   ]
  },
  {
   "cell_type": "markdown",
   "metadata": {},
   "source": [
    "### 하이퍼 파라미터 변경(3)"
   ]
  },
  {
   "cell_type": "code",
   "execution_count": 34,
   "metadata": {},
   "outputs": [
    {
     "name": "stdout",
     "output_type": "stream",
     "text": [
      "WARNING:tensorflow:Layer lstm_2 will not use cuDNN kernel since it doesn't meet the cuDNN kernel criteria. It will use generic GPU kernel as fallback when running on GPU\n",
      "Epoch 1/30\n",
      "266/266 [==============================] - 17s 64ms/step - loss: 0.6428 - accuracy: 0.6210 - val_loss: 0.5242 - val_accuracy: 0.7426\n",
      "Epoch 2/30\n",
      "266/266 [==============================] - 17s 64ms/step - loss: 0.5293 - accuracy: 0.7397 - val_loss: 0.4539 - val_accuracy: 0.7818\n",
      "Epoch 3/30\n",
      "266/266 [==============================] - 17s 63ms/step - loss: 0.4528 - accuracy: 0.7905 - val_loss: 0.3980 - val_accuracy: 0.8230\n",
      "Epoch 4/30\n",
      "266/266 [==============================] - 17s 63ms/step - loss: 0.4099 - accuracy: 0.8148 - val_loss: 0.3663 - val_accuracy: 0.8362\n",
      "Epoch 5/30\n",
      "266/266 [==============================] - 17s 63ms/step - loss: 0.3848 - accuracy: 0.8293 - val_loss: 0.3624 - val_accuracy: 0.8408\n",
      "Epoch 6/30\n",
      "266/266 [==============================] - 17s 63ms/step - loss: 0.3685 - accuracy: 0.8381 - val_loss: 0.3586 - val_accuracy: 0.8470\n",
      "Epoch 7/30\n",
      "266/266 [==============================] - 17s 63ms/step - loss: 0.3568 - accuracy: 0.8445 - val_loss: 0.3399 - val_accuracy: 0.8498\n",
      "Epoch 8/30\n",
      "266/266 [==============================] - 17s 63ms/step - loss: 0.3481 - accuracy: 0.8493 - val_loss: 0.3444 - val_accuracy: 0.8524\n",
      "Epoch 9/30\n",
      "266/266 [==============================] - 17s 63ms/step - loss: 0.3406 - accuracy: 0.8527 - val_loss: 0.3337 - val_accuracy: 0.8536\n",
      "Epoch 10/30\n",
      "266/266 [==============================] - 17s 63ms/step - loss: 0.3362 - accuracy: 0.8553 - val_loss: 0.3400 - val_accuracy: 0.8537\n",
      "Epoch 11/30\n",
      "266/266 [==============================] - 17s 63ms/step - loss: 0.3314 - accuracy: 0.8583 - val_loss: 0.3403 - val_accuracy: 0.8555\n",
      "Epoch 12/30\n",
      "266/266 [==============================] - 17s 63ms/step - loss: 0.3286 - accuracy: 0.8595 - val_loss: 0.3704 - val_accuracy: 0.8530\n",
      "Epoch 13/30\n",
      "266/266 [==============================] - 17s 63ms/step - loss: 0.3251 - accuracy: 0.8615 - val_loss: 0.3541 - val_accuracy: 0.8542\n",
      "Epoch 14/30\n",
      "266/266 [==============================] - 17s 64ms/step - loss: 0.3214 - accuracy: 0.8633 - val_loss: 0.3586 - val_accuracy: 0.8568\n",
      "Epoch 15/30\n",
      "266/266 [==============================] - 17s 63ms/step - loss: 0.3197 - accuracy: 0.8635 - val_loss: 0.3286 - val_accuracy: 0.8576\n",
      "Epoch 16/30\n",
      "266/266 [==============================] - 17s 63ms/step - loss: 0.3167 - accuracy: 0.8655 - val_loss: 0.3373 - val_accuracy: 0.8572\n",
      "Epoch 17/30\n",
      "266/266 [==============================] - 17s 63ms/step - loss: 0.3141 - accuracy: 0.8664 - val_loss: 0.3530 - val_accuracy: 0.8598\n",
      "Epoch 18/30\n",
      "266/266 [==============================] - 17s 63ms/step - loss: 0.3123 - accuracy: 0.8678 - val_loss: 0.3480 - val_accuracy: 0.8587\n",
      "Epoch 19/30\n",
      "266/266 [==============================] - 17s 63ms/step - loss: 0.3098 - accuracy: 0.8686 - val_loss: 0.3500 - val_accuracy: 0.8597\n",
      "Epoch 20/30\n",
      "266/266 [==============================] - 17s 63ms/step - loss: 0.3087 - accuracy: 0.8694 - val_loss: 0.3279 - val_accuracy: 0.8609\n",
      "Epoch 21/30\n",
      "266/266 [==============================] - 17s 63ms/step - loss: 0.3065 - accuracy: 0.8709 - val_loss: 0.3217 - val_accuracy: 0.8611\n",
      "Epoch 22/30\n",
      "266/266 [==============================] - 17s 63ms/step - loss: 0.3041 - accuracy: 0.8719 - val_loss: 0.3342 - val_accuracy: 0.8608\n",
      "Epoch 23/30\n",
      "266/266 [==============================] - 17s 64ms/step - loss: 0.3031 - accuracy: 0.8717 - val_loss: 0.3352 - val_accuracy: 0.8614\n",
      "Epoch 24/30\n",
      "266/266 [==============================] - 17s 63ms/step - loss: 0.3020 - accuracy: 0.8726 - val_loss: 0.3264 - val_accuracy: 0.8618\n",
      "Epoch 25/30\n",
      "266/266 [==============================] - 17s 63ms/step - loss: 0.3000 - accuracy: 0.8746 - val_loss: 0.3307 - val_accuracy: 0.8600\n",
      "Epoch 26/30\n",
      "266/266 [==============================] - 17s 63ms/step - loss: 0.2992 - accuracy: 0.8747 - val_loss: 0.3434 - val_accuracy: 0.8604\n",
      "Epoch 27/30\n",
      "266/266 [==============================] - 17s 63ms/step - loss: 0.2977 - accuracy: 0.8740 - val_loss: 0.3355 - val_accuracy: 0.8601\n",
      "Epoch 28/30\n",
      "266/266 [==============================] - 17s 63ms/step - loss: 0.2966 - accuracy: 0.8753 - val_loss: 0.3465 - val_accuracy: 0.8615\n",
      "Epoch 29/30\n",
      "266/266 [==============================] - 17s 63ms/step - loss: 0.2946 - accuracy: 0.8745 - val_loss: 0.3223 - val_accuracy: 0.8613\n",
      "Epoch 30/30\n",
      "266/266 [==============================] - 17s 63ms/step - loss: 0.2949 - accuracy: 0.8766 - val_loss: 0.3309 - val_accuracy: 0.8623\n",
      "1537/1537 - 14s - loss: 0.3390 - accuracy: 0.8546\n",
      "results [0.3389841914176941, 0.8546493649482727]\n",
      "dict_keys(['loss', 'accuracy', 'val_loss', 'val_accuracy'])\n"
     ]
    },
    {
     "data": {
      "image/png": "[encoded data removed]",
      "text/plain": [
       "<Figure size 432x288 with 1 Axes>"
      ]
     },
     "metadata": {
      "needs_background": "light"
     },
     "output_type": "display_data"
    }
   ],
   "source": [
    "from tensorflow import keras\n",
    "from tensorflow.keras.initializers import Constant\n",
    "\n",
    "model = keras.Sequential()\n",
    "model.add(keras.layers.Embedding(vocab_size, \n",
    "                                 word_vector_dim, \n",
    "                                 embeddings_initializer=Constant(embedding_matrix),  # 카피한 임베딩을 여기서 활용\n",
    "                                 input_length=maxlen, \n",
    "                                 trainable=True))   \n",
    "model.add(keras.layers.LSTM(200,dropout=0.7,recurrent_dropout=0.7))\n",
    "model.add(keras.layers.Dense(200, activation='relu'))\n",
    "model.add(keras.layers.Dropout(0.7))\n",
    "model.add(keras.layers.Dense(200, activation='relu'))\n",
    "model.add(keras.layers.Dropout(0.7))\n",
    "model.add(keras.layers.Dense(1, activation='sigmoid'))\n",
    "\n",
    "model.compile(optimizer=tf.keras.optimizers.RMSprop(lr=0.001),\n",
    "              loss='binary_crossentropy',\n",
    "              metrics=['accuracy'])\n",
    "              \n",
    "epochs=30\n",
    "\n",
    "history = model.fit(partial_x_train,\n",
    "                    partial_y_train,\n",
    "                    epochs=epochs,\n",
    "                    batch_size=512,\n",
    "                    validation_data=(x_val, y_val),\n",
    "                    verbose=1)\n",
    "\n",
    "results = model.evaluate(x_test,  y_test, verbose=2)\n",
    "\n",
    "print(\"results\",results)\n",
    "\n",
    "history_dict = history.history\n",
    "print(history_dict.keys()) # epoch에 따른 그래프를 그려볼 수 있는 항목들\n",
    "\n",
    "acc = history_dict['accuracy']\n",
    "val_acc = history_dict['val_accuracy']\n",
    "loss = history_dict['loss']\n",
    "val_loss = history_dict['val_loss']\n",
    "\n",
    "epochs = range(1, len(acc) + 1)\n",
    "\n",
    "\n",
    "plt.plot(epochs, loss, 'bo', label='Training loss')\n",
    "plt.plot(epochs, val_loss, 'b', label='Validation loss')\n",
    "plt.title('Training and validation loss')\n",
    "plt.xlabel('Epochs')\n",
    "plt.ylabel('Loss')\n",
    "plt.legend()\n",
    "\n",
    "plt.show()"
   ]
  },
  {
   "cell_type": "markdown",
   "metadata": {},
   "source": [
    "### 모델구조변경(3)"
   ]
  },
  {
   "cell_type": "code",
   "execution_count": 35,
   "metadata": {},
   "outputs": [
    {
     "name": "stdout",
     "output_type": "stream",
     "text": [
      "WARNING:tensorflow:Layer lstm_3 will not use cuDNN kernel since it doesn't meet the cuDNN kernel criteria. It will use generic GPU kernel as fallback when running on GPU\n",
      "Epoch 1/30\n",
      "266/266 [==============================] - 17s 64ms/step - loss: 0.6751 - accuracy: 0.5667 - val_loss: 0.5815 - val_accuracy: 0.7161\n",
      "Epoch 2/30\n",
      "266/266 [==============================] - 17s 63ms/step - loss: 0.5712 - accuracy: 0.7092 - val_loss: 0.4635 - val_accuracy: 0.7892\n",
      "Epoch 3/30\n",
      "266/266 [==============================] - 17s 63ms/step - loss: 0.4811 - accuracy: 0.7744 - val_loss: 0.3941 - val_accuracy: 0.8210\n",
      "Epoch 4/30\n",
      "266/266 [==============================] - 17s 63ms/step - loss: 0.4303 - accuracy: 0.8058 - val_loss: 0.3685 - val_accuracy: 0.8329\n",
      "Epoch 5/30\n",
      "266/266 [==============================] - 17s 63ms/step - loss: 0.3993 - accuracy: 0.8240 - val_loss: 0.3553 - val_accuracy: 0.8418\n",
      "Epoch 6/30\n",
      "266/266 [==============================] - 17s 63ms/step - loss: 0.3815 - accuracy: 0.8344 - val_loss: 0.3553 - val_accuracy: 0.8443\n",
      "Epoch 7/30\n",
      "266/266 [==============================] - 17s 63ms/step - loss: 0.3699 - accuracy: 0.8403 - val_loss: 0.3645 - val_accuracy: 0.8451\n",
      "Epoch 8/30\n",
      "266/266 [==============================] - 17s 63ms/step - loss: 0.3604 - accuracy: 0.8462 - val_loss: 0.3482 - val_accuracy: 0.8480\n",
      "Epoch 9/30\n",
      "266/266 [==============================] - 17s 63ms/step - loss: 0.3544 - accuracy: 0.8498 - val_loss: 0.3411 - val_accuracy: 0.8491\n",
      "Epoch 10/30\n",
      "266/266 [==============================] - 17s 63ms/step - loss: 0.3500 - accuracy: 0.8508 - val_loss: 0.3561 - val_accuracy: 0.8541\n",
      "Epoch 11/30\n",
      "266/266 [==============================] - 17s 63ms/step - loss: 0.3449 - accuracy: 0.8545 - val_loss: 0.3378 - val_accuracy: 0.8526\n",
      "Epoch 12/30\n",
      "266/266 [==============================] - 17s 63ms/step - loss: 0.3403 - accuracy: 0.8575 - val_loss: 0.3402 - val_accuracy: 0.8541\n",
      "Epoch 13/30\n",
      "266/266 [==============================] - 17s 63ms/step - loss: 0.3358 - accuracy: 0.8579 - val_loss: 0.3383 - val_accuracy: 0.8549\n",
      "Epoch 14/30\n",
      "266/266 [==============================] - 17s 63ms/step - loss: 0.3354 - accuracy: 0.8587 - val_loss: 0.3487 - val_accuracy: 0.8557\n",
      "Epoch 15/30\n",
      "266/266 [==============================] - 17s 63ms/step - loss: 0.3333 - accuracy: 0.8602 - val_loss: 0.3319 - val_accuracy: 0.8567\n",
      "Epoch 16/30\n",
      "266/266 [==============================] - 17s 63ms/step - loss: 0.3299 - accuracy: 0.8617 - val_loss: 0.3543 - val_accuracy: 0.8561\n",
      "Epoch 17/30\n",
      "266/266 [==============================] - 17s 63ms/step - loss: 0.3288 - accuracy: 0.8626 - val_loss: 0.3292 - val_accuracy: 0.8587\n",
      "Epoch 18/30\n",
      "266/266 [==============================] - 17s 63ms/step - loss: 0.3266 - accuracy: 0.8647 - val_loss: 0.3274 - val_accuracy: 0.8592\n",
      "Epoch 19/30\n",
      "266/266 [==============================] - 17s 63ms/step - loss: 0.3252 - accuracy: 0.8636 - val_loss: 0.3325 - val_accuracy: 0.8567\n",
      "Epoch 20/30\n",
      "266/266 [==============================] - 17s 63ms/step - loss: 0.3253 - accuracy: 0.8650 - val_loss: 0.3279 - val_accuracy: 0.8574\n",
      "Epoch 21/30\n",
      "266/266 [==============================] - 17s 63ms/step - loss: 0.3209 - accuracy: 0.8661 - val_loss: 0.3335 - val_accuracy: 0.8584\n",
      "Epoch 22/30\n",
      "266/266 [==============================] - 17s 63ms/step - loss: 0.3206 - accuracy: 0.8662 - val_loss: 0.3263 - val_accuracy: 0.8577\n",
      "Epoch 23/30\n",
      "266/266 [==============================] - 17s 63ms/step - loss: 0.3203 - accuracy: 0.8679 - val_loss: 0.3275 - val_accuracy: 0.8575\n",
      "Epoch 24/30\n",
      "266/266 [==============================] - 17s 63ms/step - loss: 0.3184 - accuracy: 0.8676 - val_loss: 0.3324 - val_accuracy: 0.8589\n",
      "Epoch 25/30\n",
      "266/266 [==============================] - 17s 63ms/step - loss: 0.3193 - accuracy: 0.8684 - val_loss: 0.3241 - val_accuracy: 0.8605\n",
      "Epoch 26/30\n",
      "266/266 [==============================] - 17s 63ms/step - loss: 0.3161 - accuracy: 0.8695 - val_loss: 0.3275 - val_accuracy: 0.8596\n",
      "Epoch 27/30\n",
      "266/266 [==============================] - 17s 63ms/step - loss: 0.3175 - accuracy: 0.8682 - val_loss: 0.3270 - val_accuracy: 0.8587\n",
      "Epoch 28/30\n",
      "266/266 [==============================] - 17s 64ms/step - loss: 0.3160 - accuracy: 0.8688 - val_loss: 0.3293 - val_accuracy: 0.8590\n",
      "Epoch 29/30\n",
      "266/266 [==============================] - 18s 66ms/step - loss: 0.3140 - accuracy: 0.8696 - val_loss: 0.3223 - val_accuracy: 0.8603\n",
      "Epoch 30/30\n",
      "266/266 [==============================] - 18s 67ms/step - loss: 0.3139 - accuracy: 0.8709 - val_loss: 0.3224 - val_accuracy: 0.8595\n",
      "1537/1537 - 12s - loss: 0.3299 - accuracy: 0.8546\n",
      "results [0.32992467284202576, 0.8546493649482727]\n",
      "dict_keys(['loss', 'accuracy', 'val_loss', 'val_accuracy'])\n"
     ]
    },
    {
     "data": {
      "image/png": "[encoded data removed]",
      "text/plain": [
       "<Figure size 432x288 with 1 Axes>"
      ]
     },
     "metadata": {
      "needs_background": "light"
     },
     "output_type": "display_data"
    }
   ],
   "source": [
    "from tensorflow import keras\n",
    "from tensorflow.keras.initializers import Constant\n",
    "\n",
    "model = keras.Sequential()\n",
    "model.add(keras.layers.Embedding(vocab_size, \n",
    "                                 word_vector_dim, \n",
    "                                 embeddings_initializer=Constant(embedding_matrix),  # 카피한 임베딩을 여기서 활용\n",
    "                                 input_length=maxlen, \n",
    "                                 trainable=True))   \n",
    "model.add(keras.layers.LSTM(200,dropout=0.7,recurrent_dropout=0.7))\n",
    "model.add(keras.layers.Dense(200, activation='relu'))\n",
    "model.add(keras.layers.Dropout(0.7))\n",
    "model.add(keras.layers.Dense(200, activation='relu'))\n",
    "model.add(keras.layers.Dropout(0.7))\n",
    "model.add(keras.layers.Dense(200, activation='relu'))\n",
    "model.add(keras.layers.Dropout(0.7))\n",
    "model.add(keras.layers.Dense(1, activation='sigmoid'))\n",
    "\n",
    "model.compile(optimizer=tf.keras.optimizers.RMSprop(lr=0.001),\n",
    "              loss='binary_crossentropy',\n",
    "              metrics=['accuracy'])\n",
    "              \n",
    "epochs=30\n",
    "\n",
    "history = model.fit(partial_x_train,\n",
    "                    partial_y_train,\n",
    "                    epochs=epochs,\n",
    "                    batch_size=512,\n",
    "                    validation_data=(x_val, y_val),\n",
    "                    verbose=1)\n",
    "\n",
    "results = model.evaluate(x_test,  y_test, verbose=2)\n",
    "\n",
    "print(\"results\",results)\n",
    "\n",
    "history_dict = history.history\n",
    "print(history_dict.keys()) # epoch에 따른 그래프를 그려볼 수 있는 항목들\n",
    "\n",
    "acc = history_dict['accuracy']\n",
    "val_acc = history_dict['val_accuracy']\n",
    "loss = history_dict['loss']\n",
    "val_loss = history_dict['val_loss']\n",
    "\n",
    "epochs = range(1, len(acc) + 1)\n",
    "\n",
    "\n",
    "plt.plot(epochs, loss, 'bo', label='Training loss')\n",
    "plt.plot(epochs, val_loss, 'b', label='Validation loss')\n",
    "plt.title('Training and validation loss')\n",
    "plt.xlabel('Epochs')\n",
    "plt.ylabel('Loss')\n",
    "plt.legend()\n",
    "\n",
    "plt.show()"
   ]
  },
  {
   "cell_type": "markdown",
   "metadata": {},
   "source": [
    "### 에포크 변경"
   ]
  },
  {
   "cell_type": "code",
   "execution_count": 36,
   "metadata": {
    "scrolled": false
   },
   "outputs": [
    {
     "name": "stdout",
     "output_type": "stream",
     "text": [
      "WARNING:tensorflow:Layer lstm_4 will not use cuDNN kernel since it doesn't meet the cuDNN kernel criteria. It will use generic GPU kernel as fallback when running on GPU\n",
      "Epoch 1/200\n",
      "266/266 [==============================] - 17s 64ms/step - loss: 0.6752 - accuracy: 0.5680 - val_loss: 0.6391 - val_accuracy: 0.6272\n",
      "Epoch 2/200\n",
      "266/266 [==============================] - 17s 64ms/step - loss: 0.5680 - accuracy: 0.7108 - val_loss: 0.4764 - val_accuracy: 0.7885\n",
      "Epoch 3/200\n",
      "266/266 [==============================] - 17s 63ms/step - loss: 0.4831 - accuracy: 0.7740 - val_loss: 0.5607 - val_accuracy: 0.7595\n",
      "Epoch 4/200\n",
      "266/266 [==============================] - 17s 63ms/step - loss: 0.4301 - accuracy: 0.8064 - val_loss: 0.3734 - val_accuracy: 0.8306\n",
      "Epoch 5/200\n",
      "266/266 [==============================] - 17s 64ms/step - loss: 0.4005 - accuracy: 0.8243 - val_loss: 0.3531 - val_accuracy: 0.8442\n",
      "Epoch 6/200\n",
      "266/266 [==============================] - 17s 63ms/step - loss: 0.3818 - accuracy: 0.8346 - val_loss: 0.3475 - val_accuracy: 0.8456\n",
      "Epoch 7/200\n",
      "266/266 [==============================] - 17s 63ms/step - loss: 0.3689 - accuracy: 0.8410 - val_loss: 0.3658 - val_accuracy: 0.8473\n",
      "Epoch 8/200\n",
      "266/266 [==============================] - 17s 64ms/step - loss: 0.3599 - accuracy: 0.8454 - val_loss: 0.3509 - val_accuracy: 0.8528\n",
      "Epoch 9/200\n",
      "266/266 [==============================] - 17s 63ms/step - loss: 0.3531 - accuracy: 0.8494 - val_loss: 0.3511 - val_accuracy: 0.8543\n",
      "Epoch 10/200\n",
      "266/266 [==============================] - 17s 63ms/step - loss: 0.3483 - accuracy: 0.8528 - val_loss: 0.3331 - val_accuracy: 0.8526\n",
      "Epoch 11/200\n",
      "266/266 [==============================] - 17s 64ms/step - loss: 0.3425 - accuracy: 0.8551 - val_loss: 0.3393 - val_accuracy: 0.8552\n",
      "Epoch 12/200\n",
      "266/266 [==============================] - 17s 63ms/step - loss: 0.3394 - accuracy: 0.8566 - val_loss: 0.3331 - val_accuracy: 0.8588\n",
      "Epoch 13/200\n",
      "266/266 [==============================] - 17s 64ms/step - loss: 0.3364 - accuracy: 0.8586 - val_loss: 0.3367 - val_accuracy: 0.8566\n",
      "Epoch 14/200\n",
      "266/266 [==============================] - 17s 63ms/step - loss: 0.3322 - accuracy: 0.8600 - val_loss: 0.3371 - val_accuracy: 0.8571\n",
      "Epoch 15/200\n",
      "266/266 [==============================] - 17s 64ms/step - loss: 0.3321 - accuracy: 0.8608 - val_loss: 0.3294 - val_accuracy: 0.8563\n",
      "Epoch 16/200\n",
      "266/266 [==============================] - 17s 64ms/step - loss: 0.3283 - accuracy: 0.8618 - val_loss: 0.3286 - val_accuracy: 0.8571\n",
      "Epoch 17/200\n",
      "266/266 [==============================] - 17s 63ms/step - loss: 0.3265 - accuracy: 0.8628 - val_loss: 0.3263 - val_accuracy: 0.8590\n",
      "Epoch 18/200\n",
      "266/266 [==============================] - 17s 64ms/step - loss: 0.3247 - accuracy: 0.8649 - val_loss: 0.3260 - val_accuracy: 0.8584\n",
      "Epoch 19/200\n",
      "266/266 [==============================] - 17s 64ms/step - loss: 0.3226 - accuracy: 0.8658 - val_loss: 0.3242 - val_accuracy: 0.8585\n",
      "Epoch 20/200\n",
      "266/266 [==============================] - 17s 64ms/step - loss: 0.3225 - accuracy: 0.8663 - val_loss: 0.3284 - val_accuracy: 0.8609\n",
      "Epoch 21/200\n",
      "266/266 [==============================] - 17s 64ms/step - loss: 0.3202 - accuracy: 0.8665 - val_loss: 0.3311 - val_accuracy: 0.8604\n",
      "Epoch 22/200\n",
      "266/266 [==============================] - 17s 64ms/step - loss: 0.3189 - accuracy: 0.8677 - val_loss: 0.3319 - val_accuracy: 0.8613\n",
      "Epoch 23/200\n",
      "266/266 [==============================] - 17s 63ms/step - loss: 0.3179 - accuracy: 0.8678 - val_loss: 0.3301 - val_accuracy: 0.8582\n",
      "Epoch 24/200\n",
      "266/266 [==============================] - 17s 64ms/step - loss: 0.3154 - accuracy: 0.8681 - val_loss: 0.3303 - val_accuracy: 0.8588\n",
      "Epoch 25/200\n",
      "266/266 [==============================] - 17s 64ms/step - loss: 0.3156 - accuracy: 0.8694 - val_loss: 0.3308 - val_accuracy: 0.8588\n",
      "Epoch 26/200\n",
      "266/266 [==============================] - 17s 63ms/step - loss: 0.3140 - accuracy: 0.8698 - val_loss: 0.3203 - val_accuracy: 0.8622\n",
      "Epoch 27/200\n",
      "266/266 [==============================] - 17s 64ms/step - loss: 0.3130 - accuracy: 0.8701 - val_loss: 0.3211 - val_accuracy: 0.8623\n",
      "Epoch 28/200\n",
      "266/266 [==============================] - 17s 64ms/step - loss: 0.3149 - accuracy: 0.8705 - val_loss: 0.3198 - val_accuracy: 0.8629\n",
      "Epoch 29/200\n",
      "266/266 [==============================] - 17s 63ms/step - loss: 0.3126 - accuracy: 0.8707 - val_loss: 0.3232 - val_accuracy: 0.8609\n",
      "Epoch 30/200\n",
      "266/266 [==============================] - 17s 64ms/step - loss: 0.3128 - accuracy: 0.8704 - val_loss: 0.3213 - val_accuracy: 0.8614\n",
      "Epoch 31/200\n",
      "266/266 [==============================] - 17s 64ms/step - loss: 0.3110 - accuracy: 0.8718 - val_loss: 0.3277 - val_accuracy: 0.8614\n",
      "Epoch 32/200\n",
      "266/266 [==============================] - 17s 63ms/step - loss: 0.3116 - accuracy: 0.8714 - val_loss: 0.3203 - val_accuracy: 0.8612\n",
      "Epoch 33/200\n",
      "266/266 [==============================] - 17s 64ms/step - loss: 0.3120 - accuracy: 0.8725 - val_loss: 0.3198 - val_accuracy: 0.8624\n",
      "Epoch 34/200\n",
      "266/266 [==============================] - 17s 64ms/step - loss: 0.3101 - accuracy: 0.8715 - val_loss: 0.3218 - val_accuracy: 0.8639\n",
      "Epoch 35/200\n",
      "266/266 [==============================] - 17s 64ms/step - loss: 0.3084 - accuracy: 0.8725 - val_loss: 0.3232 - val_accuracy: 0.8602\n",
      "Epoch 36/200\n",
      "266/266 [==============================] - 17s 64ms/step - loss: 0.3090 - accuracy: 0.8734 - val_loss: 0.3215 - val_accuracy: 0.8609\n",
      "Epoch 37/200\n",
      "266/266 [==============================] - 17s 64ms/step - loss: 0.3079 - accuracy: 0.8739 - val_loss: 0.3322 - val_accuracy: 0.8608\n",
      "Epoch 38/200\n",
      "266/266 [==============================] - 17s 63ms/step - loss: 0.3068 - accuracy: 0.8736 - val_loss: 0.3182 - val_accuracy: 0.8586\n",
      "Epoch 39/200\n",
      "266/266 [==============================] - 17s 64ms/step - loss: 0.3069 - accuracy: 0.8735 - val_loss: 0.3192 - val_accuracy: 0.8621\n",
      "Epoch 40/200\n",
      "266/266 [==============================] - 17s 64ms/step - loss: 0.3078 - accuracy: 0.8749 - val_loss: 0.3223 - val_accuracy: 0.8607\n",
      "Epoch 41/200\n",
      "266/266 [==============================] - 17s 64ms/step - loss: 0.3063 - accuracy: 0.8739 - val_loss: 0.3248 - val_accuracy: 0.8613\n",
      "Epoch 42/200\n",
      "266/266 [==============================] - 17s 64ms/step - loss: 0.3055 - accuracy: 0.8753 - val_loss: 0.3255 - val_accuracy: 0.8615\n",
      "Epoch 43/200\n",
      "266/266 [==============================] - 17s 64ms/step - loss: 0.3041 - accuracy: 0.8742 - val_loss: 0.3263 - val_accuracy: 0.8611\n",
      "Epoch 44/200\n",
      "266/266 [==============================] - 17s 64ms/step - loss: 0.3062 - accuracy: 0.8748 - val_loss: 0.3234 - val_accuracy: 0.8607\n",
      "Epoch 45/200\n",
      "266/266 [==============================] - 17s 64ms/step - loss: 0.3056 - accuracy: 0.8745 - val_loss: 0.3228 - val_accuracy: 0.8607\n",
      "Epoch 46/200\n",
      "266/266 [==============================] - 17s 64ms/step - loss: 0.3043 - accuracy: 0.8750 - val_loss: 0.3220 - val_accuracy: 0.8613\n",
      "Epoch 47/200\n",
      "266/266 [==============================] - 17s 64ms/step - loss: 0.3040 - accuracy: 0.8755 - val_loss: 0.3222 - val_accuracy: 0.8606\n",
      "Epoch 48/200\n",
      "266/266 [==============================] - 18s 66ms/step - loss: 0.3051 - accuracy: 0.8746 - val_loss: 0.3242 - val_accuracy: 0.8592\n",
      "Epoch 49/200\n",
      "266/266 [==============================] - 18s 67ms/step - loss: 0.3053 - accuracy: 0.8756 - val_loss: 0.3188 - val_accuracy: 0.8621\n",
      "Epoch 50/200\n",
      "266/266 [==============================] - 17s 64ms/step - loss: 0.3046 - accuracy: 0.8757 - val_loss: 0.3181 - val_accuracy: 0.8622\n",
      "Epoch 51/200\n",
      "266/266 [==============================] - 17s 64ms/step - loss: 0.3040 - accuracy: 0.8758 - val_loss: 0.3198 - val_accuracy: 0.8614\n",
      "Epoch 52/200\n",
      "266/266 [==============================] - 17s 64ms/step - loss: 0.3040 - accuracy: 0.8760 - val_loss: 0.3223 - val_accuracy: 0.8608\n",
      "Epoch 53/200\n",
      "266/266 [==============================] - 17s 64ms/step - loss: 0.3021 - accuracy: 0.8759 - val_loss: 0.3225 - val_accuracy: 0.8631\n",
      "Epoch 54/200\n",
      "266/266 [==============================] - 17s 64ms/step - loss: 0.3028 - accuracy: 0.8767 - val_loss: 0.3267 - val_accuracy: 0.8622\n",
      "Epoch 55/200\n",
      "266/266 [==============================] - 17s 64ms/step - loss: 0.3046 - accuracy: 0.8761 - val_loss: 0.3179 - val_accuracy: 0.8639\n",
      "Epoch 56/200\n"
     ]
    },
    {
     "name": "stdout",
     "output_type": "stream",
     "text": [
      "266/266 [==============================] - 17s 63ms/step - loss: 0.3042 - accuracy: 0.8771 - val_loss: 0.3197 - val_accuracy: 0.8636\n",
      "Epoch 57/200\n",
      "266/266 [==============================] - 17s 64ms/step - loss: 0.3050 - accuracy: 0.8759 - val_loss: 0.3245 - val_accuracy: 0.8635\n",
      "Epoch 58/200\n",
      "266/266 [==============================] - 17s 65ms/step - loss: 0.3035 - accuracy: 0.8763 - val_loss: 0.3222 - val_accuracy: 0.8616\n",
      "Epoch 59/200\n",
      "266/266 [==============================] - 17s 63ms/step - loss: 0.3047 - accuracy: 0.8761 - val_loss: 0.3172 - val_accuracy: 0.8626\n",
      "Epoch 60/200\n",
      "266/266 [==============================] - 17s 64ms/step - loss: 0.3034 - accuracy: 0.8766 - val_loss: 0.3192 - val_accuracy: 0.8625\n",
      "Epoch 61/200\n",
      "266/266 [==============================] - 17s 64ms/step - loss: 0.3025 - accuracy: 0.8760 - val_loss: 0.3199 - val_accuracy: 0.8636\n",
      "Epoch 62/200\n",
      "266/266 [==============================] - 17s 63ms/step - loss: 0.3033 - accuracy: 0.8759 - val_loss: 0.3268 - val_accuracy: 0.8642\n",
      "Epoch 63/200\n",
      "266/266 [==============================] - 17s 64ms/step - loss: 0.3039 - accuracy: 0.8772 - val_loss: 0.3190 - val_accuracy: 0.8631\n",
      "Epoch 64/200\n",
      "266/266 [==============================] - 17s 64ms/step - loss: 0.3042 - accuracy: 0.8753 - val_loss: 0.3198 - val_accuracy: 0.8641\n",
      "Epoch 65/200\n",
      "266/266 [==============================] - 17s 63ms/step - loss: 0.3022 - accuracy: 0.8775 - val_loss: 0.3263 - val_accuracy: 0.8618\n",
      "Epoch 66/200\n",
      "266/266 [==============================] - 17s 64ms/step - loss: 0.3042 - accuracy: 0.8765 - val_loss: 0.3229 - val_accuracy: 0.8627\n",
      "Epoch 67/200\n",
      "266/266 [==============================] - 17s 63ms/step - loss: 0.3036 - accuracy: 0.8771 - val_loss: 0.3197 - val_accuracy: 0.8647\n",
      "Epoch 68/200\n",
      "266/266 [==============================] - 17s 63ms/step - loss: 0.3029 - accuracy: 0.8764 - val_loss: 0.3183 - val_accuracy: 0.8619\n",
      "Epoch 69/200\n",
      "266/266 [==============================] - 17s 64ms/step - loss: 0.3021 - accuracy: 0.8775 - val_loss: 0.3185 - val_accuracy: 0.8616\n",
      "Epoch 70/200\n",
      "266/266 [==============================] - 17s 64ms/step - loss: 0.3033 - accuracy: 0.8779 - val_loss: 0.3229 - val_accuracy: 0.8604\n",
      "Epoch 71/200\n",
      "266/266 [==============================] - 17s 63ms/step - loss: 0.3032 - accuracy: 0.8779 - val_loss: 0.3216 - val_accuracy: 0.8643\n",
      "Epoch 72/200\n",
      "266/266 [==============================] - 17s 64ms/step - loss: 0.3032 - accuracy: 0.8778 - val_loss: 0.3258 - val_accuracy: 0.8629\n",
      "Epoch 73/200\n",
      "266/266 [==============================] - 17s 64ms/step - loss: 0.3008 - accuracy: 0.8799 - val_loss: 0.3239 - val_accuracy: 0.8647\n",
      "Epoch 74/200\n",
      "266/266 [==============================] - 17s 63ms/step - loss: 0.3037 - accuracy: 0.8771 - val_loss: 0.3284 - val_accuracy: 0.8652\n",
      "Epoch 75/200\n",
      "266/266 [==============================] - 17s 64ms/step - loss: 0.3048 - accuracy: 0.8780 - val_loss: 0.3243 - val_accuracy: 0.8622\n",
      "Epoch 76/200\n",
      "266/266 [==============================] - 17s 64ms/step - loss: 0.3023 - accuracy: 0.8786 - val_loss: 0.3210 - val_accuracy: 0.8629\n",
      "Epoch 77/200\n",
      "266/266 [==============================] - 17s 64ms/step - loss: 0.3012 - accuracy: 0.8786 - val_loss: 0.3245 - val_accuracy: 0.8637\n",
      "Epoch 78/200\n",
      "266/266 [==============================] - 17s 64ms/step - loss: 0.3021 - accuracy: 0.8789 - val_loss: 0.3220 - val_accuracy: 0.8622\n",
      "Epoch 79/200\n",
      "266/266 [==============================] - 17s 64ms/step - loss: 0.3008 - accuracy: 0.8788 - val_loss: 0.3282 - val_accuracy: 0.8648\n",
      "Epoch 80/200\n",
      "266/266 [==============================] - 17s 63ms/step - loss: 0.3038 - accuracy: 0.8783 - val_loss: 0.3207 - val_accuracy: 0.8642\n",
      "Epoch 81/200\n",
      "266/266 [==============================] - 17s 64ms/step - loss: 0.3048 - accuracy: 0.8791 - val_loss: 0.3210 - val_accuracy: 0.8663\n",
      "Epoch 82/200\n",
      "266/266 [==============================] - 17s 64ms/step - loss: 0.3008 - accuracy: 0.8785 - val_loss: 0.3259 - val_accuracy: 0.8641\n",
      "Epoch 83/200\n",
      "266/266 [==============================] - 17s 64ms/step - loss: 0.3021 - accuracy: 0.8784 - val_loss: 0.3182 - val_accuracy: 0.8653\n",
      "Epoch 84/200\n",
      "266/266 [==============================] - 17s 64ms/step - loss: 0.3019 - accuracy: 0.8790 - val_loss: 0.3189 - val_accuracy: 0.8652\n",
      "Epoch 85/200\n",
      "266/266 [==============================] - 17s 64ms/step - loss: 0.3046 - accuracy: 0.8779 - val_loss: 0.3210 - val_accuracy: 0.8645\n",
      "Epoch 86/200\n",
      "266/266 [==============================] - 17s 64ms/step - loss: 0.3024 - accuracy: 0.8797 - val_loss: 0.3235 - val_accuracy: 0.8615\n",
      "Epoch 87/200\n",
      "266/266 [==============================] - 17s 64ms/step - loss: 0.3030 - accuracy: 0.8796 - val_loss: 0.3188 - val_accuracy: 0.8627\n",
      "Epoch 88/200\n",
      "266/266 [==============================] - 17s 64ms/step - loss: 0.3018 - accuracy: 0.8786 - val_loss: 0.3196 - val_accuracy: 0.8639\n",
      "Epoch 89/200\n",
      "266/266 [==============================] - 17s 64ms/step - loss: 0.3042 - accuracy: 0.8788 - val_loss: 0.3168 - val_accuracy: 0.8637\n",
      "Epoch 90/200\n",
      "266/266 [==============================] - 17s 64ms/step - loss: 0.3007 - accuracy: 0.8802 - val_loss: 0.3201 - val_accuracy: 0.8634\n",
      "Epoch 91/200\n",
      "266/266 [==============================] - 17s 64ms/step - loss: 0.3035 - accuracy: 0.8789 - val_loss: 0.3226 - val_accuracy: 0.8656\n",
      "Epoch 92/200\n",
      "266/266 [==============================] - 17s 64ms/step - loss: 0.3049 - accuracy: 0.8797 - val_loss: 0.3436 - val_accuracy: 0.8641\n",
      "Epoch 93/200\n",
      "266/266 [==============================] - 17s 64ms/step - loss: 0.3005 - accuracy: 0.8800 - val_loss: 0.3292 - val_accuracy: 0.8630\n",
      "Epoch 94/200\n",
      "266/266 [==============================] - 17s 64ms/step - loss: 0.3027 - accuracy: 0.8785 - val_loss: 0.3223 - val_accuracy: 0.8647\n",
      "Epoch 95/200\n",
      "266/266 [==============================] - 17s 63ms/step - loss: 0.3050 - accuracy: 0.8780 - val_loss: 0.3238 - val_accuracy: 0.8628\n",
      "Epoch 96/200\n",
      "266/266 [==============================] - 17s 64ms/step - loss: 0.3043 - accuracy: 0.8781 - val_loss: 0.3335 - val_accuracy: 0.8622\n",
      "Epoch 97/200\n",
      "266/266 [==============================] - 17s 64ms/step - loss: 0.3059 - accuracy: 0.8788 - val_loss: 0.3217 - val_accuracy: 0.8621\n",
      "Epoch 98/200\n",
      "266/266 [==============================] - 17s 63ms/step - loss: 0.3074 - accuracy: 0.8810 - val_loss: 0.3208 - val_accuracy: 0.8595\n",
      "Epoch 99/200\n",
      "266/266 [==============================] - 17s 64ms/step - loss: 0.3040 - accuracy: 0.8791 - val_loss: 0.3292 - val_accuracy: 0.8638\n",
      "Epoch 100/200\n",
      "266/266 [==============================] - 17s 64ms/step - loss: 0.3058 - accuracy: 0.8792 - val_loss: 0.3223 - val_accuracy: 0.8632\n",
      "Epoch 101/200\n",
      "266/266 [==============================] - 17s 63ms/step - loss: 0.3032 - accuracy: 0.8788 - val_loss: 0.3260 - val_accuracy: 0.8618\n",
      "Epoch 102/200\n",
      "266/266 [==============================] - 17s 64ms/step - loss: 0.3015 - accuracy: 0.8795 - val_loss: 0.3293 - val_accuracy: 0.8621\n",
      "Epoch 103/200\n",
      "266/266 [==============================] - 17s 64ms/step - loss: 0.3021 - accuracy: 0.8786 - val_loss: 0.3210 - val_accuracy: 0.8609\n",
      "Epoch 104/200\n",
      "266/266 [==============================] - 17s 63ms/step - loss: 0.3026 - accuracy: 0.8782 - val_loss: 0.3322 - val_accuracy: 0.8581\n",
      "Epoch 105/200\n",
      "266/266 [==============================] - 17s 64ms/step - loss: 0.3013 - accuracy: 0.8803 - val_loss: 0.3228 - val_accuracy: 0.8609\n",
      "Epoch 106/200\n",
      "266/266 [==============================] - 17s 64ms/step - loss: 0.3035 - accuracy: 0.8788 - val_loss: 0.3198 - val_accuracy: 0.8595\n",
      "Epoch 107/200\n",
      "266/266 [==============================] - 17s 63ms/step - loss: 0.3070 - accuracy: 0.8789 - val_loss: 0.3231 - val_accuracy: 0.8590\n",
      "Epoch 108/200\n",
      "266/266 [==============================] - 17s 64ms/step - loss: 0.3085 - accuracy: 0.8800 - val_loss: 0.3208 - val_accuracy: 0.8613\n",
      "Epoch 109/200\n",
      "266/266 [==============================] - 17s 64ms/step - loss: 0.3048 - accuracy: 0.8789 - val_loss: 0.3208 - val_accuracy: 0.8612\n",
      "Epoch 110/200\n",
      "266/266 [==============================] - 17s 64ms/step - loss: 0.3041 - accuracy: 0.8777 - val_loss: 0.3203 - val_accuracy: 0.8636\n",
      "Epoch 111/200\n",
      "266/266 [==============================] - 17s 64ms/step - loss: 0.3029 - accuracy: 0.8778 - val_loss: 0.3287 - val_accuracy: 0.8599\n",
      "Epoch 112/200\n"
     ]
    },
    {
     "name": "stdout",
     "output_type": "stream",
     "text": [
      "266/266 [==============================] - 17s 63ms/step - loss: 0.3094 - accuracy: 0.8797 - val_loss: 0.3204 - val_accuracy: 0.8628\n",
      "Epoch 113/200\n",
      "266/266 [==============================] - 17s 64ms/step - loss: 0.3044 - accuracy: 0.8798 - val_loss: 0.3237 - val_accuracy: 0.8617\n",
      "Epoch 114/200\n",
      "266/266 [==============================] - 17s 63ms/step - loss: 0.3012 - accuracy: 0.8798 - val_loss: 0.3234 - val_accuracy: 0.8582\n",
      "Epoch 115/200\n",
      "266/266 [==============================] - 17s 64ms/step - loss: 0.3039 - accuracy: 0.8791 - val_loss: 0.3215 - val_accuracy: 0.8628\n",
      "Epoch 116/200\n",
      "266/266 [==============================] - 17s 64ms/step - loss: 0.3051 - accuracy: 0.8790 - val_loss: 0.3313 - val_accuracy: 0.8628\n",
      "Epoch 117/200\n",
      "266/266 [==============================] - 17s 63ms/step - loss: 0.3025 - accuracy: 0.8807 - val_loss: 0.3208 - val_accuracy: 0.8592\n",
      "Epoch 118/200\n",
      "266/266 [==============================] - 17s 64ms/step - loss: 0.3031 - accuracy: 0.8795 - val_loss: 0.3226 - val_accuracy: 0.8621\n",
      "Epoch 119/200\n",
      "266/266 [==============================] - 17s 65ms/step - loss: 0.3004 - accuracy: 0.8789 - val_loss: 0.3225 - val_accuracy: 0.8622\n",
      "Epoch 120/200\n",
      "266/266 [==============================] - 17s 64ms/step - loss: 0.3060 - accuracy: 0.8777 - val_loss: 0.3240 - val_accuracy: 0.8570\n",
      "Epoch 121/200\n",
      "266/266 [==============================] - 17s 64ms/step - loss: 0.3116 - accuracy: 0.8788 - val_loss: 0.3266 - val_accuracy: 0.8586\n",
      "Epoch 122/200\n",
      "266/266 [==============================] - 17s 64ms/step - loss: 0.3021 - accuracy: 0.8785 - val_loss: 0.3252 - val_accuracy: 0.8606\n",
      "Epoch 123/200\n",
      "266/266 [==============================] - 17s 63ms/step - loss: 0.3101 - accuracy: 0.8778 - val_loss: 0.3237 - val_accuracy: 0.8610\n",
      "Epoch 124/200\n",
      "266/266 [==============================] - 17s 64ms/step - loss: 0.3063 - accuracy: 0.8778 - val_loss: 0.3250 - val_accuracy: 0.8621\n",
      "Epoch 125/200\n",
      "266/266 [==============================] - 17s 64ms/step - loss: 0.3076 - accuracy: 0.8775 - val_loss: 0.3246 - val_accuracy: 0.8631\n",
      "Epoch 126/200\n",
      "266/266 [==============================] - 17s 63ms/step - loss: 0.3028 - accuracy: 0.8787 - val_loss: 0.3291 - val_accuracy: 0.8592\n",
      "Epoch 127/200\n",
      "266/266 [==============================] - 17s 64ms/step - loss: 0.3060 - accuracy: 0.8787 - val_loss: 0.3309 - val_accuracy: 0.8624\n",
      "Epoch 128/200\n",
      "266/266 [==============================] - 17s 64ms/step - loss: 0.3081 - accuracy: 0.8781 - val_loss: 0.3245 - val_accuracy: 0.8569\n",
      "Epoch 129/200\n",
      "266/266 [==============================] - 17s 63ms/step - loss: 0.3096 - accuracy: 0.8783 - val_loss: 0.3289 - val_accuracy: 0.8582\n",
      "Epoch 130/200\n",
      "266/266 [==============================] - 17s 64ms/step - loss: 0.3079 - accuracy: 0.8764 - val_loss: 0.3241 - val_accuracy: 0.8574\n",
      "Epoch 131/200\n",
      "266/266 [==============================] - 17s 64ms/step - loss: 0.3100 - accuracy: 0.8772 - val_loss: 0.3210 - val_accuracy: 0.8624\n",
      "Epoch 132/200\n",
      "266/266 [==============================] - 17s 63ms/step - loss: 0.3042 - accuracy: 0.8775 - val_loss: 0.3253 - val_accuracy: 0.8658\n",
      "Epoch 133/200\n",
      "266/266 [==============================] - 17s 64ms/step - loss: 0.3072 - accuracy: 0.8784 - val_loss: 0.3315 - val_accuracy: 0.8615\n",
      "Epoch 134/200\n",
      "266/266 [==============================] - 17s 64ms/step - loss: 0.3147 - accuracy: 0.8789 - val_loss: 0.3271 - val_accuracy: 0.8596\n",
      "Epoch 135/200\n",
      "266/266 [==============================] - 17s 64ms/step - loss: 0.3111 - accuracy: 0.8786 - val_loss: 0.3350 - val_accuracy: 0.8586\n",
      "Epoch 136/200\n",
      "266/266 [==============================] - 17s 63ms/step - loss: 0.3074 - accuracy: 0.8773 - val_loss: 0.3237 - val_accuracy: 0.8617\n",
      "Epoch 137/200\n",
      "266/266 [==============================] - 17s 64ms/step - loss: 0.3092 - accuracy: 0.8783 - val_loss: 0.3369 - val_accuracy: 0.8580\n",
      "Epoch 138/200\n",
      "266/266 [==============================] - 17s 64ms/step - loss: 0.3088 - accuracy: 0.8780 - val_loss: 0.3244 - val_accuracy: 0.8606\n",
      "Epoch 139/200\n",
      "266/266 [==============================] - 17s 64ms/step - loss: 0.3146 - accuracy: 0.8768 - val_loss: 0.3241 - val_accuracy: 0.8609\n",
      "Epoch 140/200\n",
      "266/266 [==============================] - 17s 64ms/step - loss: 0.3079 - accuracy: 0.8778 - val_loss: 0.3324 - val_accuracy: 0.8627\n",
      "Epoch 141/200\n",
      "266/266 [==============================] - 17s 64ms/step - loss: 0.3048 - accuracy: 0.8786 - val_loss: 0.3252 - val_accuracy: 0.8603\n",
      "Epoch 142/200\n",
      "266/266 [==============================] - 17s 63ms/step - loss: 0.3063 - accuracy: 0.8795 - val_loss: 0.3217 - val_accuracy: 0.8610\n",
      "Epoch 143/200\n",
      "266/266 [==============================] - 17s 64ms/step - loss: 0.3102 - accuracy: 0.8783 - val_loss: 0.3216 - val_accuracy: 0.8625\n",
      "Epoch 144/200\n",
      "266/266 [==============================] - 17s 64ms/step - loss: 0.3143 - accuracy: 0.8781 - val_loss: 0.3345 - val_accuracy: 0.8618\n",
      "Epoch 145/200\n",
      "266/266 [==============================] - 17s 64ms/step - loss: 0.3167 - accuracy: 0.8788 - val_loss: 0.3249 - val_accuracy: 0.8602\n",
      "Epoch 146/200\n",
      "266/266 [==============================] - 17s 64ms/step - loss: 0.3050 - accuracy: 0.8773 - val_loss: 0.3261 - val_accuracy: 0.8615\n",
      "Epoch 147/200\n",
      "266/266 [==============================] - 17s 64ms/step - loss: 0.3171 - accuracy: 0.8776 - val_loss: 0.3247 - val_accuracy: 0.8593\n",
      "Epoch 148/200\n",
      "266/266 [==============================] - 17s 63ms/step - loss: 0.3148 - accuracy: 0.8771 - val_loss: 0.3262 - val_accuracy: 0.8591\n",
      "Epoch 149/200\n",
      "266/266 [==============================] - 17s 64ms/step - loss: 0.3125 - accuracy: 0.8768 - val_loss: 0.3386 - val_accuracy: 0.8594\n",
      "Epoch 150/200\n",
      "266/266 [==============================] - 17s 64ms/step - loss: 0.3095 - accuracy: 0.8778 - val_loss: 0.3256 - val_accuracy: 0.8563\n",
      "Epoch 151/200\n",
      "266/266 [==============================] - 17s 63ms/step - loss: 0.3128 - accuracy: 0.8762 - val_loss: 0.3277 - val_accuracy: 0.8592\n",
      "Epoch 152/200\n",
      "266/266 [==============================] - 17s 64ms/step - loss: 0.3098 - accuracy: 0.8761 - val_loss: 0.3321 - val_accuracy: 0.8632\n",
      "Epoch 153/200\n",
      "266/266 [==============================] - 17s 64ms/step - loss: 0.3141 - accuracy: 0.8773 - val_loss: 0.3236 - val_accuracy: 0.8630\n",
      "Epoch 154/200\n",
      "266/266 [==============================] - 17s 63ms/step - loss: 0.3107 - accuracy: 0.8761 - val_loss: 0.3282 - val_accuracy: 0.8534\n",
      "Epoch 155/200\n",
      "266/266 [==============================] - 17s 64ms/step - loss: 0.3162 - accuracy: 0.8774 - val_loss: 0.3333 - val_accuracy: 0.8552\n",
      "Epoch 156/200\n",
      "266/266 [==============================] - 17s 64ms/step - loss: 0.3296 - accuracy: 0.8777 - val_loss: 0.3270 - val_accuracy: 0.8546\n",
      "Epoch 157/200\n",
      "266/266 [==============================] - 17s 63ms/step - loss: 0.3141 - accuracy: 0.8756 - val_loss: 0.3321 - val_accuracy: 0.8543\n",
      "Epoch 158/200\n",
      "266/266 [==============================] - 17s 64ms/step - loss: 0.3123 - accuracy: 0.8773 - val_loss: 0.3306 - val_accuracy: 0.8660\n",
      "Epoch 159/200\n",
      "266/266 [==============================] - 17s 64ms/step - loss: 0.3119 - accuracy: 0.8781 - val_loss: 0.3272 - val_accuracy: 0.8623\n",
      "Epoch 160/200\n",
      "266/266 [==============================] - 17s 64ms/step - loss: 0.3199 - accuracy: 0.8787 - val_loss: 0.3320 - val_accuracy: 0.8610\n",
      "Epoch 161/200\n",
      "266/266 [==============================] - 17s 65ms/step - loss: 0.3072 - accuracy: 0.8770 - val_loss: 0.3260 - val_accuracy: 0.8607\n",
      "Epoch 162/200\n",
      "266/266 [==============================] - 17s 65ms/step - loss: 0.3123 - accuracy: 0.8788 - val_loss: 0.3226 - val_accuracy: 0.8628\n",
      "Epoch 163/200\n",
      "266/266 [==============================] - 18s 66ms/step - loss: 0.3169 - accuracy: 0.8768 - val_loss: 0.3219 - val_accuracy: 0.8636\n",
      "Epoch 164/200\n",
      "266/266 [==============================] - 17s 64ms/step - loss: 0.3054 - accuracy: 0.8784 - val_loss: 0.3294 - val_accuracy: 0.8589\n",
      "Epoch 165/200\n",
      "266/266 [==============================] - 17s 64ms/step - loss: 0.3116 - accuracy: 0.8786 - val_loss: 0.3231 - val_accuracy: 0.8637\n",
      "Epoch 166/200\n",
      "266/266 [==============================] - 17s 63ms/step - loss: 0.3106 - accuracy: 0.8782 - val_loss: 0.3345 - val_accuracy: 0.8622\n",
      "Epoch 167/200\n",
      "266/266 [==============================] - 17s 64ms/step - loss: 0.3077 - accuracy: 0.8773 - val_loss: 0.3278 - val_accuracy: 0.8568\n"
     ]
    },
    {
     "name": "stdout",
     "output_type": "stream",
     "text": [
      "Epoch 168/200\n",
      "266/266 [==============================] - 17s 64ms/step - loss: 0.3162 - accuracy: 0.8770 - val_loss: 0.3345 - val_accuracy: 0.8604\n",
      "Epoch 169/200\n",
      "266/266 [==============================] - 17s 63ms/step - loss: 0.3166 - accuracy: 0.8757 - val_loss: 0.3236 - val_accuracy: 0.8600\n",
      "Epoch 170/200\n",
      "266/266 [==============================] - 17s 64ms/step - loss: 0.3172 - accuracy: 0.8782 - val_loss: 0.3246 - val_accuracy: 0.8599\n",
      "Epoch 171/200\n",
      "266/266 [==============================] - 17s 64ms/step - loss: 0.3095 - accuracy: 0.8776 - val_loss: 0.3314 - val_accuracy: 0.8594\n",
      "Epoch 172/200\n",
      "266/266 [==============================] - 17s 64ms/step - loss: 0.3215 - accuracy: 0.8769 - val_loss: 0.3231 - val_accuracy: 0.8612\n",
      "Epoch 173/200\n",
      "266/266 [==============================] - 17s 63ms/step - loss: 0.3102 - accuracy: 0.8767 - val_loss: 0.3321 - val_accuracy: 0.8584\n",
      "Epoch 174/200\n",
      "266/266 [==============================] - 17s 64ms/step - loss: 0.3146 - accuracy: 0.8758 - val_loss: 0.3257 - val_accuracy: 0.8614\n",
      "Epoch 175/200\n",
      "266/266 [==============================] - 17s 64ms/step - loss: 0.3246 - accuracy: 0.8774 - val_loss: 0.3299 - val_accuracy: 0.8595\n",
      "Epoch 176/200\n",
      "266/266 [==============================] - 17s 63ms/step - loss: 0.3089 - accuracy: 0.8786 - val_loss: 0.3265 - val_accuracy: 0.8584\n",
      "Epoch 177/200\n",
      "266/266 [==============================] - 17s 64ms/step - loss: 0.3153 - accuracy: 0.8748 - val_loss: 0.3303 - val_accuracy: 0.8591\n",
      "Epoch 178/200\n",
      "266/266 [==============================] - 17s 64ms/step - loss: 0.3128 - accuracy: 0.8751 - val_loss: 0.3262 - val_accuracy: 0.8590\n",
      "Epoch 179/200\n",
      "266/266 [==============================] - 18s 68ms/step - loss: 0.3054 - accuracy: 0.8770 - val_loss: 0.3268 - val_accuracy: 0.8592\n",
      "Epoch 180/200\n",
      "266/266 [==============================] - 18s 68ms/step - loss: 0.3146 - accuracy: 0.8773 - val_loss: 0.3272 - val_accuracy: 0.8564\n",
      "Epoch 181/200\n",
      "266/266 [==============================] - 18s 66ms/step - loss: 0.3129 - accuracy: 0.8754 - val_loss: 0.3302 - val_accuracy: 0.8594\n",
      "Epoch 182/200\n",
      "266/266 [==============================] - 17s 65ms/step - loss: 0.3155 - accuracy: 0.8772 - val_loss: 0.3282 - val_accuracy: 0.8591\n",
      "Epoch 183/200\n",
      "266/266 [==============================] - 17s 64ms/step - loss: 0.3105 - accuracy: 0.8765 - val_loss: 0.3253 - val_accuracy: 0.8606\n",
      "Epoch 184/200\n",
      "266/266 [==============================] - 18s 66ms/step - loss: 0.3173 - accuracy: 0.8772 - val_loss: 0.3334 - val_accuracy: 0.8596\n",
      "Epoch 185/200\n",
      "266/266 [==============================] - 17s 65ms/step - loss: 0.3339 - accuracy: 0.8759 - val_loss: 0.3271 - val_accuracy: 0.8530\n",
      "Epoch 186/200\n",
      "266/266 [==============================] - 18s 66ms/step - loss: 0.3151 - accuracy: 0.8775 - val_loss: 0.3370 - val_accuracy: 0.8548\n",
      "Epoch 187/200\n",
      "266/266 [==============================] - 18s 66ms/step - loss: 0.3169 - accuracy: 0.8771 - val_loss: 0.3291 - val_accuracy: 0.8606\n",
      "Epoch 188/200\n",
      "266/266 [==============================] - 17s 65ms/step - loss: 0.3128 - accuracy: 0.8753 - val_loss: 0.3301 - val_accuracy: 0.8538\n",
      "Epoch 189/200\n",
      "266/266 [==============================] - 17s 65ms/step - loss: 0.3173 - accuracy: 0.8768 - val_loss: 0.3276 - val_accuracy: 0.8565\n",
      "Epoch 190/200\n",
      "266/266 [==============================] - 17s 64ms/step - loss: 0.3218 - accuracy: 0.8762 - val_loss: 0.3269 - val_accuracy: 0.8541\n",
      "Epoch 191/200\n",
      "266/266 [==============================] - 17s 64ms/step - loss: 0.3180 - accuracy: 0.8756 - val_loss: 0.3337 - val_accuracy: 0.8572\n",
      "Epoch 192/200\n",
      "266/266 [==============================] - 17s 64ms/step - loss: 0.3140 - accuracy: 0.8761 - val_loss: 0.3272 - val_accuracy: 0.8562\n",
      "Epoch 193/200\n",
      "266/266 [==============================] - 17s 63ms/step - loss: 0.3340 - accuracy: 0.8749 - val_loss: 0.3260 - val_accuracy: 0.8615\n",
      "Epoch 194/200\n",
      "266/266 [==============================] - 17s 64ms/step - loss: 0.3321 - accuracy: 0.8764 - val_loss: 0.3268 - val_accuracy: 0.8572\n",
      "Epoch 195/200\n",
      "266/266 [==============================] - 17s 65ms/step - loss: 0.3162 - accuracy: 0.8755 - val_loss: 0.3284 - val_accuracy: 0.8585\n",
      "Epoch 196/200\n",
      "266/266 [==============================] - 17s 65ms/step - loss: 0.3358 - accuracy: 0.8751 - val_loss: 0.3308 - val_accuracy: 0.8553\n",
      "Epoch 197/200\n",
      "266/266 [==============================] - 17s 64ms/step - loss: 0.3215 - accuracy: 0.8758 - val_loss: 0.3488 - val_accuracy: 0.8567\n",
      "Epoch 198/200\n",
      "266/266 [==============================] - 17s 64ms/step - loss: 0.3193 - accuracy: 0.8752 - val_loss: 0.3286 - val_accuracy: 0.8549\n",
      "Epoch 199/200\n",
      "266/266 [==============================] - 17s 63ms/step - loss: 0.3304 - accuracy: 0.8755 - val_loss: 0.3288 - val_accuracy: 0.8542\n",
      "Epoch 200/200\n",
      "266/266 [==============================] - 17s 63ms/step - loss: 0.3105 - accuracy: 0.8754 - val_loss: 0.3286 - val_accuracy: 0.8610\n",
      "1537/1537 - 13s - loss: 0.3437 - accuracy: 0.8502\n",
      "results [0.34366583824157715, 0.8501739501953125]\n",
      "dict_keys(['loss', 'accuracy', 'val_loss', 'val_accuracy'])\n"
     ]
    },
    {
     "data": {
      "image/png": "[encoded data removed]",
      "text/plain": [
       "<Figure size 432x288 with 1 Axes>"
      ]
     },
     "metadata": {
      "needs_background": "light"
     },
     "output_type": "display_data"
    }
   ],
   "source": [
    "from tensorflow import keras\n",
    "from tensorflow.keras.initializers import Constant\n",
    "\n",
    "model = keras.Sequential()\n",
    "model.add(keras.layers.Embedding(vocab_size, \n",
    "                                 word_vector_dim, \n",
    "                                 embeddings_initializer=Constant(embedding_matrix),  # 카피한 임베딩을 여기서 활용\n",
    "                                 input_length=maxlen, \n",
    "                                 trainable=True))   \n",
    "model.add(keras.layers.LSTM(200,dropout=0.7,recurrent_dropout=0.7))\n",
    "model.add(keras.layers.Dense(200, activation='relu'))\n",
    "model.add(keras.layers.Dropout(0.7))\n",
    "model.add(keras.layers.Dense(200, activation='relu'))\n",
    "model.add(keras.layers.Dropout(0.7))\n",
    "model.add(keras.layers.Dense(200, activation='relu'))\n",
    "model.add(keras.layers.Dropout(0.7))\n",
    "model.add(keras.layers.Dense(1, activation='sigmoid'))\n",
    "\n",
    "model.compile(optimizer=tf.keras.optimizers.RMSprop(lr=0.001),\n",
    "              loss='binary_crossentropy',\n",
    "              metrics=['accuracy'])\n",
    "              \n",
    "epochs=200\n",
    "\n",
    "history = model.fit(partial_x_train,\n",
    "                    partial_y_train,\n",
    "                    epochs=epochs,\n",
    "                    batch_size=512,\n",
    "                    validation_data=(x_val, y_val),\n",
    "                    verbose=1)\n",
    "\n",
    "results = model.evaluate(x_test,  y_test, verbose=2)\n",
    "\n",
    "print(\"results\",results)\n",
    "\n",
    "history_dict = history.history\n",
    "print(history_dict.keys()) # epoch에 따른 그래프를 그려볼 수 있는 항목들\n",
    "\n",
    "acc = history_dict['accuracy']\n",
    "val_acc = history_dict['val_accuracy']\n",
    "loss = history_dict['loss']\n",
    "val_loss = history_dict['val_loss']\n",
    "\n",
    "epochs = range(1, len(acc) + 1)\n",
    "\n",
    "\n",
    "plt.plot(epochs, loss, 'bo', label='Training loss')\n",
    "plt.plot(epochs, val_loss, 'b', label='Validation loss')\n",
    "plt.title('Training and validation loss')\n",
    "plt.xlabel('Epochs')\n",
    "plt.ylabel('Loss')\n",
    "plt.legend()\n",
    "\n",
    "plt.show()"
   ]
  },
  {
   "cell_type": "markdown",
   "metadata": {},
   "source": [
    "### Okt에서 Mecab으로 변경"
   ]
  },
  {
   "cell_type": "code",
   "execution_count": 3,
   "metadata": {},
   "outputs": [],
   "source": [
    "from konlpy.tag import Mecab\n",
    "tokenizer = Mecab()\n",
    "stopwords = ['의','가','이','은','들','는','좀','잘','걍','과','도','를','을','다','.','으로','자','에','게','에게','와','한','하다']\n",
    "\n",
    "def load_data(train_data, test_data, num_words=10000):\n",
    "    train_data.drop_duplicates(subset=['document'], inplace=True)\n",
    "    train_data = train_data.dropna(how = 'any') \n",
    "    test_data.drop_duplicates(subset=['document'], inplace=True)\n",
    "    test_data = test_data.dropna(how = 'any') \n",
    "\n",
    "    X_train = []\n",
    "    for sentence in train_data['document']:\n",
    "        temp_X = tokenizer.morphs(sentence) # 토큰화\n",
    "        temp_X = [word for word in temp_X if not word in stopwords] # 불용어 제거\n",
    "        X_train.append(temp_X)\n",
    "\n",
    "    X_test = []\n",
    "    for sentence in test_data['document']:\n",
    "        temp_X = tokenizer.morphs(sentence) # 토큰화\n",
    "        temp_X = [word for word in temp_X if not word in stopwords] # 불용어 제거\n",
    "        X_test.append(temp_X)\n",
    "\n",
    "    words = np.concatenate(X_train).tolist()\n",
    "    counter = Counter(words)\n",
    "    counter = counter.most_common(10000-4)\n",
    "    vocab = ['<PAD>', '<BOS>', '<UNK>', '<UNUSED>'] + [key for key, _ in counter]\n",
    "    word_to_index = {word:index for index, word in enumerate(vocab)}\n",
    "\n",
    "    def wordlist_to_indexlist(wordlist):\n",
    "        return [word_to_index[word] if word in word_to_index else word_to_index['<UNK>'] for word in wordlist]\n",
    "\n",
    "    X_train = list(map(wordlist_to_indexlist, X_train))\n",
    "    X_test = list(map(wordlist_to_indexlist, X_test))\n",
    "\n",
    "    return X_train, np.array(list(train_data['label'])), X_test, np.array(list(test_data['label'])), word_to_index\n",
    "\n",
    "X_train, y_train, X_test, y_test, word_to_index = load_data(train_data, test_data)"
   ]
  },
  {
   "cell_type": "code",
   "execution_count": 4,
   "metadata": {},
   "outputs": [],
   "source": [
    "index_to_word = {index:word for word, index in word_to_index.items()}"
   ]
  },
  {
   "cell_type": "code",
   "execution_count": 5,
   "metadata": {},
   "outputs": [
    {
     "name": "stdout",
     "output_type": "stream",
     "text": [
      "문장길이 평균 :  14.13662402285258\n",
      "문장길이 최대 :  115\n",
      "문장길이 표준편차 :  11.547022625034977\n",
      "pad_sequences maxlen :  37\n",
      "전체 문장의 0.9359114155391397%가 maxlen 설정값 이내에 포함됩니다. \n"
     ]
    }
   ],
   "source": [
    "total_data_text = list(X_train) + list(X_test)\n",
    "# 텍스트데이터 문장길이의 리스트를 생성한 후\n",
    "num_tokens = [len(tokens) for tokens in total_data_text]\n",
    "num_tokens = np.array(num_tokens)\n",
    "# 문장길이의 평균값, 최대값, 표준편차를 계산해 본다. \n",
    "print('문장길이 평균 : ', np.mean(num_tokens))\n",
    "print('문장길이 최대 : ', np.max(num_tokens))\n",
    "print('문장길이 표준편차 : ', np.std(num_tokens))\n",
    "\n",
    "# 예를들어, 최대 길이를 (평균 + 2*표준편차)로 한다면,  \n",
    "max_tokens = np.mean(num_tokens) + 2 * np.std(num_tokens)\n",
    "maxlen = int(max_tokens)\n",
    "print('pad_sequences maxlen : ', maxlen)\n",
    "print('전체 문장의 {}%가 maxlen 설정값 이내에 포함됩니다. '.format(np.sum(num_tokens < max_tokens) / len(num_tokens)))"
   ]
  },
  {
   "cell_type": "code",
   "execution_count": 6,
   "metadata": {},
   "outputs": [],
   "source": [
    "x_train = keras.preprocessing.sequence.pad_sequences(X_train,\n",
    "                                                       value=word_to_index[\"<PAD>\"],\n",
    "                                                       padding='pre', # 혹은 'pre'\n",
    "                                                       maxlen=maxlen)\n",
    "\n",
    "x_test = keras.preprocessing.sequence.pad_sequences(X_test,\n",
    "                                                       value=word_to_index[\"<PAD>\"],\n",
    "                                                       padding='pre', # 혹은 'pre'\n",
    "                                                       maxlen=maxlen)"
   ]
  },
  {
   "cell_type": "code",
   "execution_count": 7,
   "metadata": {},
   "outputs": [],
   "source": [
    "# validation set 10000건 분리\n",
    "x_val = x_train[:10000]   \n",
    "y_val = y_train[:10000]\n",
    "\n",
    "# validation set을 제외한 나머지 15000건\n",
    "partial_x_train = x_train[10000:]  \n",
    "partial_y_train = y_train[10000:]\n",
    "\n",
    "vocab_size = 10000    # 어휘 사전의 크기입니다(10,000개의 단어)\n",
    "word_vector_dim = 100  # 워드 벡터의 차원수 (변경가능한 하이퍼파라미터)"
   ]
  },
  {
   "cell_type": "code",
   "execution_count": 8,
   "metadata": {},
   "outputs": [
    {
     "data": {
      "text/plain": [
       "(30185, 200)"
      ]
     },
     "execution_count": 8,
     "metadata": {},
     "output_type": "execute_result"
    }
   ],
   "source": [
    "import os\n",
    "import numpy as np\n",
    "import gensim\n",
    "\n",
    "word2vec_path = os.getenv('HOME')+'/aiffel/sentiment_classification/ko.bin'\n",
    "word2vec = gensim.models.Word2Vec.load(word2vec_path)\n",
    "word2vec.wv.vectors.shape"
   ]
  },
  {
   "cell_type": "code",
   "execution_count": 9,
   "metadata": {},
   "outputs": [
    {
     "name": "stderr",
     "output_type": "stream",
     "text": [
      "/home/aiffel0042/anaconda3/envs/aiffel/lib/python3.7/site-packages/ipykernel_launcher.py:8: DeprecationWarning: Call to deprecated `__contains__` (Method will be removed in 4.0.0, use self.wv.__contains__() instead).\n",
      "  \n",
      "/home/aiffel0042/anaconda3/envs/aiffel/lib/python3.7/site-packages/ipykernel_launcher.py:9: DeprecationWarning: Call to deprecated `__getitem__` (Method will be removed in 4.0.0, use self.wv.__getitem__() instead).\n",
      "  if __name__ == '__main__':\n"
     ]
    }
   ],
   "source": [
    "\n",
    "vocab_size = 10000 \n",
    "word_vector_dim = 200  # 워드 벡터의 차원수 (30185,200)\n",
    "\n",
    "embedding_matrix = np.random.rand(vocab_size, word_vector_dim)\n",
    "\n",
    "# embedding_matrix에 Word2Vec 워드벡터를 단어 하나씩마다 차례차례 카피한다.\n",
    "for i in range(vocab_size):\n",
    "    if index_to_word[i] in word2vec:\n",
    "        embedding_matrix[i] = word2vec[index_to_word[i]]"
   ]
  },
  {
   "cell_type": "code",
   "execution_count": 10,
   "metadata": {},
   "outputs": [
    {
     "name": "stdout",
     "output_type": "stream",
     "text": [
      "WARNING:tensorflow:Layer lstm will not use cuDNN kernel since it doesn't meet the cuDNN kernel criteria. It will use generic GPU kernel as fallback when running on GPU\n",
      "Epoch 1/30\n",
      "266/266 [==============================] - 19s 73ms/step - loss: 0.5414 - accuracy: 0.7217 - val_loss: 0.4425 - val_accuracy: 0.7917\n",
      "Epoch 2/30\n",
      "266/266 [==============================] - 19s 73ms/step - loss: 0.4306 - accuracy: 0.8026 - val_loss: 0.3696 - val_accuracy: 0.8356\n",
      "Epoch 3/30\n",
      "266/266 [==============================] - 19s 73ms/step - loss: 0.3829 - accuracy: 0.8303 - val_loss: 0.3648 - val_accuracy: 0.8405\n",
      "Epoch 4/30\n",
      "266/266 [==============================] - 20s 73ms/step - loss: 0.3540 - accuracy: 0.8450 - val_loss: 0.3310 - val_accuracy: 0.8568\n",
      "Epoch 5/30\n",
      "266/266 [==============================] - 20s 73ms/step - loss: 0.3351 - accuracy: 0.8566 - val_loss: 0.3237 - val_accuracy: 0.8628\n",
      "Epoch 6/30\n",
      "266/266 [==============================] - 19s 73ms/step - loss: 0.3211 - accuracy: 0.8631 - val_loss: 0.3193 - val_accuracy: 0.8626\n",
      "Epoch 7/30\n",
      "266/266 [==============================] - 20s 73ms/step - loss: 0.3095 - accuracy: 0.8688 - val_loss: 0.3156 - val_accuracy: 0.8661\n",
      "Epoch 8/30\n",
      "266/266 [==============================] - 20s 74ms/step - loss: 0.3007 - accuracy: 0.8728 - val_loss: 0.3086 - val_accuracy: 0.8705\n",
      "Epoch 9/30\n",
      "266/266 [==============================] - 20s 74ms/step - loss: 0.2923 - accuracy: 0.8773 - val_loss: 0.3021 - val_accuracy: 0.8710\n",
      "Epoch 10/30\n",
      "266/266 [==============================] - 20s 74ms/step - loss: 0.2857 - accuracy: 0.8805 - val_loss: 0.3246 - val_accuracy: 0.8720\n",
      "Epoch 11/30\n",
      "266/266 [==============================] - 20s 74ms/step - loss: 0.2805 - accuracy: 0.8828 - val_loss: 0.3222 - val_accuracy: 0.8682\n",
      "Epoch 12/30\n",
      "266/266 [==============================] - 20s 74ms/step - loss: 0.2746 - accuracy: 0.8848 - val_loss: 0.3139 - val_accuracy: 0.8716\n",
      "Epoch 13/30\n",
      "266/266 [==============================] - 20s 74ms/step - loss: 0.2689 - accuracy: 0.8879 - val_loss: 0.3098 - val_accuracy: 0.8707\n",
      "Epoch 14/30\n",
      "266/266 [==============================] - 20s 74ms/step - loss: 0.2644 - accuracy: 0.8901 - val_loss: 0.3198 - val_accuracy: 0.8744\n",
      "Epoch 15/30\n",
      "266/266 [==============================] - 20s 74ms/step - loss: 0.2606 - accuracy: 0.8914 - val_loss: 0.3243 - val_accuracy: 0.8722\n",
      "Epoch 16/30\n",
      "266/266 [==============================] - 20s 74ms/step - loss: 0.2577 - accuracy: 0.8940 - val_loss: 0.3138 - val_accuracy: 0.8723\n",
      "Epoch 17/30\n",
      "266/266 [==============================] - 20s 74ms/step - loss: 0.2530 - accuracy: 0.8950 - val_loss: 0.3163 - val_accuracy: 0.8728\n",
      "Epoch 18/30\n",
      "266/266 [==============================] - 20s 74ms/step - loss: 0.2493 - accuracy: 0.8973 - val_loss: 0.3173 - val_accuracy: 0.8728\n",
      "Epoch 19/30\n",
      "266/266 [==============================] - 20s 74ms/step - loss: 0.2458 - accuracy: 0.8986 - val_loss: 0.3418 - val_accuracy: 0.8742\n",
      "Epoch 20/30\n",
      "266/266 [==============================] - 20s 74ms/step - loss: 0.2419 - accuracy: 0.9003 - val_loss: 0.3255 - val_accuracy: 0.8743\n",
      "Epoch 21/30\n",
      "266/266 [==============================] - 20s 75ms/step - loss: 0.2391 - accuracy: 0.9012 - val_loss: 0.3365 - val_accuracy: 0.8743\n",
      "Epoch 22/30\n",
      "266/266 [==============================] - 20s 74ms/step - loss: 0.2359 - accuracy: 0.9031 - val_loss: 0.3357 - val_accuracy: 0.8721\n",
      "Epoch 23/30\n",
      "266/266 [==============================] - 20s 74ms/step - loss: 0.2328 - accuracy: 0.9046 - val_loss: 0.3332 - val_accuracy: 0.8747\n",
      "Epoch 24/30\n",
      "266/266 [==============================] - 20s 74ms/step - loss: 0.2311 - accuracy: 0.9053 - val_loss: 0.3299 - val_accuracy: 0.8741\n",
      "Epoch 25/30\n",
      "266/266 [==============================] - 20s 74ms/step - loss: 0.2278 - accuracy: 0.9071 - val_loss: 0.3454 - val_accuracy: 0.8772\n",
      "Epoch 26/30\n",
      "266/266 [==============================] - 20s 74ms/step - loss: 0.2251 - accuracy: 0.9081 - val_loss: 0.3310 - val_accuracy: 0.8751\n",
      "Epoch 27/30\n",
      "266/266 [==============================] - 20s 74ms/step - loss: 0.2233 - accuracy: 0.9090 - val_loss: 0.3496 - val_accuracy: 0.8759\n",
      "Epoch 28/30\n",
      "266/266 [==============================] - 20s 74ms/step - loss: 0.2201 - accuracy: 0.9098 - val_loss: 0.3421 - val_accuracy: 0.8730\n",
      "Epoch 29/30\n",
      "266/266 [==============================] - 20s 74ms/step - loss: 0.2172 - accuracy: 0.9110 - val_loss: 0.3605 - val_accuracy: 0.8735\n",
      "Epoch 30/30\n",
      "266/266 [==============================] - 20s 74ms/step - loss: 0.2156 - accuracy: 0.9122 - val_loss: 0.3238 - val_accuracy: 0.8752\n",
      "1537/1537 - 14s - loss: 0.3243 - accuracy: 0.8741\n",
      "results [0.3242635130882263, 0.8741176128387451]\n",
      "dict_keys(['loss', 'accuracy', 'val_loss', 'val_accuracy'])\n"
     ]
    },
    {
     "data": {
      "image/png": "[encoded data removed]",
      "text/plain": [
       "<Figure size 432x288 with 1 Axes>"
      ]
     },
     "metadata": {
      "needs_background": "light"
     },
     "output_type": "display_data"
    }
   ],
   "source": [
    "from tensorflow import keras\n",
    "from tensorflow.keras.initializers import Constant\n",
    "\n",
    "model = keras.Sequential()\n",
    "model.add(keras.layers.Embedding(vocab_size, \n",
    "                                 word_vector_dim, \n",
    "                                 embeddings_initializer=Constant(embedding_matrix),  # 카피한 임베딩을 여기서 활용\n",
    "                                 input_length=maxlen, \n",
    "                                 trainable=True))   \n",
    "model.add(keras.layers.LSTM(200,dropout=0.5,recurrent_dropout=0.5))\n",
    "model.add(keras.layers.Dense(200, activation='relu'))\n",
    "model.add(keras.layers.Dropout(0.5))\n",
    "model.add(keras.layers.Dense(200, activation='relu'))\n",
    "model.add(keras.layers.Dropout(0.5))\n",
    "model.add(keras.layers.Dense(1, activation='sigmoid'))\n",
    "\n",
    "model.compile(optimizer=tf.keras.optimizers.RMSprop(lr=0.001),\n",
    "              loss='binary_crossentropy',\n",
    "              metrics=['accuracy'])\n",
    "              \n",
    "epochs=30\n",
    "\n",
    "history = model.fit(partial_x_train,\n",
    "                    partial_y_train,\n",
    "                    epochs=epochs,\n",
    "                    batch_size=512,\n",
    "                    validation_data=(x_val, y_val),\n",
    "                    verbose=1)\n",
    "\n",
    "results = model.evaluate(x_test,  y_test, verbose=2)\n",
    "\n",
    "print(\"results\",results)\n",
    "\n",
    "history_dict = history.history\n",
    "print(history_dict.keys()) # epoch에 따른 그래프를 그려볼 수 있는 항목들\n",
    "\n",
    "acc = history_dict['accuracy']\n",
    "val_acc = history_dict['val_accuracy']\n",
    "loss = history_dict['loss']\n",
    "val_loss = history_dict['val_loss']\n",
    "\n",
    "epochs = range(1, len(acc) + 1)\n",
    "\n",
    "\n",
    "plt.plot(epochs, loss, 'bo', label='Training loss')\n",
    "plt.plot(epochs, val_loss, 'b', label='Validation loss')\n",
    "plt.title('Training and validation loss')\n",
    "plt.xlabel('Epochs')\n",
    "plt.ylabel('Loss')\n",
    "plt.legend()\n",
    "\n",
    "plt.show()"
   ]
  },
  {
   "cell_type": "markdown",
   "metadata": {},
   "source": [
    "###### 노드에 나와 있는 것 외에도 여러가지 바꿔봤지만 87% 정도가 최대였다. 위의 실험에서는 Okt보다 Mecab의 정확도가 높았다.\n",
    "###### 인터넷에서 찾아보니 SKTBrain의 KOBERT가 90%를 달성했다고 한다. "
   ]
  }
 ],
 "metadata": {
  "kernelspec": {
   "display_name": "aiffel",
   "language": "python",
   "name": "aiffel"
  },
  "language_info": {
   "codemirror_mode": {
    "name": "ipython",
    "version": 3
   },
   "file_extension": ".py",
   "mimetype": "text/x-python",
   "name": "python",
   "nbconvert_exporter": "python",
   "pygments_lexer": "ipython3",
   "version": "3.7.6"
  }
 },
 "nbformat": 4,
 "nbformat_minor": 4
}
