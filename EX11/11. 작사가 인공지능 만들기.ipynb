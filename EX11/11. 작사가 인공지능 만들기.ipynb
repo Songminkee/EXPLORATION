{
 "cells": [
  {
   "cell_type": "markdown",
   "metadata": {},
   "source": [
    "## 데이터 준비\n",
    "- 정규표현식을 이용한 corpus 생성\n",
    "- tf.keras.preprocessing.text.Tokenizer를 이용해 corpus를 텐서로 변환\n",
    "- tf.data.Dataset.from_tensor_slices()를 이용해 corpus 텐서를 tf.data.Dataset객체로 변환"
   ]
  },
  {
   "cell_type": "code",
   "execution_count": 1,
   "metadata": {},
   "outputs": [],
   "source": [
    "#!wget https://storage.googleapis.com/download.tensorflow.org/data/shakespeare.txt"
   ]
  },
  {
   "cell_type": "code",
   "execution_count": 2,
   "metadata": {},
   "outputs": [
    {
     "name": "stdout",
     "output_type": "stream",
     "text": [
      "['First Citizen:', 'Before we proceed any further, hear me speak.', '', 'All:', 'Speak, speak.', '', 'First Citizen:', 'You are all resolved rather to die than to famish?', '']\n",
      "40000\n"
     ]
    }
   ],
   "source": [
    "import re                  # 정규표현식을 위한 Regex 지원 모듈 (문장 데이터를 정돈하기 위해) \n",
    "import numpy as np         # 변환된 문장 데이터(행렬)을 편하게 처리하기 위해\n",
    "import tensorflow as tf    # 대망의 텐서플로우!\n",
    "import os\n",
    "\n",
    "# 파일을 읽기모드로 열어 봅니다.\n",
    "file_path = os.getenv('HOME') + '/aiffel/lyricist/data/shakespeare.txt'\n",
    "with open(file_path, \"r\") as f:\n",
    "    raw_corpus = f.read().splitlines()   # 텍스트를 라인 단위로 끊어서 list 형태로 읽어옵니다.\n",
    "\n",
    "print(raw_corpus[:9])    # 앞에서부터 10라인만 화면에 출력해 볼까요?\n",
    "print(len(raw_corpus))"
   ]
  },
  {
   "cell_type": "code",
   "execution_count": 3,
   "metadata": {},
   "outputs": [
    {
     "name": "stdout",
     "output_type": "stream",
     "text": [
      "Before we proceed any further, hear me speak.\n",
      "Speak, speak.\n",
      "You are all resolved rather to die than to famish?\n"
     ]
    }
   ],
   "source": [
    "for idx, sentence in enumerate(raw_corpus):\n",
    "    if len(sentence) == 0: continue   # 길이가 0인 문장은 건너뜁니다.\n",
    "    if sentence[-1] == \":\": continue  # 문장의 끝이 : 인 문장은 건너뜁니다.\n",
    "\n",
    "    if idx > 9: break   # 일단 문장 10개만 확인해 볼 겁니다.\n",
    "        \n",
    "    print(sentence)"
   ]
  },
  {
   "cell_type": "code",
   "execution_count": 4,
   "metadata": {},
   "outputs": [
    {
     "name": "stdout",
     "output_type": "stream",
     "text": [
      "<start> this is sample sentence . <end>\n"
     ]
    }
   ],
   "source": [
    "def preprocess_sentence(sentence):\n",
    "    sentence = sentence.lower().strip()       # 소문자로 바꾸고 양쪽 공백을 삭제\n",
    "  \n",
    "    # 아래 3단계를 거쳐 sentence는 스페이스 1개를 delimeter로 하는 소문자 단어 시퀀스로 바뀝니다.\n",
    "    sentence = re.sub(r\"([?.!,¿])\", r\" \\1 \", sentence)        # 패턴의 특수문자를 만나면 특수문자 양쪽에 공백을 추가\n",
    "    sentence = re.sub(r'[\" \"]+', \" \", sentence)                  # 공백 패턴을 만나면 스페이스 1개로 치환\n",
    "    sentence = re.sub(r\"[^a-zA-Z?.!,¿]+\", \" \", sentence)  # a-zA-Z?.!,¿ 패턴을 제외한 모든 문자(공백문자까지도)를 스페이스 1개로 치환\n",
    "\n",
    "    sentence = sentence.strip()\n",
    "\n",
    "    sentence = '<start> ' + sentence + ' <end>'      # 이전 스텝에서 본 것처럼 문장 앞뒤로 <start>와 <end>를 단어처럼 붙여 줍니다\n",
    "    \n",
    "    return sentence\n",
    "\n",
    "print(preprocess_sentence(\"This @_is ;;;sample        sentence.\"))   # 이 문장이 어떻게 필터링되는지 확인해 보세요."
   ]
  },
  {
   "cell_type": "code",
   "execution_count": 5,
   "metadata": {},
   "outputs": [
    {
     "data": {
      "text/plain": [
       "['<start> before we proceed any further , hear me speak . <end>',\n",
       " '<start> speak , speak . <end>',\n",
       " '<start> you are all resolved rather to die than to famish ? <end>',\n",
       " '<start> resolved . resolved . <end>',\n",
       " '<start> first , you know caius marcius is chief enemy to the people . <end>',\n",
       " '<start> we know t , we know t . <end>',\n",
       " '<start> let us kill him , and we ll have corn at our own price . <end>',\n",
       " '<start> is t a verdict ? <end>',\n",
       " '<start> no more talking on t let it be done away , away ! <end>',\n",
       " '<start> one word , good citizens . <end>']"
      ]
     },
     "execution_count": 5,
     "metadata": {},
     "output_type": "execute_result"
    }
   ],
   "source": [
    "corpus = []\n",
    "\n",
    "for sentence in raw_corpus:\n",
    "    if len(sentence) == 0: continue\n",
    "    if sentence[-1] == \":\": continue\n",
    "        \n",
    "    corpus.append(preprocess_sentence(sentence))\n",
    "        \n",
    "corpus[:10]"
   ]
  },
  {
   "cell_type": "code",
   "execution_count": 6,
   "metadata": {},
   "outputs": [
    {
     "name": "stdout",
     "output_type": "stream",
     "text": [
      "[[   2  143   40 ...    0    0    0]\n",
      " [   2  110    4 ...    0    0    0]\n",
      " [   2   11   50 ...    0    0    0]\n",
      " ...\n",
      " [   2  149 4553 ...    0    0    0]\n",
      " [   2   34   71 ...    0    0    0]\n",
      " [   2  945   34 ...    0    0    0]] <keras_preprocessing.text.Tokenizer object at 0x7f3622da0ad0>\n"
     ]
    }
   ],
   "source": [
    "def tokenize(corpus):\n",
    "    # 텐서플로우에서 제공하는 Tokenizer 패키지를 생성\n",
    "    tokenizer = tf.keras.preprocessing.text.Tokenizer(\n",
    "        num_words=7000,  # 전체 단어의 개수 \n",
    "        filters=' ',    # 별도로 전처리 로직을 추가할 수 있습니다. 이번에는 사용하지 않겠습니다.\n",
    "        oov_token=\"<unk>\"  # out-of-vocabulary, 사전에 없었던 단어는 어떤 토큰으로 대체할지\n",
    "    )\n",
    "    tokenizer.fit_on_texts(corpus)   # 우리가 구축한 corpus로부터 Tokenizer가 사전을 자동구축하게 됩니다.\n",
    "\n",
    "    # 이후 tokenizer를 활용하여 모델에 입력할 데이터셋을 구축하게 됩니다.\n",
    "    tensor = tokenizer.texts_to_sequences(corpus)   # tokenizer는 구축한 사전으로부터 corpus를 해석해 Tensor로 변환합니다.\n",
    "\n",
    "    # 입력 데이터의 시퀀스 길이를 일정하게 맞추기 위한 padding  메소드를 제공합니다.\n",
    "    # maxlen의 디폴트값은 None입니다. 이 경우 corpus의 가장 긴 문장을 기준으로 시퀀스 길이가 맞춰집니다.\n",
    "    tensor = tf.keras.preprocessing.sequence.pad_sequences(tensor, padding='post')  \n",
    "\n",
    "    print(tensor,tokenizer)\n",
    "    return tensor, tokenizer\n",
    "\n",
    "tensor, tokenizer = tokenize(corpus)"
   ]
  },
  {
   "cell_type": "code",
   "execution_count": 7,
   "metadata": {},
   "outputs": [
    {
     "name": "stdout",
     "output_type": "stream",
     "text": [
      "[[   2  143   40  933  140  591    4  124   24  110]\n",
      " [   2  110    4  110    5    3    0    0    0    0]\n",
      " [   2   11   50   43 1201  316    9  201   74    9]]\n"
     ]
    }
   ],
   "source": [
    "print(tensor[:3, :10])"
   ]
  },
  {
   "cell_type": "code",
   "execution_count": 8,
   "metadata": {},
   "outputs": [
    {
     "name": "stdout",
     "output_type": "stream",
     "text": [
      "1 : <unk>\n",
      "2 : <start>\n",
      "3 : <end>\n",
      "4 : ,\n",
      "5 : .\n",
      "6 : the\n",
      "7 : and\n",
      "8 : i\n",
      "9 : to\n",
      "10 : of\n"
     ]
    }
   ],
   "source": [
    "for idx in tokenizer.index_word:\n",
    "    print(idx, \":\", tokenizer.index_word[idx])\n",
    "\n",
    "    if idx >= 10: break"
   ]
  },
  {
   "cell_type": "code",
   "execution_count": 9,
   "metadata": {},
   "outputs": [
    {
     "name": "stdout",
     "output_type": "stream",
     "text": [
      "[  2 143  40 933 140 591   4 124  24 110   5   3   0   0   0   0   0   0\n",
      "   0   0]\n",
      "[143  40 933 140 591   4 124  24 110   5   3   0   0   0   0   0   0   0\n",
      "   0   0]\n"
     ]
    }
   ],
   "source": [
    "src_input = tensor[:, :-1]  # tensor에서 마지막 토큰을 잘라내서 소스 문장을 생성합니다. 마지막 토큰은 <END>가 아니라 <pad>일 가능성이 높습니다.\n",
    "tgt_input = tensor[:, 1:]    # tensor에서 <START>를 잘라내서 타겟 문장을 생성합니다.\n",
    "\n",
    "print(src_input[0])\n",
    "print(tgt_input[0])"
   ]
  },
  {
   "cell_type": "code",
   "execution_count": 10,
   "metadata": {},
   "outputs": [
    {
     "data": {
      "text/plain": [
       "<BatchDataset shapes: ((256, 20), (256, 20)), types: (tf.int32, tf.int32)>"
      ]
     },
     "execution_count": 10,
     "metadata": {},
     "output_type": "execute_result"
    }
   ],
   "source": [
    "BUFFER_SIZE = len(src_input)\n",
    "BATCH_SIZE = 256\n",
    "steps_per_epoch = len(src_input) // BATCH_SIZE\n",
    "\n",
    "VOCAB_SIZE = tokenizer.num_words + 1    # tokenizer가 구축한 단어사전 내 7000개와, 여기 포함되지 않은 0:<pad>를 포함하여 7001개\n",
    "\n",
    "dataset = tf.data.Dataset.from_tensor_slices((src_input, tgt_input)).shuffle(BUFFER_SIZE)\n",
    "dataset = dataset.batch(BATCH_SIZE, drop_remainder=True)\n",
    "dataset"
   ]
  },
  {
   "cell_type": "markdown",
   "metadata": {},
   "source": [
    "## 학습"
   ]
  },
  {
   "cell_type": "code",
   "execution_count": 11,
   "metadata": {},
   "outputs": [],
   "source": [
    "class TextGenerator(tf.keras.Model):\n",
    "    def __init__(self, vocab_size, embedding_size, hidden_size):\n",
    "        super(TextGenerator, self).__init__()\n",
    "        \n",
    "        self.embedding = tf.keras.layers.Embedding(vocab_size, embedding_size)\n",
    "        self.rnn_1 = tf.keras.layers.LSTM(hidden_size, return_sequences=True)\n",
    "        self.rnn_2 = tf.keras.layers.LSTM(hidden_size, return_sequences=True)\n",
    "        self.linear = tf.keras.layers.Dense(vocab_size)\n",
    "        \n",
    "    def call(self, x):\n",
    "        out = self.embedding(x)\n",
    "        out = self.rnn_1(out)\n",
    "        out = self.rnn_2(out)\n",
    "        out = self.linear(out)\n",
    "        \n",
    "        return out\n",
    "    \n",
    "embedding_size = 256\n",
    "hidden_size = 1024\n",
    "model = TextGenerator(tokenizer.num_words + 1, embedding_size , hidden_size)"
   ]
  },
  {
   "cell_type": "code",
   "execution_count": 12,
   "metadata": {},
   "outputs": [
    {
     "data": {
      "text/plain": [
       "<tf.Tensor: shape=(256, 20, 7001), dtype=float32, numpy=\n",
       "array([[[ 1.24447120e-04, -2.00061419e-04, -3.79075907e-04, ...,\n",
       "          2.36173355e-06, -1.05188483e-04,  2.91442906e-04],\n",
       "        [ 8.54686077e-05, -1.40037402e-04, -7.44126970e-04, ...,\n",
       "         -4.08104024e-05, -1.90748382e-04,  3.04463902e-04],\n",
       "        [ 4.55238987e-05,  1.84854012e-04, -4.80831543e-04, ...,\n",
       "          1.55125199e-05, -2.38585446e-04,  1.69190418e-04],\n",
       "        ...,\n",
       "        [-1.19271106e-03,  2.23804056e-03,  1.66109973e-03, ...,\n",
       "         -3.35546280e-03,  5.96449384e-03, -2.57890881e-03],\n",
       "        [-1.35758193e-03,  2.28680414e-03,  1.65868283e-03, ...,\n",
       "         -3.51031683e-03,  6.37096306e-03, -2.67080101e-03],\n",
       "        [-1.51120941e-03,  2.31967121e-03,  1.64306245e-03, ...,\n",
       "         -3.64171714e-03,  6.73126383e-03, -2.74415012e-03]],\n",
       "\n",
       "       [[ 1.24447120e-04, -2.00061419e-04, -3.79075907e-04, ...,\n",
       "          2.36173355e-06, -1.05188483e-04,  2.91442906e-04],\n",
       "        [-2.95496466e-05, -1.73678476e-04, -7.38680188e-04, ...,\n",
       "          2.21029462e-04, -4.84759541e-04, -5.21468792e-05],\n",
       "        [-1.97656045e-04,  2.97476625e-04, -2.02441413e-04, ...,\n",
       "          3.37869657e-04, -3.55599797e-04, -4.03778191e-04],\n",
       "        ...,\n",
       "        [ 1.76646543e-04,  8.08879195e-05,  6.35912991e-04, ...,\n",
       "         -1.56397745e-03,  3.12041515e-03, -2.01014732e-03],\n",
       "        [ 8.92911885e-06,  3.30895826e-04,  7.38713250e-04, ...,\n",
       "         -1.94191758e-03,  3.63235245e-03, -2.19433149e-03],\n",
       "        [-1.71019390e-04,  5.98315382e-04,  8.49462347e-04, ...,\n",
       "         -2.26927781e-03,  4.14182758e-03, -2.36682058e-03]],\n",
       "\n",
       "       [[ 1.24447120e-04, -2.00061419e-04, -3.79075907e-04, ...,\n",
       "          2.36173355e-06, -1.05188483e-04,  2.91442906e-04],\n",
       "        [ 5.56807972e-05, -1.76476242e-04, -6.12369389e-04, ...,\n",
       "          1.09194974e-04, -2.08997822e-04,  3.26909270e-04],\n",
       "        [-1.22248603e-04, -1.50069973e-04, -7.08598178e-04, ...,\n",
       "         -9.81393750e-05, -3.86505359e-04,  5.92759679e-05],\n",
       "        ...,\n",
       "        [-5.75042272e-04,  1.43846544e-03,  1.90867344e-03, ...,\n",
       "         -1.30428874e-03,  2.88104056e-03, -1.21291797e-03],\n",
       "        [-6.39996317e-04,  1.67798600e-03,  1.97848142e-03, ...,\n",
       "         -1.73878076e-03,  3.53874033e-03, -1.47656305e-03],\n",
       "        [-7.29137100e-04,  1.88798725e-03,  2.01550545e-03, ...,\n",
       "         -2.11891346e-03,  4.17148694e-03, -1.71662588e-03]],\n",
       "\n",
       "       ...,\n",
       "\n",
       "       [[ 1.24447120e-04, -2.00061419e-04, -3.79075907e-04, ...,\n",
       "          2.36173355e-06, -1.05188483e-04,  2.91442906e-04],\n",
       "        [ 3.89206340e-04, -5.96954524e-05, -4.68333426e-04, ...,\n",
       "         -6.34663884e-05, -2.71502126e-04,  3.38073209e-04],\n",
       "        [ 3.87307111e-04,  2.30727732e-04, -4.40234842e-04, ...,\n",
       "          1.16390147e-04, -5.59973007e-04,  3.02958215e-04],\n",
       "        ...,\n",
       "        [-1.38791592e-03,  1.42353598e-03,  1.10738829e-03, ...,\n",
       "         -1.21360004e-03,  3.88250477e-03, -1.75674947e-03],\n",
       "        [-1.37598964e-03,  1.53676374e-03,  1.20171695e-03, ...,\n",
       "         -1.71960529e-03,  4.44315840e-03, -1.96057418e-03],\n",
       "        [-1.39227754e-03,  1.65800261e-03,  1.28561154e-03, ...,\n",
       "         -2.15712958e-03,  4.96524200e-03, -2.14139116e-03]],\n",
       "\n",
       "       [[ 1.24447120e-04, -2.00061419e-04, -3.79075907e-04, ...,\n",
       "          2.36173355e-06, -1.05188483e-04,  2.91442906e-04],\n",
       "        [ 6.10880030e-04, -9.22422332e-05, -8.82613647e-04, ...,\n",
       "          4.20417608e-04, -2.08401223e-04,  2.51406949e-04],\n",
       "        [ 7.62838812e-04,  2.69205611e-05, -6.23569475e-04, ...,\n",
       "          5.51456411e-04, -5.64443646e-04,  2.36531778e-04],\n",
       "        ...,\n",
       "        [-2.86888477e-04, -1.03747519e-03, -7.82046336e-05, ...,\n",
       "         -2.30122614e-03,  2.43687537e-03, -5.85282454e-04],\n",
       "        [-3.08930088e-04, -6.16649981e-04,  1.54605616e-04, ...,\n",
       "         -2.57266988e-03,  3.08024487e-03, -9.28517838e-04],\n",
       "        [-3.63730243e-04, -2.01682677e-04,  3.93063820e-04, ...,\n",
       "         -2.80602486e-03,  3.70046659e-03, -1.24976039e-03]],\n",
       "\n",
       "       [[ 1.24447120e-04, -2.00061419e-04, -3.79075907e-04, ...,\n",
       "          2.36173355e-06, -1.05188483e-04,  2.91442906e-04],\n",
       "        [ 1.32878224e-04, -2.71339639e-04, -7.99429778e-04, ...,\n",
       "         -7.28893065e-05, -9.93323920e-05,  6.85750856e-04],\n",
       "        [ 1.99286282e-04, -3.40427476e-04, -1.12447492e-03, ...,\n",
       "         -1.33684762e-05, -8.22588918e-05,  9.80969169e-04],\n",
       "        ...,\n",
       "        [-9.70962748e-04,  1.86126574e-03,  5.76029182e-04, ...,\n",
       "         -2.75609526e-03,  3.95846460e-03, -2.05682311e-03],\n",
       "        [-1.12610299e-03,  2.01075105e-03,  7.52631226e-04, ...,\n",
       "         -2.99548265e-03,  4.58602374e-03, -2.21933704e-03],\n",
       "        [-1.27445767e-03,  2.13544467e-03,  8.96296871e-04, ...,\n",
       "         -3.19972355e-03,  5.15850075e-03, -2.35511223e-03]]],\n",
       "      dtype=float32)>"
      ]
     },
     "execution_count": 12,
     "metadata": {},
     "output_type": "execute_result"
    }
   ],
   "source": [
    "for src_sample, tgt_sample in dataset.take(1): break\n",
    "model(src_sample)"
   ]
  },
  {
   "cell_type": "code",
   "execution_count": 13,
   "metadata": {},
   "outputs": [
    {
     "name": "stdout",
     "output_type": "stream",
     "text": [
      "Model: \"text_generator\"\n",
      "_________________________________________________________________\n",
      "Layer (type)                 Output Shape              Param #   \n",
      "=================================================================\n",
      "embedding (Embedding)        multiple                  1792256   \n",
      "_________________________________________________________________\n",
      "lstm (LSTM)                  multiple                  5246976   \n",
      "_________________________________________________________________\n",
      "lstm_1 (LSTM)                multiple                  8392704   \n",
      "_________________________________________________________________\n",
      "dense (Dense)                multiple                  7176025   \n",
      "=================================================================\n",
      "Total params: 22,607,961\n",
      "Trainable params: 22,607,961\n",
      "Non-trainable params: 0\n",
      "_________________________________________________________________\n"
     ]
    }
   ],
   "source": [
    "model.summary()"
   ]
  },
  {
   "cell_type": "code",
   "execution_count": 14,
   "metadata": {
    "scrolled": true
   },
   "outputs": [
    {
     "name": "stdout",
     "output_type": "stream",
     "text": [
      "Epoch 1/30\n",
      "93/93 [==============================] - 16s 167ms/step - loss: 3.4975\n",
      "Epoch 2/30\n",
      "93/93 [==============================] - 15s 164ms/step - loss: 2.8114\n",
      "Epoch 3/30\n",
      "93/93 [==============================] - 15s 165ms/step - loss: 2.7194\n",
      "Epoch 4/30\n",
      "93/93 [==============================] - 15s 164ms/step - loss: 2.6221\n",
      "Epoch 5/30\n",
      "93/93 [==============================] - 15s 166ms/step - loss: 2.5558\n",
      "Epoch 6/30\n",
      "93/93 [==============================] - 15s 166ms/step - loss: 2.5050\n",
      "Epoch 7/30\n",
      "93/93 [==============================] - 16s 167ms/step - loss: 2.4467\n",
      "Epoch 8/30\n",
      "93/93 [==============================] - 16s 167ms/step - loss: 2.3919\n",
      "Epoch 9/30\n",
      "93/93 [==============================] - 15s 166ms/step - loss: 2.3421\n",
      "Epoch 10/30\n",
      "93/93 [==============================] - 15s 166ms/step - loss: 2.3002\n",
      "Epoch 11/30\n",
      "93/93 [==============================] - 15s 165ms/step - loss: 2.2553\n",
      "Epoch 12/30\n",
      "93/93 [==============================] - 15s 166ms/step - loss: 2.2153\n",
      "Epoch 13/30\n",
      "93/93 [==============================] - 15s 166ms/step - loss: 2.1744\n",
      "Epoch 14/30\n",
      "93/93 [==============================] - 15s 167ms/step - loss: 2.1322\n",
      "Epoch 15/30\n",
      "93/93 [==============================] - 16s 167ms/step - loss: 2.0919\n",
      "Epoch 16/30\n",
      "93/93 [==============================] - 15s 167ms/step - loss: 2.0511\n",
      "Epoch 17/30\n",
      "93/93 [==============================] - 16s 167ms/step - loss: 2.0101\n",
      "Epoch 18/30\n",
      "93/93 [==============================] - 16s 167ms/step - loss: 1.9697\n",
      "Epoch 19/30\n",
      "93/93 [==============================] - 16s 168ms/step - loss: 1.9301\n",
      "Epoch 20/30\n",
      "93/93 [==============================] - 16s 168ms/step - loss: 1.8873\n",
      "Epoch 21/30\n",
      "93/93 [==============================] - 16s 167ms/step - loss: 1.8465\n",
      "Epoch 22/30\n",
      "93/93 [==============================] - 16s 168ms/step - loss: 1.8061\n",
      "Epoch 23/30\n",
      "93/93 [==============================] - 16s 167ms/step - loss: 1.7651\n",
      "Epoch 24/30\n",
      "93/93 [==============================] - 16s 167ms/step - loss: 1.7242\n",
      "Epoch 25/30\n",
      "93/93 [==============================] - 16s 167ms/step - loss: 1.6840\n",
      "Epoch 26/30\n",
      "93/93 [==============================] - 15s 167ms/step - loss: 1.6438\n",
      "Epoch 27/30\n",
      "93/93 [==============================] - 15s 166ms/step - loss: 1.6038\n",
      "Epoch 28/30\n",
      "93/93 [==============================] - 15s 166ms/step - loss: 1.5638\n",
      "Epoch 29/30\n",
      "93/93 [==============================] - 15s 166ms/step - loss: 1.5252\n",
      "Epoch 30/30\n",
      "93/93 [==============================] - 15s 166ms/step - loss: 1.4849\n"
     ]
    },
    {
     "data": {
      "text/plain": [
       "<tensorflow.python.keras.callbacks.History at 0x7f3622da0090>"
      ]
     },
     "execution_count": 14,
     "metadata": {},
     "output_type": "execute_result"
    }
   ],
   "source": [
    "optimizer = tf.keras.optimizers.Adam()\n",
    "loss = tf.keras.losses.SparseCategoricalCrossentropy(\n",
    "    from_logits=True,\n",
    "    reduction='none'\n",
    ")\n",
    "\n",
    "model.compile(loss=loss, optimizer=optimizer)\n",
    "model.fit(dataset, epochs=30)"
   ]
  },
  {
   "cell_type": "markdown",
   "metadata": {},
   "source": [
    "## 평가"
   ]
  },
  {
   "cell_type": "code",
   "execution_count": 15,
   "metadata": {},
   "outputs": [],
   "source": [
    "def generate_text(model, tokenizer, init_sentence=\"<start>\", max_len=20):\n",
    "    # 테스트를 위해서 입력받은 init_sentence도 일단 텐서로 변환합니다.\n",
    "    test_input = tokenizer.texts_to_sequences([init_sentence])\n",
    "    test_tensor = tf.convert_to_tensor(test_input, dtype=tf.int64)\n",
    "    end_token = tokenizer.word_index[\"<end>\"]\n",
    "\n",
    "    # 텍스트를 실제로 생성할때는 루프를 돌면서 단어 하나씩 생성해야 합니다. \n",
    "    while True:\n",
    "        predict = model(test_tensor)  # 입력받은 문장의 텐서를 입력합니다. \n",
    "        predict_word = tf.argmax(tf.nn.softmax(predict, axis=-1), axis=-1)[:, -1]   # 우리 모델이 예측한 마지막 단어가 바로 새롭게 생성한 단어가 됩니다. \n",
    "\n",
    "        # 우리 모델이 새롭게 예측한 단어를 입력 문장의 뒤에 붙여 줍니다. \n",
    "        test_tensor = tf.concat([test_tensor, \n",
    "                tf.expand_dims(predict_word, axis=0)], axis=-1)\n",
    "\n",
    "        # 우리 모델이 <END>를 예측했거나, max_len에 도달하지 않았다면  while 루프를 또 돌면서 다음 단어를 예측해야 합니다.\n",
    "        if predict_word.numpy()[0] == end_token: break\n",
    "        if test_tensor.shape[1] >= max_len: break\n",
    "\n",
    "    generated = \"\"\n",
    "    # 생성된 tensor 안에 있는 word index를 tokenizer.index_word 사전을 통해 실제 단어로 하나씩 변환합니다. \n",
    "    for word_index in test_tensor[0].numpy():\n",
    "        generated += tokenizer.index_word[word_index] + \" \"\n",
    "\n",
    "    return generated   # 이것이 최종적으로 모델이 생성한 자연어 문장입니다."
   ]
  },
  {
   "cell_type": "code",
   "execution_count": 16,
   "metadata": {},
   "outputs": [
    {
     "data": {
      "text/plain": [
       "'<start> he s a changeling and i have done a good . <end> '"
      ]
     },
     "execution_count": 16,
     "metadata": {},
     "output_type": "execute_result"
    }
   ],
   "source": [
    "generate_text(model, tokenizer, init_sentence=\"<start> he\")"
   ]
  },
  {
   "cell_type": "markdown",
   "metadata": {},
   "source": [
    "## 작사가 만들기"
   ]
  },
  {
   "cell_type": "code",
   "execution_count": 1,
   "metadata": {},
   "outputs": [],
   "source": [
    "# !wget https://aiffelstaticprd.blob.core.windows.net/media/documents/song_lyrics.zip"
   ]
  },
  {
   "cell_type": "markdown",
   "metadata": {},
   "source": [
    "### 데이터 load"
   ]
  },
  {
   "cell_type": "code",
   "execution_count": 2,
   "metadata": {},
   "outputs": [
    {
     "name": "stdout",
     "output_type": "stream",
     "text": [
      "데이터 크기: 187088\n",
      "Examples:\n",
      " ['The Cat in the Hat', 'By Dr. Seuss', 'The sun did not shine.']\n"
     ]
    }
   ],
   "source": [
    "import glob\n",
    "import os\n",
    "import numpy as np         \n",
    "import tensorflow as tf\n",
    "import re\n",
    "\n",
    "txt_file_path = os.getenv('HOME')+'/aiffel//lyricist/data/lyrics/*'\n",
    "\n",
    "txt_list = glob.glob(txt_file_path)\n",
    "\n",
    "raw_corpus = []\n",
    "\n",
    "# 여러개의 txt 파일을 모두 읽어서 raw_corpus 에 담습니다.\n",
    "for txt_file in txt_list:\n",
    "    with open(txt_file, \"r\") as f:\n",
    "        raw = f.read().splitlines()\n",
    "        raw_corpus.extend(raw)\n",
    "\n",
    "print(\"데이터 크기:\", len(raw_corpus))\n",
    "print(\"Examples:\\n\", raw_corpus[:3])"
   ]
  },
  {
   "cell_type": "markdown",
   "metadata": {},
   "source": [
    "### data 정제"
   ]
  },
  {
   "cell_type": "code",
   "execution_count": 3,
   "metadata": {},
   "outputs": [
    {
     "name": "stdout",
     "output_type": "stream",
     "text": [
      "[[   2    6  903 ...    0    0    0]\n",
      " [   2  122 2584 ...    0    0    0]\n",
      " [   2    6  304 ...    0    0    0]\n",
      " ...\n",
      " [ 673   27    6 ...    6  189    3]\n",
      " [   2  673   27 ...    0    0    0]\n",
      " [   2  673   27 ...    0    0    0]] <keras_preprocessing.text.Tokenizer object at 0x7ff384cfedd0>\n"
     ]
    }
   ],
   "source": [
    "def preprocess_sentence(sentence):\n",
    "    sentence = sentence.lower().strip()\n",
    "  \n",
    "    sentence = re.sub(r\"([?.!,¿])\", r\" \\1 \", sentence)        \n",
    "    sentence = re.sub(r'[\" \"]+', \" \", sentence)                 \n",
    "    sentence = re.sub(r\"[^a-zA-Z?.!,¿]+\", \" \", sentence) \n",
    "\n",
    "    sentence = sentence.strip()\n",
    "\n",
    "    sentence = '<start> ' + sentence + ' <end>'     \n",
    "    \n",
    "    return sentence\n",
    "\n",
    "corpus = []\n",
    "\n",
    "for sentence in raw_corpus:\n",
    "    if len(sentence) == 0: continue\n",
    "    if sentence[-1] == \":\": continue\n",
    "        \n",
    "    corpus.append(preprocess_sentence(sentence))\n",
    "        \n",
    "def tokenize(corpus):\n",
    "    tokenizer = tf.keras.preprocessing.text.Tokenizer(\n",
    "        num_words=7000,\n",
    "        filters=' ',    \n",
    "        oov_token=\"<unk>\"  \n",
    "    )\n",
    "    tokenizer.fit_on_texts(corpus)   \n",
    "    \n",
    "    # 이후 tokenizer를 활용하여 모델에 입력할 데이터셋을 구축하게 됩니다.\n",
    "    tensor = tokenizer.texts_to_sequences(corpus)   # tokenizer는 구축한 사전으로부터 corpus를 해석해 Tensor로 변환합니다.\n",
    "\n",
    "    # 입력 데이터의 시퀀스 길이를 일정하게 맞추기 위한 padding  메소드를 제공합니다.\n",
    "    # maxlen의 디폴트값은 None입니다. 이 경우 corpus의 가장 긴 문장을 기준으로 시퀀스 길이가 맞춰집니다.\n",
    "    tensor = tf.keras.preprocessing.sequence.pad_sequences(tensor, padding='post',maxlen=15)  \n",
    "\n",
    "    print(tensor,tokenizer)\n",
    "    return tensor, tokenizer\n",
    "\n",
    "tensor, tokenizer = tokenize(corpus)"
   ]
  },
  {
   "cell_type": "code",
   "execution_count": 4,
   "metadata": {},
   "outputs": [
    {
     "name": "stdout",
     "output_type": "stream",
     "text": [
      "[   2    6  903   14    6 1350    3    0    0    0    0    0    0    0]\n",
      "[   6  903   14    6 1350    3    0    0    0    0    0    0    0    0]\n"
     ]
    }
   ],
   "source": [
    "src_input = tensor[:, :-1]  # tensor에서 마지막 토큰을 잘라내서 소스 문장을 생성합니다. 마지막 토큰은 <END>가 아니라 <pad>일 가능성이 높습니다.\n",
    "tgt_input = tensor[:, 1:]    # tensor에서 <START>를 잘라내서 타겟 문장을 생성합니다.\n",
    "\n",
    "print(src_input[0])\n",
    "print(tgt_input[0])"
   ]
  },
  {
   "cell_type": "markdown",
   "metadata": {},
   "source": [
    "### 데이터셋 분리"
   ]
  },
  {
   "cell_type": "code",
   "execution_count": 5,
   "metadata": {},
   "outputs": [],
   "source": [
    "from sklearn.model_selection import train_test_split\n",
    "x_train, x_valid, y_train, y_valid = train_test_split(src_input, tgt_input, test_size=0.2, shuffle=True, random_state=2020)\n",
    "\n",
    "BUFFER_SIZE = len(x_train)\n",
    "BATCH_SIZE = 256\n",
    "steps_per_epoch = len(x_train) // BATCH_SIZE\n",
    "\n",
    "VOCAB_SIZE = tokenizer.num_words + 1    # tokenizer가 구축한 단어사전 내 7000개와, 여기 포함되지 않은 0:<pad>를 포함하여 7001개\n",
    "\n",
    "train_data = tf.data.Dataset.from_tensor_slices((x_train, y_train)).shuffle(BUFFER_SIZE)\n",
    "train_data = train_data.batch(BATCH_SIZE, drop_remainder=True)\n",
    "\n",
    "val_data = tf.data.Dataset.from_tensor_slices((x_valid, y_valid))\n",
    "val_data = val_data.batch(BATCH_SIZE, drop_remainder=True)"
   ]
  },
  {
   "cell_type": "code",
   "execution_count": 6,
   "metadata": {},
   "outputs": [],
   "source": [
    "class TextGenerator(tf.keras.Model):\n",
    "    def __init__(self, vocab_size, embedding_size, hidden_size):\n",
    "        super(TextGenerator, self).__init__()\n",
    "        \n",
    "        self.embedding = tf.keras.layers.Embedding(vocab_size, embedding_size)\n",
    "        self.rnn_1 = tf.keras.layers.LSTM(hidden_size, return_sequences=True)\n",
    "        self.rnn_2 = tf.keras.layers.LSTM(hidden_size, return_sequences=True)\n",
    "        self.linear = tf.keras.layers.Dense(vocab_size)\n",
    "        \n",
    "    def call(self, x):\n",
    "        out = self.embedding(x)\n",
    "        out = self.rnn_1(out)\n",
    "        out = self.rnn_2(out)\n",
    "        out = self.linear(out)\n",
    "        \n",
    "        return out\n",
    "    \n",
    "embedding_size = 1024\n",
    "hidden_size = 2048\n",
    "model = TextGenerator(tokenizer.num_words + 1, embedding_size , hidden_size)"
   ]
  },
  {
   "cell_type": "code",
   "execution_count": 7,
   "metadata": {},
   "outputs": [
    {
     "name": "stdout",
     "output_type": "stream",
     "text": [
      "Epoch 1/7\n",
      "549/549 [==============================] - 237s 432ms/step - loss: 3.3013 - val_loss: 2.9169\n",
      "Epoch 2/7\n",
      "549/549 [==============================] - 233s 425ms/step - loss: 2.7349 - val_loss: 2.6537\n",
      "Epoch 3/7\n",
      "549/549 [==============================] - 233s 425ms/step - loss: 2.4146 - val_loss: 2.4773\n",
      "Epoch 4/7\n",
      "549/549 [==============================] - 232s 423ms/step - loss: 2.1009 - val_loss: 2.3441\n",
      "Epoch 5/7\n",
      "549/549 [==============================] - 229s 418ms/step - loss: 1.7901 - val_loss: 2.2500\n",
      "Epoch 6/7\n",
      "549/549 [==============================] - 230s 418ms/step - loss: 1.5021 - val_loss: 2.1935\n",
      "Epoch 7/7\n",
      "549/549 [==============================] - 230s 418ms/step - loss: 1.2644 - val_loss: 2.1745\n"
     ]
    },
    {
     "data": {
      "text/plain": [
       "<tensorflow.python.keras.callbacks.History at 0x7ff384cfe6d0>"
      ]
     },
     "execution_count": 7,
     "metadata": {},
     "output_type": "execute_result"
    }
   ],
   "source": [
    "optimizer = tf.keras.optimizers.Adam()\n",
    "loss = tf.keras.losses.SparseCategoricalCrossentropy(\n",
    "    from_logits=True,\n",
    "    reduction='none'\n",
    ")\n",
    "\n",
    "model.compile(loss=loss, optimizer=optimizer)\n",
    "model.fit(train_data, epochs=7,validation_data=val_data)"
   ]
  },
  {
   "cell_type": "code",
   "execution_count": 8,
   "metadata": {},
   "outputs": [],
   "source": [
    "def generate_text(model, tokenizer, init_sentence=\"<start>\", max_len=15):\n",
    "    # 테스트를 위해서 입력받은 init_sentence도 일단 텐서로 변환합니다.\n",
    "    test_input = tokenizer.texts_to_sequences([init_sentence])\n",
    "    test_tensor = tf.convert_to_tensor(test_input, dtype=tf.int64)\n",
    "    end_token = tokenizer.word_index[\"<end>\"]\n",
    "\n",
    "    while True:\n",
    "        predict = model(test_tensor) \n",
    "        predict_word = tf.argmax(tf.nn.softmax(predict, axis=-1), axis=-1)[:, -1] \n",
    "\n",
    "        test_tensor = tf.concat([test_tensor, \n",
    "                tf.expand_dims(predict_word, axis=0)], axis=-1)\n",
    "\n",
    "        if predict_word.numpy()[0] == end_token: break\n",
    "        if test_tensor.shape[1] >= max_len: break\n",
    "\n",
    "    generated = \"\"\n",
    "    for word_index in test_tensor[0].numpy():\n",
    "        generated += tokenizer.index_word[word_index] + \" \"\n",
    "\n",
    "    return generated   "
   ]
  },
  {
   "cell_type": "code",
   "execution_count": 17,
   "metadata": {},
   "outputs": [
    {
     "data": {
      "text/plain": [
       "'<start> shine bright like a diamond <end> '"
      ]
     },
     "execution_count": 17,
     "metadata": {},
     "output_type": "execute_result"
    }
   ],
   "source": [
    "generate_text(model, tokenizer, init_sentence=\"<start> shine\")"
   ]
  },
  {
   "cell_type": "code",
   "execution_count": 10,
   "metadata": {},
   "outputs": [
    {
     "data": {
      "text/plain": [
       "'<start> we re gonna have to tell him <end> '"
      ]
     },
     "execution_count": 10,
     "metadata": {},
     "output_type": "execute_result"
    }
   ],
   "source": [
    "generate_text(model, tokenizer, init_sentence=\"<start> we\")"
   ]
  },
  {
   "cell_type": "code",
   "execution_count": 12,
   "metadata": {},
   "outputs": [
    {
     "data": {
      "text/plain": [
       "'<start> money hoes and clothes all a nixga knows <end> '"
      ]
     },
     "execution_count": 12,
     "metadata": {},
     "output_type": "execute_result"
    }
   ],
   "source": [
    "generate_text(model, tokenizer, init_sentence=\"<start> money\")"
   ]
  },
  {
   "cell_type": "code",
   "execution_count": 14,
   "metadata": {},
   "outputs": [
    {
     "data": {
      "text/plain": [
       "'<start> but i m still in love with judas , baby <end> '"
      ]
     },
     "execution_count": 14,
     "metadata": {},
     "output_type": "execute_result"
    }
   ],
   "source": [
    "generate_text(model, tokenizer, init_sentence=\"<start> but\")"
   ]
  },
  {
   "cell_type": "markdown",
   "metadata": {},
   "source": [
    "##### output을 구글에 검색하면 노래가 바로 나온다. 간단한 예제여서 단어의 조합으로 새로운 것을 생성한다기보다 기억한다에 가까운 것 같다."
   ]
  }
 ],
 "metadata": {
  "kernelspec": {
   "display_name": "aiffel",
   "language": "python",
   "name": "aiffel"
  },
  "language_info": {
   "codemirror_mode": {
    "name": "ipython",
    "version": 3
   },
   "file_extension": ".py",
   "mimetype": "text/x-python",
   "name": "python",
   "nbconvert_exporter": "python",
   "pygments_lexer": "ipython3",
   "version": "3.7.6"
  }
 },
 "nbformat": 4,
 "nbformat_minor": 4
}
